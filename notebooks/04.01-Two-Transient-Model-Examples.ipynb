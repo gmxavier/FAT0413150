{
  "nbformat": 4,
  "nbformat_minor": 0,
  "metadata": {
    "colab": {
      "name": "04.01-Two-Transient-Model-Examples.ipynb",
      "provenance": [],
      "collapsed_sections": [],
      "authorship_tag": "ABX9TyP7653z/Zb0GyVP9eJhCdn9",
      "include_colab_link": true
    },
    "kernelspec": {
      "name": "python3",
      "display_name": "Python 3"
    },
    "widgets": {
      "application/vnd.jupyter.widget-state+json": {
        "591ff733c208409381f32bf0453d1486": {
          "model_module": "@jupyter-widgets/controls",
          "model_name": "VBoxModel",
          "model_module_version": "1.5.0",
          "state": {
            "_dom_classes": [
              "widget-interact"
            ],
            "_model_module": "@jupyter-widgets/controls",
            "_model_module_version": "1.5.0",
            "_model_name": "VBoxModel",
            "_view_count": null,
            "_view_module": "@jupyter-widgets/controls",
            "_view_module_version": "1.5.0",
            "_view_name": "VBoxView",
            "box_style": "",
            "children": [
              "IPY_MODEL_32dcefdf3c9641759d696995639cee17",
              "IPY_MODEL_9c1103b58acd47af8670feb706e3ba3a"
            ],
            "layout": "IPY_MODEL_0a95e912ecc94752a71b0588b359d2fb"
          }
        },
        "32dcefdf3c9641759d696995639cee17": {
          "model_module": "@jupyter-widgets/controls",
          "model_name": "FloatSliderModel",
          "model_module_version": "1.5.0",
          "state": {
            "_dom_classes": [],
            "_model_module": "@jupyter-widgets/controls",
            "_model_module_version": "1.5.0",
            "_model_name": "FloatSliderModel",
            "_view_count": null,
            "_view_module": "@jupyter-widgets/controls",
            "_view_module_version": "1.5.0",
            "_view_name": "FloatSliderView",
            "continuous_update": true,
            "description": "dQ",
            "description_tooltip": null,
            "disabled": false,
            "layout": "IPY_MODEL_73a8214eadb3426caac681f49d732ca0",
            "max": 190,
            "min": 10,
            "orientation": "horizontal",
            "readout": true,
            "readout_format": ".2f",
            "step": 0.1,
            "style": "IPY_MODEL_f2869742979145fbb5a5092b6880588c",
            "value": 190
          }
        },
        "9c1103b58acd47af8670feb706e3ba3a": {
          "model_module": "@jupyter-widgets/output",
          "model_name": "OutputModel",
          "model_module_version": "1.0.0",
          "state": {
            "_dom_classes": [],
            "_model_module": "@jupyter-widgets/output",
            "_model_module_version": "1.0.0",
            "_model_name": "OutputModel",
            "_view_count": null,
            "_view_module": "@jupyter-widgets/output",
            "_view_module_version": "1.0.0",
            "_view_name": "OutputView",
            "layout": "IPY_MODEL_323d28ca8dd94cf9b1d76dad120ddfcb",
            "msg_id": "",
            "outputs": [
              {
                "output_type": "display_data",
                "data": {
                  "text/plain": "<Figure size 432x288 with 1 Axes>",
                  "image/png": "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\n"
                },
                "metadata": {
                  "needs_background": "light"
                }
              }
            ]
          }
        },
        "0a95e912ecc94752a71b0588b359d2fb": {
          "model_module": "@jupyter-widgets/base",
          "model_name": "LayoutModel",
          "model_module_version": "1.2.0",
          "state": {
            "_model_module": "@jupyter-widgets/base",
            "_model_module_version": "1.2.0",
            "_model_name": "LayoutModel",
            "_view_count": null,
            "_view_module": "@jupyter-widgets/base",
            "_view_module_version": "1.2.0",
            "_view_name": "LayoutView",
            "align_content": null,
            "align_items": null,
            "align_self": null,
            "border": null,
            "bottom": null,
            "display": null,
            "flex": null,
            "flex_flow": null,
            "grid_area": null,
            "grid_auto_columns": null,
            "grid_auto_flow": null,
            "grid_auto_rows": null,
            "grid_column": null,
            "grid_gap": null,
            "grid_row": null,
            "grid_template_areas": null,
            "grid_template_columns": null,
            "grid_template_rows": null,
            "height": null,
            "justify_content": null,
            "justify_items": null,
            "left": null,
            "margin": null,
            "max_height": null,
            "max_width": null,
            "min_height": null,
            "min_width": null,
            "object_fit": null,
            "object_position": null,
            "order": null,
            "overflow": null,
            "overflow_x": null,
            "overflow_y": null,
            "padding": null,
            "right": null,
            "top": null,
            "visibility": null,
            "width": null
          }
        },
        "73a8214eadb3426caac681f49d732ca0": {
          "model_module": "@jupyter-widgets/base",
          "model_name": "LayoutModel",
          "model_module_version": "1.2.0",
          "state": {
            "_model_module": "@jupyter-widgets/base",
            "_model_module_version": "1.2.0",
            "_model_name": "LayoutModel",
            "_view_count": null,
            "_view_module": "@jupyter-widgets/base",
            "_view_module_version": "1.2.0",
            "_view_name": "LayoutView",
            "align_content": null,
            "align_items": null,
            "align_self": null,
            "border": null,
            "bottom": null,
            "display": null,
            "flex": null,
            "flex_flow": null,
            "grid_area": null,
            "grid_auto_columns": null,
            "grid_auto_flow": null,
            "grid_auto_rows": null,
            "grid_column": null,
            "grid_gap": null,
            "grid_row": null,
            "grid_template_areas": null,
            "grid_template_columns": null,
            "grid_template_rows": null,
            "height": null,
            "justify_content": null,
            "justify_items": null,
            "left": null,
            "margin": null,
            "max_height": null,
            "max_width": null,
            "min_height": null,
            "min_width": null,
            "object_fit": null,
            "object_position": null,
            "order": null,
            "overflow": null,
            "overflow_x": null,
            "overflow_y": null,
            "padding": null,
            "right": null,
            "top": null,
            "visibility": null,
            "width": null
          }
        },
        "f2869742979145fbb5a5092b6880588c": {
          "model_module": "@jupyter-widgets/controls",
          "model_name": "SliderStyleModel",
          "model_module_version": "1.5.0",
          "state": {
            "_model_module": "@jupyter-widgets/controls",
            "_model_module_version": "1.5.0",
            "_model_name": "SliderStyleModel",
            "_view_count": null,
            "_view_module": "@jupyter-widgets/base",
            "_view_module_version": "1.2.0",
            "_view_name": "StyleView",
            "description_width": "",
            "handle_color": null
          }
        },
        "323d28ca8dd94cf9b1d76dad120ddfcb": {
          "model_module": "@jupyter-widgets/base",
          "model_name": "LayoutModel",
          "model_module_version": "1.2.0",
          "state": {
            "_model_module": "@jupyter-widgets/base",
            "_model_module_version": "1.2.0",
            "_model_name": "LayoutModel",
            "_view_count": null,
            "_view_module": "@jupyter-widgets/base",
            "_view_module_version": "1.2.0",
            "_view_name": "LayoutView",
            "align_content": null,
            "align_items": null,
            "align_self": null,
            "border": null,
            "bottom": null,
            "display": null,
            "flex": null,
            "flex_flow": null,
            "grid_area": null,
            "grid_auto_columns": null,
            "grid_auto_flow": null,
            "grid_auto_rows": null,
            "grid_column": null,
            "grid_gap": null,
            "grid_row": null,
            "grid_template_areas": null,
            "grid_template_columns": null,
            "grid_template_rows": null,
            "height": null,
            "justify_content": null,
            "justify_items": null,
            "left": null,
            "margin": null,
            "max_height": null,
            "max_width": null,
            "min_height": null,
            "min_width": null,
            "object_fit": null,
            "object_position": null,
            "order": null,
            "overflow": null,
            "overflow_x": null,
            "overflow_y": null,
            "padding": null,
            "right": null,
            "top": null,
            "visibility": null,
            "width": null
          }
        }
      }
    }
  },
  "cells": [
    {
      "cell_type": "markdown",
      "metadata": {
        "id": "view-in-github",
        "colab_type": "text"
      },
      "source": [
        "<a href=\"https://colab.research.google.com/github/gmxavier/FAT0413150/blob/main/notebooks/04.01-Two-Transient-Model-Examples.ipynb\" target=\"_parent\"><img src=\"https://colab.research.google.com/assets/colab-badge.svg\" alt=\"Open In Colab\"/></a>"
      ]
    },
    {
      "cell_type": "markdown",
      "metadata": {
        "id": "_pai0x8LtLLs"
      },
      "source": [
        "#  Two transient model examples"
      ]
    },
    {
      "cell_type": "code",
      "metadata": {
        "id": "j_qoq9L-tx95"
      },
      "source": [
        "from sympy import symbols, init_printing, Heaviside, laplace_transform, inverse_laplace_transform, plot, exp\n",
        "from ipywidgets import interact\n",
        "import matplotlib.pyplot as plt\n",
        "import numpy\n",
        "init_printing()\n",
        "%matplotlib inline"
      ],
      "execution_count": 3,
      "outputs": []
    },
    {
      "cell_type": "markdown",
      "metadata": {
        "id": "MTl9juPctstt"
      },
      "source": [
        "## A transient-response example"
      ]
    },
    {
      "cell_type": "markdown",
      "metadata": {
        "id": "UkTJFD4Mv1dC"
      },
      "source": [
        "In this example, we have a stirred-tank with a volume $V_1$ of 4 $m^3$ being operated with an inlet flow rate $Q$ of 0.02 $m^3 s^{-1}$ and that contains an inert species at a concentration $C_{in}$ of 1 $gmol$ $m^{-3}$.\n",
        "\n",
        "The model equation is a continuous-flow stirred-tank without any chemical reaction:\n",
        "\n",
        "$$ V_1\\frac{\\mathrm{d}C_1(t)}{\\mathrm{d}t} = Q[C_{in}(t) - C_1(t)] $$\n",
        "\n",
        "In terms of the time constant $\\tau_1$, it is written as\n",
        "\n",
        "$$ \\tau_1\\frac{\\mathrm{d}C_1(t)}{\\mathrm{d}t} = C_{in}(t) - C_1(t) $$\n",
        "\n",
        "where $ \\tau_1 = \\frac{V_1}{Q} $. Considering the tank at steady state for $t\\le0$, we have\n",
        "\n",
        "$$ \\tau_1\\frac{\\mathrm{d}C_1(0)}{\\mathrm{d}t} = C_{in}(0) - C_1(0) $$\n",
        "\n",
        "Subtracting the steady state equation from the dynamic one, we end up with\n",
        "\n",
        "$$ \\tau_1\\frac{\\mathrm{d}[C_1(t) - C_1(0)]}{\\mathrm{d}t} = [C_{in}(t) - C_{in}(0)] - [C_1(t) - C_1(0)] $$\n",
        "\n",
        "which can be rewritten to\n",
        "\n",
        "$$ \\tau_1\\frac{\\mathrm{d}C_1'(t)}{\\mathrm{d}t} = C_{in}'(t) - C_1'(t) $$\n",
        "\n",
        "by considering the definition of the following *deviation variables*\n",
        "\n",
        "$$ C_1'(t) = C_1(t) - C_1(0) $$\n",
        "$$ C_{in}'(t) = C_{in}(t) - C_{in}(0) $$\n",
        "\n",
        "These *deviation variables* are simply the difference between the values of each *original variable* from their respective initial steady state value. Applying the Laplace transform in the ordinary differential equation rewritten in *deviation variables*, we have\n",
        "\n",
        "\\begin{align}\n",
        "\\mathcal{L}\\left\\{\\tau_1\\frac{\\mathrm{d}C_1'(t)}{\\mathrm{d}t}\\right\\} &= \\mathcal{L}\\{C_{in}'(t) - C_1'(t)\\} \\\\\n",
        "\\tau_1sC_1'(s) &= C_{in}'(s) - C_1'(s) \\\\\n",
        "\\frac{C_1'(s)}{C_{in}'(s)} &= \\frac{1}{\\tau_1s + 1} \\\\\n",
        "\\end{align}\n",
        "\n",
        "The RHS expression is the ratio of the output *deviation variable* Laplace transform $C_1'(s)$ to the input *deviation variable* Laplace transform $C_{in}'(s)$ and is called *transfer function* because it transfers the dynamic variation of the input *deviation variable* to the output *deviation variable*."
      ]
    },
    {
      "cell_type": "markdown",
      "metadata": {
        "id": "dbwoZV3yIZjT"
      },
      "source": [
        "The following material was taken from this [Carl Sandrock's notebook](https://colab.research.google.com/github.com/alchemyst/Dynamics-and-Control/blob/master/1_Dynamics/4_First_and_second_order_system_dynamics/First%20order%20systems.ipynb)."
      ]
    },
    {
      "cell_type": "code",
      "metadata": {
        "id": "Nu8L0Zp6t6Ku"
      },
      "source": [
        "t, K, tau1 = symbols('t, K, tau1',real=True, positive=True)\n",
        "s = symbols('s')\n",
        "V1 = 4\n",
        "Q = 0.02"
      ],
      "execution_count": 6,
      "outputs": []
    },
    {
      "cell_type": "code",
      "metadata": {
        "id": "xMfdSKJBt-Y8"
      },
      "source": [
        "def L(f):\n",
        "    return laplace_transform(f, t, s, noconds=True)\n",
        "def invL(F):\n",
        "    return inverse_laplace_transform(F, s, t)"
      ],
      "execution_count": 13,
      "outputs": []
    },
    {
      "cell_type": "code",
      "metadata": {
        "id": "RlQw4tR-t7hG"
      },
      "source": [
        "u = Heaviside(t)"
      ],
      "execution_count": 14,
      "outputs": []
    },
    {
      "cell_type": "code",
      "metadata": {
        "id": "4owiBUuIuBU9",
        "outputId": "7d50e8f9-22f9-4875-f836-a9950864d989",
        "colab": {
          "base_uri": "https://localhost:8080/",
          "height": 51
        }
      },
      "source": [
        "U = L(u)\n",
        "U"
      ],
      "execution_count": 15,
      "outputs": [
        {
          "output_type": "execute_result",
          "data": {
            "text/plain": [
              "1\n",
              "─\n",
              "s"
            ],
            "image/png": "[encoded data removed]",
            "text/latex": "$\\displaystyle \\frac{1}{s}$"
          },
          "metadata": {},
          "execution_count": 15
        }
      ]
    },
    {
      "cell_type": "markdown",
      "metadata": {
        "id": "jBcoXc8WKBaf"
      },
      "source": [
        "Now let us define the obtained *transfer function*:"
      ]
    },
    {
      "cell_type": "code",
      "metadata": {
        "id": "z0VafdAWKTh6",
        "outputId": "6e97733b-e197-4ecd-c8a5-cbe0d904e75c",
        "colab": {
          "base_uri": "https://localhost:8080/",
          "height": 54
        }
      },
      "source": [
        "G = 1/(tau1*s + 1)\n",
        "G"
      ],
      "execution_count": 16,
      "outputs": [
        {
          "output_type": "execute_result",
          "data": {
            "text/plain": [
              "   1    \n",
              "────────\n",
              "s⋅τ₁ + 1"
            ],
            "image/png": "[encoded data removed]",
            "text/latex": "$\\displaystyle \\frac{1}{s \\tau_{1} + 1}$"
          },
          "metadata": {},
          "execution_count": 16
        }
      ]
    },
    {
      "cell_type": "markdown",
      "metadata": {
        "id": "47oAN_b8K6Ij"
      },
      "source": [
        "The inverse Laplace transform of a *transfer function* is its *impulse response*"
      ]
    },
    {
      "cell_type": "code",
      "metadata": {
        "id": "6WX-CWlrLFz-",
        "outputId": "bccd0854-56de-4350-833b-22a51bd85561",
        "colab": {
          "base_uri": "https://localhost:8080/",
          "height": 61
        }
      },
      "source": [
        "impulseresponse = invL(G)\n",
        "impulseresponse"
      ],
      "execution_count": 17,
      "outputs": [
        {
          "output_type": "execute_result",
          "data": {
            "text/plain": [
              " -t \n",
              " ───\n",
              "  τ₁\n",
              "ℯ   \n",
              "────\n",
              " τ₁ "
            ],
            "image/png": "[encoded data removed]",
            "text/latex": "$\\displaystyle \\frac{e^{- \\frac{t}{\\tau_{1}}}}{\\tau_{1}}$"
          },
          "metadata": {},
          "execution_count": 17
        }
      ]
    },
    {
      "cell_type": "markdown",
      "source": [
        "We can also plot it."
      ],
      "metadata": {
        "id": "PhRF5mOjDslY"
      }
    },
    {
      "cell_type": "code",
      "source": [
        "plot(impulseresponse.subs(tau1, V1/Q), (t, 0 ,1000))"
      ],
      "metadata": {
        "colab": {
          "base_uri": "https://localhost:8080/",
          "height": 314
        },
        "id": "KMr3b7ckDrhM",
        "outputId": "6289ef0a-854a-4afe-86b2-791c1caf98b0"
      },
      "execution_count": 20,
      "outputs": [
        {
          "output_type": "display_data",
          "data": {
            "text/plain": [
              "<Figure size 432x288 with 1 Axes>"
            ],
            "image/png": "[encoded data removed]"
          },
          "metadata": {
            "needs_background": "light"
          }
        },
        {
          "output_type": "execute_result",
          "data": {
            "text/plain": [
              "<sympy.plotting.plot.Plot at 0x7f729c476710>"
            ]
          },
          "metadata": {},
          "execution_count": 20
        }
      ]
    },
    {
      "cell_type": "markdown",
      "metadata": {
        "id": "3L_D7h7dLkoT"
      },
      "source": [
        "If $C_{in}'(t)$ is the unit step function, $C_{in}'(s)=\\frac{1}{s}$ and we can obtain the step response as follows:"
      ]
    },
    {
      "cell_type": "code",
      "metadata": {
        "id": "U8riWUW5MERq",
        "outputId": "d7420f40-4123-483f-af4e-2b4f0ffe7839",
        "colab": {
          "base_uri": "https://localhost:8080/",
          "height": 42
        }
      },
      "source": [
        "u = 1/s\n",
        "stepresponse = invL(G*u)\n",
        "stepresponse"
      ],
      "execution_count": 22,
      "outputs": [
        {
          "output_type": "execute_result",
          "data": {
            "text/plain": [
              "     -t \n",
              "     ───\n",
              "      τ₁\n",
              "1 - ℯ   "
            ],
            "image/png": "[encoded data removed]",
            "text/latex": "$\\displaystyle 1 - e^{- \\frac{t}{\\tau_{1}}}$"
          },
          "metadata": {},
          "execution_count": 22
        }
      ]
    },
    {
      "cell_type": "markdown",
      "source": [
        "And the plot is:"
      ],
      "metadata": {
        "id": "71u2CdJpMpPx"
      }
    },
    {
      "cell_type": "code",
      "source": [
        "plot(1, stepresponse.subs(tau1, V1/Q), (t, 0 ,1000))"
      ],
      "metadata": {
        "colab": {
          "base_uri": "https://localhost:8080/",
          "height": 313
        },
        "id": "FceharycMsFF",
        "outputId": "ffe9be82-e110-4d9c-b448-615de17a0c3b"
      },
      "execution_count": 28,
      "outputs": [
        {
          "output_type": "display_data",
          "data": {
            "text/plain": [
              "<Figure size 432x288 with 1 Axes>"
            ],
            "image/png": "[encoded data removed]"
          },
          "metadata": {
            "needs_background": "light"
          }
        },
        {
          "output_type": "execute_result",
          "data": {
            "text/plain": [
              "<sympy.plotting.plot.Plot at 0x7f729c2214d0>"
            ]
          },
          "metadata": {},
          "execution_count": 28
        }
      ]
    },
    {
      "cell_type": "markdown",
      "metadata": {
        "id": "evJH3GUwPZ5C"
      },
      "source": [
        "Similarly, the ramp response can be obtained as follows:"
      ]
    },
    {
      "cell_type": "code",
      "metadata": {
        "id": "OmHNwwuDPi_T",
        "outputId": "186d7cc2-7c11-41fb-c070-b034c5e7d8fb",
        "colab": {
          "base_uri": "https://localhost:8080/",
          "height": 42
        }
      },
      "source": [
        "u = 1/s**2\n",
        "rampresponse = invL(G*u)\n",
        "rampresponse"
      ],
      "execution_count": 25,
      "outputs": [
        {
          "output_type": "execute_result",
          "data": {
            "text/plain": [
              "             -t \n",
              "             ───\n",
              "              τ₁\n",
              "t - τ₁ + τ₁⋅ℯ   "
            ],
            "image/png": "[encoded data removed]",
            "text/latex": "$\\displaystyle t - \\tau_{1} + \\tau_{1} e^{- \\frac{t}{\\tau_{1}}}$"
          },
          "metadata": {},
          "execution_count": 25
        }
      ]
    },
    {
      "cell_type": "markdown",
      "source": [
        "And the plot is:"
      ],
      "metadata": {
        "id": "caAygSY4OEiG"
      }
    },
    {
      "cell_type": "code",
      "source": [
        "plot(t, rampresponse.subs(tau1, V1/Q), (t, 0 ,1000))"
      ],
      "metadata": {
        "id": "k8cwIJIaOGjT",
        "outputId": "0449e95b-ed43-44cb-f153-4c01536a93dc",
        "colab": {
          "base_uri": "https://localhost:8080/",
          "height": 313
        }
      },
      "execution_count": 27,
      "outputs": [
        {
          "output_type": "display_data",
          "data": {
            "text/plain": [
              "<Figure size 432x288 with 1 Axes>"
            ],
            "image/png": "[encoded data removed]"
          },
          "metadata": {
            "needs_background": "light"
          }
        },
        {
          "output_type": "execute_result",
          "data": {
            "text/plain": [
              "<sympy.plotting.plot.Plot at 0x7f729c2ad710>"
            ]
          },
          "metadata": {},
          "execution_count": 27
        }
      ]
    },
    {
      "cell_type": "markdown",
      "source": [
        "Let's what happens when the flowrate $Q$ is varied between 10% and 90% of its nominal value. "
      ],
      "metadata": {
        "id": "A8Z-Kbq_Ves2"
      }
    },
    {
      "cell_type": "code",
      "source": [
        "def timeconstant(dQ):\n",
        "  plot(1, \n",
        "       stepresponse.subs(tau1, V1/(dQ*Q/100)), \n",
        "       stepresponse.subs(tau1, V1/Q),  \n",
        "       (t, 0 ,1000),\n",
        "       legend=True)\n",
        "  \n",
        "interact(timeconstant, dQ=(10.0, 190.0))"
      ],
      "metadata": {
        "id": "iTFlKR2QSWbI",
        "outputId": "93d3c88e-e2cf-42e0-87ca-3a7a0c971e75",
        "colab": {
          "base_uri": "https://localhost:8080/",
          "height": 345,
          "referenced_widgets": [
            "591ff733c208409381f32bf0453d1486",
            "32dcefdf3c9641759d696995639cee17",
            "9c1103b58acd47af8670feb706e3ba3a",
            "0a95e912ecc94752a71b0588b359d2fb",
            "73a8214eadb3426caac681f49d732ca0",
            "f2869742979145fbb5a5092b6880588c",
            "323d28ca8dd94cf9b1d76dad120ddfcb"
          ]
        }
      },
      "execution_count": 69,
      "outputs": [
        {
          "output_type": "display_data",
          "data": {
            "text/plain": [
              "interactive(children=(FloatSlider(value=100.0, description='dQ', max=190.0, min=10.0), Output()), _dom_classes…"
            ],
            "application/vnd.jupyter.widget-view+json": {
              "version_major": 2,
              "version_minor": 0,
              "model_id": "591ff733c208409381f32bf0453d1486"
            }
          },
          "metadata": {}
        },
        {
          "output_type": "execute_result",
          "data": {
            "text/plain": [
              "<function __main__.timeconstant>"
            ]
          },
          "metadata": {},
          "execution_count": 69
        }
      ]
    }
  ]
}