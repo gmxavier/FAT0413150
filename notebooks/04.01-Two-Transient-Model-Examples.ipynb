{
  "nbformat": 4,
  "nbformat_minor": 0,
  "metadata": {
    "colab": {
      "name": "04.01-Two-Transient-Model-Examples.ipynb",
      "provenance": [],
      "collapsed_sections": [],
      "authorship_tag": "ABX9TyMWWAar7+xVDNyJzB2nUYuz",
      "include_colab_link": true
    },
    "kernelspec": {
      "name": "python3",
      "display_name": "Python 3"
    },
    "widgets": {
      "application/vnd.jupyter.widget-state+json": {
        "7fc7eb5269534dcf822e76ece6b4ec59": {
          "model_module": "@jupyter-widgets/controls",
          "model_name": "VBoxModel",
          "model_module_version": "1.5.0",
          "state": {
            "_dom_classes": [
              "widget-interact"
            ],
            "_model_module": "@jupyter-widgets/controls",
            "_model_module_version": "1.5.0",
            "_model_name": "VBoxModel",
            "_view_count": null,
            "_view_module": "@jupyter-widgets/controls",
            "_view_module_version": "1.5.0",
            "_view_name": "VBoxView",
            "box_style": "",
            "children": [
              "IPY_MODEL_4cb4080b80c9467d80556a454ea1acbd",
              "IPY_MODEL_125d65d1a4a247dcbb551817e7059e87"
            ],
            "layout": "IPY_MODEL_a208efd4f4664579b9d40299ff5e222d"
          }
        },
        "4cb4080b80c9467d80556a454ea1acbd": {
          "model_module": "@jupyter-widgets/controls",
          "model_name": "FloatSliderModel",
          "model_module_version": "1.5.0",
          "state": {
            "_dom_classes": [],
            "_model_module": "@jupyter-widgets/controls",
            "_model_module_version": "1.5.0",
            "_model_name": "FloatSliderModel",
            "_view_count": null,
            "_view_module": "@jupyter-widgets/controls",
            "_view_module_version": "1.5.0",
            "_view_name": "FloatSliderView",
            "continuous_update": true,
            "description": "dQ",
            "description_tooltip": null,
            "disabled": false,
            "layout": "IPY_MODEL_7ad8f964052546e6a2254ccd89c989cb",
            "max": 190,
            "min": 10,
            "orientation": "horizontal",
            "readout": true,
            "readout_format": ".2f",
            "step": 0.1,
            "style": "IPY_MODEL_16766275d7814af0bd42d0e403500b3f",
            "value": 100
          }
        },
        "125d65d1a4a247dcbb551817e7059e87": {
          "model_module": "@jupyter-widgets/output",
          "model_name": "OutputModel",
          "model_module_version": "1.0.0",
          "state": {
            "_dom_classes": [],
            "_model_module": "@jupyter-widgets/output",
            "_model_module_version": "1.0.0",
            "_model_name": "OutputModel",
            "_view_count": null,
            "_view_module": "@jupyter-widgets/output",
            "_view_module_version": "1.0.0",
            "_view_name": "OutputView",
            "layout": "IPY_MODEL_f110c1ad5a3940a79cc67aabb85ec0b9",
            "msg_id": "",
            "outputs": [
              {
                "output_type": "display_data",
                "data": {
                  "text/plain": "<Figure size 432x288 with 1 Axes>",
                  "image/png": "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\n"
                },
                "metadata": {
                  "needs_background": "light"
                }
              }
            ]
          }
        },
        "a208efd4f4664579b9d40299ff5e222d": {
          "model_module": "@jupyter-widgets/base",
          "model_name": "LayoutModel",
          "model_module_version": "1.2.0",
          "state": {
            "_model_module": "@jupyter-widgets/base",
            "_model_module_version": "1.2.0",
            "_model_name": "LayoutModel",
            "_view_count": null,
            "_view_module": "@jupyter-widgets/base",
            "_view_module_version": "1.2.0",
            "_view_name": "LayoutView",
            "align_content": null,
            "align_items": null,
            "align_self": null,
            "border": null,
            "bottom": null,
            "display": null,
            "flex": null,
            "flex_flow": null,
            "grid_area": null,
            "grid_auto_columns": null,
            "grid_auto_flow": null,
            "grid_auto_rows": null,
            "grid_column": null,
            "grid_gap": null,
            "grid_row": null,
            "grid_template_areas": null,
            "grid_template_columns": null,
            "grid_template_rows": null,
            "height": null,
            "justify_content": null,
            "justify_items": null,
            "left": null,
            "margin": null,
            "max_height": null,
            "max_width": null,
            "min_height": null,
            "min_width": null,
            "object_fit": null,
            "object_position": null,
            "order": null,
            "overflow": null,
            "overflow_x": null,
            "overflow_y": null,
            "padding": null,
            "right": null,
            "top": null,
            "visibility": null,
            "width": null
          }
        },
        "7ad8f964052546e6a2254ccd89c989cb": {
          "model_module": "@jupyter-widgets/base",
          "model_name": "LayoutModel",
          "model_module_version": "1.2.0",
          "state": {
            "_model_module": "@jupyter-widgets/base",
            "_model_module_version": "1.2.0",
            "_model_name": "LayoutModel",
            "_view_count": null,
            "_view_module": "@jupyter-widgets/base",
            "_view_module_version": "1.2.0",
            "_view_name": "LayoutView",
            "align_content": null,
            "align_items": null,
            "align_self": null,
            "border": null,
            "bottom": null,
            "display": null,
            "flex": null,
            "flex_flow": null,
            "grid_area": null,
            "grid_auto_columns": null,
            "grid_auto_flow": null,
            "grid_auto_rows": null,
            "grid_column": null,
            "grid_gap": null,
            "grid_row": null,
            "grid_template_areas": null,
            "grid_template_columns": null,
            "grid_template_rows": null,
            "height": null,
            "justify_content": null,
            "justify_items": null,
            "left": null,
            "margin": null,
            "max_height": null,
            "max_width": null,
            "min_height": null,
            "min_width": null,
            "object_fit": null,
            "object_position": null,
            "order": null,
            "overflow": null,
            "overflow_x": null,
            "overflow_y": null,
            "padding": null,
            "right": null,
            "top": null,
            "visibility": null,
            "width": null
          }
        },
        "16766275d7814af0bd42d0e403500b3f": {
          "model_module": "@jupyter-widgets/controls",
          "model_name": "SliderStyleModel",
          "model_module_version": "1.5.0",
          "state": {
            "_model_module": "@jupyter-widgets/controls",
            "_model_module_version": "1.5.0",
            "_model_name": "SliderStyleModel",
            "_view_count": null,
            "_view_module": "@jupyter-widgets/base",
            "_view_module_version": "1.2.0",
            "_view_name": "StyleView",
            "description_width": "",
            "handle_color": null
          }
        },
        "f110c1ad5a3940a79cc67aabb85ec0b9": {
          "model_module": "@jupyter-widgets/base",
          "model_name": "LayoutModel",
          "model_module_version": "1.2.0",
          "state": {
            "_model_module": "@jupyter-widgets/base",
            "_model_module_version": "1.2.0",
            "_model_name": "LayoutModel",
            "_view_count": null,
            "_view_module": "@jupyter-widgets/base",
            "_view_module_version": "1.2.0",
            "_view_name": "LayoutView",
            "align_content": null,
            "align_items": null,
            "align_self": null,
            "border": null,
            "bottom": null,
            "display": null,
            "flex": null,
            "flex_flow": null,
            "grid_area": null,
            "grid_auto_columns": null,
            "grid_auto_flow": null,
            "grid_auto_rows": null,
            "grid_column": null,
            "grid_gap": null,
            "grid_row": null,
            "grid_template_areas": null,
            "grid_template_columns": null,
            "grid_template_rows": null,
            "height": null,
            "justify_content": null,
            "justify_items": null,
            "left": null,
            "margin": null,
            "max_height": null,
            "max_width": null,
            "min_height": null,
            "min_width": null,
            "object_fit": null,
            "object_position": null,
            "order": null,
            "overflow": null,
            "overflow_x": null,
            "overflow_y": null,
            "padding": null,
            "right": null,
            "top": null,
            "visibility": null,
            "width": null
          }
        }
      }
    }
  },
  "cells": [
    {
      "cell_type": "markdown",
      "metadata": {
        "id": "view-in-github",
        "colab_type": "text"
      },
      "source": [
        "<a href=\"https://colab.research.google.com/github/gmxavier/FAT0413150/blob/main/notebooks/04.01-Two-Transient-Model-Examples.ipynb\" target=\"_parent\"><img src=\"https://colab.research.google.com/assets/colab-badge.svg\" alt=\"Open In Colab\"/></a>"
      ]
    },
    {
      "cell_type": "markdown",
      "metadata": {
        "id": "_pai0x8LtLLs"
      },
      "source": [
        "# Under construction 🚧\n",
        "#  Two transient model examples"
      ]
    },
    {
      "cell_type": "code",
      "metadata": {
        "id": "j_qoq9L-tx95"
      },
      "source": [
        "from sympy import symbols, init_printing, Heaviside, laplace_transform, inverse_laplace_transform, plot, exp\n",
        "from ipywidgets import interact\n",
        "import matplotlib.pyplot as plt\n",
        "import numpy\n",
        "init_printing()\n",
        "%matplotlib inline"
      ],
      "execution_count": 3,
      "outputs": []
    },
    {
      "cell_type": "markdown",
      "metadata": {
        "id": "MTl9juPctstt"
      },
      "source": [
        "## A transient-response example"
      ]
    },
    {
      "cell_type": "markdown",
      "metadata": {
        "id": "UkTJFD4Mv1dC"
      },
      "source": [
        "In this example, we have a stirred-tank with a volume $V_1$ of 4 $m^3$ being operated with an inlet flow rate $Q$ of 0.02 $m^3 s^{-1}$ and that contains an inert species at a concentration $C_{in}$ of 1 $gmol$ $m^{-3}$.\n",
        "\n",
        "The model equation is a continuous-flow stirred-tank without any chemical reaction:\n",
        "\n",
        "$$ V_1\\frac{\\mathrm{d}C_1(t)}{\\mathrm{d}t} = Q[C_{in}(t) - C_1(t)] $$\n",
        "\n",
        "In terms of the time constant $\\tau_1$, it is written as\n",
        "\n",
        "$$ \\tau_1\\frac{\\mathrm{d}C_1(t)}{\\mathrm{d}t} = C_{in}(t) - C_1(t) $$\n",
        "\n",
        "where $ \\tau_1 = \\frac{V_1}{Q} $. Considering the tank at steady state for $t\\le0$, we have\n",
        "\n",
        "$$ \\tau_1\\frac{\\mathrm{d}C_1(0)}{\\mathrm{d}t} = C_{in}(0) - C_1(0) $$\n",
        "\n",
        "Subtracting the steady state equation from the dynamic one, we end up with\n",
        "\n",
        "$$ \\tau_1\\frac{\\mathrm{d}[C_1(t) - C_1(0)]}{\\mathrm{d}t} = [C_{in}(t) - C_{in}(0)] - [C_1(t) - C_1(0)] $$\n",
        "\n",
        "which can be rewritten to\n",
        "\n",
        "$$ \\tau_1\\frac{\\mathrm{d}C_1'(t)}{\\mathrm{d}t} = C_{in}'(t) - C_1'(t) $$\n",
        "\n",
        "by considering the definition of the following *deviation variables*\n",
        "\n",
        "$$ C_1'(t) = C_1(t) - C_1(0) $$\n",
        "$$ C_{in}'(t) = C_{in}(t) - C_{in}(0) $$\n",
        "\n",
        "These *deviation variables* are simply the difference between the values of each *original variable* from their respective initial steady state value. Applying the Laplace transform in the ordinary differential equation rewritten in *deviation variables*, we have\n",
        "\n",
        "\\begin{align}\n",
        "\\mathcal{L}\\left\\{\\tau_1\\frac{\\mathrm{d}C_1'(t)}{\\mathrm{d}t}\\right\\} &= \\mathcal{L}\\{C_{in}'(t) - C_1'(t)\\} \\\\\n",
        "\\tau_1sC_1'(s) &= C_{in}'(s) - C_1'(s) \\\\\n",
        "\\frac{C_1'(s)}{C_{in}'(s)} &= \\frac{1}{\\tau_1s + 1} \\\\\n",
        "\\end{align}\n",
        "\n",
        "The RHS expression is the ratio of the output *deviation variable* Laplace transform $C_1'(s)$ to the input *deviation variable* Laplace transform $C_{in}'(s)$ and is called *transfer function* because it transfers the dynamic variation of the input *deviation variable* to the output *deviation variable*."
      ]
    },
    {
      "cell_type": "markdown",
      "metadata": {
        "id": "dbwoZV3yIZjT"
      },
      "source": [
        "The following material was taken from this [Carl Sandrock's notebook](https://colab.research.google.com/github.com/alchemyst/Dynamics-and-Control/blob/master/1_Dynamics/4_First_and_second_order_system_dynamics/First%20order%20systems.ipynb)."
      ]
    },
    {
      "cell_type": "code",
      "metadata": {
        "id": "Nu8L0Zp6t6Ku"
      },
      "source": [
        "t, K, tau1 = symbols('t, K, tau1',real=True, positive=True)\n",
        "s = symbols('s')\n",
        "V1 = 4\n",
        "Q = 0.02"
      ],
      "execution_count": 6,
      "outputs": []
    },
    {
      "cell_type": "code",
      "metadata": {
        "id": "xMfdSKJBt-Y8"
      },
      "source": [
        "def L(f):\n",
        "    return laplace_transform(f, t, s, noconds=True)\n",
        "def invL(F):\n",
        "    return inverse_laplace_transform(F, s, t)"
      ],
      "execution_count": 13,
      "outputs": []
    },
    {
      "cell_type": "code",
      "metadata": {
        "id": "RlQw4tR-t7hG"
      },
      "source": [
        "u = Heaviside(t)"
      ],
      "execution_count": 14,
      "outputs": []
    },
    {
      "cell_type": "code",
      "metadata": {
        "id": "4owiBUuIuBU9",
        "outputId": "7d50e8f9-22f9-4875-f836-a9950864d989",
        "colab": {
          "base_uri": "https://localhost:8080/",
          "height": 51
        }
      },
      "source": [
        "U = L(u)\n",
        "U"
      ],
      "execution_count": 15,
      "outputs": [
        {
          "output_type": "execute_result",
          "data": {
            "text/plain": [
              "1\n",
              "─\n",
              "s"
            ],
            "image/png": "[encoded data removed]",
            "text/latex": "$\\displaystyle \\frac{1}{s}$"
          },
          "metadata": {},
          "execution_count": 15
        }
      ]
    },
    {
      "cell_type": "markdown",
      "metadata": {
        "id": "jBcoXc8WKBaf"
      },
      "source": [
        "Now let us define the obtained *transfer function*:"
      ]
    },
    {
      "cell_type": "code",
      "metadata": {
        "id": "z0VafdAWKTh6",
        "outputId": "6e97733b-e197-4ecd-c8a5-cbe0d904e75c",
        "colab": {
          "base_uri": "https://localhost:8080/",
          "height": 54
        }
      },
      "source": [
        "G = 1/(tau1*s + 1)\n",
        "G"
      ],
      "execution_count": 16,
      "outputs": [
        {
          "output_type": "execute_result",
          "data": {
            "text/plain": [
              "   1    \n",
              "────────\n",
              "s⋅τ₁ + 1"
            ],
            "image/png": "[encoded data removed]",
            "text/latex": "$\\displaystyle \\frac{1}{s \\tau_{1} + 1}$"
          },
          "metadata": {},
          "execution_count": 16
        }
      ]
    },
    {
      "cell_type": "markdown",
      "metadata": {
        "id": "47oAN_b8K6Ij"
      },
      "source": [
        "The inverse Laplace transform of a *transfer function* is its *impulse response*"
      ]
    },
    {
      "cell_type": "code",
      "metadata": {
        "id": "6WX-CWlrLFz-",
        "outputId": "bccd0854-56de-4350-833b-22a51bd85561",
        "colab": {
          "base_uri": "https://localhost:8080/",
          "height": 61
        }
      },
      "source": [
        "impulseresponse = invL(G)\n",
        "impulseresponse"
      ],
      "execution_count": 17,
      "outputs": [
        {
          "output_type": "execute_result",
          "data": {
            "text/plain": [
              " -t \n",
              " ───\n",
              "  τ₁\n",
              "ℯ   \n",
              "────\n",
              " τ₁ "
            ],
            "image/png": "[encoded data removed]",
            "text/latex": "$\\displaystyle \\frac{e^{- \\frac{t}{\\tau_{1}}}}{\\tau_{1}}$"
          },
          "metadata": {},
          "execution_count": 17
        }
      ]
    },
    {
      "cell_type": "markdown",
      "source": [
        "We can also plot it."
      ],
      "metadata": {
        "id": "PhRF5mOjDslY"
      }
    },
    {
      "cell_type": "code",
      "source": [
        "plot(impulseresponse.subs(tau1, V1/Q), (t, 0 ,1000))"
      ],
      "metadata": {
        "colab": {
          "base_uri": "https://localhost:8080/",
          "height": 314
        },
        "id": "KMr3b7ckDrhM",
        "outputId": "6289ef0a-854a-4afe-86b2-791c1caf98b0"
      },
      "execution_count": 20,
      "outputs": [
        {
          "output_type": "display_data",
          "data": {
            "text/plain": [
              "<Figure size 432x288 with 1 Axes>"
            ],
            "image/png": "[encoded data removed]"
          },
          "metadata": {
            "needs_background": "light"
          }
        },
        {
          "output_type": "execute_result",
          "data": {
            "text/plain": [
              "<sympy.plotting.plot.Plot at 0x7f729c476710>"
            ]
          },
          "metadata": {},
          "execution_count": 20
        }
      ]
    },
    {
      "cell_type": "markdown",
      "metadata": {
        "id": "3L_D7h7dLkoT"
      },
      "source": [
        "If $C_{in}'(t)$ is the unit step function, $C_{in}'(s)=\\frac{1}{s}$ and we can obtain the step response as follows:"
      ]
    },
    {
      "cell_type": "code",
      "metadata": {
        "id": "U8riWUW5MERq",
        "outputId": "d7420f40-4123-483f-af4e-2b4f0ffe7839",
        "colab": {
          "base_uri": "https://localhost:8080/",
          "height": 42
        }
      },
      "source": [
        "u = 1/s\n",
        "stepresponse = invL(G*u)\n",
        "stepresponse"
      ],
      "execution_count": 22,
      "outputs": [
        {
          "output_type": "execute_result",
          "data": {
            "text/plain": [
              "     -t \n",
              "     ───\n",
              "      τ₁\n",
              "1 - ℯ   "
            ],
            "image/png": "[encoded data removed]",
            "text/latex": "$\\displaystyle 1 - e^{- \\frac{t}{\\tau_{1}}}$"
          },
          "metadata": {},
          "execution_count": 22
        }
      ]
    },
    {
      "cell_type": "markdown",
      "source": [
        "And the plot is:"
      ],
      "metadata": {
        "id": "71u2CdJpMpPx"
      }
    },
    {
      "cell_type": "code",
      "source": [
        "plot(1, stepresponse.subs(tau1, V1/Q), (t, 0 ,1000))"
      ],
      "metadata": {
        "colab": {
          "base_uri": "https://localhost:8080/",
          "height": 313
        },
        "id": "FceharycMsFF",
        "outputId": "ffe9be82-e110-4d9c-b448-615de17a0c3b"
      },
      "execution_count": 28,
      "outputs": [
        {
          "output_type": "display_data",
          "data": {
            "text/plain": [
              "<Figure size 432x288 with 1 Axes>"
            ],
            "image/png": "[encoded data removed]"
          },
          "metadata": {
            "needs_background": "light"
          }
        },
        {
          "output_type": "execute_result",
          "data": {
            "text/plain": [
              "<sympy.plotting.plot.Plot at 0x7f729c2214d0>"
            ]
          },
          "metadata": {},
          "execution_count": 28
        }
      ]
    },
    {
      "cell_type": "markdown",
      "metadata": {
        "id": "evJH3GUwPZ5C"
      },
      "source": [
        "Similarly, the ramp response can be obtained as follows:"
      ]
    },
    {
      "cell_type": "code",
      "metadata": {
        "id": "OmHNwwuDPi_T",
        "outputId": "186d7cc2-7c11-41fb-c070-b034c5e7d8fb",
        "colab": {
          "base_uri": "https://localhost:8080/",
          "height": 42
        }
      },
      "source": [
        "u = 1/s**2\n",
        "rampresponse = invL(G*u)\n",
        "rampresponse"
      ],
      "execution_count": 25,
      "outputs": [
        {
          "output_type": "execute_result",
          "data": {
            "text/plain": [
              "             -t \n",
              "             ───\n",
              "              τ₁\n",
              "t - τ₁ + τ₁⋅ℯ   "
            ],
            "image/png": "[encoded data removed]",
            "text/latex": "$\\displaystyle t - \\tau_{1} + \\tau_{1} e^{- \\frac{t}{\\tau_{1}}}$"
          },
          "metadata": {},
          "execution_count": 25
        }
      ]
    },
    {
      "cell_type": "markdown",
      "source": [
        "And the plot is:"
      ],
      "metadata": {
        "id": "caAygSY4OEiG"
      }
    },
    {
      "cell_type": "code",
      "source": [
        "plot(t, rampresponse.subs(tau1, V1/Q), (t, 0 ,1000))"
      ],
      "metadata": {
        "colab": {
          "base_uri": "https://localhost:8080/",
          "height": 313
        },
        "id": "k8cwIJIaOGjT",
        "outputId": "0449e95b-ed43-44cb-f153-4c01536a93dc"
      },
      "execution_count": 27,
      "outputs": [
        {
          "output_type": "display_data",
          "data": {
            "text/plain": [
              "<Figure size 432x288 with 1 Axes>"
            ],
            "image/png": "[encoded data removed]"
          },
          "metadata": {
            "needs_background": "light"
          }
        },
        {
          "output_type": "execute_result",
          "data": {
            "text/plain": [
              "<sympy.plotting.plot.Plot at 0x7f729c2ad710>"
            ]
          },
          "metadata": {},
          "execution_count": 27
        }
      ]
    },
    {
      "cell_type": "markdown",
      "source": [
        "Let's see what happens when the flowrate $Q$ is varied between 10% and 90% of its nominal value. "
      ],
      "metadata": {
        "id": "A8Z-Kbq_Ves2"
      }
    },
    {
      "cell_type": "code",
      "source": [
        "def timeconstant(dQ):\n",
        "  plot(1, \n",
        "       stepresponse.subs(tau1, V1/(dQ*Q/100)), \n",
        "       stepresponse.subs(tau1, V1/Q),  \n",
        "       (t, 0 ,1000),\n",
        "       legend=True)\n",
        "  \n",
        "interact(timeconstant, dQ=(10.0, 190.0))"
      ],
      "metadata": {
        "colab": {
          "base_uri": "https://localhost:8080/",
          "height": 345,
          "referenced_widgets": [
            "7fc7eb5269534dcf822e76ece6b4ec59",
            "4cb4080b80c9467d80556a454ea1acbd",
            "125d65d1a4a247dcbb551817e7059e87",
            "a208efd4f4664579b9d40299ff5e222d",
            "7ad8f964052546e6a2254ccd89c989cb",
            "16766275d7814af0bd42d0e403500b3f",
            "f110c1ad5a3940a79cc67aabb85ec0b9"
          ]
        },
        "id": "iTFlKR2QSWbI",
        "outputId": "3189af19-4c33-48e0-cd95-d5602f59addb"
      },
      "execution_count": 70,
      "outputs": [
        {
          "output_type": "display_data",
          "data": {
            "text/plain": [
              "interactive(children=(FloatSlider(value=100.0, description='dQ', max=190.0, min=10.0), Output()), _dom_classes…"
            ],
            "application/vnd.jupyter.widget-view+json": {
              "version_major": 2,
              "version_minor": 0,
              "model_id": "7fc7eb5269534dcf822e76ece6b4ec59"
            }
          },
          "metadata": {}
        },
        {
          "output_type": "execute_result",
          "data": {
            "text/plain": [
              "<function __main__.timeconstant>"
            ]
          },
          "metadata": {},
          "execution_count": 70
        }
      ]
    }
  ]
}