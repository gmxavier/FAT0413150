{
  "nbformat": 4,
  "nbformat_minor": 0,
  "metadata": {
    "colab": {
      "name": "04.01-Two-Transient-Model-Examples.ipynb",
      "provenance": [],
      "collapsed_sections": [],
      "authorship_tag": "ABX9TyPaTS80vppZat6gZp0Nqk6U",
      "include_colab_link": true
    },
    "kernelspec": {
      "name": "python3",
      "display_name": "Python 3"
    }
  },
  "cells": [
    {
      "cell_type": "markdown",
      "metadata": {
        "id": "view-in-github",
        "colab_type": "text"
      },
      "source": [
        "<a href=\"https://colab.research.google.com/github/gmxavier/FAT0413150/blob/main/notebooks/04.01-Two-Transient-Model-Examples.ipynb\" target=\"_parent\"><img src=\"https://colab.research.google.com/assets/colab-badge.svg\" alt=\"Open In Colab\"/></a>"
      ]
    },
    {
      "cell_type": "markdown",
      "metadata": {
        "id": "_pai0x8LtLLs"
      },
      "source": [
        "#  Two transient model examples"
      ]
    },
    {
      "cell_type": "code",
      "metadata": {
        "id": "j_qoq9L-tx95"
      },
      "source": [
        "from sympy import symbols, init_printing, Heaviside, laplace_transform, inverse_laplace_transform\n",
        "import matplotlib.pyplot as plt\n",
        "import numpy\n",
        "init_printing()\n",
        "%matplotlib inline"
      ],
      "execution_count": 10,
      "outputs": []
    },
    {
      "cell_type": "markdown",
      "metadata": {
        "id": "MTl9juPctstt"
      },
      "source": [
        "## A transient-response example"
      ]
    },
    {
      "cell_type": "markdown",
      "metadata": {
        "id": "UkTJFD4Mv1dC"
      },
      "source": [
        "In this example, we have a stirred-tank with a volume $V_1$ of 4 $m^3$ being operated with an inlet flow rate $Q$ of 0.02 $m^3 s^{-1}$ and that contains an inert species at a concentration $C_{in}$ of 1 $gmol$ $m^{-3}$.\n",
        "\n",
        "The model equation is a continuous-flow stirred-tank without any chemical reaction:\n",
        "\n",
        "$$ V_1\\frac{\\mathrm{d}C_1(t)}{\\mathrm{d}t} = Q[C_{in}(t) - C_1(t)] $$\n",
        "\n",
        "In terms of the time constant $\\tau_1$, it is written as\n",
        "\n",
        "$$ \\tau_1\\frac{\\mathrm{d}C_1(t)}{\\mathrm{d}t} = C_{in}(t) - C_1(t) $$\n",
        "\n",
        "where $ \\tau_1 = \\frac{V_1}{Q} $. Considering the tank at steady state for $t\\le0$, we have\n",
        "\n",
        "$$ \\tau_1\\frac{\\mathrm{d}C_1(0)}{\\mathrm{d}t} = C_{in}(0) - C_1(0) $$\n",
        "\n",
        "Subtracting the steady state equation from the dynamic one, we end up with\n",
        "\n",
        "$$ \\tau_1\\frac{\\mathrm{d}[C_1(t) - C_1(0)]}{\\mathrm{d}t} = [C_{in}(t) - C_{in}(0)] - [C_1(t) - C_1(0)] $$\n",
        "\n",
        "which can be rewritten to\n",
        "\n",
        "$$ \\tau_1\\frac{\\mathrm{d}C_1'(t)}{\\mathrm{d}t} = C_{in}'(t) - C_1'(t) $$\n",
        "\n",
        "by considering the definition of the following *deviation variables*\n",
        "\n",
        "$$ C_1'(t) = C_1(t) - C_1(0) $$\n",
        "$$ C_{in}'(t) = C_{in}(t) - C_{in}(0) $$\n",
        "\n",
        "These *deviation variables* are simply the difference between the values of each *original variable* from their respective initial steady state value. Applying the Laplace transform in the ordinary differential equation rewritten in *deviation variables*, we have\n",
        "\n",
        "\\begin{align}\n",
        "\\mathcal{L}\\left\\{\\tau_1\\frac{\\mathrm{d}C_1'(t)}{\\mathrm{d}t}\\right\\} &= \\mathcal{L}\\{C_{in}'(t) - C_1'(t)\\} \\\\\n",
        "\\tau_1sC_1'(s) &= C_{in}'(s) - C_1'(s) \\\\\n",
        "\\frac{C_1'(s)}{C_{in}'(s)} &= \\frac{1}{\\tau_1s + 1} \\\\\n",
        "\\end{align}\n",
        "\n",
        "The RHS expression is the ratio of the output *deviation variable* Laplace transform $C_1'(s)$ to the input *deviation variable* Laplace transform $C_{in}'(s)$ and is called *transfer function* because it transfers the dynamic variation of the input *deviation variable* to the output *deviation variable*."
      ]
    },
    {
      "cell_type": "markdown",
      "metadata": {
        "id": "dbwoZV3yIZjT"
      },
      "source": [
        "The following material was taken from this [Carl Sandrock's notebook](https://colab.research.google.com/github.com/alchemyst/Dynamics-and-Control/blob/master/1_Dynamics/4_First_and_second_order_system_dynamics/First%20order%20systems.ipynb)."
      ]
    },
    {
      "cell_type": "code",
      "metadata": {
        "id": "Nu8L0Zp6t6Ku"
      },
      "source": [
        "t, K, tau1 = symbols('t, K, tau1',real=True, positive=True)\n",
        "s = symbols('s')\n",
        "V1 = 4\n",
        "Q = 0.02"
      ],
      "execution_count": 17,
      "outputs": []
    },
    {
      "cell_type": "code",
      "metadata": {
        "id": "xMfdSKJBt-Y8"
      },
      "source": [
        "def L(f):\n",
        "    return laplace_transform(f, t, s, noconds=True)\n",
        "def invL(F):\n",
        "    return inverse_laplace_transform(F, s, t)"
      ],
      "execution_count": 8,
      "outputs": []
    },
    {
      "cell_type": "code",
      "metadata": {
        "id": "RlQw4tR-t7hG"
      },
      "source": [
        "u = Heaviside(t)"
      ],
      "execution_count": 11,
      "outputs": []
    },
    {
      "cell_type": "code",
      "metadata": {
        "id": "4owiBUuIuBU9",
        "outputId": "1c0b3387-0d9e-4a9f-cbff-af1890327a99",
        "colab": {
          "base_uri": "https://localhost:8080/",
          "height": 51
        }
      },
      "source": [
        "U = L(u)\n",
        "U"
      ],
      "execution_count": 12,
      "outputs": [
        {
          "output_type": "execute_result",
          "data": {
            "text/plain": [
              "1\n",
              "─\n",
              "s"
            ],
            "image/png": "[encoded data removed]",
            "text/latex": "$\\displaystyle \\frac{1}{s}$"
          },
          "metadata": {},
          "execution_count": 12
        }
      ]
    },
    {
      "cell_type": "markdown",
      "metadata": {
        "id": "jBcoXc8WKBaf"
      },
      "source": [
        "Now let us define the obtained *transfer function*:"
      ]
    },
    {
      "cell_type": "code",
      "metadata": {
        "id": "z0VafdAWKTh6",
        "outputId": "a6a24b82-700d-45a9-f954-88c1d3962280",
        "colab": {
          "base_uri": "https://localhost:8080/",
          "height": 54
        }
      },
      "source": [
        "G = 1/(tau1*s + 1)\n",
        "G"
      ],
      "execution_count": 13,
      "outputs": [
        {
          "output_type": "execute_result",
          "data": {
            "text/plain": [
              "   1    \n",
              "────────\n",
              "s⋅τ₁ + 1"
            ],
            "image/png": "[encoded data removed]",
            "text/latex": "$\\displaystyle \\frac{1}{s \\tau_{1} + 1}$"
          },
          "metadata": {},
          "execution_count": 13
        }
      ]
    },
    {
      "cell_type": "markdown",
      "metadata": {
        "id": "47oAN_b8K6Ij"
      },
      "source": [
        "The inverse Laplace transform of a *transfer function* is its *impulse response*"
      ]
    },
    {
      "cell_type": "code",
      "metadata": {
        "id": "6WX-CWlrLFz-",
        "outputId": "e23b1de1-259d-4590-d7f8-6c86ecd5ab68",
        "colab": {
          "base_uri": "https://localhost:8080/",
          "height": 61
        }
      },
      "source": [
        "impulseresponse = invL(G)\n",
        "impulseresponse"
      ],
      "execution_count": 14,
      "outputs": [
        {
          "output_type": "execute_result",
          "data": {
            "text/plain": [
              " -t \n",
              " ───\n",
              "  τ₁\n",
              "ℯ   \n",
              "────\n",
              " τ₁ "
            ],
            "image/png": "[encoded data removed]",
            "text/latex": "$\\displaystyle \\frac{e^{- \\frac{t}{\\tau_{1}}}}{\\tau_{1}}$"
          },
          "metadata": {},
          "execution_count": 14
        }
      ]
    },
    {
      "cell_type": "markdown",
      "metadata": {
        "id": "3L_D7h7dLkoT"
      },
      "source": [
        "If $C_{in}'(t)$ is the unit step function, $C_{in}'(s)=\\frac{1}{s}$ and we can obtain the step response as follows:"
      ]
    },
    {
      "cell_type": "code",
      "metadata": {
        "id": "U8riWUW5MERq",
        "outputId": "383b2abb-68ef-4070-efff-1a6c867557f3",
        "colab": {
          "base_uri": "https://localhost:8080/",
          "height": 42
        }
      },
      "source": [
        "u = 1/s\n",
        "stepresponse = invL(G*u)\n",
        "stepresponse"
      ],
      "execution_count": 15,
      "outputs": [
        {
          "output_type": "execute_result",
          "data": {
            "text/plain": [
              "     -t \n",
              "     ───\n",
              "      τ₁\n",
              "1 - ℯ   "
            ],
            "image/png": "[encoded data removed]",
            "text/latex": "$\\displaystyle 1 - e^{- \\frac{t}{\\tau_{1}}}$"
          },
          "metadata": {},
          "execution_count": 15
        }
      ]
    },
    {
      "cell_type": "markdown",
      "metadata": {
        "id": "evJH3GUwPZ5C"
      },
      "source": [
        "Similarly, the ramp response can be obtained as follows:"
      ]
    },
    {
      "cell_type": "code",
      "metadata": {
        "id": "OmHNwwuDPi_T",
        "outputId": "70a3457f-43b0-4086-93fd-affe9c765c7f",
        "colab": {
          "base_uri": "https://localhost:8080/",
          "height": 42
        }
      },
      "source": [
        "u = 1/s**2\n",
        "rampresponse = invL(G*u)\n",
        "rampresponse"
      ],
      "execution_count": 16,
      "outputs": [
        {
          "output_type": "execute_result",
          "data": {
            "text/plain": [
              "             -t \n",
              "             ───\n",
              "              τ₁\n",
              "t - τ₁ + τ₁⋅ℯ   "
            ],
            "image/png": "[encoded data removed]",
            "text/latex": "$\\displaystyle t - \\tau_{1} + \\tau_{1} e^{- \\frac{t}{\\tau_{1}}}$"
          },
          "metadata": {},
          "execution_count": 16
        }
      ]
    },
    {
      "cell_type": "code",
      "metadata": {
        "id": "7TBCKYopLoDW"
      },
      "source": [
        "from ipywidgets import interact"
      ],
      "execution_count": null,
      "outputs": []
    },
    {
      "cell_type": "code",
      "metadata": {
        "id": "Q4rFDavRLpH-"
      },
      "source": [
        "evalfimpulse = sympy.lambdify((K, tau, t), impulseresponse, 'numpy')\n",
        "evalfstep = sympy.lambdify((K, tau, t), stepresponse, 'numpy')\n",
        "evalframp = sympy.lambdify((K, tau, t), rampresponse, 'numpy')"
      ],
      "execution_count": null,
      "outputs": []
    },
    {
      "cell_type": "code",
      "metadata": {
        "id": "CvOmvIMBLviy"
      },
      "source": [
        "ts = numpy.linspace(0, 10)\n",
        "\n",
        "def firstorder(tau_in, K_in):\n",
        "    plt.figure(figsize=(12, 6))\n",
        "    ax_impulse = plt.subplot2grid((2, 2), (0, 0))\n",
        "    ax_step = plt.subplot2grid((2, 2), (1, 0))\n",
        "    ax_complex = plt.subplot2grid((2, 2), (0, 1), rowspan=2)\n",
        "    \n",
        "    ax_impulse.plot(ts, evalfimpulse(K_in, tau_in, ts))\n",
        "    ax_impulse.set_title('Impulse response')\n",
        "    ax_impulse.set_ylim(0, 10)\n",
        "    \n",
        "    tau_height = 1 - numpy.exp(-1)\n",
        "    ax_step.set_title('Step response')\n",
        "    ax_step.plot(ts, evalfstep(K_in, tau_in, ts))\n",
        "    ax_step.axhline(K_in)\n",
        "    ax_step.plot([0, tau_in, tau_in], [K_in*tau_height]*2 + [0], alpha=0.4)\n",
        "    ax_step.text(0, K_in, '$K=${}'.format(K_in))\n",
        "    ax_step.text(0, K_in*tau_height, '{:.3}$K$'.format(tau_height))\n",
        "    ax_step.text(tau_in, 0, r'$\\tau={:.3}$'.format(tau_in))\n",
        "    ax_step.set_ylim(0, 10)\n",
        "    \n",
        "    ax_complex.set_title('Poles plot')\n",
        "    ax_complex.scatter(-1/tau_in, 0, marker='x', s=30)\n",
        "    ax_complex.axhline(0, color='black')\n",
        "    ax_complex.axvline(0, color='black')\n",
        "    ax_complex.axis([-10, 10, -10, 10])"
      ],
      "execution_count": null,
      "outputs": []
    },
    {
      "cell_type": "code",
      "metadata": {
        "id": "BIfmV3bZLzWi"
      },
      "source": [
        "firstorder(1., 10.)"
      ],
      "execution_count": null,
      "outputs": []
    },
    {
      "cell_type": "code",
      "metadata": {
        "id": "_a94Y8n-L2hp"
      },
      "source": [
        "interact(firstorder, tau_in=(0.1, 10.), K_in=(0.1, 10.));"
      ],
      "execution_count": null,
      "outputs": []
    },
    {
      "cell_type": "markdown",
      "metadata": {
        "id": "VqXV1oGtMBcC"
      },
      "source": [
        "Exploration of the above interaction allows us to see the following:\n",
        "\n",
        "* $K$ scales the response in the $y$ direction\n",
        "* $\\tau_1$ scales the response in the $t$ direction\n",
        "* The response of the system is always $0.63K$ when $t=\\tau_1$"
      ]
    },
    {
      "cell_type": "markdown",
      "metadata": {
        "id": "4dxULGb8MZY6"
      },
      "source": [
        "We get the \"magic number\" 0.63 by substituting $t=\\tau$ into the response:"
      ]
    },
    {
      "cell_type": "code",
      "metadata": {
        "id": "b2QrDSE0Mied"
      },
      "source": [
        "sympy.N((stepresponse.subs(t, tau)/K).simplify())"
      ],
      "execution_count": null,
      "outputs": []
    }
  ]
}