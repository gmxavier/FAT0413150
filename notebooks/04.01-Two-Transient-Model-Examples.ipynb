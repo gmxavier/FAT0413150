{
  "nbformat": 4,
  "nbformat_minor": 0,
  "metadata": {
    "colab": {
      "name": "04.01-Two-Transient-Model-Examples.ipynb",
      "provenance": [],
      "collapsed_sections": [],
      "authorship_tag": "ABX9TyNthCqZ+/KE2HkxpUofrFhc",
      "include_colab_link": true
    },
    "kernelspec": {
      "name": "python3",
      "display_name": "Python 3"
    },
    "widgets": {
      "application/vnd.jupyter.widget-state+json": {
        "405aa21723d349148a74cff8bd80df5e": {
          "model_module": "@jupyter-widgets/controls",
          "model_name": "VBoxModel",
          "model_module_version": "1.5.0",
          "state": {
            "_dom_classes": [
              "widget-interact"
            ],
            "_model_module": "@jupyter-widgets/controls",
            "_model_module_version": "1.5.0",
            "_model_name": "VBoxModel",
            "_view_count": null,
            "_view_module": "@jupyter-widgets/controls",
            "_view_module_version": "1.5.0",
            "_view_name": "VBoxView",
            "box_style": "",
            "children": [
              "IPY_MODEL_cff0a665320e4d218149c81a847b4715",
              "IPY_MODEL_7df177677af14707aca7ea7ac5ae207b"
            ],
            "layout": "IPY_MODEL_981ee672939a46ae81585597d88ee2ed"
          }
        },
        "cff0a665320e4d218149c81a847b4715": {
          "model_module": "@jupyter-widgets/controls",
          "model_name": "FloatSliderModel",
          "model_module_version": "1.5.0",
          "state": {
            "_dom_classes": [],
            "_model_module": "@jupyter-widgets/controls",
            "_model_module_version": "1.5.0",
            "_model_name": "FloatSliderModel",
            "_view_count": null,
            "_view_module": "@jupyter-widgets/controls",
            "_view_module_version": "1.5.0",
            "_view_name": "FloatSliderView",
            "continuous_update": true,
            "description": "dQ1",
            "description_tooltip": null,
            "disabled": false,
            "layout": "IPY_MODEL_7cfaf10355604daea0337fc2fc0eafda",
            "max": 190,
            "min": 10,
            "orientation": "horizontal",
            "readout": true,
            "readout_format": ".2f",
            "step": 0.1,
            "style": "IPY_MODEL_d67de66f7dad45dba1518b7495ffdc14",
            "value": 100
          }
        },
        "7df177677af14707aca7ea7ac5ae207b": {
          "model_module": "@jupyter-widgets/output",
          "model_name": "OutputModel",
          "model_module_version": "1.0.0",
          "state": {
            "_dom_classes": [],
            "_model_module": "@jupyter-widgets/output",
            "_model_module_version": "1.0.0",
            "_model_name": "OutputModel",
            "_view_count": null,
            "_view_module": "@jupyter-widgets/output",
            "_view_module_version": "1.0.0",
            "_view_name": "OutputView",
            "layout": "IPY_MODEL_b4d45b2cd15c4d979b380118072849ef",
            "msg_id": "",
            "outputs": [
              {
                "output_type": "error",
                "ename": "ValueError",
                "evalue": "ignored",
                "traceback": [
                  "\u001b[0;31m---------------------------------------------------------------------------\u001b[0m",
                  "\u001b[0;31mValueError\u001b[0m                                Traceback (most recent call last)",
                  "\u001b[0;32m/usr/local/lib/python3.7/dist-packages/ipywidgets/widgets/interaction.py\u001b[0m in \u001b[0;36mupdate\u001b[0;34m(self, *args)\u001b[0m\n\u001b[1;32m    255\u001b[0m                     \u001b[0mvalue\u001b[0m \u001b[0;34m=\u001b[0m \u001b[0mwidget\u001b[0m\u001b[0;34m.\u001b[0m\u001b[0mget_interact_value\u001b[0m\u001b[0;34m(\u001b[0m\u001b[0;34m)\u001b[0m\u001b[0;34m\u001b[0m\u001b[0;34m\u001b[0m\u001b[0m\n\u001b[1;32m    256\u001b[0m                     \u001b[0mself\u001b[0m\u001b[0;34m.\u001b[0m\u001b[0mkwargs\u001b[0m\u001b[0;34m[\u001b[0m\u001b[0mwidget\u001b[0m\u001b[0;34m.\u001b[0m\u001b[0m_kwarg\u001b[0m\u001b[0;34m]\u001b[0m \u001b[0;34m=\u001b[0m \u001b[0mvalue\u001b[0m\u001b[0;34m\u001b[0m\u001b[0;34m\u001b[0m\u001b[0m\n\u001b[0;32m--> 257\u001b[0;31m                 \u001b[0mself\u001b[0m\u001b[0;34m.\u001b[0m\u001b[0mresult\u001b[0m \u001b[0;34m=\u001b[0m \u001b[0mself\u001b[0m\u001b[0;34m.\u001b[0m\u001b[0mf\u001b[0m\u001b[0;34m(\u001b[0m\u001b[0;34m**\u001b[0m\u001b[0mself\u001b[0m\u001b[0;34m.\u001b[0m\u001b[0mkwargs\u001b[0m\u001b[0;34m)\u001b[0m\u001b[0;34m\u001b[0m\u001b[0;34m\u001b[0m\u001b[0m\n\u001b[0m\u001b[1;32m    258\u001b[0m                 \u001b[0mshow_inline_matplotlib_plots\u001b[0m\u001b[0;34m(\u001b[0m\u001b[0;34m)\u001b[0m\u001b[0;34m\u001b[0m\u001b[0;34m\u001b[0m\u001b[0m\n\u001b[1;32m    259\u001b[0m                 \u001b[0;32mif\u001b[0m \u001b[0mself\u001b[0m\u001b[0;34m.\u001b[0m\u001b[0mauto_display\u001b[0m \u001b[0;32mand\u001b[0m \u001b[0mself\u001b[0m\u001b[0;34m.\u001b[0m\u001b[0mresult\u001b[0m \u001b[0;32mis\u001b[0m \u001b[0;32mnot\u001b[0m \u001b[0;32mNone\u001b[0m\u001b[0;34m:\u001b[0m\u001b[0;34m\u001b[0m\u001b[0;34m\u001b[0m\u001b[0m\n",
                  "\u001b[0;32m<ipython-input-34-99d241fcaeaf>\u001b[0m in \u001b[0;36mstirtank\u001b[0;34m(dQ1)\u001b[0m\n\u001b[1;32m      4\u001b[0m        \u001b[0mstepresponse\u001b[0m\u001b[0;34m.\u001b[0m\u001b[0msubs\u001b[0m\u001b[0;34m(\u001b[0m\u001b[0mtau1\u001b[0m\u001b[0;34m,\u001b[0m \u001b[0mV1\u001b[0m\u001b[0;34m/\u001b[0m\u001b[0mQ\u001b[0m\u001b[0;34m)\u001b[0m\u001b[0;34m,\u001b[0m\u001b[0;34m\u001b[0m\u001b[0;34m\u001b[0m\u001b[0m\n\u001b[1;32m      5\u001b[0m        \u001b[0;34m(\u001b[0m\u001b[0mt\u001b[0m\u001b[0;34m,\u001b[0m \u001b[0;36m0\u001b[0m \u001b[0;34m,\u001b[0m\u001b[0;36m1000\u001b[0m\u001b[0;34m)\u001b[0m\u001b[0;34m,\u001b[0m\u001b[0;34m\u001b[0m\u001b[0;34m\u001b[0m\u001b[0m\n\u001b[0;32m----> 6\u001b[0;31m        legend=True)\n\u001b[0m\u001b[1;32m      7\u001b[0m \u001b[0;34m\u001b[0m\u001b[0m\n\u001b[1;32m      8\u001b[0m \u001b[0minteract\u001b[0m\u001b[0;34m(\u001b[0m\u001b[0mstirtank\u001b[0m\u001b[0;34m,\u001b[0m \u001b[0mdQ1\u001b[0m\u001b[0;34m=\u001b[0m\u001b[0;34m(\u001b[0m\u001b[0;36m10.0\u001b[0m\u001b[0;34m,\u001b[0m \u001b[0;36m190.0\u001b[0m\u001b[0;34m)\u001b[0m\u001b[0;34m)\u001b[0m\u001b[0;34m\u001b[0m\u001b[0;34m\u001b[0m\u001b[0m\n",
                  "\u001b[0;32m/usr/local/lib/python3.7/dist-packages/sympy/plotting/plot.py\u001b[0m in \u001b[0;36mplot\u001b[0;34m(show, *args, **kwargs)\u001b[0m\n\u001b[1;32m   1712\u001b[0m             \u001b[0;32mif\u001b[0m \u001b[0mlen\u001b[0m\u001b[0;34m(\u001b[0m\u001b[0mfree\u001b[0m\u001b[0;34m)\u001b[0m \u001b[0;34m>\u001b[0m \u001b[0;36m1\u001b[0m\u001b[0;34m:\u001b[0m\u001b[0;34m\u001b[0m\u001b[0;34m\u001b[0m\u001b[0m\n\u001b[1;32m   1713\u001b[0m                 raise ValueError(\n\u001b[0;32m-> 1714\u001b[0;31m                     \u001b[0;34m'The same variable should be used in all '\u001b[0m\u001b[0;34m\u001b[0m\u001b[0;34m\u001b[0m\u001b[0m\n\u001b[0m\u001b[1;32m   1715\u001b[0m                     'univariate expressions being plotted.')\n\u001b[1;32m   1716\u001b[0m     \u001b[0mx\u001b[0m \u001b[0;34m=\u001b[0m \u001b[0mfree\u001b[0m\u001b[0;34m.\u001b[0m\u001b[0mpop\u001b[0m\u001b[0;34m(\u001b[0m\u001b[0;34m)\u001b[0m \u001b[0;32mif\u001b[0m \u001b[0mfree\u001b[0m \u001b[0;32melse\u001b[0m \u001b[0mSymbol\u001b[0m\u001b[0;34m(\u001b[0m\u001b[0;34m'x'\u001b[0m\u001b[0;34m)\u001b[0m\u001b[0;34m\u001b[0m\u001b[0;34m\u001b[0m\u001b[0m\n",
                  "\u001b[0;31mValueError\u001b[0m: The same variable should be used in all univariate expressions being plotted."
                ]
              }
            ]
          }
        },
        "981ee672939a46ae81585597d88ee2ed": {
          "model_module": "@jupyter-widgets/base",
          "model_name": "LayoutModel",
          "model_module_version": "1.2.0",
          "state": {
            "_model_module": "@jupyter-widgets/base",
            "_model_module_version": "1.2.0",
            "_model_name": "LayoutModel",
            "_view_count": null,
            "_view_module": "@jupyter-widgets/base",
            "_view_module_version": "1.2.0",
            "_view_name": "LayoutView",
            "align_content": null,
            "align_items": null,
            "align_self": null,
            "border": null,
            "bottom": null,
            "display": null,
            "flex": null,
            "flex_flow": null,
            "grid_area": null,
            "grid_auto_columns": null,
            "grid_auto_flow": null,
            "grid_auto_rows": null,
            "grid_column": null,
            "grid_gap": null,
            "grid_row": null,
            "grid_template_areas": null,
            "grid_template_columns": null,
            "grid_template_rows": null,
            "height": null,
            "justify_content": null,
            "justify_items": null,
            "left": null,
            "margin": null,
            "max_height": null,
            "max_width": null,
            "min_height": null,
            "min_width": null,
            "object_fit": null,
            "object_position": null,
            "order": null,
            "overflow": null,
            "overflow_x": null,
            "overflow_y": null,
            "padding": null,
            "right": null,
            "top": null,
            "visibility": null,
            "width": null
          }
        },
        "7cfaf10355604daea0337fc2fc0eafda": {
          "model_module": "@jupyter-widgets/base",
          "model_name": "LayoutModel",
          "model_module_version": "1.2.0",
          "state": {
            "_model_module": "@jupyter-widgets/base",
            "_model_module_version": "1.2.0",
            "_model_name": "LayoutModel",
            "_view_count": null,
            "_view_module": "@jupyter-widgets/base",
            "_view_module_version": "1.2.0",
            "_view_name": "LayoutView",
            "align_content": null,
            "align_items": null,
            "align_self": null,
            "border": null,
            "bottom": null,
            "display": null,
            "flex": null,
            "flex_flow": null,
            "grid_area": null,
            "grid_auto_columns": null,
            "grid_auto_flow": null,
            "grid_auto_rows": null,
            "grid_column": null,
            "grid_gap": null,
            "grid_row": null,
            "grid_template_areas": null,
            "grid_template_columns": null,
            "grid_template_rows": null,
            "height": null,
            "justify_content": null,
            "justify_items": null,
            "left": null,
            "margin": null,
            "max_height": null,
            "max_width": null,
            "min_height": null,
            "min_width": null,
            "object_fit": null,
            "object_position": null,
            "order": null,
            "overflow": null,
            "overflow_x": null,
            "overflow_y": null,
            "padding": null,
            "right": null,
            "top": null,
            "visibility": null,
            "width": null
          }
        },
        "d67de66f7dad45dba1518b7495ffdc14": {
          "model_module": "@jupyter-widgets/controls",
          "model_name": "SliderStyleModel",
          "model_module_version": "1.5.0",
          "state": {
            "_model_module": "@jupyter-widgets/controls",
            "_model_module_version": "1.5.0",
            "_model_name": "SliderStyleModel",
            "_view_count": null,
            "_view_module": "@jupyter-widgets/base",
            "_view_module_version": "1.2.0",
            "_view_name": "StyleView",
            "description_width": "",
            "handle_color": null
          }
        },
        "b4d45b2cd15c4d979b380118072849ef": {
          "model_module": "@jupyter-widgets/base",
          "model_name": "LayoutModel",
          "model_module_version": "1.2.0",
          "state": {
            "_model_module": "@jupyter-widgets/base",
            "_model_module_version": "1.2.0",
            "_model_name": "LayoutModel",
            "_view_count": null,
            "_view_module": "@jupyter-widgets/base",
            "_view_module_version": "1.2.0",
            "_view_name": "LayoutView",
            "align_content": null,
            "align_items": null,
            "align_self": null,
            "border": null,
            "bottom": null,
            "display": null,
            "flex": null,
            "flex_flow": null,
            "grid_area": null,
            "grid_auto_columns": null,
            "grid_auto_flow": null,
            "grid_auto_rows": null,
            "grid_column": null,
            "grid_gap": null,
            "grid_row": null,
            "grid_template_areas": null,
            "grid_template_columns": null,
            "grid_template_rows": null,
            "height": null,
            "justify_content": null,
            "justify_items": null,
            "left": null,
            "margin": null,
            "max_height": null,
            "max_width": null,
            "min_height": null,
            "min_width": null,
            "object_fit": null,
            "object_position": null,
            "order": null,
            "overflow": null,
            "overflow_x": null,
            "overflow_y": null,
            "padding": null,
            "right": null,
            "top": null,
            "visibility": null,
            "width": null
          }
        },
        "02614ce73bb04488ba58f4ce81403699": {
          "model_module": "@jupyter-widgets/controls",
          "model_name": "VBoxModel",
          "model_module_version": "1.5.0",
          "state": {
            "_dom_classes": [
              "widget-interact"
            ],
            "_model_module": "@jupyter-widgets/controls",
            "_model_module_version": "1.5.0",
            "_model_name": "VBoxModel",
            "_view_count": null,
            "_view_module": "@jupyter-widgets/controls",
            "_view_module_version": "1.5.0",
            "_view_name": "VBoxView",
            "box_style": "",
            "children": [
              "IPY_MODEL_329059dea09848a9a4d37519aee10bdf",
              "IPY_MODEL_dc1b4f442b3742eea2eab7a70c2de2c0",
              "IPY_MODEL_a22888d804d2410b8989945becd6fc46",
              "IPY_MODEL_d380ba706ea64270999b72f7ad96731b"
            ],
            "layout": "IPY_MODEL_56dd9ad16c374e05812c8648b8c0e093"
          }
        },
        "329059dea09848a9a4d37519aee10bdf": {
          "model_module": "@jupyter-widgets/controls",
          "model_name": "FloatSliderModel",
          "model_module_version": "1.5.0",
          "state": {
            "_dom_classes": [],
            "_model_module": "@jupyter-widgets/controls",
            "_model_module_version": "1.5.0",
            "_model_name": "FloatSliderModel",
            "_view_count": null,
            "_view_module": "@jupyter-widgets/controls",
            "_view_module_version": "1.5.0",
            "_view_name": "FloatSliderView",
            "continuous_update": true,
            "description": "dQ",
            "description_tooltip": null,
            "disabled": false,
            "layout": "IPY_MODEL_ff4bce66d7384b7c898a20ca3f0bfe84",
            "max": 190,
            "min": 10,
            "orientation": "horizontal",
            "readout": true,
            "readout_format": ".2f",
            "step": 0.1,
            "style": "IPY_MODEL_d075dc0082e045a9bc2bde68e7fcb7af",
            "value": 100
          }
        },
        "dc1b4f442b3742eea2eab7a70c2de2c0": {
          "model_module": "@jupyter-widgets/controls",
          "model_name": "FloatSliderModel",
          "model_module_version": "1.5.0",
          "state": {
            "_dom_classes": [],
            "_model_module": "@jupyter-widgets/controls",
            "_model_module_version": "1.5.0",
            "_model_name": "FloatSliderModel",
            "_view_count": null,
            "_view_module": "@jupyter-widgets/controls",
            "_view_module_version": "1.5.0",
            "_view_name": "FloatSliderView",
            "continuous_update": true,
            "description": "dUA",
            "description_tooltip": null,
            "disabled": false,
            "layout": "IPY_MODEL_4c33dbd2c16447cfb02510b85e7bc13d",
            "max": 190,
            "min": 10,
            "orientation": "horizontal",
            "readout": true,
            "readout_format": ".2f",
            "step": 0.1,
            "style": "IPY_MODEL_d1e12c37e1074af8b99fb3b54f853202",
            "value": 100
          }
        },
        "a22888d804d2410b8989945becd6fc46": {
          "model_module": "@jupyter-widgets/controls",
          "model_name": "FloatSliderModel",
          "model_module_version": "1.5.0",
          "state": {
            "_dom_classes": [],
            "_model_module": "@jupyter-widgets/controls",
            "_model_module_version": "1.5.0",
            "_model_name": "FloatSliderModel",
            "_view_count": null,
            "_view_module": "@jupyter-widgets/controls",
            "_view_module_version": "1.5.0",
            "_view_name": "FloatSliderView",
            "continuous_update": true,
            "description": "drhoCp",
            "description_tooltip": null,
            "disabled": false,
            "layout": "IPY_MODEL_b8df82a0401c43ba8a6439fcc9695041",
            "max": 190,
            "min": 10,
            "orientation": "horizontal",
            "readout": true,
            "readout_format": ".2f",
            "step": 0.1,
            "style": "IPY_MODEL_d918d935c89f43e7b2c178fdb3fb29c6",
            "value": 100
          }
        },
        "d380ba706ea64270999b72f7ad96731b": {
          "model_module": "@jupyter-widgets/output",
          "model_name": "OutputModel",
          "model_module_version": "1.0.0",
          "state": {
            "_dom_classes": [],
            "_model_module": "@jupyter-widgets/output",
            "_model_module_version": "1.0.0",
            "_model_name": "OutputModel",
            "_view_count": null,
            "_view_module": "@jupyter-widgets/output",
            "_view_module_version": "1.0.0",
            "_view_name": "OutputView",
            "layout": "IPY_MODEL_eef080d7e7b341288b5122113e1e28ac",
            "msg_id": "",
            "outputs": [
              {
                "output_type": "display_data",
                "data": {
                  "text/plain": "<Figure size 432x288 with 1 Axes>",
                  "image/png": "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\n"
                },
                "metadata": {
                  "needs_background": "light"
                }
              }
            ]
          }
        },
        "56dd9ad16c374e05812c8648b8c0e093": {
          "model_module": "@jupyter-widgets/base",
          "model_name": "LayoutModel",
          "model_module_version": "1.2.0",
          "state": {
            "_model_module": "@jupyter-widgets/base",
            "_model_module_version": "1.2.0",
            "_model_name": "LayoutModel",
            "_view_count": null,
            "_view_module": "@jupyter-widgets/base",
            "_view_module_version": "1.2.0",
            "_view_name": "LayoutView",
            "align_content": null,
            "align_items": null,
            "align_self": null,
            "border": null,
            "bottom": null,
            "display": null,
            "flex": null,
            "flex_flow": null,
            "grid_area": null,
            "grid_auto_columns": null,
            "grid_auto_flow": null,
            "grid_auto_rows": null,
            "grid_column": null,
            "grid_gap": null,
            "grid_row": null,
            "grid_template_areas": null,
            "grid_template_columns": null,
            "grid_template_rows": null,
            "height": null,
            "justify_content": null,
            "justify_items": null,
            "left": null,
            "margin": null,
            "max_height": null,
            "max_width": null,
            "min_height": null,
            "min_width": null,
            "object_fit": null,
            "object_position": null,
            "order": null,
            "overflow": null,
            "overflow_x": null,
            "overflow_y": null,
            "padding": null,
            "right": null,
            "top": null,
            "visibility": null,
            "width": null
          }
        },
        "ff4bce66d7384b7c898a20ca3f0bfe84": {
          "model_module": "@jupyter-widgets/base",
          "model_name": "LayoutModel",
          "model_module_version": "1.2.0",
          "state": {
            "_model_module": "@jupyter-widgets/base",
            "_model_module_version": "1.2.0",
            "_model_name": "LayoutModel",
            "_view_count": null,
            "_view_module": "@jupyter-widgets/base",
            "_view_module_version": "1.2.0",
            "_view_name": "LayoutView",
            "align_content": null,
            "align_items": null,
            "align_self": null,
            "border": null,
            "bottom": null,
            "display": null,
            "flex": null,
            "flex_flow": null,
            "grid_area": null,
            "grid_auto_columns": null,
            "grid_auto_flow": null,
            "grid_auto_rows": null,
            "grid_column": null,
            "grid_gap": null,
            "grid_row": null,
            "grid_template_areas": null,
            "grid_template_columns": null,
            "grid_template_rows": null,
            "height": null,
            "justify_content": null,
            "justify_items": null,
            "left": null,
            "margin": null,
            "max_height": null,
            "max_width": null,
            "min_height": null,
            "min_width": null,
            "object_fit": null,
            "object_position": null,
            "order": null,
            "overflow": null,
            "overflow_x": null,
            "overflow_y": null,
            "padding": null,
            "right": null,
            "top": null,
            "visibility": null,
            "width": null
          }
        },
        "d075dc0082e045a9bc2bde68e7fcb7af": {
          "model_module": "@jupyter-widgets/controls",
          "model_name": "SliderStyleModel",
          "model_module_version": "1.5.0",
          "state": {
            "_model_module": "@jupyter-widgets/controls",
            "_model_module_version": "1.5.0",
            "_model_name": "SliderStyleModel",
            "_view_count": null,
            "_view_module": "@jupyter-widgets/base",
            "_view_module_version": "1.2.0",
            "_view_name": "StyleView",
            "description_width": "",
            "handle_color": null
          }
        },
        "4c33dbd2c16447cfb02510b85e7bc13d": {
          "model_module": "@jupyter-widgets/base",
          "model_name": "LayoutModel",
          "model_module_version": "1.2.0",
          "state": {
            "_model_module": "@jupyter-widgets/base",
            "_model_module_version": "1.2.0",
            "_model_name": "LayoutModel",
            "_view_count": null,
            "_view_module": "@jupyter-widgets/base",
            "_view_module_version": "1.2.0",
            "_view_name": "LayoutView",
            "align_content": null,
            "align_items": null,
            "align_self": null,
            "border": null,
            "bottom": null,
            "display": null,
            "flex": null,
            "flex_flow": null,
            "grid_area": null,
            "grid_auto_columns": null,
            "grid_auto_flow": null,
            "grid_auto_rows": null,
            "grid_column": null,
            "grid_gap": null,
            "grid_row": null,
            "grid_template_areas": null,
            "grid_template_columns": null,
            "grid_template_rows": null,
            "height": null,
            "justify_content": null,
            "justify_items": null,
            "left": null,
            "margin": null,
            "max_height": null,
            "max_width": null,
            "min_height": null,
            "min_width": null,
            "object_fit": null,
            "object_position": null,
            "order": null,
            "overflow": null,
            "overflow_x": null,
            "overflow_y": null,
            "padding": null,
            "right": null,
            "top": null,
            "visibility": null,
            "width": null
          }
        },
        "d1e12c37e1074af8b99fb3b54f853202": {
          "model_module": "@jupyter-widgets/controls",
          "model_name": "SliderStyleModel",
          "model_module_version": "1.5.0",
          "state": {
            "_model_module": "@jupyter-widgets/controls",
            "_model_module_version": "1.5.0",
            "_model_name": "SliderStyleModel",
            "_view_count": null,
            "_view_module": "@jupyter-widgets/base",
            "_view_module_version": "1.2.0",
            "_view_name": "StyleView",
            "description_width": "",
            "handle_color": null
          }
        },
        "b8df82a0401c43ba8a6439fcc9695041": {
          "model_module": "@jupyter-widgets/base",
          "model_name": "LayoutModel",
          "model_module_version": "1.2.0",
          "state": {
            "_model_module": "@jupyter-widgets/base",
            "_model_module_version": "1.2.0",
            "_model_name": "LayoutModel",
            "_view_count": null,
            "_view_module": "@jupyter-widgets/base",
            "_view_module_version": "1.2.0",
            "_view_name": "LayoutView",
            "align_content": null,
            "align_items": null,
            "align_self": null,
            "border": null,
            "bottom": null,
            "display": null,
            "flex": null,
            "flex_flow": null,
            "grid_area": null,
            "grid_auto_columns": null,
            "grid_auto_flow": null,
            "grid_auto_rows": null,
            "grid_column": null,
            "grid_gap": null,
            "grid_row": null,
            "grid_template_areas": null,
            "grid_template_columns": null,
            "grid_template_rows": null,
            "height": null,
            "justify_content": null,
            "justify_items": null,
            "left": null,
            "margin": null,
            "max_height": null,
            "max_width": null,
            "min_height": null,
            "min_width": null,
            "object_fit": null,
            "object_position": null,
            "order": null,
            "overflow": null,
            "overflow_x": null,
            "overflow_y": null,
            "padding": null,
            "right": null,
            "top": null,
            "visibility": null,
            "width": null
          }
        },
        "d918d935c89f43e7b2c178fdb3fb29c6": {
          "model_module": "@jupyter-widgets/controls",
          "model_name": "SliderStyleModel",
          "model_module_version": "1.5.0",
          "state": {
            "_model_module": "@jupyter-widgets/controls",
            "_model_module_version": "1.5.0",
            "_model_name": "SliderStyleModel",
            "_view_count": null,
            "_view_module": "@jupyter-widgets/base",
            "_view_module_version": "1.2.0",
            "_view_name": "StyleView",
            "description_width": "",
            "handle_color": null
          }
        },
        "eef080d7e7b341288b5122113e1e28ac": {
          "model_module": "@jupyter-widgets/base",
          "model_name": "LayoutModel",
          "model_module_version": "1.2.0",
          "state": {
            "_model_module": "@jupyter-widgets/base",
            "_model_module_version": "1.2.0",
            "_model_name": "LayoutModel",
            "_view_count": null,
            "_view_module": "@jupyter-widgets/base",
            "_view_module_version": "1.2.0",
            "_view_name": "LayoutView",
            "align_content": null,
            "align_items": null,
            "align_self": null,
            "border": null,
            "bottom": null,
            "display": null,
            "flex": null,
            "flex_flow": null,
            "grid_area": null,
            "grid_auto_columns": null,
            "grid_auto_flow": null,
            "grid_auto_rows": null,
            "grid_column": null,
            "grid_gap": null,
            "grid_row": null,
            "grid_template_areas": null,
            "grid_template_columns": null,
            "grid_template_rows": null,
            "height": null,
            "justify_content": null,
            "justify_items": null,
            "left": null,
            "margin": null,
            "max_height": null,
            "max_width": null,
            "min_height": null,
            "min_width": null,
            "object_fit": null,
            "object_position": null,
            "order": null,
            "overflow": null,
            "overflow_x": null,
            "overflow_y": null,
            "padding": null,
            "right": null,
            "top": null,
            "visibility": null,
            "width": null
          }
        }
      }
    }
  },
  "cells": [
    {
      "cell_type": "markdown",
      "metadata": {
        "id": "view-in-github",
        "colab_type": "text"
      },
      "source": [
        "<a href=\"https://colab.research.google.com/github/gmxavier/FAT0413150/blob/main/notebooks/04.01-Two-Transient-Model-Examples.ipynb\" target=\"_parent\"><img src=\"https://colab.research.google.com/assets/colab-badge.svg\" alt=\"Open In Colab\"/></a>"
      ]
    },
    {
      "cell_type": "markdown",
      "metadata": {
        "id": "_pai0x8LtLLs"
      },
      "source": [
        "# Under construction 🚧\n",
        "#  Two transient model examples"
      ]
    },
    {
      "cell_type": "code",
      "metadata": {
        "id": "j_qoq9L-tx95"
      },
      "source": [
        "from sympy import symbols, init_printing, Heaviside, laplace_transform, inverse_laplace_transform, plot, exp\n",
        "from ipywidgets import interact\n",
        "import matplotlib.pyplot as plt\n",
        "import numpy\n",
        "init_printing()\n",
        "%matplotlib inline"
      ],
      "execution_count": 10,
      "outputs": []
    },
    {
      "cell_type": "markdown",
      "metadata": {
        "id": "MTl9juPctstt"
      },
      "source": [
        "## A transient-response example"
      ]
    },
    {
      "cell_type": "markdown",
      "metadata": {
        "id": "UkTJFD4Mv1dC"
      },
      "source": [
        "In this example, we have a stirred-tank with a volume $V_1$ of 4 $m^3$ being operated with an inlet flow rate $Q$ of 0.02 $m^3 s^{-1}$ and that contains an inert species at a concentration $C_{in}$ of 1 $gmol$ $m^{-3}$.\n",
        "\n",
        "The model equation is a continuous-flow stirred-tank without any chemical reaction:\n",
        "\n",
        "$$ V_1\\frac{\\mathrm{d}C_1(t)}{\\mathrm{d}t} = Q[C_{in}(t) - C_1(t)] $$\n",
        "\n",
        "In terms of the time constant $\\tau_1$, it is written as\n",
        "\n",
        "$$ \\tau_1\\frac{\\mathrm{d}C_1(t)}{\\mathrm{d}t} = C_{in}(t) - C_1(t) $$\n",
        "\n",
        "where $ \\tau_1 = \\frac{V_1}{Q} $. Considering the tank at steady state for $t\\le0$, we have\n",
        "\n",
        "$$ \\tau_1\\frac{\\mathrm{d}C_1(0)}{\\mathrm{d}t} = C_{in}(0) - C_1(0) $$\n",
        "\n",
        "Subtracting the steady state equation from the dynamic one, we end up with\n",
        "\n",
        "$$ \\tau_1\\frac{\\mathrm{d}[C_1(t) - C_1(0)]}{\\mathrm{d}t} = [C_{in}(t) - C_{in}(0)] - [C_1(t) - C_1(0)] $$\n",
        "\n",
        "which can be rewritten to\n",
        "\n",
        "$$ \\tau_1\\frac{\\mathrm{d}C_1'(t)}{\\mathrm{d}t} = C_{in}'(t) - C_1'(t) $$\n",
        "\n",
        "by considering the definition of the following *deviation variables*\n",
        "\n",
        "$$ C_1'(t) = C_1(t) - C_1(0) $$\n",
        "$$ C_{in}'(t) = C_{in}(t) - C_{in}(0) $$\n",
        "\n",
        "These *deviation variables* are simply the difference between the values of each *original variable* from their respective initial steady state value. Applying the Laplace transform in the ordinary differential equation rewritten in *deviation variables*, we have\n",
        "\n",
        "\\begin{align}\n",
        "\\mathcal{L}\\left\\{\\tau_1\\frac{\\mathrm{d}C_1'(t)}{\\mathrm{d}t}\\right\\} &= \\mathcal{L}\\{C_{in}'(t) - C_1'(t)\\} \\\\\n",
        "\\tau_1sC_1'(s) &= C_{in}'(s) - C_1'(s) \\\\\n",
        "\\frac{C_1'(s)}{C_{in}'(s)} &= \\frac{1}{\\tau_1s + 1} \\\\\n",
        "\\end{align}\n",
        "\n",
        "The RHS expression is the ratio of the output *deviation variable* Laplace transform $C_1'(s)$ to the input *deviation variable* Laplace transform $C_{in}'(s)$ and is called *transfer function* because it transfers the dynamic variation of the input *deviation variable* to the output *deviation variable*."
      ]
    },
    {
      "cell_type": "markdown",
      "metadata": {
        "id": "dbwoZV3yIZjT"
      },
      "source": [
        "> N.B.: Part of the following material was taken from this [Carl Sandrock's notebook](https://colab.research.google.com/github.com/alchemyst/Dynamics-and-Control/blob/master/1_Dynamics/4_First_and_second_order_system_dynamics/First%20order%20systems.ipynb)."
      ]
    },
    {
      "cell_type": "code",
      "metadata": {
        "id": "Nu8L0Zp6t6Ku"
      },
      "source": [
        "t, K, tau1 = symbols('t, K, tau1',real=True, positive=True)\n",
        "s = symbols('s')\n",
        "V1 = 4\n",
        "Q = 0.02"
      ],
      "execution_count": 5,
      "outputs": []
    },
    {
      "cell_type": "code",
      "metadata": {
        "id": "xMfdSKJBt-Y8"
      },
      "source": [
        "def L(f):\n",
        "    return laplace_transform(f, t, s, noconds=True)\n",
        "def invL(F):\n",
        "    return inverse_laplace_transform(F, s, t)"
      ],
      "execution_count": 14,
      "outputs": []
    },
    {
      "cell_type": "code",
      "metadata": {
        "id": "RlQw4tR-t7hG"
      },
      "source": [
        "u = Heaviside(t)"
      ],
      "execution_count": 14,
      "outputs": []
    },
    {
      "cell_type": "code",
      "metadata": {
        "id": "4owiBUuIuBU9",
        "outputId": "7d50e8f9-22f9-4875-f836-a9950864d989",
        "colab": {
          "base_uri": "https://localhost:8080/",
          "height": 51
        }
      },
      "source": [
        "U = L(u)\n",
        "U"
      ],
      "execution_count": 15,
      "outputs": [
        {
          "output_type": "execute_result",
          "data": {
            "text/plain": [
              "1\n",
              "─\n",
              "s"
            ],
            "image/png": "[encoded data removed]",
            "text/latex": "$\\displaystyle \\frac{1}{s}$"
          },
          "metadata": {},
          "execution_count": 15
        }
      ]
    },
    {
      "cell_type": "markdown",
      "metadata": {
        "id": "jBcoXc8WKBaf"
      },
      "source": [
        "Now let us define the obtained *transfer function*:"
      ]
    },
    {
      "cell_type": "code",
      "metadata": {
        "id": "z0VafdAWKTh6",
        "outputId": "6e97733b-e197-4ecd-c8a5-cbe0d904e75c",
        "colab": {
          "base_uri": "https://localhost:8080/",
          "height": 54
        }
      },
      "source": [
        "G = 1/(tau1*s + 1)\n",
        "G"
      ],
      "execution_count": 16,
      "outputs": [
        {
          "output_type": "execute_result",
          "data": {
            "text/plain": [
              "   1    \n",
              "────────\n",
              "s⋅τ₁ + 1"
            ],
            "image/png": "[encoded data removed]",
            "text/latex": "$\\displaystyle \\frac{1}{s \\tau_{1} + 1}$"
          },
          "metadata": {},
          "execution_count": 16
        }
      ]
    },
    {
      "cell_type": "markdown",
      "metadata": {
        "id": "47oAN_b8K6Ij"
      },
      "source": [
        "The inverse Laplace transform of a *transfer function* is its *impulse response*"
      ]
    },
    {
      "cell_type": "code",
      "metadata": {
        "id": "6WX-CWlrLFz-",
        "outputId": "bccd0854-56de-4350-833b-22a51bd85561",
        "colab": {
          "base_uri": "https://localhost:8080/",
          "height": 61
        }
      },
      "source": [
        "impulseresponse = invL(G)\n",
        "impulseresponse"
      ],
      "execution_count": 17,
      "outputs": [
        {
          "output_type": "execute_result",
          "data": {
            "text/plain": [
              " -t \n",
              " ───\n",
              "  τ₁\n",
              "ℯ   \n",
              "────\n",
              " τ₁ "
            ],
            "image/png": "[encoded data removed]",
            "text/latex": "$\\displaystyle \\frac{e^{- \\frac{t}{\\tau_{1}}}}{\\tau_{1}}$"
          },
          "metadata": {},
          "execution_count": 17
        }
      ]
    },
    {
      "cell_type": "markdown",
      "source": [
        "We can also plot it."
      ],
      "metadata": {
        "id": "PhRF5mOjDslY"
      }
    },
    {
      "cell_type": "code",
      "source": [
        "plot(impulseresponse.subs(tau1, V1/Q), (t, 0 ,1000))"
      ],
      "metadata": {
        "colab": {
          "base_uri": "https://localhost:8080/",
          "height": 314
        },
        "id": "KMr3b7ckDrhM",
        "outputId": "6289ef0a-854a-4afe-86b2-791c1caf98b0"
      },
      "execution_count": 20,
      "outputs": [
        {
          "output_type": "display_data",
          "data": {
            "text/plain": [
              "<Figure size 432x288 with 1 Axes>"
            ],
            "image/png": "[encoded data removed]"
          },
          "metadata": {
            "needs_background": "light"
          }
        },
        {
          "output_type": "execute_result",
          "data": {
            "text/plain": [
              "<sympy.plotting.plot.Plot at 0x7f729c476710>"
            ]
          },
          "metadata": {},
          "execution_count": 20
        }
      ]
    },
    {
      "cell_type": "markdown",
      "metadata": {
        "id": "3L_D7h7dLkoT"
      },
      "source": [
        "If $C_{in}'(t)$ is the unit step function, $C_{in}'(s)=\\frac{1}{s}$ and we can obtain the step response as follows:"
      ]
    },
    {
      "cell_type": "code",
      "metadata": {
        "id": "U8riWUW5MERq",
        "outputId": "d7420f40-4123-483f-af4e-2b4f0ffe7839",
        "colab": {
          "base_uri": "https://localhost:8080/",
          "height": 42
        }
      },
      "source": [
        "u = 1/s\n",
        "stepresponse = invL(G*u)\n",
        "stepresponse"
      ],
      "execution_count": 22,
      "outputs": [
        {
          "output_type": "execute_result",
          "data": {
            "text/plain": [
              "     -t \n",
              "     ───\n",
              "      τ₁\n",
              "1 - ℯ   "
            ],
            "image/png": "[encoded data removed]",
            "text/latex": "$\\displaystyle 1 - e^{- \\frac{t}{\\tau_{1}}}$"
          },
          "metadata": {},
          "execution_count": 22
        }
      ]
    },
    {
      "cell_type": "markdown",
      "source": [
        "And the plot is:"
      ],
      "metadata": {
        "id": "71u2CdJpMpPx"
      }
    },
    {
      "cell_type": "code",
      "source": [
        "plot(1, stepresponse.subs(tau1, V1/Q), (t, 0 ,1000))"
      ],
      "metadata": {
        "colab": {
          "base_uri": "https://localhost:8080/",
          "height": 313
        },
        "id": "FceharycMsFF",
        "outputId": "ffe9be82-e110-4d9c-b448-615de17a0c3b"
      },
      "execution_count": 28,
      "outputs": [
        {
          "output_type": "display_data",
          "data": {
            "text/plain": [
              "<Figure size 432x288 with 1 Axes>"
            ],
            "image/png": "[encoded data removed]"
          },
          "metadata": {
            "needs_background": "light"
          }
        },
        {
          "output_type": "execute_result",
          "data": {
            "text/plain": [
              "<sympy.plotting.plot.Plot at 0x7f729c2214d0>"
            ]
          },
          "metadata": {},
          "execution_count": 28
        }
      ]
    },
    {
      "cell_type": "markdown",
      "metadata": {
        "id": "evJH3GUwPZ5C"
      },
      "source": [
        "Similarly, the ramp response can be obtained as follows:"
      ]
    },
    {
      "cell_type": "code",
      "metadata": {
        "id": "OmHNwwuDPi_T",
        "outputId": "186d7cc2-7c11-41fb-c070-b034c5e7d8fb",
        "colab": {
          "base_uri": "https://localhost:8080/",
          "height": 42
        }
      },
      "source": [
        "u = 1/s**2\n",
        "rampresponse = invL(G*u)\n",
        "rampresponse"
      ],
      "execution_count": 25,
      "outputs": [
        {
          "output_type": "execute_result",
          "data": {
            "text/plain": [
              "             -t \n",
              "             ───\n",
              "              τ₁\n",
              "t - τ₁ + τ₁⋅ℯ   "
            ],
            "image/png": "[encoded data removed]",
            "text/latex": "$\\displaystyle t - \\tau_{1} + \\tau_{1} e^{- \\frac{t}{\\tau_{1}}}$"
          },
          "metadata": {},
          "execution_count": 25
        }
      ]
    },
    {
      "cell_type": "markdown",
      "source": [
        "And the plot is:"
      ],
      "metadata": {
        "id": "caAygSY4OEiG"
      }
    },
    {
      "cell_type": "code",
      "source": [
        "plot(t, rampresponse.subs(tau1, V1/Q), (t, 0 ,1000))"
      ],
      "metadata": {
        "colab": {
          "base_uri": "https://localhost:8080/",
          "height": 313
        },
        "id": "k8cwIJIaOGjT",
        "outputId": "0449e95b-ed43-44cb-f153-4c01536a93dc"
      },
      "execution_count": 27,
      "outputs": [
        {
          "output_type": "display_data",
          "data": {
            "text/plain": [
              "<Figure size 432x288 with 1 Axes>"
            ],
            "image/png": "[encoded data removed]"
          },
          "metadata": {
            "needs_background": "light"
          }
        },
        {
          "output_type": "execute_result",
          "data": {
            "text/plain": [
              "<sympy.plotting.plot.Plot at 0x7f729c2ad710>"
            ]
          },
          "metadata": {},
          "execution_count": 27
        }
      ]
    },
    {
      "cell_type": "markdown",
      "source": [
        "Let's see what happens when the flowrate $Q$ is varied between 10% and 90% of its nominal value. "
      ],
      "metadata": {
        "id": "A8Z-Kbq_Ves2"
      }
    },
    {
      "cell_type": "code",
      "source": [
        "def stirtank(dQ):\n",
        "  plot(1, \n",
        "       stepresponse.subs(tau1, V1/(dQ*Q/100)), \n",
        "       stepresponse.subs(tau1, V1/Q),  \n",
        "       (t, 0 ,1000),\n",
        "       legend=True)\n",
        "  \n",
        "interact(stirtank, dQ=(10.0, 190.0))"
      ],
      "metadata": {
        "colab": {
          "base_uri": "https://localhost:8080/",
          "height": 430,
          "referenced_widgets": [
            "405aa21723d349148a74cff8bd80df5e",
            "cff0a665320e4d218149c81a847b4715",
            "7df177677af14707aca7ea7ac5ae207b",
            "981ee672939a46ae81585597d88ee2ed",
            "7cfaf10355604daea0337fc2fc0eafda",
            "d67de66f7dad45dba1518b7495ffdc14",
            "b4d45b2cd15c4d979b380118072849ef"
          ]
        },
        "id": "iTFlKR2QSWbI",
        "outputId": "aa6068ea-0d25-46d9-884a-515acd4a3493"
      },
      "execution_count": 34,
      "outputs": [
        {
          "output_type": "display_data",
          "data": {
            "text/plain": [
              "interactive(children=(FloatSlider(value=100.0, description='dQ1', max=190.0, min=10.0), Output()), _dom_classe…"
            ],
            "application/vnd.jupyter.widget-view+json": {
              "version_major": 2,
              "version_minor": 0,
              "model_id": "405aa21723d349148a74cff8bd80df5e"
            }
          },
          "metadata": {}
        },
        {
          "output_type": "execute_result",
          "data": {
            "text/plain": [
              "<function __main__.stirtank>"
            ]
          },
          "metadata": {},
          "execution_count": 34
        }
      ]
    },
    {
      "cell_type": "markdown",
      "source": [
        "## A stirred-tank heater"
      ],
      "metadata": {
        "id": "rwprzpcrZ9qa"
      }
    },
    {
      "cell_type": "markdown",
      "source": [
        "In this example, we have a stirred-tank heater. The heat balance, in standard heat transfer notation, is:\n",
        "\n",
        "$$ \\rho C_p V\\frac{\\mathrm{d}T(t)}{\\mathrm{d}t} = \\rho C_p Q[T_{i}(t) - T(t)] + UA[T_H(t) - T(t)] $$\n",
        "\n",
        "where $U$ is the overall heat transfer coefficient, $A$ is the heat transfer area, $\\rho$ is the fluid density, $C_p$ is the heat capacity, and $V$ is the volume of the vessel. The inlet temperature $T_i(t)$ and steam-coil temperature $T_H(t)$ are functions of time and are presumably given. The initial condition is $T(0) = T^s$ , the steady-state temperature.\n",
        "\n",
        "Before we go on, it should be emphasized that what we subsequently find are nothing but different algebraic manipulations of the same heat balance. First, we rearrange it to give\n",
        "\n",
        "$$ \\frac{V}{Q} \\frac{\\mathrm{d}T(t)}{\\mathrm{d}t} = [T_{i}(t) - T(t)] + \\frac{UA}{\\rho C_p Q}[T_H(t) - T(t)] $$\n",
        "\n",
        "The second step is to define $ \\tau = \\frac{V}{Q} $ and $ \\kappa =  \\frac{UA}{\\rho C_p Q}$ which leads to\n",
        "\n",
        "$$ \\tau \\frac{\\mathrm{d}T(t)}{\\mathrm{d}t} + (1 + \\kappa)T(t)= T_{i}(t) + \\kappa T_H(t) $$\n",
        "\n",
        "Which is also valid at steady-state\n",
        "\n",
        "$$ \\tau \\frac{\\mathrm{d}T^s}{\\mathrm{d}t} + (1 + \\kappa)T^s = T^{s}_{i} + \\kappa T^{s}_H $$\n",
        "\n",
        "Subtracting the steady state equation from the dynamic one, we end up with\n",
        "\n",
        "$$ \\tau \\frac{\\mathrm{d}[T(t) - T^s]}{\\mathrm{d}t} + (1 + \\kappa)[T(t) - T^s] = [T_{i}(t) - T^{s}_{i}] + \\kappa [T_H(t) + \\kappa T^{s}_{H}] $$\n",
        "\n",
        "which can be rewritten to\n",
        "\n",
        "$$ \\tau\\frac{\\mathrm{d}T'(t)}{\\mathrm{d}t} + (1 + \\kappa)T'(t) = T_{i}'(t) + \\kappa T_H'(t) $$\n",
        "\n",
        "by considering the definition of the following *deviation variables*\n",
        "\n",
        "$$ T'(t) = T(t) - T^s $$\n",
        "$$ T_i'(t) = T_i(t) - T^s_i $$\n",
        "$$ T_H'(t) = T_H(t) - T^s_H $$\n",
        "\n",
        "These *deviation variables* are simply the difference between the values of each *original variable* from their respective initial steady state value. Applying the Laplace transform in the ordinary differential equation rewritten in *deviation variables*, we have\n",
        "\n",
        "\\begin{align}\n",
        "\\mathcal{L}\\left\\{\\tau\\frac{\\mathrm{d}T'(t)}{\\mathrm{d}t}\\right\\} + \\mathcal{L}\\{(1 + \\kappa)T'(t)\\} &= \\mathcal{L}\\{T_{i}'(t)\\} + \\mathcal{L}\\{\\kappa T_{H}'(t)\\} \\\\\n",
        "\\tau sT'(s) + (1 + \\kappa)T'(s) &= T_{i}'(s) + \\kappa T_{H}'(s) \\\\\n",
        "T'(s) &= \\frac{1}{\\tau s + 1 + \\kappa}T_{i}'(s) + \\frac{\\kappa}{\\tau s + 1 + \\kappa}T_{H}'(s) \\\\\n",
        "T'(s) &= \\frac{1/(1 + \\kappa)}{\\tau/(1 + \\kappa) s + 1}T_{i}'(s) + \\frac{\\kappa/(1 + \\kappa)}{\\tau/(1 + \\kappa) s + 1 }T_{H}'(s) \\\\\n",
        "T'(s) &= \\frac{K_i}{\\tau_p s + 1}T_{i}'(s) + \\frac{K_H}{\\tau_p s + 1 }T_{H}'(s) \\\\\n",
        "\\end{align}\n",
        "\n",
        "where $ \\tau_p = \\tau/(1 + \\kappa) $, $ K_i = 1/(1 + \\kappa) $ and $ K_H = \\kappa/(1 + \\kappa) $.\n",
        "\n",
        "At the RHS expression we can see the ratios of the output *deviation variable* Laplace transform $T'(s)$ to each of the input *deviation variables* Laplace transforms $T_{i}'(s)$ and $T_{H}'(s)$. These ratios are called *transfer functions* because they transfer the dynamic variation of the respective input *deviation variable* to the output *deviation variable*."
      ],
      "metadata": {
        "id": "NJPcc6mxarKl"
      }
    },
    {
      "cell_type": "markdown",
      "metadata": {
        "id": "fX_7_p_rvyoH"
      },
      "source": [
        "Now let us define the first *transfer function*:"
      ]
    },
    {
      "cell_type": "code",
      "metadata": {
        "outputId": "3417383c-b574-426b-9556-75a9ec0070dc",
        "colab": {
          "base_uri": "https://localhost:8080/",
          "height": 57
        },
        "id": "lOzPQwTGvyoI"
      },
      "source": [
        "taup = symbols('tau_p',real=True, positive=True)\n",
        "Ki = symbols('K_i')\n",
        "G = Ki/(taup*s + 1)\n",
        "G"
      ],
      "execution_count": 16,
      "outputs": [
        {
          "output_type": "execute_result",
          "data": {
            "text/plain": [
              "   Kᵢ   \n",
              "────────\n",
              "s⋅τₚ + 1"
            ],
            "image/png": "[encoded data removed]",
            "text/latex": "$\\displaystyle \\frac{K_{i}}{s \\tau_{p} + 1}$"
          },
          "metadata": {},
          "execution_count": 16
        }
      ]
    },
    {
      "cell_type": "markdown",
      "source": [
        "If $T_{i}'(t)$ is the unit step function, $T_{i}'(s)=\\frac{1}{s}$ and we can obtain the step response as follows:"
      ],
      "metadata": {
        "id": "4YgMiyjd0suW"
      }
    },
    {
      "cell_type": "code",
      "metadata": {
        "outputId": "f0cb9d47-51de-4f84-eaa7-76ecd4da1579",
        "colab": {
          "base_uri": "https://localhost:8080/",
          "height": 42
        },
        "id": "tz-BUr1T0vzl"
      },
      "source": [
        "u = 1/s\n",
        "stepresponse = invL(G*u)\n",
        "stepresponse"
      ],
      "execution_count": 20,
      "outputs": [
        {
          "output_type": "execute_result",
          "data": {
            "text/plain": [
              "         -t \n",
              "         ───\n",
              "          τₚ\n",
              "Kᵢ - Kᵢ⋅ℯ   "
            ],
            "image/png": "[encoded data removed]",
            "text/latex": "$\\displaystyle K_{i} - K_{i} e^{- \\frac{t}{\\tau_{p}}}$"
          },
          "metadata": {},
          "execution_count": 20
        }
      ]
    },
    {
      "cell_type": "markdown",
      "source": [
        "\n",
        "Let's see what happens when the parameters are varied between 10% and 90% of their nominal values. "
      ],
      "metadata": {
        "id": "CDgkEV8Tv56v"
      }
    },
    {
      "cell_type": "code",
      "source": [
        "UA = 0.005\n",
        "rhoCp = 1\n",
        "kappa = UA/(rhoCp*Q)\n",
        "\n",
        "def heattank(dQ, dUA, drhoCp):\n",
        "  dkappa = (dUA*UA/100)/(drhoCp*rhoCp*dQ*Q/10000)\n",
        "  plot(1, \n",
        "       stepresponse.subs({taup: V1/(dQ*Q/100)/(1+dkappa), Ki: 1/(1+dkappa)}), \n",
        "       stepresponse.subs({taup: V1/Q/(1+kappa), Ki: 1/(1+kappa)}),  \n",
        "       (t, 0 ,1000),\n",
        "       legend=True)\n",
        "  \n",
        "interact(heattank, dQ=(10.0, 190.0), dUA=(10.0, 190.0), drhoCp=(10.0, 190.0))"
      ],
      "metadata": {
        "id": "QRYuS53_vSay",
        "outputId": "20952b9e-cf82-4cd6-dce7-6428201dbf85",
        "colab": {
          "base_uri": "https://localhost:8080/",
          "height": 409,
          "referenced_widgets": [
            "02614ce73bb04488ba58f4ce81403699",
            "329059dea09848a9a4d37519aee10bdf",
            "dc1b4f442b3742eea2eab7a70c2de2c0",
            "a22888d804d2410b8989945becd6fc46",
            "d380ba706ea64270999b72f7ad96731b",
            "56dd9ad16c374e05812c8648b8c0e093",
            "ff4bce66d7384b7c898a20ca3f0bfe84",
            "d075dc0082e045a9bc2bde68e7fcb7af",
            "4c33dbd2c16447cfb02510b85e7bc13d",
            "d1e12c37e1074af8b99fb3b54f853202",
            "b8df82a0401c43ba8a6439fcc9695041",
            "d918d935c89f43e7b2c178fdb3fb29c6",
            "eef080d7e7b341288b5122113e1e28ac"
          ]
        }
      },
      "execution_count": 31,
      "outputs": [
        {
          "output_type": "display_data",
          "data": {
            "text/plain": [
              "interactive(children=(FloatSlider(value=100.0, description='dQ', max=190.0, min=10.0), FloatSlider(value=100.0…"
            ],
            "application/vnd.jupyter.widget-view+json": {
              "version_major": 2,
              "version_minor": 0,
              "model_id": "02614ce73bb04488ba58f4ce81403699"
            }
          },
          "metadata": {}
        },
        {
          "output_type": "execute_result",
          "data": {
            "text/plain": [
              "<function __main__.heattank>"
            ]
          },
          "metadata": {},
          "execution_count": 31
        }
      ]
    }
  ]
}