{
  "nbformat": 4,
  "nbformat_minor": 0,
  "metadata": {
    "colab": {
      "name": "04.01-Two-Transient-Model-Examples.ipynb",
      "provenance": [],
      "collapsed_sections": [],
      "authorship_tag": "ABX9TyNotbFNub5UD/ugfuZInX/1",
      "include_colab_link": true
    },
    "kernelspec": {
      "name": "python3",
      "display_name": "Python 3"
    },
    "widgets": {
      "application/vnd.jupyter.widget-state+json": {
        "02614ce73bb04488ba58f4ce81403699": {
          "model_module": "@jupyter-widgets/controls",
          "model_name": "VBoxModel",
          "model_module_version": "1.5.0",
          "state": {
            "_dom_classes": [
              "widget-interact"
            ],
            "_model_module": "@jupyter-widgets/controls",
            "_model_module_version": "1.5.0",
            "_model_name": "VBoxModel",
            "_view_count": null,
            "_view_module": "@jupyter-widgets/controls",
            "_view_module_version": "1.5.0",
            "_view_name": "VBoxView",
            "box_style": "",
            "children": [
              "IPY_MODEL_329059dea09848a9a4d37519aee10bdf",
              "IPY_MODEL_dc1b4f442b3742eea2eab7a70c2de2c0",
              "IPY_MODEL_a22888d804d2410b8989945becd6fc46",
              "IPY_MODEL_d380ba706ea64270999b72f7ad96731b"
            ],
            "layout": "IPY_MODEL_56dd9ad16c374e05812c8648b8c0e093"
          }
        },
        "329059dea09848a9a4d37519aee10bdf": {
          "model_module": "@jupyter-widgets/controls",
          "model_name": "FloatSliderModel",
          "model_module_version": "1.5.0",
          "state": {
            "_dom_classes": [],
            "_model_module": "@jupyter-widgets/controls",
            "_model_module_version": "1.5.0",
            "_model_name": "FloatSliderModel",
            "_view_count": null,
            "_view_module": "@jupyter-widgets/controls",
            "_view_module_version": "1.5.0",
            "_view_name": "FloatSliderView",
            "continuous_update": true,
            "description": "dQ",
            "description_tooltip": null,
            "disabled": false,
            "layout": "IPY_MODEL_ff4bce66d7384b7c898a20ca3f0bfe84",
            "max": 190,
            "min": 10,
            "orientation": "horizontal",
            "readout": true,
            "readout_format": ".2f",
            "step": 0.1,
            "style": "IPY_MODEL_d075dc0082e045a9bc2bde68e7fcb7af",
            "value": 100
          }
        },
        "dc1b4f442b3742eea2eab7a70c2de2c0": {
          "model_module": "@jupyter-widgets/controls",
          "model_name": "FloatSliderModel",
          "model_module_version": "1.5.0",
          "state": {
            "_dom_classes": [],
            "_model_module": "@jupyter-widgets/controls",
            "_model_module_version": "1.5.0",
            "_model_name": "FloatSliderModel",
            "_view_count": null,
            "_view_module": "@jupyter-widgets/controls",
            "_view_module_version": "1.5.0",
            "_view_name": "FloatSliderView",
            "continuous_update": true,
            "description": "dUA",
            "description_tooltip": null,
            "disabled": false,
            "layout": "IPY_MODEL_4c33dbd2c16447cfb02510b85e7bc13d",
            "max": 190,
            "min": 10,
            "orientation": "horizontal",
            "readout": true,
            "readout_format": ".2f",
            "step": 0.1,
            "style": "IPY_MODEL_d1e12c37e1074af8b99fb3b54f853202",
            "value": 100
          }
        },
        "a22888d804d2410b8989945becd6fc46": {
          "model_module": "@jupyter-widgets/controls",
          "model_name": "FloatSliderModel",
          "model_module_version": "1.5.0",
          "state": {
            "_dom_classes": [],
            "_model_module": "@jupyter-widgets/controls",
            "_model_module_version": "1.5.0",
            "_model_name": "FloatSliderModel",
            "_view_count": null,
            "_view_module": "@jupyter-widgets/controls",
            "_view_module_version": "1.5.0",
            "_view_name": "FloatSliderView",
            "continuous_update": true,
            "description": "drhoCp",
            "description_tooltip": null,
            "disabled": false,
            "layout": "IPY_MODEL_b8df82a0401c43ba8a6439fcc9695041",
            "max": 190,
            "min": 10,
            "orientation": "horizontal",
            "readout": true,
            "readout_format": ".2f",
            "step": 0.1,
            "style": "IPY_MODEL_d918d935c89f43e7b2c178fdb3fb29c6",
            "value": 100
          }
        },
        "d380ba706ea64270999b72f7ad96731b": {
          "model_module": "@jupyter-widgets/output",
          "model_name": "OutputModel",
          "model_module_version": "1.0.0",
          "state": {
            "_dom_classes": [],
            "_model_module": "@jupyter-widgets/output",
            "_model_module_version": "1.0.0",
            "_model_name": "OutputModel",
            "_view_count": null,
            "_view_module": "@jupyter-widgets/output",
            "_view_module_version": "1.0.0",
            "_view_name": "OutputView",
            "layout": "IPY_MODEL_eef080d7e7b341288b5122113e1e28ac",
            "msg_id": "",
            "outputs": [
              {
                "output_type": "display_data",
                "data": {
                  "text/plain": "<Figure size 432x288 with 1 Axes>",
                  "image/png": "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\n"
                },
                "metadata": {
                  "needs_background": "light"
                }
              }
            ]
          }
        },
        "56dd9ad16c374e05812c8648b8c0e093": {
          "model_module": "@jupyter-widgets/base",
          "model_name": "LayoutModel",
          "model_module_version": "1.2.0",
          "state": {
            "_model_module": "@jupyter-widgets/base",
            "_model_module_version": "1.2.0",
            "_model_name": "LayoutModel",
            "_view_count": null,
            "_view_module": "@jupyter-widgets/base",
            "_view_module_version": "1.2.0",
            "_view_name": "LayoutView",
            "align_content": null,
            "align_items": null,
            "align_self": null,
            "border": null,
            "bottom": null,
            "display": null,
            "flex": null,
            "flex_flow": null,
            "grid_area": null,
            "grid_auto_columns": null,
            "grid_auto_flow": null,
            "grid_auto_rows": null,
            "grid_column": null,
            "grid_gap": null,
            "grid_row": null,
            "grid_template_areas": null,
            "grid_template_columns": null,
            "grid_template_rows": null,
            "height": null,
            "justify_content": null,
            "justify_items": null,
            "left": null,
            "margin": null,
            "max_height": null,
            "max_width": null,
            "min_height": null,
            "min_width": null,
            "object_fit": null,
            "object_position": null,
            "order": null,
            "overflow": null,
            "overflow_x": null,
            "overflow_y": null,
            "padding": null,
            "right": null,
            "top": null,
            "visibility": null,
            "width": null
          }
        },
        "ff4bce66d7384b7c898a20ca3f0bfe84": {
          "model_module": "@jupyter-widgets/base",
          "model_name": "LayoutModel",
          "model_module_version": "1.2.0",
          "state": {
            "_model_module": "@jupyter-widgets/base",
            "_model_module_version": "1.2.0",
            "_model_name": "LayoutModel",
            "_view_count": null,
            "_view_module": "@jupyter-widgets/base",
            "_view_module_version": "1.2.0",
            "_view_name": "LayoutView",
            "align_content": null,
            "align_items": null,
            "align_self": null,
            "border": null,
            "bottom": null,
            "display": null,
            "flex": null,
            "flex_flow": null,
            "grid_area": null,
            "grid_auto_columns": null,
            "grid_auto_flow": null,
            "grid_auto_rows": null,
            "grid_column": null,
            "grid_gap": null,
            "grid_row": null,
            "grid_template_areas": null,
            "grid_template_columns": null,
            "grid_template_rows": null,
            "height": null,
            "justify_content": null,
            "justify_items": null,
            "left": null,
            "margin": null,
            "max_height": null,
            "max_width": null,
            "min_height": null,
            "min_width": null,
            "object_fit": null,
            "object_position": null,
            "order": null,
            "overflow": null,
            "overflow_x": null,
            "overflow_y": null,
            "padding": null,
            "right": null,
            "top": null,
            "visibility": null,
            "width": null
          }
        },
        "d075dc0082e045a9bc2bde68e7fcb7af": {
          "model_module": "@jupyter-widgets/controls",
          "model_name": "SliderStyleModel",
          "model_module_version": "1.5.0",
          "state": {
            "_model_module": "@jupyter-widgets/controls",
            "_model_module_version": "1.5.0",
            "_model_name": "SliderStyleModel",
            "_view_count": null,
            "_view_module": "@jupyter-widgets/base",
            "_view_module_version": "1.2.0",
            "_view_name": "StyleView",
            "description_width": "",
            "handle_color": null
          }
        },
        "4c33dbd2c16447cfb02510b85e7bc13d": {
          "model_module": "@jupyter-widgets/base",
          "model_name": "LayoutModel",
          "model_module_version": "1.2.0",
          "state": {
            "_model_module": "@jupyter-widgets/base",
            "_model_module_version": "1.2.0",
            "_model_name": "LayoutModel",
            "_view_count": null,
            "_view_module": "@jupyter-widgets/base",
            "_view_module_version": "1.2.0",
            "_view_name": "LayoutView",
            "align_content": null,
            "align_items": null,
            "align_self": null,
            "border": null,
            "bottom": null,
            "display": null,
            "flex": null,
            "flex_flow": null,
            "grid_area": null,
            "grid_auto_columns": null,
            "grid_auto_flow": null,
            "grid_auto_rows": null,
            "grid_column": null,
            "grid_gap": null,
            "grid_row": null,
            "grid_template_areas": null,
            "grid_template_columns": null,
            "grid_template_rows": null,
            "height": null,
            "justify_content": null,
            "justify_items": null,
            "left": null,
            "margin": null,
            "max_height": null,
            "max_width": null,
            "min_height": null,
            "min_width": null,
            "object_fit": null,
            "object_position": null,
            "order": null,
            "overflow": null,
            "overflow_x": null,
            "overflow_y": null,
            "padding": null,
            "right": null,
            "top": null,
            "visibility": null,
            "width": null
          }
        },
        "d1e12c37e1074af8b99fb3b54f853202": {
          "model_module": "@jupyter-widgets/controls",
          "model_name": "SliderStyleModel",
          "model_module_version": "1.5.0",
          "state": {
            "_model_module": "@jupyter-widgets/controls",
            "_model_module_version": "1.5.0",
            "_model_name": "SliderStyleModel",
            "_view_count": null,
            "_view_module": "@jupyter-widgets/base",
            "_view_module_version": "1.2.0",
            "_view_name": "StyleView",
            "description_width": "",
            "handle_color": null
          }
        },
        "b8df82a0401c43ba8a6439fcc9695041": {
          "model_module": "@jupyter-widgets/base",
          "model_name": "LayoutModel",
          "model_module_version": "1.2.0",
          "state": {
            "_model_module": "@jupyter-widgets/base",
            "_model_module_version": "1.2.0",
            "_model_name": "LayoutModel",
            "_view_count": null,
            "_view_module": "@jupyter-widgets/base",
            "_view_module_version": "1.2.0",
            "_view_name": "LayoutView",
            "align_content": null,
            "align_items": null,
            "align_self": null,
            "border": null,
            "bottom": null,
            "display": null,
            "flex": null,
            "flex_flow": null,
            "grid_area": null,
            "grid_auto_columns": null,
            "grid_auto_flow": null,
            "grid_auto_rows": null,
            "grid_column": null,
            "grid_gap": null,
            "grid_row": null,
            "grid_template_areas": null,
            "grid_template_columns": null,
            "grid_template_rows": null,
            "height": null,
            "justify_content": null,
            "justify_items": null,
            "left": null,
            "margin": null,
            "max_height": null,
            "max_width": null,
            "min_height": null,
            "min_width": null,
            "object_fit": null,
            "object_position": null,
            "order": null,
            "overflow": null,
            "overflow_x": null,
            "overflow_y": null,
            "padding": null,
            "right": null,
            "top": null,
            "visibility": null,
            "width": null
          }
        },
        "d918d935c89f43e7b2c178fdb3fb29c6": {
          "model_module": "@jupyter-widgets/controls",
          "model_name": "SliderStyleModel",
          "model_module_version": "1.5.0",
          "state": {
            "_model_module": "@jupyter-widgets/controls",
            "_model_module_version": "1.5.0",
            "_model_name": "SliderStyleModel",
            "_view_count": null,
            "_view_module": "@jupyter-widgets/base",
            "_view_module_version": "1.2.0",
            "_view_name": "StyleView",
            "description_width": "",
            "handle_color": null
          }
        },
        "eef080d7e7b341288b5122113e1e28ac": {
          "model_module": "@jupyter-widgets/base",
          "model_name": "LayoutModel",
          "model_module_version": "1.2.0",
          "state": {
            "_model_module": "@jupyter-widgets/base",
            "_model_module_version": "1.2.0",
            "_model_name": "LayoutModel",
            "_view_count": null,
            "_view_module": "@jupyter-widgets/base",
            "_view_module_version": "1.2.0",
            "_view_name": "LayoutView",
            "align_content": null,
            "align_items": null,
            "align_self": null,
            "border": null,
            "bottom": null,
            "display": null,
            "flex": null,
            "flex_flow": null,
            "grid_area": null,
            "grid_auto_columns": null,
            "grid_auto_flow": null,
            "grid_auto_rows": null,
            "grid_column": null,
            "grid_gap": null,
            "grid_row": null,
            "grid_template_areas": null,
            "grid_template_columns": null,
            "grid_template_rows": null,
            "height": null,
            "justify_content": null,
            "justify_items": null,
            "left": null,
            "margin": null,
            "max_height": null,
            "max_width": null,
            "min_height": null,
            "min_width": null,
            "object_fit": null,
            "object_position": null,
            "order": null,
            "overflow": null,
            "overflow_x": null,
            "overflow_y": null,
            "padding": null,
            "right": null,
            "top": null,
            "visibility": null,
            "width": null
          }
        },
        "eea5e79e89b24e169b0fac324799a115": {
          "model_module": "@jupyter-widgets/controls",
          "model_name": "VBoxModel",
          "model_module_version": "1.5.0",
          "state": {
            "_dom_classes": [
              "widget-interact"
            ],
            "_model_module": "@jupyter-widgets/controls",
            "_model_module_version": "1.5.0",
            "_model_name": "VBoxModel",
            "_view_count": null,
            "_view_module": "@jupyter-widgets/controls",
            "_view_module_version": "1.5.0",
            "_view_name": "VBoxView",
            "box_style": "",
            "children": [
              "IPY_MODEL_e35429ec7e414dc3b6dcba4dc890ec98",
              "IPY_MODEL_1cf867321884409ca904a3e51a979239"
            ],
            "layout": "IPY_MODEL_0d42a8a65a64483ca216b310b87d654c"
          }
        },
        "e35429ec7e414dc3b6dcba4dc890ec98": {
          "model_module": "@jupyter-widgets/controls",
          "model_name": "FloatSliderModel",
          "model_module_version": "1.5.0",
          "state": {
            "_dom_classes": [],
            "_model_module": "@jupyter-widgets/controls",
            "_model_module_version": "1.5.0",
            "_model_name": "FloatSliderModel",
            "_view_count": null,
            "_view_module": "@jupyter-widgets/controls",
            "_view_module_version": "1.5.0",
            "_view_name": "FloatSliderView",
            "continuous_update": true,
            "description": "dQ",
            "description_tooltip": null,
            "disabled": false,
            "layout": "IPY_MODEL_59ed9bf081ae4a9887968b1c9287e0cf",
            "max": 190,
            "min": 10,
            "orientation": "horizontal",
            "readout": true,
            "readout_format": ".2f",
            "step": 0.1,
            "style": "IPY_MODEL_5c1f3aa379a148638545cab52f731c09",
            "value": 62.4
          }
        },
        "1cf867321884409ca904a3e51a979239": {
          "model_module": "@jupyter-widgets/output",
          "model_name": "OutputModel",
          "model_module_version": "1.0.0",
          "state": {
            "_dom_classes": [],
            "_model_module": "@jupyter-widgets/output",
            "_model_module_version": "1.0.0",
            "_model_name": "OutputModel",
            "_view_count": null,
            "_view_module": "@jupyter-widgets/output",
            "_view_module_version": "1.0.0",
            "_view_name": "OutputView",
            "layout": "IPY_MODEL_f519cabe6a754ca5bf9c34f88d3735f0",
            "msg_id": "",
            "outputs": [
              {
                "output_type": "display_data",
                "data": {
                  "text/plain": "<Figure size 432x288 with 1 Axes>",
                  "image/png": "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\n"
                },
                "metadata": {
                  "needs_background": "light"
                }
              }
            ]
          }
        },
        "0d42a8a65a64483ca216b310b87d654c": {
          "model_module": "@jupyter-widgets/base",
          "model_name": "LayoutModel",
          "model_module_version": "1.2.0",
          "state": {
            "_model_module": "@jupyter-widgets/base",
            "_model_module_version": "1.2.0",
            "_model_name": "LayoutModel",
            "_view_count": null,
            "_view_module": "@jupyter-widgets/base",
            "_view_module_version": "1.2.0",
            "_view_name": "LayoutView",
            "align_content": null,
            "align_items": null,
            "align_self": null,
            "border": null,
            "bottom": null,
            "display": null,
            "flex": null,
            "flex_flow": null,
            "grid_area": null,
            "grid_auto_columns": null,
            "grid_auto_flow": null,
            "grid_auto_rows": null,
            "grid_column": null,
            "grid_gap": null,
            "grid_row": null,
            "grid_template_areas": null,
            "grid_template_columns": null,
            "grid_template_rows": null,
            "height": null,
            "justify_content": null,
            "justify_items": null,
            "left": null,
            "margin": null,
            "max_height": null,
            "max_width": null,
            "min_height": null,
            "min_width": null,
            "object_fit": null,
            "object_position": null,
            "order": null,
            "overflow": null,
            "overflow_x": null,
            "overflow_y": null,
            "padding": null,
            "right": null,
            "top": null,
            "visibility": null,
            "width": null
          }
        },
        "59ed9bf081ae4a9887968b1c9287e0cf": {
          "model_module": "@jupyter-widgets/base",
          "model_name": "LayoutModel",
          "model_module_version": "1.2.0",
          "state": {
            "_model_module": "@jupyter-widgets/base",
            "_model_module_version": "1.2.0",
            "_model_name": "LayoutModel",
            "_view_count": null,
            "_view_module": "@jupyter-widgets/base",
            "_view_module_version": "1.2.0",
            "_view_name": "LayoutView",
            "align_content": null,
            "align_items": null,
            "align_self": null,
            "border": null,
            "bottom": null,
            "display": null,
            "flex": null,
            "flex_flow": null,
            "grid_area": null,
            "grid_auto_columns": null,
            "grid_auto_flow": null,
            "grid_auto_rows": null,
            "grid_column": null,
            "grid_gap": null,
            "grid_row": null,
            "grid_template_areas": null,
            "grid_template_columns": null,
            "grid_template_rows": null,
            "height": null,
            "justify_content": null,
            "justify_items": null,
            "left": null,
            "margin": null,
            "max_height": null,
            "max_width": null,
            "min_height": null,
            "min_width": null,
            "object_fit": null,
            "object_position": null,
            "order": null,
            "overflow": null,
            "overflow_x": null,
            "overflow_y": null,
            "padding": null,
            "right": null,
            "top": null,
            "visibility": null,
            "width": null
          }
        },
        "5c1f3aa379a148638545cab52f731c09": {
          "model_module": "@jupyter-widgets/controls",
          "model_name": "SliderStyleModel",
          "model_module_version": "1.5.0",
          "state": {
            "_model_module": "@jupyter-widgets/controls",
            "_model_module_version": "1.5.0",
            "_model_name": "SliderStyleModel",
            "_view_count": null,
            "_view_module": "@jupyter-widgets/base",
            "_view_module_version": "1.2.0",
            "_view_name": "StyleView",
            "description_width": "",
            "handle_color": null
          }
        },
        "f519cabe6a754ca5bf9c34f88d3735f0": {
          "model_module": "@jupyter-widgets/base",
          "model_name": "LayoutModel",
          "model_module_version": "1.2.0",
          "state": {
            "_model_module": "@jupyter-widgets/base",
            "_model_module_version": "1.2.0",
            "_model_name": "LayoutModel",
            "_view_count": null,
            "_view_module": "@jupyter-widgets/base",
            "_view_module_version": "1.2.0",
            "_view_name": "LayoutView",
            "align_content": null,
            "align_items": null,
            "align_self": null,
            "border": null,
            "bottom": null,
            "display": null,
            "flex": null,
            "flex_flow": null,
            "grid_area": null,
            "grid_auto_columns": null,
            "grid_auto_flow": null,
            "grid_auto_rows": null,
            "grid_column": null,
            "grid_gap": null,
            "grid_row": null,
            "grid_template_areas": null,
            "grid_template_columns": null,
            "grid_template_rows": null,
            "height": null,
            "justify_content": null,
            "justify_items": null,
            "left": null,
            "margin": null,
            "max_height": null,
            "max_width": null,
            "min_height": null,
            "min_width": null,
            "object_fit": null,
            "object_position": null,
            "order": null,
            "overflow": null,
            "overflow_x": null,
            "overflow_y": null,
            "padding": null,
            "right": null,
            "top": null,
            "visibility": null,
            "width": null
          }
        },
        "86bf46e61d2345b09708672948cbbb84": {
          "model_module": "@jupyter-widgets/controls",
          "model_name": "VBoxModel",
          "model_module_version": "1.5.0",
          "state": {
            "_dom_classes": [
              "widget-interact"
            ],
            "_model_module": "@jupyter-widgets/controls",
            "_model_module_version": "1.5.0",
            "_model_name": "VBoxModel",
            "_view_count": null,
            "_view_module": "@jupyter-widgets/controls",
            "_view_module_version": "1.5.0",
            "_view_name": "VBoxView",
            "box_style": "",
            "children": [
              "IPY_MODEL_7ad6c9b2f07f44d1a6d741a94adfb9a9",
              "IPY_MODEL_c65749bf2bfe4e5a8cefe4e3d35b386d",
              "IPY_MODEL_8e9fcdf5ceb94ac992d01059aed94bf2",
              "IPY_MODEL_bfe4ae34ae054feea7a43e5392d16736"
            ],
            "layout": "IPY_MODEL_e045cf67e6e14b7d88828fdeca6d24b1"
          }
        },
        "7ad6c9b2f07f44d1a6d741a94adfb9a9": {
          "model_module": "@jupyter-widgets/controls",
          "model_name": "IntSliderModel",
          "model_module_version": "1.5.0",
          "state": {
            "_dom_classes": [],
            "_model_module": "@jupyter-widgets/controls",
            "_model_module_version": "1.5.0",
            "_model_name": "IntSliderModel",
            "_view_count": null,
            "_view_module": "@jupyter-widgets/controls",
            "_view_module_version": "1.5.0",
            "_view_name": "IntSliderView",
            "continuous_update": true,
            "description": "m",
            "description_tooltip": null,
            "disabled": false,
            "layout": "IPY_MODEL_80c48f04e6514e98aef7c971e3cddad5",
            "max": 2000,
            "min": 0,
            "orientation": "horizontal",
            "readout": true,
            "readout_format": "d",
            "step": 1,
            "style": "IPY_MODEL_84a0d9f8d8e34163916523975a22a7bb",
            "value": 1000
          }
        },
        "c65749bf2bfe4e5a8cefe4e3d35b386d": {
          "model_module": "@jupyter-widgets/controls",
          "model_name": "FloatSliderModel",
          "model_module_version": "1.5.0",
          "state": {
            "_dom_classes": [],
            "_model_module": "@jupyter-widgets/controls",
            "_model_module_version": "1.5.0",
            "_model_name": "FloatSliderModel",
            "_view_count": null,
            "_view_module": "@jupyter-widgets/controls",
            "_view_module_version": "1.5.0",
            "_view_name": "FloatSliderView",
            "continuous_update": true,
            "description": "b",
            "description_tooltip": null,
            "disabled": false,
            "layout": "IPY_MODEL_b50f66bd9cb445bdb868fceed233e16e",
            "max": 25,
            "min": 2.7777777777777777,
            "orientation": "horizontal",
            "readout": true,
            "readout_format": ".2f",
            "step": 0.1,
            "style": "IPY_MODEL_c59bb2b1c1294e41b64420b409163a48",
            "value": 13.89
          }
        },
        "8e9fcdf5ceb94ac992d01059aed94bf2": {
          "model_module": "@jupyter-widgets/controls",
          "model_name": "IntSliderModel",
          "model_module_version": "1.5.0",
          "state": {
            "_dom_classes": [],
            "_model_module": "@jupyter-widgets/controls",
            "_model_module_version": "1.5.0",
            "_model_name": "IntSliderModel",
            "_view_count": null,
            "_view_module": "@jupyter-widgets/controls",
            "_view_module_version": "1.5.0",
            "_view_name": "IntSliderView",
            "continuous_update": true,
            "description": "A",
            "description_tooltip": null,
            "disabled": false,
            "layout": "IPY_MODEL_b0911b7d99fa422382c98d5cf79838cc",
            "max": 1500,
            "min": -500,
            "orientation": "horizontal",
            "readout": true,
            "readout_format": "d",
            "step": 1,
            "style": "IPY_MODEL_8d14010b1c6e4e4cb48ae2068ce3f06d",
            "value": 500
          }
        },
        "bfe4ae34ae054feea7a43e5392d16736": {
          "model_module": "@jupyter-widgets/output",
          "model_name": "OutputModel",
          "model_module_version": "1.0.0",
          "state": {
            "_dom_classes": [],
            "_model_module": "@jupyter-widgets/output",
            "_model_module_version": "1.0.0",
            "_model_name": "OutputModel",
            "_view_count": null,
            "_view_module": "@jupyter-widgets/output",
            "_view_module_version": "1.0.0",
            "_view_name": "OutputView",
            "layout": "IPY_MODEL_adb4292d2c884759b250093b235f22e6",
            "msg_id": "",
            "outputs": [
              {
                "output_type": "display_data",
                "data": {
                  "text/plain": "<Figure size 432x288 with 1 Axes>",
                  "image/png": "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\n"
                },
                "metadata": {
                  "needs_background": "light"
                }
              }
            ]
          }
        },
        "e045cf67e6e14b7d88828fdeca6d24b1": {
          "model_module": "@jupyter-widgets/base",
          "model_name": "LayoutModel",
          "model_module_version": "1.2.0",
          "state": {
            "_model_module": "@jupyter-widgets/base",
            "_model_module_version": "1.2.0",
            "_model_name": "LayoutModel",
            "_view_count": null,
            "_view_module": "@jupyter-widgets/base",
            "_view_module_version": "1.2.0",
            "_view_name": "LayoutView",
            "align_content": null,
            "align_items": null,
            "align_self": null,
            "border": null,
            "bottom": null,
            "display": null,
            "flex": null,
            "flex_flow": null,
            "grid_area": null,
            "grid_auto_columns": null,
            "grid_auto_flow": null,
            "grid_auto_rows": null,
            "grid_column": null,
            "grid_gap": null,
            "grid_row": null,
            "grid_template_areas": null,
            "grid_template_columns": null,
            "grid_template_rows": null,
            "height": null,
            "justify_content": null,
            "justify_items": null,
            "left": null,
            "margin": null,
            "max_height": null,
            "max_width": null,
            "min_height": null,
            "min_width": null,
            "object_fit": null,
            "object_position": null,
            "order": null,
            "overflow": null,
            "overflow_x": null,
            "overflow_y": null,
            "padding": null,
            "right": null,
            "top": null,
            "visibility": null,
            "width": null
          }
        },
        "80c48f04e6514e98aef7c971e3cddad5": {
          "model_module": "@jupyter-widgets/base",
          "model_name": "LayoutModel",
          "model_module_version": "1.2.0",
          "state": {
            "_model_module": "@jupyter-widgets/base",
            "_model_module_version": "1.2.0",
            "_model_name": "LayoutModel",
            "_view_count": null,
            "_view_module": "@jupyter-widgets/base",
            "_view_module_version": "1.2.0",
            "_view_name": "LayoutView",
            "align_content": null,
            "align_items": null,
            "align_self": null,
            "border": null,
            "bottom": null,
            "display": null,
            "flex": null,
            "flex_flow": null,
            "grid_area": null,
            "grid_auto_columns": null,
            "grid_auto_flow": null,
            "grid_auto_rows": null,
            "grid_column": null,
            "grid_gap": null,
            "grid_row": null,
            "grid_template_areas": null,
            "grid_template_columns": null,
            "grid_template_rows": null,
            "height": null,
            "justify_content": null,
            "justify_items": null,
            "left": null,
            "margin": null,
            "max_height": null,
            "max_width": null,
            "min_height": null,
            "min_width": null,
            "object_fit": null,
            "object_position": null,
            "order": null,
            "overflow": null,
            "overflow_x": null,
            "overflow_y": null,
            "padding": null,
            "right": null,
            "top": null,
            "visibility": null,
            "width": null
          }
        },
        "84a0d9f8d8e34163916523975a22a7bb": {
          "model_module": "@jupyter-widgets/controls",
          "model_name": "SliderStyleModel",
          "model_module_version": "1.5.0",
          "state": {
            "_model_module": "@jupyter-widgets/controls",
            "_model_module_version": "1.5.0",
            "_model_name": "SliderStyleModel",
            "_view_count": null,
            "_view_module": "@jupyter-widgets/base",
            "_view_module_version": "1.2.0",
            "_view_name": "StyleView",
            "description_width": "",
            "handle_color": null
          }
        },
        "b50f66bd9cb445bdb868fceed233e16e": {
          "model_module": "@jupyter-widgets/base",
          "model_name": "LayoutModel",
          "model_module_version": "1.2.0",
          "state": {
            "_model_module": "@jupyter-widgets/base",
            "_model_module_version": "1.2.0",
            "_model_name": "LayoutModel",
            "_view_count": null,
            "_view_module": "@jupyter-widgets/base",
            "_view_module_version": "1.2.0",
            "_view_name": "LayoutView",
            "align_content": null,
            "align_items": null,
            "align_self": null,
            "border": null,
            "bottom": null,
            "display": null,
            "flex": null,
            "flex_flow": null,
            "grid_area": null,
            "grid_auto_columns": null,
            "grid_auto_flow": null,
            "grid_auto_rows": null,
            "grid_column": null,
            "grid_gap": null,
            "grid_row": null,
            "grid_template_areas": null,
            "grid_template_columns": null,
            "grid_template_rows": null,
            "height": null,
            "justify_content": null,
            "justify_items": null,
            "left": null,
            "margin": null,
            "max_height": null,
            "max_width": null,
            "min_height": null,
            "min_width": null,
            "object_fit": null,
            "object_position": null,
            "order": null,
            "overflow": null,
            "overflow_x": null,
            "overflow_y": null,
            "padding": null,
            "right": null,
            "top": null,
            "visibility": null,
            "width": null
          }
        },
        "c59bb2b1c1294e41b64420b409163a48": {
          "model_module": "@jupyter-widgets/controls",
          "model_name": "SliderStyleModel",
          "model_module_version": "1.5.0",
          "state": {
            "_model_module": "@jupyter-widgets/controls",
            "_model_module_version": "1.5.0",
            "_model_name": "SliderStyleModel",
            "_view_count": null,
            "_view_module": "@jupyter-widgets/base",
            "_view_module_version": "1.2.0",
            "_view_name": "StyleView",
            "description_width": "",
            "handle_color": null
          }
        },
        "b0911b7d99fa422382c98d5cf79838cc": {
          "model_module": "@jupyter-widgets/base",
          "model_name": "LayoutModel",
          "model_module_version": "1.2.0",
          "state": {
            "_model_module": "@jupyter-widgets/base",
            "_model_module_version": "1.2.0",
            "_model_name": "LayoutModel",
            "_view_count": null,
            "_view_module": "@jupyter-widgets/base",
            "_view_module_version": "1.2.0",
            "_view_name": "LayoutView",
            "align_content": null,
            "align_items": null,
            "align_self": null,
            "border": null,
            "bottom": null,
            "display": null,
            "flex": null,
            "flex_flow": null,
            "grid_area": null,
            "grid_auto_columns": null,
            "grid_auto_flow": null,
            "grid_auto_rows": null,
            "grid_column": null,
            "grid_gap": null,
            "grid_row": null,
            "grid_template_areas": null,
            "grid_template_columns": null,
            "grid_template_rows": null,
            "height": null,
            "justify_content": null,
            "justify_items": null,
            "left": null,
            "margin": null,
            "max_height": null,
            "max_width": null,
            "min_height": null,
            "min_width": null,
            "object_fit": null,
            "object_position": null,
            "order": null,
            "overflow": null,
            "overflow_x": null,
            "overflow_y": null,
            "padding": null,
            "right": null,
            "top": null,
            "visibility": null,
            "width": null
          }
        },
        "8d14010b1c6e4e4cb48ae2068ce3f06d": {
          "model_module": "@jupyter-widgets/controls",
          "model_name": "SliderStyleModel",
          "model_module_version": "1.5.0",
          "state": {
            "_model_module": "@jupyter-widgets/controls",
            "_model_module_version": "1.5.0",
            "_model_name": "SliderStyleModel",
            "_view_count": null,
            "_view_module": "@jupyter-widgets/base",
            "_view_module_version": "1.2.0",
            "_view_name": "StyleView",
            "description_width": "",
            "handle_color": null
          }
        },
        "adb4292d2c884759b250093b235f22e6": {
          "model_module": "@jupyter-widgets/base",
          "model_name": "LayoutModel",
          "model_module_version": "1.2.0",
          "state": {
            "_model_module": "@jupyter-widgets/base",
            "_model_module_version": "1.2.0",
            "_model_name": "LayoutModel",
            "_view_count": null,
            "_view_module": "@jupyter-widgets/base",
            "_view_module_version": "1.2.0",
            "_view_name": "LayoutView",
            "align_content": null,
            "align_items": null,
            "align_self": null,
            "border": null,
            "bottom": null,
            "display": null,
            "flex": null,
            "flex_flow": null,
            "grid_area": null,
            "grid_auto_columns": null,
            "grid_auto_flow": null,
            "grid_auto_rows": null,
            "grid_column": null,
            "grid_gap": null,
            "grid_row": null,
            "grid_template_areas": null,
            "grid_template_columns": null,
            "grid_template_rows": null,
            "height": null,
            "justify_content": null,
            "justify_items": null,
            "left": null,
            "margin": null,
            "max_height": null,
            "max_width": null,
            "min_height": null,
            "min_width": null,
            "object_fit": null,
            "object_position": null,
            "order": null,
            "overflow": null,
            "overflow_x": null,
            "overflow_y": null,
            "padding": null,
            "right": null,
            "top": null,
            "visibility": null,
            "width": null
          }
        }
      }
    }
  },
  "cells": [
    {
      "cell_type": "markdown",
      "metadata": {
        "id": "view-in-github",
        "colab_type": "text"
      },
      "source": [
        "<a href=\"https://colab.research.google.com/github/gmxavier/FAT0413150/blob/main/notebooks/04.01-Two-Transient-Model-Examples.ipynb\" target=\"_parent\"><img src=\"https://colab.research.google.com/assets/colab-badge.svg\" alt=\"Open In Colab\"/></a>"
      ]
    },
    {
      "cell_type": "markdown",
      "metadata": {
        "id": "_pai0x8LtLLs"
      },
      "source": [
        "# Under construction 🚧\n",
        "#  Transient model examples"
      ]
    },
    {
      "cell_type": "code",
      "metadata": {
        "id": "j_qoq9L-tx95"
      },
      "source": [
        "from sympy import symbols, init_printing, Heaviside, laplace_transform, inverse_laplace_transform, plot, exp\n",
        "from ipywidgets import interact\n",
        "import matplotlib.pyplot as plt\n",
        "import numpy\n",
        "init_printing()\n",
        "%matplotlib inline"
      ],
      "execution_count": null,
      "outputs": []
    },
    {
      "cell_type": "markdown",
      "source": [
        "## Simple vehicle dynamics"
      ],
      "metadata": {
        "id": "K8qeGuQkL6aG"
      }
    },
    {
      "cell_type": "markdown",
      "source": [
        "> N.B.: Part of the following material was taken from the [Control Tutorials for MATLAB and Simulink (CTMS)](https://ctms.engin.umich.edu/CTMS/index.php?example=CruiseControl&section=SystemModeling).\n",
        "\n",
        "We consider here a simple model of the vehicle dynamics, shown in the free-body diagram (FBD) below. \n",
        "\n",
        "![alt](https://ctms.engin.umich.edu/CTMS/Content/CruiseControl/System/Modeling/figures/cruise_control_schematic.png)"
      ],
      "metadata": {
        "id": "8RRXLgrtNWz0"
      }
    },
    {
      "cell_type": "markdown",
      "source": [
        "The vehicle, of mass $m$, is acted on by a force, $u(t)$. The force $u(t)$ represents the force generated at the road/tire interface. For this simplified model we will assume that we can manipulate this force directly and will neglect the dynamics of the powertrain, tires, etc., that go into generating the force. The resistive forces, $bv(t)$, due to rolling resistance and wind drag, are assumed to vary linearly with the vehicle velocity, $v(t)$, and act in the direction opposite the vehicle's motion.\n",
        "\n",
        "Summing forces in the x-direction and applying Newton's 2nd law, we arrive at the following system equation:\n",
        "\n",
        "$$ m\\frac{\\mathrm{d}v(t)}{\\mathrm{d}t} = u(t) - bv(t) $$\n",
        "\n",
        "In terms of the time constant $\\tau$, it is written as\n",
        "\n",
        "$$ \\tau\\frac{\\mathrm{d}v(t)}{\\mathrm{d}t} = \\frac{1}{b}u(t) - v(t) $$\n",
        "\n",
        "where $ \\tau = \\frac{m}{b} $. Considering the vehicle at steady state for $t\\le0$, we have\n",
        "\n",
        "$$ \\tau\\frac{\\mathrm{d}v(0)}{\\mathrm{d}t} = \\frac{1}{b}u(0) - v(0) $$\n",
        "\n",
        "Subtracting the steady state equation from the dynamic one, we end up with\n",
        "\n",
        "$$ \\tau\\frac{\\mathrm{d}[v(t) - v(0)]}{\\mathrm{d}t} = \\frac{1}{b}[u(t) - u(0)] - [v(t) - v(0)] $$\n",
        "\n",
        "which can be rewritten to\n",
        "\n",
        "$$ \\tau\\frac{\\mathrm{d}v'(t)}{\\mathrm{d}t} = \\frac{1}{b}u'(t) - v'(t) $$\n",
        "\n",
        "by considering the definition of the following *deviation variables*\n",
        "\n",
        "$$ v'(t) = v(t) - v(0) $$\n",
        "$$ u'(t) = u(t) - u(0) $$\n",
        "\n",
        "These *deviation variables* are simply the difference between the values of each *original variable* from their respective initial steady state value. Applying the Laplace transform in the ordinary differential equation rewritten in *deviation variables*, we have\n",
        "\n",
        "\\begin{align}\n",
        "\\mathcal{L}\\left\\{\\tau\\frac{\\mathrm{d}v'(t)}{\\mathrm{d}t}\\right\\} &= \\mathcal{L}\\{\\frac{1}{b}u'(t) - v'(t)\\} \\\\\n",
        "\\tau sV'(s) &= \\frac{1}{b}U'(s) - V'(s) \\\\\n",
        "\\frac{V'(s)}{U'(s)} &= \\frac{K_u}{\\tau s + 1} \\\\\n",
        "\\end{align}\n",
        "\n",
        "where $ K_u = \\frac{1}{b} $ is the *steady state gain*.\n",
        "\n",
        "The RHS expression is the ratio of the output *deviation variable* Laplace transform $V'(s)$ to the input *deviation variable* Laplace transform $U'(s)$ and is called *transfer function* because it transfers the dynamic variation of the input *deviation variable* to the output *deviation variable*.\n",
        "\n",
        "To be more generic, the model should include the time varying road slope $\\theta (t)$ and then we will have\n",
        "\n",
        "$$ m\\frac{\\mathrm{d}v(t)}{\\mathrm{d}t} = u(t) - bv(t) - mg\\sin{\\theta(t)} $$\n",
        "\n",
        "This ODE is nonlinear, so after linearizing it and following the same procedure, we will end up with\n",
        "\n",
        "\\begin{align}\n",
        "V'(s) &= \\frac{K_u}{\\tau s + 1}U'(s) +  \\frac{K_\\theta}{\\tau s + 1}\\Theta'(s)\\\\\n",
        "\\end{align}\n",
        "\n",
        "where $ K_\\theta = -\\frac{mg\\cos \\theta(0)}{b} $\n",
        "\n",
        "Besides that, a more realistic model should *NOT* assume that the vehicle mass $m$ is time-independent (e.g. racing cars), so assuming that it is also a function of the time we will have the following model\n",
        "\n",
        "\\begin{align}\n",
        "\\frac{\\mathrm{d}[m(t)v(t)]}{\\mathrm{d}t} &= u(t) - bv(t) - m(t)g\\sin{\\theta(t)}\\\\\n",
        "\\frac{\\mathrm{d}m(t)}{\\mathrm{d}t} &= -BSFCu(t)v(t)\n",
        "\\end{align}\n",
        "\n",
        "where $BSFC$ is the vehicle [brake-specific fuel consumption](https://en.wikipedia.org/wiki/Brake-specific_fuel_consumption).\n",
        "\n",
        "As an exercise, derive the *transfer functions* for this last nonlinear model."
      ],
      "metadata": {
        "id": "KSR2GxYSQQFg"
      }
    },
    {
      "cell_type": "markdown",
      "metadata": {
        "id": "dbwoZV3yIZjT"
      },
      "source": [
        "Now, let's try to play a little with the `sympy`.\n",
        "\n",
        "> N.B.: Part of the following material was taken from this [Carl Sandrock's notebook](https://colab.research.google.com/github.com/alchemyst/Dynamics-and-Control/blob/master/1_Dynamics/4_First_and_second_order_system_dynamics/First%20order%20systems.ipynb)."
      ]
    },
    {
      "cell_type": "code",
      "source": [
        "t, K_u, tau = symbols('t, K_u, tau',real=True, positive=True)\n",
        "s = symbols('s')\n",
        "m = 1000 # kg\n",
        "b = 50/3.6 # N/(km/h)"
      ],
      "metadata": {
        "id": "-pH7IjBSLpL0"
      },
      "execution_count": null,
      "outputs": []
    },
    {
      "cell_type": "code",
      "metadata": {
        "id": "xMfdSKJBt-Y8"
      },
      "source": [
        "def L(f):\n",
        "    return laplace_transform(f, t, s, noconds=True)\n",
        "def invL(F):\n",
        "    return inverse_laplace_transform(F, s, t)"
      ],
      "execution_count": null,
      "outputs": []
    },
    {
      "cell_type": "markdown",
      "source": [
        "Now let us define the obtained *transfer function*:"
      ],
      "metadata": {
        "id": "RSnto0_gMoxe"
      }
    },
    {
      "cell_type": "code",
      "source": [
        "G = K_u/(tau*s + 1)\n",
        "G"
      ],
      "metadata": {
        "id": "HaLNGRcfMLry",
        "outputId": "18f433dc-9b77-4ae9-8c63-cac50ebd8814",
        "colab": {
          "base_uri": "https://localhost:8080/",
          "height": 53
        }
      },
      "execution_count": null,
      "outputs": [
        {
          "output_type": "execute_result",
          "data": {
            "text/plain": [
              "   Kᵤ  \n",
              "───────\n",
              "s⋅τ + 1"
            ],
            "image/png": "[encoded data removed]",
            "text/latex": "$\\displaystyle \\frac{K_{u}}{s \\tau + 1}$"
          },
          "metadata": {},
          "execution_count": 104
        }
      ]
    },
    {
      "cell_type": "markdown",
      "source": [
        "And a unit step function (a.k.a. Heaviside function) in time domain:"
      ],
      "metadata": {
        "id": "DJzAM4u7MzRA"
      }
    },
    {
      "cell_type": "code",
      "metadata": {
        "id": "RlQw4tR-t7hG"
      },
      "source": [
        "u = Heaviside(t)"
      ],
      "execution_count": null,
      "outputs": []
    },
    {
      "cell_type": "markdown",
      "source": [
        "As well its Laplace transform:"
      ],
      "metadata": {
        "id": "lqxjq7oENB6S"
      }
    },
    {
      "cell_type": "code",
      "metadata": {
        "id": "4owiBUuIuBU9",
        "outputId": "d724e08a-2636-4560-ac8f-c891e365ce22",
        "colab": {
          "base_uri": "https://localhost:8080/",
          "height": 52
        }
      },
      "source": [
        "U = L(u)\n",
        "U"
      ],
      "execution_count": null,
      "outputs": [
        {
          "output_type": "execute_result",
          "data": {
            "text/plain": [
              "1\n",
              "─\n",
              "s"
            ],
            "image/png": "[encoded data removed]",
            "text/latex": "$\\displaystyle \\frac{1}{s}$"
          },
          "metadata": {},
          "execution_count": 97
        }
      ]
    },
    {
      "cell_type": "markdown",
      "source": [
        "The inverse Laplace transform of a *transfer function* is its *unit impulse response*"
      ],
      "metadata": {
        "id": "ISRzSbLGPBPx"
      }
    },
    {
      "cell_type": "code",
      "source": [
        "impulseresponse = invL(G)\n",
        "impulseresponse"
      ],
      "metadata": {
        "id": "nbj17N5GPFyJ",
        "outputId": "e688a516-da2c-4e17-e517-7ffec05ab9a2",
        "colab": {
          "base_uri": "https://localhost:8080/",
          "height": 57
        }
      },
      "execution_count": null,
      "outputs": [
        {
          "output_type": "execute_result",
          "data": {
            "text/plain": [
              "    -t \n",
              "    ───\n",
              "     τ \n",
              "Kᵤ⋅ℯ   \n",
              "───────\n",
              "   τ   "
            ],
            "image/png": "[encoded data removed]",
            "text/latex": "$\\displaystyle \\frac{K_{u} e^{- \\frac{t}{\\tau}}}{\\tau}$"
          },
          "metadata": {},
          "execution_count": 68
        }
      ]
    },
    {
      "cell_type": "markdown",
      "source": [
        "We can also plot it."
      ],
      "metadata": {
        "id": "AZ1PJKYnPJge"
      }
    },
    {
      "cell_type": "code",
      "source": [
        "plot(impulseresponse.subs(tau, m/3.6/b).subs(K_u, 1/b), (t, 0 ,10*m/3.6/b))"
      ],
      "metadata": {
        "id": "G_Cz4gvHPIvo",
        "outputId": "5a589677-e535-4400-c755-f6baa0240e0e",
        "colab": {
          "base_uri": "https://localhost:8080/",
          "height": 313
        }
      },
      "execution_count": null,
      "outputs": [
        {
          "output_type": "display_data",
          "data": {
            "text/plain": [
              "<Figure size 432x288 with 1 Axes>"
            ],
            "image/png": "[encoded data removed]"
          },
          "metadata": {
            "needs_background": "light"
          }
        },
        {
          "output_type": "execute_result",
          "data": {
            "text/plain": [
              "<sympy.plotting.plot.Plot at 0x7f496d455290>"
            ]
          },
          "metadata": {},
          "execution_count": 116
        }
      ]
    },
    {
      "cell_type": "markdown",
      "source": [
        "The vehicle is too heavy and an unit impulse can't move the vehicle to a high speed. \n",
        "\n",
        "Let's try increase the impulse magnitude:"
      ],
      "metadata": {
        "id": "pFqIMu-RPyBZ"
      }
    },
    {
      "cell_type": "code",
      "source": [
        "plot(8000*impulseresponse.subs(tau, m/3.6/b).subs(K_u, 1/b), (t, 0 , 10*m/3.6/b))"
      ],
      "metadata": {
        "id": "GNrhV08tRFfA",
        "outputId": "16eacb4e-6c53-4da0-8877-0fd2f25134b9",
        "colab": {
          "base_uri": "https://localhost:8080/",
          "height": 313
        }
      },
      "execution_count": null,
      "outputs": [
        {
          "output_type": "display_data",
          "data": {
            "text/plain": [
              "<Figure size 432x288 with 1 Axes>"
            ],
            "image/png": "[encoded data removed]"
          },
          "metadata": {
            "needs_background": "light"
          }
        },
        {
          "output_type": "execute_result",
          "data": {
            "text/plain": [
              "<sympy.plotting.plot.Plot at 0x7f496cec7410>"
            ]
          },
          "metadata": {},
          "execution_count": 119
        }
      ]
    },
    {
      "cell_type": "markdown",
      "source": [
        "If $u'(t)$ is a $500$ $N$ amplitude step function, $u'(s)=\\frac{500}{s}$ and we can obtain the step response as follows:"
      ],
      "metadata": {
        "id": "abm41VZvR0-u"
      }
    },
    {
      "cell_type": "code",
      "source": [
        "A = 500\n",
        "stepresponse = invL(G*U*A)\n",
        "stepresponse"
      ],
      "metadata": {
        "id": "SKlNo26lSMUd",
        "outputId": "bda42ac1-0d4e-4043-9027-09781b84b02a",
        "colab": {
          "base_uri": "https://localhost:8080/",
          "height": 40
        }
      },
      "execution_count": null,
      "outputs": [
        {
          "output_type": "execute_result",
          "data": {
            "text/plain": [
              "                 -t \n",
              "                 ───\n",
              "                  τ \n",
              "500⋅Kᵤ - 500⋅Kᵤ⋅ℯ   "
            ],
            "image/png": "[encoded data removed]",
            "text/latex": "$\\displaystyle 500 K_{u} - 500 K_{u} e^{- \\frac{t}{\\tau}}$"
          },
          "metadata": {},
          "execution_count": 107
        }
      ]
    },
    {
      "cell_type": "markdown",
      "source": [
        "And the plot is:"
      ],
      "metadata": {
        "id": "TOvdvR66Safs"
      }
    },
    {
      "cell_type": "code",
      "source": [
        "plot(A/b, \n",
        "     stepresponse.subs(tau, m/3.6/b).subs(K_u, 1/b), \n",
        "     (t, 0 ,10*m/3.6/b),\n",
        "     title='v_ss = {:.1f} km/h at t = {:.1f} s'.format(A/b,6*m/3.6/b))"
      ],
      "metadata": {
        "id": "IGuaKO-sSeO8",
        "outputId": "73966662-e79e-4de1-e213-410b30350d3d",
        "colab": {
          "base_uri": "https://localhost:8080/",
          "height": 314
        }
      },
      "execution_count": null,
      "outputs": [
        {
          "output_type": "display_data",
          "data": {
            "text/plain": [
              "<Figure size 432x288 with 1 Axes>"
            ],
            "image/png": "[encoded data removed]"
          },
          "metadata": {
            "needs_background": "light"
          }
        },
        {
          "output_type": "execute_result",
          "data": {
            "text/plain": [
              "<sympy.plotting.plot.Plot at 0x7f496cccff50>"
            ]
          },
          "metadata": {},
          "execution_count": 122
        }
      ]
    },
    {
      "cell_type": "markdown",
      "source": [
        "Similarly, the ramp response can be obtained as follows:"
      ],
      "metadata": {
        "id": "rb_cZeiRTyjG"
      }
    },
    {
      "cell_type": "code",
      "source": [
        "U = 1/s**2\n",
        "rampresponse = invL(G*U*A/100)\n",
        "rampresponse"
      ],
      "metadata": {
        "id": "lqbGx86hT3oB",
        "outputId": "1e121fa9-7dcf-4424-ad1e-855cb02c66c7",
        "colab": {
          "base_uri": "https://localhost:8080/",
          "height": 40
        }
      },
      "execution_count": null,
      "outputs": [
        {
          "output_type": "execute_result",
          "data": {
            "text/plain": [
              "                          -t \n",
              "                          ───\n",
              "                           τ \n",
              "5⋅Kᵤ⋅t - 5⋅Kᵤ⋅τ + 5⋅Kᵤ⋅τ⋅ℯ   "
            ],
            "image/png": "[encoded data removed]",
            "text/latex": "$\\displaystyle 5 K_{u} t - 5 K_{u} \\tau + 5 K_{u} \\tau e^{- \\frac{t}{\\tau}}$"
          },
          "metadata": {},
          "execution_count": 128
        }
      ]
    },
    {
      "cell_type": "markdown",
      "source": [
        "And the plot is:"
      ],
      "metadata": {
        "id": "7b5bRk_fUIMX"
      }
    },
    {
      "cell_type": "code",
      "source": [
        "plot(A*t/3.6/3.6/100, rampresponse.subs(tau, m/3.6/b).subs(K_u, 1/b), (t, 0 , 10*m/3.6/b))"
      ],
      "metadata": {
        "id": "3u8ATvJGUGfS",
        "outputId": "0930d33b-0f0d-4a3d-9eb1-4c6311158358",
        "colab": {
          "base_uri": "https://localhost:8080/",
          "height": 313
        }
      },
      "execution_count": null,
      "outputs": [
        {
          "output_type": "display_data",
          "data": {
            "text/plain": [
              "<Figure size 432x288 with 1 Axes>"
            ],
            "image/png": "[encoded data removed]"
          },
          "metadata": {
            "needs_background": "light"
          }
        },
        {
          "output_type": "execute_result",
          "data": {
            "text/plain": [
              "<sympy.plotting.plot.Plot at 0x7f496c8d5910>"
            ]
          },
          "metadata": {},
          "execution_count": 131
        }
      ]
    },
    {
      "cell_type": "markdown",
      "source": [
        "Let's see what happens when the mass $m$, the coefficient of friction $b$ and the step amplitude $A$ are varied from their nominal values. "
      ],
      "metadata": {
        "id": "OPYXZqpduXVb"
      }
    },
    {
      "cell_type": "code",
      "source": [
        "def vehicle(m=1000, b=50/3.6, A=500):\n",
        "  plot(A/b,\n",
        "       stepresponse.subs(tau, m/3.6/b).subs(K_u, 1/b),  \n",
        "       (t, 0 ,10*m/3.6/b),\n",
        "       title='v_ss = {:.1f} km/h at t = {:.1f} s'.format(A/b, 6*m/3.6/b)\n",
        "       )\n",
        "  \n",
        "interact(vehicle, m=(0,2000), b=(10/3.6, 90/3.6))"
      ],
      "metadata": {
        "id": "3CsmWKGfuyXL",
        "outputId": "a1c540bb-11ce-44de-d73e-2ba0d2c69c67",
        "colab": {
          "base_uri": "https://localhost:8080/",
          "height": 410,
          "referenced_widgets": [
            "86bf46e61d2345b09708672948cbbb84",
            "7ad6c9b2f07f44d1a6d741a94adfb9a9",
            "c65749bf2bfe4e5a8cefe4e3d35b386d",
            "8e9fcdf5ceb94ac992d01059aed94bf2",
            "bfe4ae34ae054feea7a43e5392d16736",
            "e045cf67e6e14b7d88828fdeca6d24b1",
            "80c48f04e6514e98aef7c971e3cddad5",
            "84a0d9f8d8e34163916523975a22a7bb",
            "b50f66bd9cb445bdb868fceed233e16e",
            "c59bb2b1c1294e41b64420b409163a48",
            "b0911b7d99fa422382c98d5cf79838cc",
            "8d14010b1c6e4e4cb48ae2068ce3f06d",
            "adb4292d2c884759b250093b235f22e6"
          ]
        }
      },
      "execution_count": null,
      "outputs": [
        {
          "output_type": "display_data",
          "data": {
            "text/plain": [
              "interactive(children=(IntSlider(value=1000, description='m', max=2000), FloatSlider(value=13.88888888888889, d…"
            ],
            "application/vnd.jupyter.widget-view+json": {
              "version_major": 2,
              "version_minor": 0,
              "model_id": "86bf46e61d2345b09708672948cbbb84"
            }
          },
          "metadata": {}
        },
        {
          "output_type": "execute_result",
          "data": {
            "text/plain": [
              "<function __main__.vehicle>"
            ]
          },
          "metadata": {},
          "execution_count": 141
        }
      ]
    },
    {
      "cell_type": "markdown",
      "metadata": {
        "id": "MTl9juPctstt"
      },
      "source": [
        "## Simple blender dynamics"
      ]
    },
    {
      "cell_type": "markdown",
      "metadata": {
        "id": "UkTJFD4Mv1dC"
      },
      "source": [
        "In this example, we have a stirred-tank with a volume $V_1$ of 4 $m^3$ being operated with an inlet flow rate $Q$ of 0.02 $m^3 s^{-1}$ and that contains an inert species at a concentration $C_{in}$ of 1 $gmol$ $m^{-3}$.\n",
        "\n",
        "The model equation is a continuous-flow stirred-tank without any chemical reaction:\n",
        "\n",
        "$$ V_1\\frac{\\mathrm{d}C_1(t)}{\\mathrm{d}t} = Q[C_{in}(t) - C_1(t)] $$\n",
        "\n",
        "In terms of the time constant $\\tau_1$, it is written as\n",
        "\n",
        "$$ \\tau_1\\frac{\\mathrm{d}C_1(t)}{\\mathrm{d}t} = C_{in}(t) - C_1(t) $$\n",
        "\n",
        "where $ \\tau_1 = \\frac{V_1}{Q} $. Considering the tank at steady state for $t\\le0$, we have\n",
        "\n",
        "$$ \\tau_1\\frac{\\mathrm{d}C_1(0)}{\\mathrm{d}t} = C_{in}(0) - C_1(0) $$\n",
        "\n",
        "Subtracting the steady state equation from the dynamic one, we end up with\n",
        "\n",
        "$$ \\tau_1\\frac{\\mathrm{d}[C_1(t) - C_1(0)]}{\\mathrm{d}t} = [C_{in}(t) - C_{in}(0)] - [C_1(t) - C_1(0)] $$\n",
        "\n",
        "which can be rewritten to\n",
        "\n",
        "$$ \\tau_1\\frac{\\mathrm{d}C_1'(t)}{\\mathrm{d}t} = C_{in}'(t) - C_1'(t) $$\n",
        "\n",
        "by considering the definition of the following *deviation variables*\n",
        "\n",
        "$$ C_1'(t) = C_1(t) - C_1(0) $$\n",
        "$$ C_{in}'(t) = C_{in}(t) - C_{in}(0) $$\n",
        "\n",
        "These *deviation variables* are simply the difference between the values of each *original variable* from their respective initial steady state value. Applying the Laplace transform in the ordinary differential equation rewritten in *deviation variables*, we have\n",
        "\n",
        "\\begin{align}\n",
        "\\mathcal{L}\\left\\{\\tau_1\\frac{\\mathrm{d}C_1'(t)}{\\mathrm{d}t}\\right\\} &= \\mathcal{L}\\{C_{in}'(t) - C_1'(t)\\} \\\\\n",
        "\\tau_1sC_1'(s) &= C_{in}'(s) - C_1'(s) \\\\\n",
        "\\frac{C_1'(s)}{C_{in}'(s)} &= \\frac{1}{\\tau_1s + 1} \\\\\n",
        "\\end{align}\n",
        "\n",
        "The RHS expression is the ratio of the output *deviation variable* Laplace transform $C_1'(s)$ to the input *deviation variable* Laplace transform $C_{in}'(s)$ and is called *transfer function* because it transfers the dynamic variation of the input *deviation variable* to the output *deviation variable*."
      ]
    },
    {
      "cell_type": "code",
      "metadata": {
        "id": "Nu8L0Zp6t6Ku"
      },
      "source": [
        "tau1 = symbols('tau1',real=True, positive=True)\n",
        "s = symbols('s')\n",
        "V1 = 4\n",
        "Q = 0.02"
      ],
      "execution_count": null,
      "outputs": []
    },
    {
      "cell_type": "markdown",
      "metadata": {
        "id": "jBcoXc8WKBaf"
      },
      "source": [
        "Now let us define the obtained *transfer function*:\n",
        "\n"
      ]
    },
    {
      "cell_type": "code",
      "metadata": {
        "id": "z0VafdAWKTh6",
        "outputId": "fa239410-1e6a-421f-96e1-c8a6db882ec4",
        "colab": {
          "base_uri": "https://localhost:8080/",
          "height": 55
        }
      },
      "source": [
        "G = 1/(tau1*s + 1)\n",
        "G"
      ],
      "execution_count": null,
      "outputs": [
        {
          "output_type": "execute_result",
          "data": {
            "text/plain": [
              "   1    \n",
              "────────\n",
              "s⋅τ₁ + 1"
            ],
            "image/png": "[encoded data removed]",
            "text/latex": "$\\displaystyle \\frac{1}{s \\tau_{1} + 1}$"
          },
          "metadata": {},
          "execution_count": 51
        }
      ]
    },
    {
      "cell_type": "markdown",
      "metadata": {
        "id": "47oAN_b8K6Ij"
      },
      "source": [
        "The inverse Laplace transform of a *transfer function* is its *impulse response*"
      ]
    },
    {
      "cell_type": "code",
      "metadata": {
        "id": "6WX-CWlrLFz-",
        "outputId": "714469e0-4a2b-469b-bf31-506d6f6fc35d",
        "colab": {
          "base_uri": "https://localhost:8080/",
          "height": 61
        }
      },
      "source": [
        "impulseresponse = invL(G)\n",
        "impulseresponse"
      ],
      "execution_count": null,
      "outputs": [
        {
          "output_type": "execute_result",
          "data": {
            "text/plain": [
              " -t \n",
              " ───\n",
              "  τ₁\n",
              "ℯ   \n",
              "────\n",
              " τ₁ "
            ],
            "image/png": "[encoded data removed]",
            "text/latex": "$\\displaystyle \\frac{e^{- \\frac{t}{\\tau_{1}}}}{\\tau_{1}}$"
          },
          "metadata": {},
          "execution_count": 52
        }
      ]
    },
    {
      "cell_type": "markdown",
      "source": [
        "We can also plot it."
      ],
      "metadata": {
        "id": "PhRF5mOjDslY"
      }
    },
    {
      "cell_type": "code",
      "source": [
        "plot(impulseresponse.subs(tau1, V1/Q), (t, 0 ,1000))"
      ],
      "metadata": {
        "colab": {
          "base_uri": "https://localhost:8080/",
          "height": 314
        },
        "id": "KMr3b7ckDrhM",
        "outputId": "42704de5-8110-4508-96a1-97f417749134"
      },
      "execution_count": null,
      "outputs": [
        {
          "output_type": "display_data",
          "data": {
            "text/plain": [
              "<Figure size 432x288 with 1 Axes>"
            ],
            "image/png": "[encoded data removed]"
          },
          "metadata": {
            "needs_background": "light"
          }
        },
        {
          "output_type": "execute_result",
          "data": {
            "text/plain": [
              "<sympy.plotting.plot.Plot at 0x7f496ddc7510>"
            ]
          },
          "metadata": {},
          "execution_count": 53
        }
      ]
    },
    {
      "cell_type": "markdown",
      "metadata": {
        "id": "3L_D7h7dLkoT"
      },
      "source": [
        "\\If $C_{in}'(t)$ is the unit step function, $C_{in}'(s)=\\frac{1}{s}$ and we can obtain the step response as follows:"
      ]
    },
    {
      "cell_type": "code",
      "metadata": {
        "id": "U8riWUW5MERq",
        "outputId": "47e5534f-4f82-4509-dc3a-ec32f811661a",
        "colab": {
          "base_uri": "https://localhost:8080/",
          "height": 41
        }
      },
      "source": [
        "U = 1/s\n",
        "stepresponse = invL(G*U)\n",
        "stepresponse"
      ],
      "execution_count": null,
      "outputs": [
        {
          "output_type": "execute_result",
          "data": {
            "text/plain": [
              "     -t \n",
              "     ───\n",
              "      τ₁\n",
              "1 - ℯ   "
            ],
            "image/png": "[encoded data removed]",
            "text/latex": "$\\displaystyle 1 - e^{- \\frac{t}{\\tau_{1}}}$"
          },
          "metadata": {},
          "execution_count": 54
        }
      ]
    },
    {
      "cell_type": "markdown",
      "source": [
        "And the plot is:"
      ],
      "metadata": {
        "id": "71u2CdJpMpPx"
      }
    },
    {
      "cell_type": "code",
      "source": [
        "plot(1, stepresponse.subs(tau1, V1/Q), (t, 0 ,1000))"
      ],
      "metadata": {
        "colab": {
          "base_uri": "https://localhost:8080/",
          "height": 313
        },
        "id": "FceharycMsFF",
        "outputId": "8a1583bc-1c65-491a-b02c-9d76af523f1c"
      },
      "execution_count": null,
      "outputs": [
        {
          "output_type": "display_data",
          "data": {
            "text/plain": [
              "<Figure size 432x288 with 1 Axes>"
            ],
            "image/png": "[encoded data removed]"
          },
          "metadata": {
            "needs_background": "light"
          }
        },
        {
          "output_type": "execute_result",
          "data": {
            "text/plain": [
              "<sympy.plotting.plot.Plot at 0x7f496dcf6a90>"
            ]
          },
          "metadata": {},
          "execution_count": 55
        }
      ]
    },
    {
      "cell_type": "markdown",
      "metadata": {
        "id": "evJH3GUwPZ5C"
      },
      "source": [
        "Similarly, the ramp response can be obtained as follows:"
      ]
    },
    {
      "cell_type": "code",
      "metadata": {
        "id": "OmHNwwuDPi_T",
        "outputId": "ec509f3b-68c5-49d5-da07-f7d930e9737c",
        "colab": {
          "base_uri": "https://localhost:8080/",
          "height": 42
        }
      },
      "source": [
        "U = 1/s**2\n",
        "rampresponse = invL(G*U)\n",
        "rampresponse"
      ],
      "execution_count": null,
      "outputs": [
        {
          "output_type": "execute_result",
          "data": {
            "text/plain": [
              "             -t \n",
              "             ───\n",
              "              τ₁\n",
              "t - τ₁ + τ₁⋅ℯ   "
            ],
            "image/png": "[encoded data removed]",
            "text/latex": "$\\displaystyle t - \\tau_{1} + \\tau_{1} e^{- \\frac{t}{\\tau_{1}}}$"
          },
          "metadata": {},
          "execution_count": 56
        }
      ]
    },
    {
      "cell_type": "markdown",
      "source": [
        "And the plot is:"
      ],
      "metadata": {
        "id": "caAygSY4OEiG"
      }
    },
    {
      "cell_type": "code",
      "source": [
        "plot(t, rampresponse.subs(tau1, V1/Q), (t, 0 ,1000))"
      ],
      "metadata": {
        "colab": {
          "base_uri": "https://localhost:8080/",
          "height": 313
        },
        "id": "k8cwIJIaOGjT",
        "outputId": "40156444-6e65-4647-e2d7-49baee55cc78"
      },
      "execution_count": null,
      "outputs": [
        {
          "output_type": "display_data",
          "data": {
            "text/plain": [
              "<Figure size 432x288 with 1 Axes>"
            ],
            "image/png": "[encoded data removed]"
          },
          "metadata": {
            "needs_background": "light"
          }
        },
        {
          "output_type": "execute_result",
          "data": {
            "text/plain": [
              "<sympy.plotting.plot.Plot at 0x7f496e16a850>"
            ]
          },
          "metadata": {},
          "execution_count": 57
        }
      ]
    },
    {
      "cell_type": "markdown",
      "source": [
        "Let's see what happens when the flowrate $Q$ is varied between 10% and 90% of its nominal value. "
      ],
      "metadata": {
        "id": "A8Z-Kbq_Ves2"
      }
    },
    {
      "cell_type": "code",
      "source": [
        "def stirtank(dQ):\n",
        "  plot(1, \n",
        "       stepresponse.subs(tau1, V1/(dQ*Q/100)), \n",
        "       stepresponse.subs(tau1, V1/Q),  \n",
        "       (t, 0 ,1000),\n",
        "       legend=True)\n",
        "  \n",
        "interact(stirtank, dQ=(10.0, 190.0))"
      ],
      "metadata": {
        "colab": {
          "base_uri": "https://localhost:8080/",
          "height": 345,
          "referenced_widgets": [
            "eea5e79e89b24e169b0fac324799a115",
            "e35429ec7e414dc3b6dcba4dc890ec98",
            "1cf867321884409ca904a3e51a979239",
            "0d42a8a65a64483ca216b310b87d654c",
            "59ed9bf081ae4a9887968b1c9287e0cf",
            "5c1f3aa379a148638545cab52f731c09",
            "f519cabe6a754ca5bf9c34f88d3735f0"
          ]
        },
        "id": "iTFlKR2QSWbI",
        "outputId": "b0efff58-7369-4bfa-8dfb-0a5e104a2457"
      },
      "execution_count": null,
      "outputs": [
        {
          "output_type": "display_data",
          "data": {
            "text/plain": [
              "interactive(children=(FloatSlider(value=100.0, description='dQ', max=190.0, min=10.0), Output()), _dom_classes…"
            ],
            "application/vnd.jupyter.widget-view+json": {
              "version_major": 2,
              "version_minor": 0,
              "model_id": "eea5e79e89b24e169b0fac324799a115"
            }
          },
          "metadata": {}
        },
        {
          "output_type": "execute_result",
          "data": {
            "text/plain": [
              "<function __main__.stirtank>"
            ]
          },
          "metadata": {},
          "execution_count": 58
        }
      ]
    },
    {
      "cell_type": "markdown",
      "source": [
        "## Simple heater dynamics"
      ],
      "metadata": {
        "id": "rwprzpcrZ9qa"
      }
    },
    {
      "cell_type": "markdown",
      "source": [
        "In this example, we have a stirred-tank heater. The heat balance, in standard heat transfer notation, is:\n",
        "\n",
        "$$ \\rho C_p V\\frac{\\mathrm{d}T(t)}{\\mathrm{d}t} = \\rho C_p Q[T_{i}(t) - T(t)] + UA[T_H(t) - T(t)] $$\n",
        "\n",
        "where $U$ is the overall heat transfer coefficient, $A$ is the heat transfer area, $\\rho$ is the fluid density, $C_p$ is the heat capacity, and $V$ is the volume of the vessel. The inlet temperature $T_i(t)$ and steam-coil temperature $T_H(t)$ are functions of time and are presumably given. The initial conditions are $T(0) = T^s$, $T_i(0) = T_i^s$ and $T_H(0) = T_H^s$.\n",
        "\n",
        "Before we go on, it should be emphasized that what we subsequently find are nothing but different algebraic manipulations of the same heat balance. First, we rearrange it to give\n",
        "\n",
        "$$ \\frac{V}{Q} \\frac{\\mathrm{d}T(t)}{\\mathrm{d}t} = [T_{i}(t) - T(t)] + \\frac{UA}{\\rho C_p Q}[T_H(t) - T(t)] $$\n",
        "\n",
        "The second step is to define $ \\tau = \\frac{V}{Q} $ and $ \\kappa =  \\frac{UA}{\\rho C_p Q}$ which leads to\n",
        "\n",
        "$$ \\tau \\frac{\\mathrm{d}T(t)}{\\mathrm{d}t} + (1 + \\kappa)T(t)= T_{i}(t) + \\kappa T_H(t) $$\n",
        "\n",
        "Which is also valid at steady-state\n",
        "\n",
        "$$ \\tau \\frac{\\mathrm{d}T^s}{\\mathrm{d}t} + (1 + \\kappa)T^s = T^{s}_{i} + \\kappa T^{s}_H $$\n",
        "\n",
        "Subtracting the steady state equation from the dynamic one, we end up with\n",
        "\n",
        "$$ \\tau \\frac{\\mathrm{d}[T(t) - T^s]}{\\mathrm{d}t} + (1 + \\kappa)[T(t) - T^s] = [T_{i}(t) - T^{s}_{i}] + \\kappa [T_H(t) + \\kappa T^{s}_{H}] $$\n",
        "\n",
        "which can be rewritten to\n",
        "\n",
        "$$ \\tau\\frac{\\mathrm{d}T'(t)}{\\mathrm{d}t} + (1 + \\kappa)T'(t) = T_{i}'(t) + \\kappa T_H'(t) $$\n",
        "\n",
        "by considering the definition of the following *deviation variables*\n",
        "\n",
        "$$ T'(t) = T(t) - T^s $$\n",
        "$$ T_i'(t) = T_i(t) - T^s_i $$\n",
        "$$ T_H'(t) = T_H(t) - T^s_H $$\n",
        "\n",
        "These *deviation variables* are simply the difference between the values of each *original variable* from their respective initial steady state value. Applying the Laplace transform in the ordinary differential equation rewritten in *deviation variables*, we have\n",
        "\n",
        "\\begin{align}\n",
        "\\mathcal{L}\\left\\{\\tau\\frac{\\mathrm{d}T'(t)}{\\mathrm{d}t}\\right\\} + \\mathcal{L}\\{(1 + \\kappa)T'(t)\\} &= \\mathcal{L}\\{T_{i}'(t)\\} + \\mathcal{L}\\{\\kappa T_{H}'(t)\\} \\\\\n",
        "\\tau sT'(s) + (1 + \\kappa)T'(s) &= T_{i}'(s) + \\kappa T_{H}'(s) \\\\\n",
        "T'(s) &= \\frac{1}{\\tau s + 1 + \\kappa}T_{i}'(s) + \\frac{\\kappa}{\\tau s + 1 + \\kappa}T_{H}'(s) \\\\\n",
        "T'(s) &= \\frac{1/(1 + \\kappa)}{\\tau/(1 + \\kappa) s + 1}T_{i}'(s) + \\frac{\\kappa/(1 + \\kappa)}{\\tau/(1 + \\kappa) s + 1 }T_{H}'(s) \\\\\n",
        "T'(s) &= \\frac{K_i}{\\tau_p s + 1}T_{i}'(s) + \\frac{K_H}{\\tau_p s + 1 }T_{H}'(s) \\\\\n",
        "\\end{align}\n",
        "\n",
        "where $ \\tau_p = \\tau/(1 + \\kappa) $, $ K_i = 1/(1 + \\kappa) $ and $ K_H = \\kappa/(1 + \\kappa) $.\n",
        "\n",
        "At the RHS expression we can see the ratios of the output *deviation variable* Laplace transform $T'(s)$ to each of the input *deviation variables* Laplace transforms $T_{i}'(s)$ and $T_{H}'(s)$. These ratios are called *transfer functions* because they transfer the dynamic variation of the respective input *deviation variable* to the output *deviation variable*."
      ],
      "metadata": {
        "id": "NJPcc6mxarKl"
      }
    },
    {
      "cell_type": "markdown",
      "metadata": {
        "id": "fX_7_p_rvyoH"
      },
      "source": [
        "Now let us define the first *transfer function*:"
      ]
    },
    {
      "cell_type": "code",
      "metadata": {
        "outputId": "3417383c-b574-426b-9556-75a9ec0070dc",
        "colab": {
          "base_uri": "https://localhost:8080/",
          "height": 57
        },
        "id": "lOzPQwTGvyoI"
      },
      "source": [
        "tau_p = symbols('tau_p',real=True, positive=True)\n",
        "K_i = symbols('K_i')\n",
        "G = K_i/(tau_p*s + 1)\n",
        "G"
      ],
      "execution_count": null,
      "outputs": [
        {
          "output_type": "execute_result",
          "data": {
            "text/plain": [
              "   Kᵢ   \n",
              "────────\n",
              "s⋅τₚ + 1"
            ],
            "image/png": "[encoded data removed]",
            "text/latex": "$\\displaystyle \\frac{K_{i}}{s \\tau_{p} + 1}$"
          },
          "metadata": {},
          "execution_count": 16
        }
      ]
    },
    {
      "cell_type": "markdown",
      "source": [
        "If $T_{i}'(t)$ is the unit step function, $T_{i}'(s)=\\frac{1}{s}$ and we can obtain the step response as follows:"
      ],
      "metadata": {
        "id": "4YgMiyjd0suW"
      }
    },
    {
      "cell_type": "code",
      "metadata": {
        "outputId": "f0cb9d47-51de-4f84-eaa7-76ecd4da1579",
        "colab": {
          "base_uri": "https://localhost:8080/",
          "height": 42
        },
        "id": "tz-BUr1T0vzl"
      },
      "source": [
        "U = 1/s\n",
        "stepresponse = invL(G*U)\n",
        "stepresponse"
      ],
      "execution_count": null,
      "outputs": [
        {
          "output_type": "execute_result",
          "data": {
            "text/plain": [
              "         -t \n",
              "         ───\n",
              "          τₚ\n",
              "Kᵢ - Kᵢ⋅ℯ   "
            ],
            "image/png": "[encoded data removed]",
            "text/latex": "$\\displaystyle K_{i} - K_{i} e^{- \\frac{t}{\\tau_{p}}}$"
          },
          "metadata": {},
          "execution_count": 20
        }
      ]
    },
    {
      "cell_type": "markdown",
      "source": [
        "\n",
        "Let's see what happens when the parameters are varied between 10% and 90% of their nominal values. "
      ],
      "metadata": {
        "id": "CDgkEV8Tv56v"
      }
    },
    {
      "cell_type": "code",
      "source": [
        "UA = 0.005\n",
        "rhoCp = 1\n",
        "kappa = UA/(rhoCp*Q)\n",
        "\n",
        "def heattank(dQ, dUA, drhoCp):\n",
        "  dkappa = (dUA*UA/100)/(drhoCp*rhoCp*dQ*Q/10000)\n",
        "  plot(1, \n",
        "       stepresponse.subs({taup: V1/(dQ*Q/100)/(1+dkappa), Ki: 1/(1+dkappa)}), \n",
        "       stepresponse.subs({taup: V1/Q/(1+kappa), Ki: 1/(1+kappa)}),  \n",
        "       (t, 0 ,1000),\n",
        "       legend=True)\n",
        "  \n",
        "interact(heattank, dQ=(10.0, 190.0), dUA=(10.0, 190.0), drhoCp=(10.0, 190.0))"
      ],
      "metadata": {
        "id": "QRYuS53_vSay",
        "outputId": "20952b9e-cf82-4cd6-dce7-6428201dbf85",
        "colab": {
          "base_uri": "https://localhost:8080/",
          "height": 409,
          "referenced_widgets": [
            "02614ce73bb04488ba58f4ce81403699",
            "329059dea09848a9a4d37519aee10bdf",
            "dc1b4f442b3742eea2eab7a70c2de2c0",
            "a22888d804d2410b8989945becd6fc46",
            "d380ba706ea64270999b72f7ad96731b",
            "56dd9ad16c374e05812c8648b8c0e093",
            "ff4bce66d7384b7c898a20ca3f0bfe84",
            "d075dc0082e045a9bc2bde68e7fcb7af",
            "4c33dbd2c16447cfb02510b85e7bc13d",
            "d1e12c37e1074af8b99fb3b54f853202",
            "b8df82a0401c43ba8a6439fcc9695041",
            "d918d935c89f43e7b2c178fdb3fb29c6",
            "eef080d7e7b341288b5122113e1e28ac"
          ]
        }
      },
      "execution_count": null,
      "outputs": [
        {
          "output_type": "display_data",
          "data": {
            "text/plain": [
              "interactive(children=(FloatSlider(value=100.0, description='dQ', max=190.0, min=10.0), FloatSlider(value=100.0…"
            ],
            "application/vnd.jupyter.widget-view+json": {
              "version_major": 2,
              "version_minor": 0,
              "model_id": "02614ce73bb04488ba58f4ce81403699"
            }
          },
          "metadata": {}
        },
        {
          "output_type": "execute_result",
          "data": {
            "text/plain": [
              "<function __main__.heattank>"
            ]
          },
          "metadata": {},
          "execution_count": 31
        }
      ]
    },
    {
      "cell_type": "markdown",
      "source": [
        "## Inverted pendulum\n",
        "\n"
      ],
      "metadata": {
        "id": "rRkI-vfWJ3d7"
      }
    },
    {
      "cell_type": "markdown",
      "source": [
        "> N.B.: Part of the following material was taken from the [Control Tutorials for MATLAB and Simulink (CTMS)](https://ctms.engin.umich.edu/CTMS/index.php?example=InvertedPendulum&section=SystemModeling).\n",
        "\n",
        "\n",
        "The system in this example consists of an inverted pendulum mounted to a motorized cart. The inverted pendulum system is an example commonly found in control system textbooks and research literature (see this [video]()). Its popularity derives in part from the fact that it is unstable without control, that is, the pendulum will simply fall over if the cart isn't moved to balance it. Additionally, the dynamics of the system are nonlinear. The objective of the control system is to balance the inverted pendulum by applying a force to the cart that the pendulum is attached to. A real-world example that relates directly to this inverted pendulum system is the attitude control of a booster rocket at takeoff.\n",
        "\n",
        "In this case we will consider a two-dimensional problem where the pendulum is constrained to move in the vertical plane shown in the figure below. \n",
        "\n",
        "![alt](https://ctms.engin.umich.edu/CTMS/Content/InvertedPendulum/System/Modeling/figures/pendulum.png)\n",
        "\n",
        "For this system, the control input is the force $F$ that moves the cart horizontally and the outputs are the angular position of the pendulum $\\theta$ and the horizontal position of the cart $x$.\n",
        "\n",
        "For this example, let's assume the following quantities:"
      ],
      "metadata": {
        "id": "T5b4XhBMKIyY"
      }
    },
    {
      "cell_type": "code",
      "source": [
        "M = 0.5      # mass of the cart [kg]\n",
        "m = 0.2      # mass of the pendulum [kg]\n",
        "b = 0.1      # coefficient of friction for cart [N/m/sec]\n",
        "l = 0.3      # length to pendulum center of mass [m]\n",
        "I = 0.006    # mass moment of inertia of the pendulum [kg.m^2]\n",
        "g = 9.8      # earth's gravitational constant [m/s2]"
      ],
      "metadata": {
        "id": "9J1ct4VxKF7m"
      },
      "execution_count": null,
      "outputs": []
    },
    {
      "cell_type": "markdown",
      "source": [
        "Below are the free-body diagrams of the two elements of the inverted pendulum system.\n",
        "\n",
        "![alt](https://ctms.engin.umich.edu/CTMS/Content/InvertedPendulum/System/Modeling/figures/pendulum2.png)\n",
        "\n",
        "Summing the forces in the free-body diagram of the cart in the horizontal direction, you get the following equation of motion.\n",
        "\n",
        "(1)$$ M\\ddot{x}+b\\dot{x}+N = F $$\n",
        "\n",
        "Note that you can also sum the forces in the vertical direction for the cart, but no useful information would be gained.\n",
        "\n",
        "Summing the forces in the free-body diagram of the pendulum in the horizontal direction, you get the following expression for the reaction force $N$.\n",
        "\n",
        "(2)$$ N= m\\ddot{x}+ml\\ddot{\\theta}\\cos\\theta-ml\\dot{\\theta}^2\\sin\\theta $$\n",
        "\n",
        "If you substitute this equation into the first equation, you get one of the two governing equations for this system.\n",
        "\n",
        "(3)$$(M+m)\\ddot{x}+b\\dot{x}+ml\\ddot{\\theta}\\cos\\theta-ml\\dot{\\theta}^2\\sin\\theta=F $$\n",
        "\n",
        "To get the second equation of motion for this system, sum the forces perpendicular to the pendulum. Solving the system along this axis greatly simplifies the mathematics. You should get the following equation.\n",
        "\n",
        "(4)$$P\\sin\\theta+N\\cos\\theta-mg\\sin\\theta=ml\\ddot{\\theta}+m\\ddot{x}\\cos\\theta$$\n",
        "\n",
        "To get rid of the $P$ and $N$ terms in the equation above, sum the moments about the centroid of the pendulum to get the following equation.\n",
        "\n",
        "(5)$$-Pl\\sin\\theta-Nl\\cos\\theta=I\\ddot{\\theta}$$\n",
        "\n",
        "Combining these last two expressions, you get the second governing equation.\n",
        "\n",
        "(6)$$(I+ml^2)\\ddot{\\theta}+mgl\\sin\\theta=-ml\\ddot{x}\\cos\\theta $$\n",
        "\n",
        "Since we are using a Laplace transform based method for analysis, this set of equations needs to be linearized. Specifically, we will linearize the equations about the vertically upward equillibrium position, $\\theta$ = $\\pi$, and will assume that the system stays within a small neighborhood of this equillbrium. This assumption should be reasonably valid since under control we desire that the pendulum not deviate more than 20 degrees from the vertically upward position. Let $\\phi$ represent the deviation of the pedulum's position from equilibrium, that is, $\\theta$ = $\\pi$ + $\\phi$. Again presuming a small deviation ($\\phi$) from equilibrium, we can use the following small angle approximations of the nonlinear functions in our system equations:\n",
        "\n",
        "(7)$$ \\cos \\theta = \\cos(\\pi + \\phi) \\approx -1 $$\n",
        "\n",
        "(8)$$ \\sin \\theta = \\sin(\\pi + \\phi) \\approx -\\phi $$\n",
        "\n",
        "(9)$$ \\dot{\\theta}^2 =  \\dot{\\phi}^2 \\approx 0 $$\n",
        "\n",
        "After substiting the above approximations into our nonlinear governing equations, we arrive at the two linearized equations of motion. Note $u$ has been substituted for the input $F$.\n",
        "\n",
        "(10)$$ (I+ml^2)\\ddot{\\phi}-mgl\\phi=ml\\ddot{x} $$\n",
        "\n",
        "(11)$$ (M+m)\\ddot{x}+b\\dot{x}-ml\\ddot{\\phi}=u $$"
      ],
      "metadata": {
        "id": "FhBo9aZOMBJU"
      }
    },
    {
      "cell_type": "markdown",
      "source": [
        "To obtain the transfer functions of the linearized system equations, we must first take the Laplace transform of the system equations assuming zero initial conditions. The resulting Laplace transforms are shown below.\n",
        "\n",
        "(12)$$(I+ml^2)\\Phi(s)s^2-mgl\\Phi(s)=mlX(s)s^2$$\n",
        "\n",
        "(13)$$(M+m)X(s)s^2+bX(s)s-ml\\Phi(s)s^2=U(s)$$\n",
        "\n",
        "Recall that a *transfer function* represents the relationship between a single input and a single output at a time. To find our first transfer function for the output $\\Phi(s)$ and an input of $U(s)$ we need to eliminate $X(s)$ from the above equations. Solve the first equation for $X(s)$.\n",
        "\n",
        "(14)$$ X(s)=\\left[{\\frac{I+ml^2}{ml}-\\frac{g}{s^2}}\\right]\\Phi(s) $$\n",
        "\n",
        "Then substitute the above into the second equation.\n",
        "\n",
        "(15)$$(M+m)\\left[\\frac{I+ml^2}{ml}-\\frac{g}{s^2}\\right]\\Phi(s)s^2+b\\left[\\frac{I+ml^2}{ml}-\\frac{g}{s^2}\\right]\\Phi(s)s-ml\\Phi(s)s^2=U(s)$$\n",
        "\n",
        "Rearranging, the transfer function is then the following\n",
        "\n",
        "(16)$$\\frac{\\Phi(s)}{U(s)}=\\frac{\\frac{ml}{q}s^2}{s^4+\\frac{b(I+ml^2)}{q}s^3-\\frac{(M+m)mgl}{q}s^2-\\frac{bmgl}{q}s}$$\n",
        "\n",
        "where,\n",
        "\n",
        "(17)$$q=[(M+m)(I+ml^2)-(ml)^2]$$\n",
        "\n",
        "From the transfer function above it can be seen that there is both a pole and a zero at the origin. These can be canceled and the transfer function becomes the following.\n",
        "\n",
        "(18)$$P_{pend}(s) = \\frac{\\Phi(s)}{U(s)}=\\frac{\\frac{ml}{q}s}{s^3+\\frac{b(I+ml^2)}{q}s^2-\\frac{(M+m)mgl}{q}s-\\frac{bmgl}{q}} \\qquad [ \\frac{rad}{N}]$$\n",
        "\n",
        "Second, the transfer function with the cart position $X(s)$ as the output can be derived in a similar manner to arrive at the following.\n",
        "\n",
        "(19)$$P_{cart}(s) = \\frac{X(s)}{U(s)} = \\frac{ \\frac{ (I+ml^2)s^2 - gml } {q}\n",
        "}{s^4+\\frac{b(I+ml^2)}{q}s^3-\\frac{(M+m)mgl}{q}s^2-\\frac{bmgl}{q}s}\n",
        "\\qquad [ \\frac{m}{N}] $$"
      ],
      "metadata": {
        "id": "c0QDZUm1Nisf"
      }
    },
    {
      "cell_type": "markdown",
      "source": [
        "We can represent the *transfer functions* derived above for the inverted pendulum system here employing the following commands."
      ],
      "metadata": {
        "id": "Vn0rTQEYNkdg"
      }
    },
    {
      "cell_type": "code",
      "source": [
        "q = (M+m)*(I+m*l**2)-(m*l)**2\n",
        "\n",
        "P_cart = (((I+m*l**2)/q)*s**2 - (m*g*l/q))/(s**4 + (b*(I + m*l**2))*s**3/q - ((M + m)*m*g*l)*s**2/q - b*m*g*l*s/q)\n",
        "\n",
        "P_pend = (m*l*s/q)/(s**3 + (b*(I + m*l**2))*s**2/q - ((M + m)*m*g*l)*s/q - b*m*g*l/q)"
      ],
      "metadata": {
        "id": "gt2zlLXVOG4S"
      },
      "execution_count": null,
      "outputs": []
    },
    {
      "cell_type": "code",
      "source": [
        "P_cart"
      ],
      "metadata": {
        "id": "JFsvytpqO8Rl",
        "outputId": "24287e05-c954-4e60-84b7-3f792af4381d",
        "colab": {
          "base_uri": "https://localhost:8080/",
          "height": 55
        }
      },
      "execution_count": null,
      "outputs": [
        {
          "output_type": "execute_result",
          "data": {
            "text/plain": [
              "                                 2                                  \n",
              "               1.81818181818182⋅s  - 44.5454545454546               \n",
              "────────────────────────────────────────────────────────────────────\n",
              " 4                      3                     2                     \n",
              "s  + 0.181818181818182⋅s  - 31.1818181818182⋅s  - 4.45454545454546⋅s"
            ],
            "image/png": "[encoded data removed]",
            "text/latex": "$\\displaystyle \\frac{1.81818181818182 s^{2} - 44.5454545454546}{s^{4} + 0.181818181818182 s^{3} - 31.1818181818182 s^{2} - 4.45454545454546 s}$"
          },
          "metadata": {},
          "execution_count": 186
        }
      ]
    },
    {
      "cell_type": "code",
      "source": [
        "P_pend"
      ],
      "metadata": {
        "id": "IQF_SCXxV_D0",
        "outputId": "09d8ef2c-4be6-40f8-a313-767638e3cd5a",
        "colab": {
          "base_uri": "https://localhost:8080/",
          "height": 52
        }
      },
      "execution_count": null,
      "outputs": [
        {
          "output_type": "execute_result",
          "data": {
            "text/plain": [
              "                        4.54545454545455⋅s                       \n",
              "─────────────────────────────────────────────────────────────────\n",
              " 3                      2                                        \n",
              "s  + 0.181818181818182⋅s  - 31.1818181818182⋅s - 4.45454545454546"
            ],
            "image/png": "[encoded data removed]",
            "text/latex": "$\\displaystyle \\frac{4.54545454545455 s}{s^{3} + 0.181818181818182 s^{2} - 31.1818181818182 s - 4.45454545454546}$"
          },
          "metadata": {},
          "execution_count": 189
        }
      ]
    }
  ]
}