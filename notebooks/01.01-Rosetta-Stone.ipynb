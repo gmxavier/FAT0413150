{
  "nbformat": 4,
  "nbformat_minor": 0,
  "metadata": {
    "colab": {
      "name": "01.01-Rosetta-Stone.ipynb",
      "provenance": [],
      "collapsed_sections": [],
      "authorship_tag": "ABX9TyMQp8Z3EQ0MWtsi141tc9sZ",
      "include_colab_link": true
    },
    "kernelspec": {
      "name": "python3",
      "display_name": "Python 3"
    }
  },
  "cells": [
    {
      "cell_type": "markdown",
      "metadata": {
        "id": "view-in-github",
        "colab_type": "text"
      },
      "source": [
        "<a href=\"https://colab.research.google.com/github/gmxavier/FAT0413150/blob/main/notebooks/01.01-Rosetta-Stone.ipynb\" target=\"_parent\"><img src=\"https://colab.research.google.com/assets/colab-badge.svg\" alt=\"Open In Colab\"/></a>"
      ]
    },
    {
      "cell_type": "markdown",
      "metadata": {
        "id": "VjDcNQd0_fJu"
      },
      "source": [
        "# A kind of Rosetta stone to help you translate R to Python\n",
        "\n",
        "The goal of this notebook is to show how a R code could be translated into a Python code. If you don't know the Rosetta stone, take a look [here](https://en.wikipedia.org/wiki/Rosetta_Stone).\n",
        "\n",
        "As an example, we will take a group assignment of the Modelagem e Simulação course taught by Prof. Alexandre Tôrres, kindly shared by your classmate Arthur Cangussu.\n",
        "\n",
        "In order to run the original R code we will need the package `rpy2` and use the R magic `%%R`."
      ]
    },
    {
      "cell_type": "code",
      "source": [
        "!pip install rpy2\n",
        "%load_ext rpy2.ipython"
      ],
      "metadata": {
        "id": "wkEo6HbNsVxl",
        "outputId": "ab0df819-375c-4c93-f701-da193a459975",
        "colab": {
          "base_uri": "https://localhost:8080/"
        }
      },
      "execution_count": 13,
      "outputs": [
        {
          "output_type": "stream",
          "name": "stdout",
          "text": [
            "Requirement already satisfied: rpy2 in /usr/local/lib/python3.7/dist-packages (3.4.5)\n",
            "Requirement already satisfied: cffi>=1.10.0 in /usr/local/lib/python3.7/dist-packages (from rpy2) (1.15.0)\n",
            "Requirement already satisfied: jinja2 in /usr/local/lib/python3.7/dist-packages (from rpy2) (2.11.3)\n",
            "Requirement already satisfied: pytz in /usr/local/lib/python3.7/dist-packages (from rpy2) (2018.9)\n",
            "Requirement already satisfied: tzlocal in /usr/local/lib/python3.7/dist-packages (from rpy2) (1.5.1)\n",
            "Requirement already satisfied: pycparser in /usr/local/lib/python3.7/dist-packages (from cffi>=1.10.0->rpy2) (2.21)\n",
            "Requirement already satisfied: MarkupSafe>=0.23 in /usr/local/lib/python3.7/dist-packages (from jinja2->rpy2) (2.0.1)\n",
            "The rpy2.ipython extension is already loaded. To reload it, use:\n",
            "  %reload_ext rpy2.ipython\n"
          ]
        }
      ]
    },
    {
      "cell_type": "markdown",
      "source": [
        "The R code needs the package `deSolve`, so we need to install it first."
      ],
      "metadata": {
        "id": "OytHhAJZutf0"
      }
    },
    {
      "cell_type": "code",
      "source": [
        "%%R\n",
        "install.packages(\"deSolve\", quiet=TRUE) "
      ],
      "metadata": {
        "id": "lLANJF3Cur3i"
      },
      "execution_count": 14,
      "outputs": []
    },
    {
      "cell_type": "markdown",
      "source": [
        "Now we can run flawless the original R code."
      ],
      "metadata": {
        "id": "U_basJB3vZCK"
      }
    },
    {
      "cell_type": "code",
      "metadata": {
        "id": "CjEtJuk0_d_A",
        "outputId": "f293823f-dafe-46bc-9e04-408fbc2fb6c0",
        "colab": {
          "base_uri": "https://localhost:8080/",
          "height": 1000
        }
      },
      "source": [
        "%%R\n",
        "\n",
        "rm(list = ls(all.names = TRUE))\n",
        "\n",
        "#TG Modelagem e Simulaзгo - Arthur, Camilla, Daniele, Isabella, Yuri\n",
        "\n",
        "#Tanque cilнndrico bifбsico deitado com controle de nнvel PD.\n",
        "#Sistema possui 2 correntes: Entrada (q_f) e saнda (q_l)\n",
        "#Corrente lнquida de saнda manipulada pelo controle\n",
        "#Perturbaзгo tipo degrau para avaliar comportamento do sistema\n",
        "\n",
        "# v -> N2\n",
        "# l -> H2O\n",
        "\n",
        "###### Dados de Projeto ####\n",
        "hT <- 3 #m\n",
        "Lc <- 10 #m\n",
        "VT <- (pi*((hT^2)/4))*Lc\n",
        "\n",
        "\n",
        "#### Dados do processo ####\n",
        "h_l0 <- 0.01\n",
        "Pi <- 1 #atm\n",
        "\n",
        "## correntes ##\n",
        "x_v_f <- 0.05\n",
        "x_l_f <- 1 - x_v_f\n",
        "q_f <- 10 #L/s\n",
        "q_l <- 4 #L/s\n",
        "q_f_m <- q_f/1e3 \n",
        "q_l_m <- q_l/1e3\n",
        "q_l_m0 <- q_l_m\n",
        "\n",
        "##### Dados de Componentes ####\n",
        "rho_v <- 1.185 #Kg/m3 (15c e 1 atm)\n",
        "rho_l <- 997 #Kg/m3\n",
        "Mv <- 28.0134*1000 #Kg/mol\n",
        "Ml <- 18.01528*1000 #Kg/mol\n",
        "Mf <- Mv*x_v_f + Ml*x_l_f #g/mol\n",
        "T <- 25+273.15 #K\n",
        "R <- 8.20574587e-5 #m3*atm*K???1*mol???1\n",
        "\n",
        "#### Controlador ####\n",
        "h_l_sp <- 1.5 #m\n",
        "k_cp <- 0.01  #0.01\n",
        "k_cd <- 20    #\n",
        "\n",
        "#### Pacotes necessбrios ####\n",
        "require(deSolve)\n",
        "\n",
        "##### Funзгo da бrea seccionada ####\n",
        "f_area_hl <- function(hl){\n",
        "  area_hl <- (((hT^2)/4)*(cos(asin(((2*hl)/hT)-1))*(((2*hl)/hT)-1)+asin(((2*hl)/hT)-1)))+\n",
        "             ((pi*(hT^2))/8)\n",
        "  return(area_hl)\n",
        "}\n",
        "\n",
        "#### Derivada da funзгo da бrea seccionada ####\n",
        "f_d_area_hl <- function(dhl,hl){\n",
        "  d_area_hl <- dhl*(((hT*((1-((((2*hl)/hT)-1)^2))^(1/2)))/2)- \n",
        "                   ((hT*((((2*hl)/hT)-1)^2))/(2*(1-((((2*hl)/hT)-1)^2))^(1/2)))+\n",
        "                   ((hT)/(2*(1-((((2*hl)/hT)-1)^2))^(1/2))))\n",
        "  return(d_area_hl)\n",
        "}\n",
        "\n",
        "#### Soluзгo em h - real  e diferencial ####\n",
        "y_der_h <- function(t,y,param){\n",
        "  dy <- numeric(length = length(y))\n",
        "  #\n",
        "  #Equivalкncia variбveis\n",
        "  #\n",
        "  h_l   <- y[1]\n",
        "  P     <- y[2]\n",
        "  q_l_m <- y[3]\n",
        "  #\n",
        "  #Parвmetros\n",
        "  #\n",
        "  q_f_m  <- param[1]\n",
        "  x_l_f  <- param[2]\n",
        "  x_v_f  <- param[3]\n",
        "  hT     <- param[4]\n",
        "  Lc     <- param[5]\n",
        "  rho_l  <- param[6]\n",
        "  R      <- param[7]\n",
        "  T      <- param[8]\n",
        "  Mv     <- param[9]\n",
        "  VT     <- param[10]\n",
        "  k_cp   <- param[11]\n",
        "  k_cd   <- param[12]\n",
        "  h_l_sp <- param[13]\n",
        "  #\n",
        "    dy[1] <- (((x_l_f*q_f_m)-q_l_m)*(2/hT)*(1/Lc))/(((1-((((2*h_l)/hT)-1)^2))^(1/2))-((((2*h_l)/hT)-1)^2)/((1-((((2*h_l)/hT)-1)^2))^(1/2))+(1/((1-((((2*h_l)/hT)-1)^2))^(1/2))))\n",
        "    dy[2] <- (((x_v_f*rho_l*q_f_m*R*T)/Mv)+(f_d_area_hl(dy[1],h_l)*Lc*P))*(1/(VT-(f_area_hl(h_l)*Lc)))\n",
        "    dy[3] <- - k_cp*((h_l_sp - h_l) + (-dy[1]*k_cd))\n",
        "  saida <- list(dy)\n",
        "  return(saida)\n",
        "}\n",
        "\n",
        "param <- numeric(20)\n",
        "param[1]  <- q_f_m  \n",
        "param[2]  <- x_l_f  \n",
        "param[3]  <- x_v_f  \n",
        "param[4]  <- hT     \n",
        "param[5]  <- Lc     \n",
        "param[6]  <- rho_l \n",
        "param[7]  <- R      \n",
        "param[8]  <- T      \n",
        "param[9]  <- Mv     \n",
        "param[10] <- VT     \n",
        "param[11] <- k_cp\n",
        "param[12] <- k_cd\n",
        "param[13] <- h_l_sp\n",
        "\n",
        "y_ini <- c(h_l0,Pi,q_l_m0)\n",
        "\n",
        "dhfhT_0 <- y_der_h(0,y_ini,param)\n",
        "dhfhT_0\n",
        "\n",
        "y <- y_ini\n",
        "t_op <- 3 #h\n",
        "t_sim <- t_op*3600   # s\n",
        "\n",
        "sol_h_real <- ode(y = y_ini, func = y_der_h, \n",
        "             times = 0:t_sim,parms = param)\n",
        "\n",
        "colnames(sol_h_real) <- c(\"tempo\",\"h_l\",\"P\",\"q_l\")\n",
        "head(sol_h_real)\n",
        "\n",
        "tail(sol_h_real)\n",
        "\n",
        "sol_h_real <- data.frame(sol_h_real)\n",
        "\n",
        "#Construзгo dos grбficos\n",
        "\n",
        "par(mar=c(4,4,1,1))\n",
        "\n",
        "plot(sol_h_real$tempo, sol_h_real$h_l,type=\"l\",xlab = \"tempo(s)\",ylab = \"hl (m)\",main=\"Controle de Nível\",col='blue',xlim = c(0,t_sim),ylim=c(0,hT))\n",
        "grid(col = \"gray\")\n",
        "abline(h=h_l_sp,  lty = 3, col = \"orange\", lwd = 1)\n",
        "\n",
        "plot(sol_h_real$tempo, sol_h_real$P,type=\"l\",xlab = \"tempo(s)\",ylab = \"P(atm)\",main=\"Controle de Pressão\",col='red',xlim = c(0,t_sim),ylim=c(Pi,10))\n",
        "grid(col = \"gray\")\n",
        "\n",
        "#### Perturbaзгo tipo degrau em uma vazгo de entrada ####\n",
        "f_vaz_pert_degrau <- function(t, vaz_ent, t_eve, f_degrau) {\n",
        "  \n",
        "  if(t < t_eve){\n",
        "    vaz <- vaz_ent\n",
        "  }else{\n",
        "    vaz <- vaz_ent * f_degrau\n",
        "  }\n",
        "  return(vaz)\n",
        "}\n",
        "\n",
        "np <- 1000\n",
        "t_gr <- seq(1,t_sim, length.out = np)\n",
        "vaz_gr <- numeric(np)\n",
        "t_eve <- 4000\n",
        "f_degrau <- 10\n",
        "for (i in 1:np) {\n",
        "  vaz_gr[i] <- f_vaz_pert_degrau(t = t_gr[i], q_f_m, t_eve, f_degrau)\n",
        "}\n",
        "\n",
        "par(mar=c(4,4,1,1))\n",
        "plot(x = t_gr, y = vaz_gr, type = \"l\",\n",
        "     pch = \".\", xlab = \"tempo / s\",\n",
        "     ylab = \"vazão, m3/s\", col = \"red\",\n",
        "     xlim = c(0,t_sim), ylim = c(0,1))\n",
        "grid(col = \"gray\")\n",
        "abline(v = t_eve, col = \"pink\", lwd = 3, lty = 2)"
      ],
      "execution_count": 15,
      "outputs": [
        {
          "output_type": "display_data",
          "data": {
            "image/png": "[encoded data removed]"
          },
          "metadata": {}
        },
        {
          "output_type": "display_data",
          "data": {
            "image/png": "[encoded data removed]"
          },
          "metadata": {}
        },
        {
          "output_type": "display_data",
          "data": {
            "image/png": "[encoded data removed]"
          },
          "metadata": {}
        }
      ]
    },
    {
      "cell_type": "markdown",
      "metadata": {
        "id": "xS4FgDRtBbAA"
      },
      "source": [
        "The corresponding Python code of this first part is given in the next cell, which could be executed."
      ]
    },
    {
      "cell_type": "code",
      "metadata": {
        "id": "m2XNh46KBXIQ",
        "colab": {
          "base_uri": "https://localhost:8080/",
          "height": 1000
        },
        "outputId": "f59a2284-c706-490d-c0f2-b56e524c68d8"
      },
      "source": [
        "#TG Modelagem e Simulacao - Arthur, Camilla, Daniele, Isabella, Yuri\n",
        "\n",
        "#Tanque cilindrico bifasico horizontal com controle de nivel PD.\n",
        "#Sistema possui 2 correntes: Entrada (q_f) e saida (q_l)\n",
        "#Corrente liquida de saida manipulada pelo controle\n",
        "#Perturbacao tipo degrau para avaliar comportamento do sistema\n",
        "\n",
        "# v -> N2\n",
        "# l -> H2O\n",
        "\n",
        "#### Pacotes necessarios ####\n",
        "import numpy as np\n",
        "import pandas as pd\n",
        "from scipy.integrate import solve_ivp\n",
        "%matplotlib inline\n",
        "import matplotlib.pyplot as plt\n",
        "\n",
        "###### Dados de Projeto ####\n",
        "hT = 3 #m\n",
        "Lc = 10 #m\n",
        "VT = (np.pi*((hT^2)/4))*Lc\n",
        "\n",
        "\n",
        "#### Dados do processo ####\n",
        "h_l0 = 0.01\n",
        "Pi = 1 #atm\n",
        "\n",
        "## correntes ##\n",
        "x_v_f = 0.05\n",
        "x_l_f = 1 - x_v_f\n",
        "q_f = 10 #L/s\n",
        "q_l = 4 #L/s\n",
        "q_f_m = q_f/1e3 \n",
        "q_l_m = q_l/1e3\n",
        "q_l_m0 = q_l_m\n",
        "\n",
        "##### Dados de Componentes ####\n",
        "rho_v = 1.185 #Kg/m3 (15c e 1 atm)\n",
        "rho_l = 997 #Kg/m3\n",
        "Mv = 28.0134*1000 #Kg/mol\n",
        "Ml = 18.01528*1000 #Kg/mol\n",
        "Mf = Mv*x_v_f + Ml*x_l_f #g/mol\n",
        "T = 25+273.15 #K\n",
        "R = 8.20574587e-5 #m3*atm*K???1*mol???1\n",
        "\n",
        "#### Controlador ####\n",
        "h_l_sp = 1.5 #m\n",
        "k_cp = 0.01  #0.01\n",
        "k_cd = 20    #20\n",
        "\n",
        "##### Funcao da area seccionada ####\n",
        "def f_area_hl(hl):\n",
        "  area_hl = (((hT**2)/4)*(np.cos(np.arcsin(((2*hl)/hT)-1))*(((2*hl)/hT)-1)+np.arcsin(((2*hl)/hT)-1)))+((np.pi*(hT**2))/8)\n",
        "  return area_hl\n",
        "\n",
        "#### Derivada da funcao da area seccionada ####\n",
        "def f_d_area_hl(dhl, hl):\n",
        "  d_area_hl = dhl*(((hT*((1-((((2*hl)/hT)-1)**2))**(1/2)))/2)- \n",
        "                   ((hT*((((2*hl)/hT)-1)**2))/(2*(1-((((2*hl)/hT)-1)**2))**(1/2)))+\n",
        "                   ((hT)/(2*(1-((((2*hl)/hT)-1)**2))**(1/2))))\n",
        "  return d_area_hl\n",
        "\n",
        "#### Solucao em h - real  e diferencial ####\n",
        "def y_der_h(t, y, *param):\n",
        "  dy = len(y)*[0]\n",
        "  #\n",
        "  #Equivalencia variaveis\n",
        "  #\n",
        "  h_l   = y[0]\n",
        "  P     = y[1]\n",
        "  q_l_m = y[2]\n",
        "  #\n",
        "  #Parametros\n",
        "  #\n",
        "  q_f_m  = param[0][0]\n",
        "  x_l_f  = param[0][1]\n",
        "  x_v_f  = param[0][2]\n",
        "  hT     = param[0][3]\n",
        "  Lc     = param[0][4]\n",
        "  rho_l  = param[0][5]\n",
        "  R      = param[0][6]\n",
        "  T      = param[0][7]\n",
        "  Mv     = param[0][8]\n",
        "  VT     = param[0][9]\n",
        "  k_cp   = param[0][10]\n",
        "  k_cd   = param[0][11]\n",
        "  h_l_sp = param[0][12]\n",
        "  #\n",
        "  dy[0] = (((x_l_f*q_f_m)-q_l_m)*(2/hT)*(1/Lc))/(((1-((((2*h_l)/hT)-1)**2))**(1/2))-((((2*h_l)/hT)-1)**2)/((1-((((2*h_l)/hT)-1)**2))**(1/2))+(1/((1-((((2*h_l)/hT)-1)**2))**(1/2))))\n",
        "  dy[1] = (((x_v_f*rho_l*q_f_m*R*T)/Mv)+(f_d_area_hl(dy[1],h_l)*Lc*P))*(1/(VT-(f_area_hl(h_l)*Lc)))\n",
        "  dy[2] = - k_cp*((h_l_sp - h_l) + (-dy[1]*k_cd))\n",
        "  return dy\n",
        "\n",
        "param = 13*[0]\n",
        "param[0]  = q_f_m  \n",
        "param[1]  = x_l_f  \n",
        "param[2]  = x_v_f  \n",
        "param[3]  = hT     \n",
        "param[4]  = Lc     \n",
        "param[5]  = rho_l \n",
        "param[6]  = R      \n",
        "param[7]  = T      \n",
        "param[8]  = Mv     \n",
        "param[9] = VT     \n",
        "param[10] = k_cp\n",
        "param[11] = k_cd\n",
        "param[12] = h_l_sp\n",
        "\n",
        "y_ini = [h_l0, Pi, q_l_m0]\n",
        "\n",
        "dhfhT_0 = y_der_h(0,y_ini,param)\n",
        "print(dhfhT_0)\n",
        "\n",
        "y = y_ini\n",
        "t_op = 3 #h\n",
        "t_sim = t_op*3600   # s\n",
        "\n",
        "times = np.linspace(0, t_sim, num=3600)  \n",
        "sol_h_real = solve_ivp(y_der_h, (times[0], times[-1]), y_ini, t_eval=times, args=(param,))\n",
        "\n",
        "sol_h_real = pd.DataFrame(data={'tempo':sol_h_real.t, \n",
        "                                'h_l'  :sol_h_real.y[0], \n",
        "                                'P'    :sol_h_real.y[1], \n",
        "                                'q_l'  :sol_h_real.y[2]})\n",
        "print(sol_h_real.head())\n",
        "print(sol_h_real.tail())\n",
        "\n",
        "#Construcao dos graficos\n",
        "\n",
        "plt.plot(sol_h_real['tempo'], sol_h_real['h_l'], 'b')\n",
        "plt.xlabel('tempo(s)');\n",
        "plt.ylabel('hl (m)');\n",
        "plt.title('Controle de Nivel')\n",
        "plt.xlim([0, t_sim])\n",
        "plt.ylim([0, hT])\n",
        "plt.grid()\n",
        "plt.hlines(h_l_sp, 0, t_sim, colors='orange')\n",
        "plt.show()\n",
        "\n",
        "plt.plot(sol_h_real['tempo'], sol_h_real['P'], 'b')\n",
        "plt.xlabel('tempo(s)');\n",
        "plt.ylabel('P(atm)');\n",
        "plt.title('Controle de Pressao')\n",
        "plt.xlim([0, t_sim])\n",
        "plt.ylim([Pi, 10])\n",
        "plt.grid()\n",
        "plt.show()\n",
        "\n",
        "#### Perturbacao tipo degrau em uma vazao de entrada ####\n",
        "def f_vaz_pert_degrau(t, vaz_ent, t_eve, f_degrau):\n",
        "  \n",
        "  if t < t_eve:\n",
        "    vaz = vaz_ent\n",
        "  else:\n",
        "    vaz = vaz_ent * f_degrau\n",
        "\n",
        "  return vaz\n",
        "\n",
        "npts = 1000\n",
        "t_grs = np.linspace(1, t_sim, num=npts)\n",
        "vaz_gr = npts*[0]\n",
        "t_eve = 4000\n",
        "f_degrau = 10\n",
        "for i, t_gr in enumerate(t_grs):\n",
        "  vaz_gr[i] = f_vaz_pert_degrau(t_gr, q_f_m, t_eve, f_degrau)\n",
        "\n",
        "plt.plot(t_grs, vaz_gr, 'b')\n",
        "plt.xlabel('tempo / s');\n",
        "plt.ylabel('vazao, m3/s');\n",
        "plt.title('Controle de Nivel')\n",
        "plt.xlim([0, t_sim])\n",
        "plt.ylim([0, 1])\n",
        "plt.grid()\n",
        "plt.vlines(t_eve, 0, 1, colors='pink')\n",
        "plt.show()"
      ],
      "execution_count": null,
      "outputs": [
        {
          "output_type": "stream",
          "text": [
            "[0.0015903660629071603, 5.559553878356587e-08, -0.014899988880892244]\n",
            "       tempo       h_l         P       q_l\n",
            "0   0.000000  0.010000  1.000000  0.004000\n",
            "1   3.000834  0.027750  1.000000 -0.040498\n",
            "2   6.001667  0.058166  1.000000 -0.084241\n",
            "3   9.002501  0.094806  1.000001 -0.126970\n",
            "4  12.003334  0.135797  1.000001 -0.168532\n",
            "          tempo       h_l         P       q_l\n",
            "100  300.083356  0.249412  0.999997  0.310966\n",
            "101  303.084190  0.195458  0.999997  0.272625\n",
            "102  306.085024  0.142305  0.999998  0.232680\n",
            "103  309.085857  0.090412  0.999998  0.191167\n",
            "104  312.086691  0.033054  0.999998  0.148026\n"
          ],
          "name": "stdout"
        },
        {
          "output_type": "stream",
          "text": [
            "/usr/local/lib/python3.7/dist-packages/ipykernel_launcher.py:89: RuntimeWarning: invalid value encountered in double_scalars\n",
            "/usr/local/lib/python3.7/dist-packages/ipykernel_launcher.py:59: RuntimeWarning: invalid value encountered in double_scalars\n",
            "/usr/local/lib/python3.7/dist-packages/ipykernel_launcher.py:60: RuntimeWarning: invalid value encountered in double_scalars\n",
            "/usr/local/lib/python3.7/dist-packages/ipykernel_launcher.py:53: RuntimeWarning: invalid value encountered in arcsin\n"
          ],
          "name": "stderr"
        },
        {
          "output_type": "display_data",
          "data": {
            "image/png": "[encoded data removed]",
            "text/plain": [
              "<Figure size 432x288 with 1 Axes>"
            ]
          },
          "metadata": {
            "tags": [],
            "needs_background": "light"
          }
        },
        {
          "output_type": "display_data",
          "data": {
            "image/png": "[encoded data removed]",
            "text/plain": [
              "<Figure size 432x288 with 1 Axes>"
            ]
          },
          "metadata": {
            "tags": [],
            "needs_background": "light"
          }
        },
        {
          "output_type": "display_data",
          "data": {
            "image/png": "[encoded data removed]",
            "text/plain": [
              "<Figure size 432x288 with 1 Axes>"
            ]
          },
          "metadata": {
            "tags": [],
            "needs_background": "light"
          }
        }
      ]
    },
    {
      "cell_type": "markdown",
      "metadata": {
        "id": "SonRIP85BsUQ"
      },
      "source": [
        "Did you get the knack? If you did, then solve the following review problems.\n",
        "\n",
        "(1) Did the Python code of the last cell reproduce the first part of the R code flawless? If it didn't, find and correct the error(s) in order to make the cell runs flawless and to reproduce the the R code exactly.\n",
        "\n",
        "(2) Translate the code given in the next cell, which contains the second part of the original R code and should not be executed, since this is a Python notebook. The translation needs to run flawless and to reproduce the R code exactly."
      ]
    },
    {
      "cell_type": "code",
      "metadata": {
        "id": "FbKAH2gLBXUf"
      },
      "source": [
        "#### Modelo com a perturbaзгo degrau ####\n",
        "y_der_h1 <- function(t,y,param){\n",
        "  dy <- numeric(length = length(y))\n",
        "  #\n",
        "  #Equivalкncia variбveis\n",
        "  #\n",
        "  h_l   <- y[1]\n",
        "  P     <- y[2]\n",
        "  q_l_m <- y[3]\n",
        "  #\n",
        "  #Parвmetros\n",
        "  #\n",
        "  q_f_m  <- f_vaz_pert_degrau(t = t, param[1], t_eve, f_degrau)\n",
        "  x_l_f  <- param[2]\n",
        "  x_v_f  <- param[3]\n",
        "  hT     <- param[4]\n",
        "  Lc     <- param[5]\n",
        "  rho_l  <- param[6]\n",
        "  R      <- param[7]\n",
        "  T      <- param[8]\n",
        "  Mv     <- param[9]\n",
        "  VT     <- param[10]\n",
        "  k_cp   <- param[11]\n",
        "  k_cd   <- param[12]\n",
        "  h_l_sp <- param[13]\n",
        "  #\n",
        "  dy[1] <- (((x_l_f*q_f_m)-q_l_m)*(2/hT)*(1/Lc))/(((1-((((2*h_l)/hT)-1)ˆ2))ˆ(1/2))-((((2*h_l)/hT)-1)ˆ2)/((1-((((2*h_l)/hT)-1)ˆ2))ˆ(1/2))+(1/((1-((((2*h_l)/hT)-1)ˆ2))ˆ(1/2))))\n",
        "  dy[2] <- (((x_v_f*rho_l*q_f_m*R*T)/Mv)+(f_d_area_hl(dy[1],h_l)*Lc*P))*(1/(VT-(f_area_hl(h_l)*Lc)))\n",
        "  dy[3] <- - k_cp*((h_l_sp - h_l) + (-dy[1]*k_cd))\n",
        "  saida <- list(dy)\n",
        "  return(saida)\n",
        "}\n",
        "\n",
        "y_ini <- c(h_l0,Pi,q_l_m0)\n",
        "\n",
        "dhfhT_01 <- y_der_h1(0,y_ini,param)\n",
        "dhfhT_01\n",
        "\n",
        "y <- y_ini\n",
        "t_op <- 3 #h\n",
        "t_sim <- t_op*3600 # s\n",
        "\n",
        "sol_h_real1 <- ode(y = y_ini, func = y_der_h1, \n",
        "                     times = 0:t_sim, parms = param)\n",
        "\n",
        "colnames(sol_h_real1) <- c(\"tempo\",\"h_l\",\"P\",\"q_l\")\n",
        "head(sol_h_real1)\n",
        "tail(sol_h_real1)\n",
        "\n",
        "sol_h_real1 <- data.frame(sol_h_real1)\n",
        "sol_h_real1$q_l <- (sol_h_real1$q_l)*1e3\n",
        "#### Construзгo dos grбficos com pertubaзгo degrau ####\n",
        "\n",
        "par(mar=c(4,4,1,1))\n",
        "\n",
        "plot(sol_h_real1$tempo, sol_h_real1$h_l,type=\"l\",xlab = \"tempo(s)\",ylab = \"hl (m)\",main=\"Controle de Nнvel Com Pertubaзгo\",col='blue',xlim = c(0,t_sim),ylim=c(0,hT))\n",
        "grid(col = \"gray\")\n",
        "abline(h=h_l_sp,  lty = 3, col = \"orange\", lwd = 1)\n",
        "abline(v = t_eve, col = \"pink\", lwd = 3, lty = 2)\n",
        "\n",
        "plot(sol_h_real1$tempo, sol_h_real1$P,type=\"l\",xlab = \"tempo(s)\",ylab = \"P(atm)\",main=\"Controle de Pressгo Com Pertubaзгo\",col='red',xlim = c(0,t_sim),ylim=c(Pi,6))\n",
        "grid(col = \"gray\")\n",
        "abline(v = t_eve, col = \"pink\", lwd = 3, lty = 2)\n",
        "\n",
        "plot(sol_h_real1$tempo, sol_h_real1$q_l,type=\"l\",xlab = \"tempo(s)\",ylab = \"q_l(L/s)\",main=\"Controle de Pressгo Com Pertubaзгo\",col='orange')\n",
        "grid(col = \"gray\")\n",
        "abline(v = t_eve, col = \"pink\", lwd = 3, lty = 2)"
      ],
      "execution_count": null,
      "outputs": []
    }
  ]
}