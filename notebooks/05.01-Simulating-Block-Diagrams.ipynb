{
  "nbformat": 4,
  "nbformat_minor": 0,
  "metadata": {
    "colab": {
      "name": "05.01-Simulating-block-diagrams.ipynb",
      "provenance": [],
      "collapsed_sections": [],
      "authorship_tag": "ABX9TyOdprq+k3fZbE35UUaMBJbu",
      "include_colab_link": true
    },
    "kernelspec": {
      "name": "python3",
      "display_name": "Python 3"
    },
    "language_info": {
      "name": "python"
    },
    "widgets": {
      "application/vnd.jupyter.widget-state+json": {
        "9cdc0fa4f2544f26a65f450ab0f43e35": {
          "model_module": "@jupyter-widgets/controls",
          "model_name": "HBoxModel",
          "model_module_version": "1.5.0",
          "state": {
            "_view_name": "HBoxView",
            "_dom_classes": [],
            "_model_name": "HBoxModel",
            "_view_module": "@jupyter-widgets/controls",
            "_model_module_version": "1.5.0",
            "_view_count": null,
            "_view_module_version": "1.5.0",
            "box_style": "",
            "layout": "IPY_MODEL_2f179a5745ff40129c513e549d109841",
            "_model_module": "@jupyter-widgets/controls",
            "children": [
              "IPY_MODEL_0d456827747b4eca9112b317641e2946",
              "IPY_MODEL_2e437cf7b0e04f208abb42cba3e50070",
              "IPY_MODEL_8c69a018e19349bbb60476afc430cb9e"
            ]
          }
        },
        "2f179a5745ff40129c513e549d109841": {
          "model_module": "@jupyter-widgets/base",
          "model_name": "LayoutModel",
          "model_module_version": "1.2.0",
          "state": {
            "_view_name": "LayoutView",
            "grid_template_rows": null,
            "right": null,
            "justify_content": null,
            "_view_module": "@jupyter-widgets/base",
            "overflow": null,
            "_model_module_version": "1.2.0",
            "_view_count": null,
            "flex_flow": null,
            "width": null,
            "min_width": null,
            "border": null,
            "align_items": null,
            "bottom": null,
            "_model_module": "@jupyter-widgets/base",
            "top": null,
            "grid_column": null,
            "overflow_y": null,
            "overflow_x": null,
            "grid_auto_flow": null,
            "grid_area": null,
            "grid_template_columns": null,
            "flex": null,
            "_model_name": "LayoutModel",
            "justify_items": null,
            "grid_row": null,
            "max_height": null,
            "align_content": null,
            "visibility": null,
            "align_self": null,
            "height": null,
            "min_height": null,
            "padding": null,
            "grid_auto_rows": null,
            "grid_gap": null,
            "max_width": null,
            "order": null,
            "_view_module_version": "1.2.0",
            "grid_template_areas": null,
            "object_position": null,
            "object_fit": null,
            "grid_auto_columns": null,
            "margin": null,
            "display": null,
            "left": null
          }
        },
        "0d456827747b4eca9112b317641e2946": {
          "model_module": "@jupyter-widgets/controls",
          "model_name": "HTMLModel",
          "model_module_version": "1.5.0",
          "state": {
            "_view_name": "HTMLView",
            "style": "IPY_MODEL_65a5f701634640d08b5f00c2238a1520",
            "_dom_classes": [],
            "description": "",
            "_model_name": "HTMLModel",
            "placeholder": "​",
            "_view_module": "@jupyter-widgets/controls",
            "_model_module_version": "1.5.0",
            "value": "100%",
            "_view_count": null,
            "_view_module_version": "1.5.0",
            "description_tooltip": null,
            "_model_module": "@jupyter-widgets/controls",
            "layout": "IPY_MODEL_552d95f3459549069eaaad7052e2fdb0"
          }
        },
        "2e437cf7b0e04f208abb42cba3e50070": {
          "model_module": "@jupyter-widgets/controls",
          "model_name": "FloatProgressModel",
          "model_module_version": "1.5.0",
          "state": {
            "_view_name": "ProgressView",
            "style": "IPY_MODEL_60a18ff0130b46e4b05b471ea2ac8596",
            "_dom_classes": [],
            "description": "",
            "_model_name": "FloatProgressModel",
            "bar_style": "success",
            "max": 1500,
            "_view_module": "@jupyter-widgets/controls",
            "_model_module_version": "1.5.0",
            "value": 1500,
            "_view_count": null,
            "_view_module_version": "1.5.0",
            "orientation": "horizontal",
            "min": 0,
            "description_tooltip": null,
            "_model_module": "@jupyter-widgets/controls",
            "layout": "IPY_MODEL_82b4c24459ae4b10931cd231b37f47ac"
          }
        },
        "8c69a018e19349bbb60476afc430cb9e": {
          "model_module": "@jupyter-widgets/controls",
          "model_name": "HTMLModel",
          "model_module_version": "1.5.0",
          "state": {
            "_view_name": "HTMLView",
            "style": "IPY_MODEL_370723e5a3ce45d7932e91411e4de2fb",
            "_dom_classes": [],
            "description": "",
            "_model_name": "HTMLModel",
            "placeholder": "​",
            "_view_module": "@jupyter-widgets/controls",
            "_model_module_version": "1.5.0",
            "value": " 1500/1500 [00:06&lt;00:00, 5709.15it/s]",
            "_view_count": null,
            "_view_module_version": "1.5.0",
            "description_tooltip": null,
            "_model_module": "@jupyter-widgets/controls",
            "layout": "IPY_MODEL_13f4889b21ea4736b35c8bc871bd812b"
          }
        },
        "65a5f701634640d08b5f00c2238a1520": {
          "model_module": "@jupyter-widgets/controls",
          "model_name": "DescriptionStyleModel",
          "model_module_version": "1.5.0",
          "state": {
            "_view_name": "StyleView",
            "_model_name": "DescriptionStyleModel",
            "description_width": "",
            "_view_module": "@jupyter-widgets/base",
            "_model_module_version": "1.5.0",
            "_view_count": null,
            "_view_module_version": "1.2.0",
            "_model_module": "@jupyter-widgets/controls"
          }
        },
        "552d95f3459549069eaaad7052e2fdb0": {
          "model_module": "@jupyter-widgets/base",
          "model_name": "LayoutModel",
          "model_module_version": "1.2.0",
          "state": {
            "_view_name": "LayoutView",
            "grid_template_rows": null,
            "right": null,
            "justify_content": null,
            "_view_module": "@jupyter-widgets/base",
            "overflow": null,
            "_model_module_version": "1.2.0",
            "_view_count": null,
            "flex_flow": null,
            "width": null,
            "min_width": null,
            "border": null,
            "align_items": null,
            "bottom": null,
            "_model_module": "@jupyter-widgets/base",
            "top": null,
            "grid_column": null,
            "overflow_y": null,
            "overflow_x": null,
            "grid_auto_flow": null,
            "grid_area": null,
            "grid_template_columns": null,
            "flex": null,
            "_model_name": "LayoutModel",
            "justify_items": null,
            "grid_row": null,
            "max_height": null,
            "align_content": null,
            "visibility": null,
            "align_self": null,
            "height": null,
            "min_height": null,
            "padding": null,
            "grid_auto_rows": null,
            "grid_gap": null,
            "max_width": null,
            "order": null,
            "_view_module_version": "1.2.0",
            "grid_template_areas": null,
            "object_position": null,
            "object_fit": null,
            "grid_auto_columns": null,
            "margin": null,
            "display": null,
            "left": null
          }
        },
        "60a18ff0130b46e4b05b471ea2ac8596": {
          "model_module": "@jupyter-widgets/controls",
          "model_name": "ProgressStyleModel",
          "model_module_version": "1.5.0",
          "state": {
            "_view_name": "StyleView",
            "_model_name": "ProgressStyleModel",
            "description_width": "",
            "_view_module": "@jupyter-widgets/base",
            "_model_module_version": "1.5.0",
            "_view_count": null,
            "_view_module_version": "1.2.0",
            "bar_color": null,
            "_model_module": "@jupyter-widgets/controls"
          }
        },
        "82b4c24459ae4b10931cd231b37f47ac": {
          "model_module": "@jupyter-widgets/base",
          "model_name": "LayoutModel",
          "model_module_version": "1.2.0",
          "state": {
            "_view_name": "LayoutView",
            "grid_template_rows": null,
            "right": null,
            "justify_content": null,
            "_view_module": "@jupyter-widgets/base",
            "overflow": null,
            "_model_module_version": "1.2.0",
            "_view_count": null,
            "flex_flow": null,
            "width": null,
            "min_width": null,
            "border": null,
            "align_items": null,
            "bottom": null,
            "_model_module": "@jupyter-widgets/base",
            "top": null,
            "grid_column": null,
            "overflow_y": null,
            "overflow_x": null,
            "grid_auto_flow": null,
            "grid_area": null,
            "grid_template_columns": null,
            "flex": null,
            "_model_name": "LayoutModel",
            "justify_items": null,
            "grid_row": null,
            "max_height": null,
            "align_content": null,
            "visibility": null,
            "align_self": null,
            "height": null,
            "min_height": null,
            "padding": null,
            "grid_auto_rows": null,
            "grid_gap": null,
            "max_width": null,
            "order": null,
            "_view_module_version": "1.2.0",
            "grid_template_areas": null,
            "object_position": null,
            "object_fit": null,
            "grid_auto_columns": null,
            "margin": null,
            "display": null,
            "left": null
          }
        },
        "370723e5a3ce45d7932e91411e4de2fb": {
          "model_module": "@jupyter-widgets/controls",
          "model_name": "DescriptionStyleModel",
          "model_module_version": "1.5.0",
          "state": {
            "_view_name": "StyleView",
            "_model_name": "DescriptionStyleModel",
            "description_width": "",
            "_view_module": "@jupyter-widgets/base",
            "_model_module_version": "1.5.0",
            "_view_count": null,
            "_view_module_version": "1.2.0",
            "_model_module": "@jupyter-widgets/controls"
          }
        },
        "13f4889b21ea4736b35c8bc871bd812b": {
          "model_module": "@jupyter-widgets/base",
          "model_name": "LayoutModel",
          "model_module_version": "1.2.0",
          "state": {
            "_view_name": "LayoutView",
            "grid_template_rows": null,
            "right": null,
            "justify_content": null,
            "_view_module": "@jupyter-widgets/base",
            "overflow": null,
            "_model_module_version": "1.2.0",
            "_view_count": null,
            "flex_flow": null,
            "width": null,
            "min_width": null,
            "border": null,
            "align_items": null,
            "bottom": null,
            "_model_module": "@jupyter-widgets/base",
            "top": null,
            "grid_column": null,
            "overflow_y": null,
            "overflow_x": null,
            "grid_auto_flow": null,
            "grid_area": null,
            "grid_template_columns": null,
            "flex": null,
            "_model_name": "LayoutModel",
            "justify_items": null,
            "grid_row": null,
            "max_height": null,
            "align_content": null,
            "visibility": null,
            "align_self": null,
            "height": null,
            "min_height": null,
            "padding": null,
            "grid_auto_rows": null,
            "grid_gap": null,
            "max_width": null,
            "order": null,
            "_view_module_version": "1.2.0",
            "grid_template_areas": null,
            "object_position": null,
            "object_fit": null,
            "grid_auto_columns": null,
            "margin": null,
            "display": null,
            "left": null
          }
        },
        "0a73f0c2c3f540e7a42f8d588a0d49df": {
          "model_module": "@jupyter-widgets/controls",
          "model_name": "HBoxModel",
          "model_module_version": "1.5.0",
          "state": {
            "_view_name": "HBoxView",
            "_dom_classes": [],
            "_model_name": "HBoxModel",
            "_view_module": "@jupyter-widgets/controls",
            "_model_module_version": "1.5.0",
            "_view_count": null,
            "_view_module_version": "1.5.0",
            "box_style": "",
            "layout": "IPY_MODEL_eed66c63546441f1bf11584386aa2930",
            "_model_module": "@jupyter-widgets/controls",
            "children": [
              "IPY_MODEL_593fc397efd04e5c8be5509aa00bb99d",
              "IPY_MODEL_e094766192f34b03a7f01c8eedc7470e",
              "IPY_MODEL_0364c805ce00427fb190e61e7e5c1ed0"
            ]
          }
        },
        "eed66c63546441f1bf11584386aa2930": {
          "model_module": "@jupyter-widgets/base",
          "model_name": "LayoutModel",
          "model_module_version": "1.2.0",
          "state": {
            "_view_name": "LayoutView",
            "grid_template_rows": null,
            "right": null,
            "justify_content": null,
            "_view_module": "@jupyter-widgets/base",
            "overflow": null,
            "_model_module_version": "1.2.0",
            "_view_count": null,
            "flex_flow": null,
            "width": null,
            "min_width": null,
            "border": null,
            "align_items": null,
            "bottom": null,
            "_model_module": "@jupyter-widgets/base",
            "top": null,
            "grid_column": null,
            "overflow_y": null,
            "overflow_x": null,
            "grid_auto_flow": null,
            "grid_area": null,
            "grid_template_columns": null,
            "flex": null,
            "_model_name": "LayoutModel",
            "justify_items": null,
            "grid_row": null,
            "max_height": null,
            "align_content": null,
            "visibility": null,
            "align_self": null,
            "height": null,
            "min_height": null,
            "padding": null,
            "grid_auto_rows": null,
            "grid_gap": null,
            "max_width": null,
            "order": null,
            "_view_module_version": "1.2.0",
            "grid_template_areas": null,
            "object_position": null,
            "object_fit": null,
            "grid_auto_columns": null,
            "margin": null,
            "display": null,
            "left": null
          }
        },
        "593fc397efd04e5c8be5509aa00bb99d": {
          "model_module": "@jupyter-widgets/controls",
          "model_name": "HTMLModel",
          "model_module_version": "1.5.0",
          "state": {
            "_view_name": "HTMLView",
            "style": "IPY_MODEL_a82f2b841c1e4f88a6c8abc66319ccde",
            "_dom_classes": [],
            "description": "",
            "_model_name": "HTMLModel",
            "placeholder": "​",
            "_view_module": "@jupyter-widgets/controls",
            "_model_module_version": "1.5.0",
            "value": "100%",
            "_view_count": null,
            "_view_module_version": "1.5.0",
            "description_tooltip": null,
            "_model_module": "@jupyter-widgets/controls",
            "layout": "IPY_MODEL_d88b3788af0e46f4a0ad3ce99196349b"
          }
        },
        "e094766192f34b03a7f01c8eedc7470e": {
          "model_module": "@jupyter-widgets/controls",
          "model_name": "FloatProgressModel",
          "model_module_version": "1.5.0",
          "state": {
            "_view_name": "ProgressView",
            "style": "IPY_MODEL_17c3f82309e74295a47a80f47bc6b730",
            "_dom_classes": [],
            "description": "",
            "_model_name": "FloatProgressModel",
            "bar_style": "success",
            "max": 1500,
            "_view_module": "@jupyter-widgets/controls",
            "_model_module_version": "1.5.0",
            "value": 1500,
            "_view_count": null,
            "_view_module_version": "1.5.0",
            "orientation": "horizontal",
            "min": 0,
            "description_tooltip": null,
            "_model_module": "@jupyter-widgets/controls",
            "layout": "IPY_MODEL_cfacaee21b804aa2b5f095e89dce7798"
          }
        },
        "0364c805ce00427fb190e61e7e5c1ed0": {
          "model_module": "@jupyter-widgets/controls",
          "model_name": "HTMLModel",
          "model_module_version": "1.5.0",
          "state": {
            "_view_name": "HTMLView",
            "style": "IPY_MODEL_8d14bdc2104b4117a43b838b7247858c",
            "_dom_classes": [],
            "description": "",
            "_model_name": "HTMLModel",
            "placeholder": "​",
            "_view_module": "@jupyter-widgets/controls",
            "_model_module_version": "1.5.0",
            "value": " 1500/1500 [00:00&lt;00:00, 7579.21it/s]",
            "_view_count": null,
            "_view_module_version": "1.5.0",
            "description_tooltip": null,
            "_model_module": "@jupyter-widgets/controls",
            "layout": "IPY_MODEL_0acb4d85f03142bb9aeca0f043ee3326"
          }
        },
        "a82f2b841c1e4f88a6c8abc66319ccde": {
          "model_module": "@jupyter-widgets/controls",
          "model_name": "DescriptionStyleModel",
          "model_module_version": "1.5.0",
          "state": {
            "_view_name": "StyleView",
            "_model_name": "DescriptionStyleModel",
            "description_width": "",
            "_view_module": "@jupyter-widgets/base",
            "_model_module_version": "1.5.0",
            "_view_count": null,
            "_view_module_version": "1.2.0",
            "_model_module": "@jupyter-widgets/controls"
          }
        },
        "d88b3788af0e46f4a0ad3ce99196349b": {
          "model_module": "@jupyter-widgets/base",
          "model_name": "LayoutModel",
          "model_module_version": "1.2.0",
          "state": {
            "_view_name": "LayoutView",
            "grid_template_rows": null,
            "right": null,
            "justify_content": null,
            "_view_module": "@jupyter-widgets/base",
            "overflow": null,
            "_model_module_version": "1.2.0",
            "_view_count": null,
            "flex_flow": null,
            "width": null,
            "min_width": null,
            "border": null,
            "align_items": null,
            "bottom": null,
            "_model_module": "@jupyter-widgets/base",
            "top": null,
            "grid_column": null,
            "overflow_y": null,
            "overflow_x": null,
            "grid_auto_flow": null,
            "grid_area": null,
            "grid_template_columns": null,
            "flex": null,
            "_model_name": "LayoutModel",
            "justify_items": null,
            "grid_row": null,
            "max_height": null,
            "align_content": null,
            "visibility": null,
            "align_self": null,
            "height": null,
            "min_height": null,
            "padding": null,
            "grid_auto_rows": null,
            "grid_gap": null,
            "max_width": null,
            "order": null,
            "_view_module_version": "1.2.0",
            "grid_template_areas": null,
            "object_position": null,
            "object_fit": null,
            "grid_auto_columns": null,
            "margin": null,
            "display": null,
            "left": null
          }
        },
        "17c3f82309e74295a47a80f47bc6b730": {
          "model_module": "@jupyter-widgets/controls",
          "model_name": "ProgressStyleModel",
          "model_module_version": "1.5.0",
          "state": {
            "_view_name": "StyleView",
            "_model_name": "ProgressStyleModel",
            "description_width": "",
            "_view_module": "@jupyter-widgets/base",
            "_model_module_version": "1.5.0",
            "_view_count": null,
            "_view_module_version": "1.2.0",
            "bar_color": null,
            "_model_module": "@jupyter-widgets/controls"
          }
        },
        "cfacaee21b804aa2b5f095e89dce7798": {
          "model_module": "@jupyter-widgets/base",
          "model_name": "LayoutModel",
          "model_module_version": "1.2.0",
          "state": {
            "_view_name": "LayoutView",
            "grid_template_rows": null,
            "right": null,
            "justify_content": null,
            "_view_module": "@jupyter-widgets/base",
            "overflow": null,
            "_model_module_version": "1.2.0",
            "_view_count": null,
            "flex_flow": null,
            "width": null,
            "min_width": null,
            "border": null,
            "align_items": null,
            "bottom": null,
            "_model_module": "@jupyter-widgets/base",
            "top": null,
            "grid_column": null,
            "overflow_y": null,
            "overflow_x": null,
            "grid_auto_flow": null,
            "grid_area": null,
            "grid_template_columns": null,
            "flex": null,
            "_model_name": "LayoutModel",
            "justify_items": null,
            "grid_row": null,
            "max_height": null,
            "align_content": null,
            "visibility": null,
            "align_self": null,
            "height": null,
            "min_height": null,
            "padding": null,
            "grid_auto_rows": null,
            "grid_gap": null,
            "max_width": null,
            "order": null,
            "_view_module_version": "1.2.0",
            "grid_template_areas": null,
            "object_position": null,
            "object_fit": null,
            "grid_auto_columns": null,
            "margin": null,
            "display": null,
            "left": null
          }
        },
        "8d14bdc2104b4117a43b838b7247858c": {
          "model_module": "@jupyter-widgets/controls",
          "model_name": "DescriptionStyleModel",
          "model_module_version": "1.5.0",
          "state": {
            "_view_name": "StyleView",
            "_model_name": "DescriptionStyleModel",
            "description_width": "",
            "_view_module": "@jupyter-widgets/base",
            "_model_module_version": "1.5.0",
            "_view_count": null,
            "_view_module_version": "1.2.0",
            "_model_module": "@jupyter-widgets/controls"
          }
        },
        "0acb4d85f03142bb9aeca0f043ee3326": {
          "model_module": "@jupyter-widgets/base",
          "model_name": "LayoutModel",
          "model_module_version": "1.2.0",
          "state": {
            "_view_name": "LayoutView",
            "grid_template_rows": null,
            "right": null,
            "justify_content": null,
            "_view_module": "@jupyter-widgets/base",
            "overflow": null,
            "_model_module_version": "1.2.0",
            "_view_count": null,
            "flex_flow": null,
            "width": null,
            "min_width": null,
            "border": null,
            "align_items": null,
            "bottom": null,
            "_model_module": "@jupyter-widgets/base",
            "top": null,
            "grid_column": null,
            "overflow_y": null,
            "overflow_x": null,
            "grid_auto_flow": null,
            "grid_area": null,
            "grid_template_columns": null,
            "flex": null,
            "_model_name": "LayoutModel",
            "justify_items": null,
            "grid_row": null,
            "max_height": null,
            "align_content": null,
            "visibility": null,
            "align_self": null,
            "height": null,
            "min_height": null,
            "padding": null,
            "grid_auto_rows": null,
            "grid_gap": null,
            "max_width": null,
            "order": null,
            "_view_module_version": "1.2.0",
            "grid_template_areas": null,
            "object_position": null,
            "object_fit": null,
            "grid_auto_columns": null,
            "margin": null,
            "display": null,
            "left": null
          }
        }
      }
    }
  },
  "cells": [
    {
      "cell_type": "markdown",
      "metadata": {
        "id": "view-in-github",
        "colab_type": "text"
      },
      "source": [
        "<a href=\"https://colab.research.google.com/github/gmxavier/FAT0413150/blob/main/notebooks/05_01_Simultating_block_diagrams.ipynb\" target=\"_parent\"><img src=\"https://colab.research.google.com/assets/colab-badge.svg\" alt=\"Open In Colab\"/></a>"
      ]
    },
    {
      "cell_type": "markdown",
      "metadata": {
        "id": "8qi06bBFte1z"
      },
      "source": [
        "# Simulating block diagrams\n",
        "\n",
        ">N.B.: Parts of this notebook were taken from [here](https://github.com/alchemyst/Dynamics-and-Control/blob/master/Simulation/Blocksim.ipynb)."
      ]
    },
    {
      "cell_type": "markdown",
      "metadata": {
        "id": "Y-G5b0XGZGIh"
      },
      "source": [
        "## Summary\n",
        "\n",
        "`tbcontrol.blocksim` is a simple library for simulating block diagrams like this one.\n",
        "\n",
        "Let's start with this feedback control loop taken from [here](https://sites.chemengr.ucsb.edu/~ceweb/faculty/seborg/teaching/SEM_2_slides/Chapter%2011%20(11-23-04).pdf)."
      ]
    },
    {
      "cell_type": "markdown",
      "metadata": {
        "id": "xGHJFneivB_K"
      },
      "source": [
        "![simple_feedback](http://apmonitor.com/che436/uploads/Main/block_diagram.png)"
      ]
    },
    {
      "cell_type": "markdown",
      "metadata": {
        "id": "P7ykMr9paqjy"
      },
      "source": [
        "## Initializations"
      ]
    },
    {
      "cell_type": "code",
      "metadata": {
        "colab": {
          "base_uri": "https://localhost:8080/"
        },
        "id": "ZYS_3YtU6UBI",
        "outputId": "2b698126-e32b-4efd-8f53-6ba201733d2a"
      },
      "source": [
        "!pip install tbcontrol\n",
        "from tbcontrol import blocksim \n",
        "import numpy # as we usual need some numerical gadgets\n",
        "import matplotlib.pyplot as plt # in order to produce nice plots\n",
        "%matplotlib inline"
      ],
      "execution_count": 2,
      "outputs": [
        {
          "output_type": "stream",
          "name": "stdout",
          "text": [
            "Collecting tbcontrol\n",
            "  Downloading tbcontrol-0.2.1-py3-none-any.whl (24 kB)\n",
            "Requirement already satisfied: packaging in /usr/local/lib/python3.7/dist-packages (from tbcontrol) (21.0)\n",
            "Requirement already satisfied: scipy in /usr/local/lib/python3.7/dist-packages (from tbcontrol) (1.4.1)\n",
            "Requirement already satisfied: numpy in /usr/local/lib/python3.7/dist-packages (from tbcontrol) (1.19.5)\n",
            "Requirement already satisfied: tqdm in /usr/local/lib/python3.7/dist-packages (from tbcontrol) (4.62.3)\n",
            "Requirement already satisfied: pyparsing>=2.0.2 in /usr/local/lib/python3.7/dist-packages (from packaging->tbcontrol) (2.4.7)\n",
            "Installing collected packages: tbcontrol\n",
            "Successfully installed tbcontrol-0.2.1\n"
          ]
        }
      ]
    },
    {
      "cell_type": "markdown",
      "metadata": {
        "id": "5FH3kkqU6k4c"
      },
      "source": [
        "## Building a block diagram\n",
        "\n",
        "We need to define objects representing each of the blocks. A common one is the LTI block, so the first block is"
      ]
    },
    {
      "cell_type": "code",
      "metadata": {
        "colab": {
          "base_uri": "https://localhost:8080/"
        },
        "id": "GkzAbDQ76XOf",
        "outputId": "36ffeb3a-150e-41d1-b617-23e79be6d7f3"
      },
      "source": [
        "Km = blocksim.LTI('Km', 'xsp', 'xsptilde', (20-4)/(1-0))\n",
        "Km"
      ],
      "execution_count": 3,
      "outputs": [
        {
          "output_type": "execute_result",
          "data": {
            "text/plain": [
              "LTI: xsp →[ Km ]→ xsptilde"
            ]
          },
          "metadata": {},
          "execution_count": 3
        }
      ]
    },
    {
      "cell_type": "markdown",
      "metadata": {
        "id": "4l-LdYMk7dde"
      },
      "source": [
        "The control loop uses a PI controller, so"
      ]
    },
    {
      "cell_type": "code",
      "metadata": {
        "colab": {
          "base_uri": "https://localhost:8080/"
        },
        "id": "5o-obZRF6s2V",
        "outputId": "e66ea824-9dc9-4d0b-f6e7-05fa24136910"
      },
      "source": [
        "Gc = blocksim.PI('Gc', 'e', 'p', 5, 5)\n",
        "Gc"
      ],
      "execution_count": 4,
      "outputs": [
        {
          "output_type": "execute_result",
          "data": {
            "text/plain": [
              "PI: e →[ Gc ]→ p"
            ]
          },
          "metadata": {},
          "execution_count": 4
        }
      ]
    },
    {
      "cell_type": "markdown",
      "metadata": {
        "id": "G9jjr25iMEyO"
      },
      "source": [
        "In order to limit the controller output, we define also a limiter block as following, assuming a controller bias of 12 mA."
      ]
    },
    {
      "cell_type": "code",
      "metadata": {
        "id": "ELTPzgvNMO0G"
      },
      "source": [
        "def limit(t, u):\n",
        "    return numpy.clip(u, -4, 4)\n",
        "\n",
        "Limiter = blocksim.AlgebraicEquation('Limiter', 'p', 'plimited', limit)"
      ],
      "execution_count": 5,
      "outputs": []
    },
    {
      "cell_type": "markdown",
      "metadata": {
        "id": "lIsdrgDJ-N0X"
      },
      "source": [
        "And the following blocks are"
      ]
    },
    {
      "cell_type": "code",
      "metadata": {
        "colab": {
          "base_uri": "https://localhost:8080/"
        },
        "id": "NUiryjq89g_g",
        "outputId": "873d2c45-d03d-4329-e291-59371f2a7260"
      },
      "source": [
        "Kip = blocksim.LTI('Kip', 'plimited', 'pt', (15-3)/(20-12))\n",
        "Kip"
      ],
      "execution_count": 6,
      "outputs": [
        {
          "output_type": "execute_result",
          "data": {
            "text/plain": [
              "LTI: plimited →[ Kip ]→ pt"
            ]
          },
          "metadata": {},
          "execution_count": 6
        }
      ]
    },
    {
      "cell_type": "code",
      "metadata": {
        "colab": {
          "base_uri": "https://localhost:8080/"
        },
        "id": "8G3d4TFe_c4o",
        "outputId": "d97fa9c0-dcc9-4b8a-b70f-ca4f76cbfc57"
      },
      "source": [
        "Gv = blocksim.LTI('Gv', 'pt', 'w2', (20-0)/(15-3), [1/60, 1])\n",
        "Gv"
      ],
      "execution_count": 7,
      "outputs": [
        {
          "output_type": "execute_result",
          "data": {
            "text/plain": [
              "LTI: pt →[ Gv ]→ w2"
            ]
          },
          "metadata": {},
          "execution_count": 7
        }
      ]
    },
    {
      "cell_type": "code",
      "metadata": {
        "colab": {
          "base_uri": "https://localhost:8080/"
        },
        "id": "KHZUzs6XAFrG",
        "outputId": "76d6bfc6-e713-40b6-e8ad-d522f31e40ef"
      },
      "source": [
        "Vrho = 100 # kg\n",
        "wbar = 10  # kg/min\n",
        "w1bar = 5  # kg/min\n",
        "xbar = 0.5 # mass fraction\n",
        "tau1 = tau2 = Vrho/wbar # min\n",
        "K1 = w1bar/wbar         # dimensionless\n",
        "K2 = (1 - xbar)/wbar    # mass fraction/(kg/min)\n",
        "Gd = blocksim.LTI('Gd', 'x1', 'xd', K1, [tau1, 1])\n",
        "Gd"
      ],
      "execution_count": 8,
      "outputs": [
        {
          "output_type": "execute_result",
          "data": {
            "text/plain": [
              "LTI: x1 →[ Gd ]→ xd"
            ]
          },
          "metadata": {},
          "execution_count": 8
        }
      ]
    },
    {
      "cell_type": "code",
      "metadata": {
        "colab": {
          "base_uri": "https://localhost:8080/"
        },
        "id": "a_1-p7kRB0aF",
        "outputId": "242ac0df-af71-40b8-bafe-0d0ac3d34982"
      },
      "source": [
        "Gp = blocksim.LTI('Gp', 'w2', 'xu', K2, [tau2, 1])\n",
        "Gp"
      ],
      "execution_count": 9,
      "outputs": [
        {
          "output_type": "execute_result",
          "data": {
            "text/plain": [
              "LTI: w2 →[ Gp ]→ xu"
            ]
          },
          "metadata": {},
          "execution_count": 9
        }
      ]
    },
    {
      "cell_type": "code",
      "metadata": {
        "colab": {
          "base_uri": "https://localhost:8080/"
        },
        "id": "lo6FQLKRCXHf",
        "outputId": "5cc0a48d-a0b7-4167-fd25-0af38160dabc"
      },
      "source": [
        "Gm = blocksim.LTI('Gm', 'x', 'xm', (20-4)/(1-0))\n",
        "Gm"
      ],
      "execution_count": 10,
      "outputs": [
        {
          "output_type": "execute_result",
          "data": {
            "text/plain": [
              "LTI: x →[ Gm ]→ xm"
            ]
          },
          "metadata": {},
          "execution_count": 10
        }
      ]
    },
    {
      "cell_type": "markdown",
      "metadata": {
        "id": "QZyK7XpF8BfZ"
      },
      "source": [
        "Once we have the blocks, we can create a `Diagram`.\n",
        "\n",
        "Sums are specified as a dictionary with the keys being the output signal and the values being a tuple containing the input signals. The leading + is compulsory.\n",
        "\n",
        "The inputs come next and are specified as functions of time. `blocksim.step()` can be used to build a step function."
      ]
    },
    {
      "cell_type": "code",
      "metadata": {
        "colab": {
          "base_uri": "https://localhost:8080/"
        },
        "id": "VUQ5g2Gn8Kys",
        "outputId": "19762e3c-4242-45cc-b2ac-aed686f5f9cd"
      },
      "source": [
        "diagram = blocksim.Diagram([Km, Gc, Limiter, Kip, Gv, Gp, Gd, Gm], \n",
        "                           sums={'e': ('+xsptilde', '-xm'),\n",
        "                                 'x': ('+xd', '+xu')}, \n",
        "                           inputs={'xsp': blocksim.step(size=0.1),\n",
        "                                   'x1' : blocksim.step(starttime=60,size=0.1)})\n",
        "diagram"
      ],
      "execution_count": 11,
      "outputs": [
        {
          "output_type": "execute_result",
          "data": {
            "text/plain": [
              "LTI: xsp →[ Km ]→ xsptilde\n",
              "PI: e →[ Gc ]→ p\n",
              "AlgebraicEquation: p →[ Limiter ]→ plimited\n",
              "LTI: plimited →[ Kip ]→ pt\n",
              "LTI: pt →[ Gv ]→ w2\n",
              "LTI: w2 →[ Gp ]→ xu\n",
              "LTI: x1 →[ Gd ]→ xd\n",
              "LTI: x →[ Gm ]→ xm"
            ]
          },
          "metadata": {},
          "execution_count": 11
        }
      ]
    },
    {
      "cell_type": "markdown",
      "metadata": {
        "id": "NRXAVrnvDk_y"
      },
      "source": [
        "In the chunk of code above we specify an step change in the setpoint $x_{sp}$ at t = 0 min and a step change in the disturbance $x_1$ at t = 20 min. Both step changes have an amplitude of 0.1 mass fraction. \n",
        "\n",
        "`blocksim` is primarily focused on being able to simulate a diagram. The next step is to create a time vector and do the simulation.\n",
        "\n",
        "The time vector also specifies the step size for integration. Since `blocksim` uses Euler integration internally you should choose a time step which is at least 10 times smaller than the smallest time constant of all the blocks. The timespan is of course dependent on what you are investigating."
      ]
    },
    {
      "cell_type": "code",
      "metadata": {
        "id": "4Lw0jNZmF2fA"
      },
      "source": [
        "ts = numpy.linspace(start=0, stop=120, num=120*600)"
      ],
      "execution_count": 12,
      "outputs": []
    },
    {
      "cell_type": "code",
      "metadata": {
        "colab": {
          "base_uri": "https://localhost:8080/",
          "height": 49
        },
        "id": "BTqhZef4GZNV",
        "outputId": "f2a7ad8f-9ef1-4f13-8afb-1af93fb3ee02"
      },
      "source": [
        "simulation_results = diagram.simulate(ts, progress=True)"
      ],
      "execution_count": 13,
      "outputs": [
        {
          "output_type": "display_data",
          "data": {
            "application/vnd.jupyter.widget-view+json": {
              "model_id": "376dc41c4b4a4312af32ef427b9713a9",
              "version_minor": 0,
              "version_major": 2
            },
            "text/plain": [
              "  0%|          | 0/72000 [00:00<?, ?it/s]"
            ]
          },
          "metadata": {}
        }
      ]
    },
    {
      "cell_type": "markdown",
      "metadata": {
        "id": "GpZPQ6cbGhKx"
      },
      "source": [
        "The result of `simulate()` is a dictionary containing the simulation results."
      ]
    },
    {
      "cell_type": "code",
      "metadata": {
        "colab": {
          "base_uri": "https://localhost:8080/",
          "height": 296
        },
        "id": "x1TEJkVHGpVp",
        "outputId": "bdd64cf6-2fd8-4818-8fb1-b614fa9e8356"
      },
      "source": [
        "plt.plot(ts, simulation_results['xsp'], ts, simulation_results['x1'], ts, simulation_results['x'])\n",
        "plt.xlabel('Time [min]')\n",
        "plt.ylabel('Deviation in $x_{sp}$, $x_1$ or $x$ [mass fraction]')\n",
        "plt.legend(['$x_{sp}$', '$x_1$', '$x$'])"
      ],
      "execution_count": 15,
      "outputs": [
        {
          "output_type": "execute_result",
          "data": {
            "text/plain": [
              "<matplotlib.legend.Legend at 0x7f625a6b9f10>"
            ]
          },
          "metadata": {},
          "execution_count": 15
        },
        {
          "output_type": "display_data",
          "data": {
            "image/png": "[encoded data removed]",
            "text/plain": [
              "<Figure size 432x288 with 1 Axes>"
            ]
          },
          "metadata": {
            "needs_background": "light"
          }
        }
      ]
    },
    {
      "cell_type": "code",
      "metadata": {
        "colab": {
          "base_uri": "https://localhost:8080/",
          "height": 296
        },
        "id": "mlZh6JaZQtNI",
        "outputId": "bc7d0555-ca8e-457d-c1fd-8df6cd191ee3"
      },
      "source": [
        "plt.plot(ts, simulation_results['e'], ts, simulation_results['plimited'])\n",
        "plt.xlabel('Time [min]')\n",
        "plt.ylabel('Deviation in $e$ or $p_{limited}$ [mA]')\n",
        "plt.legend(['$e$', '$p_{limited}$'])"
      ],
      "execution_count": 17,
      "outputs": [
        {
          "output_type": "execute_result",
          "data": {
            "text/plain": [
              "<matplotlib.legend.Legend at 0x7f625a68cf50>"
            ]
          },
          "metadata": {},
          "execution_count": 17
        },
        {
          "output_type": "display_data",
          "data": {
            "image/png": "[encoded data removed]",
            "text/plain": [
              "<Figure size 432x288 with 1 Axes>"
            ]
          },
          "metadata": {
            "needs_background": "light"
          }
        }
      ]
    },
    {
      "cell_type": "code",
      "metadata": {
        "colab": {
          "base_uri": "https://localhost:8080/",
          "height": 296
        },
        "id": "0rdmuqzoSHVQ",
        "outputId": "62e0c8ce-c3dc-4cb4-9a13-ce6c88c5e60f"
      },
      "source": [
        "plt.plot(ts, simulation_results['pt'], ts, simulation_results['w2'])\n",
        "plt.xlabel('Time [min]')\n",
        "plt.ylabel('Deviation in $p_t$ or $w_2$ [psig, kg/min]')\n",
        "plt.legend(['$p_t$', '$w_2$'])"
      ],
      "execution_count": 18,
      "outputs": [
        {
          "output_type": "execute_result",
          "data": {
            "text/plain": [
              "<matplotlib.legend.Legend at 0x7f625a0881d0>"
            ]
          },
          "metadata": {},
          "execution_count": 18
        },
        {
          "output_type": "display_data",
          "data": {
            "image/png": "[encoded data removed]",
            "text/plain": [
              "<Figure size 432x288 with 1 Axes>"
            ]
          },
          "metadata": {
            "needs_background": "light"
          }
        }
      ]
    },
    {
      "cell_type": "markdown",
      "metadata": {
        "id": "jUu5ohKMirbc"
      },
      "source": [
        "Now let's try to simulate the control loop shown [here (Fig. 8-17)](https://udghoshna.files.wordpress.com/2013/06/136649035-process-systems-analysis-and-control-d-coughanowr-3rd-ed.pdf#page=202) "
      ]
    },
    {
      "cell_type": "code",
      "metadata": {
        "colab": {
          "base_uri": "https://localhost:8080/"
        },
        "id": "9GTPazDRjxKg",
        "outputId": "ae429510-d449-445d-d495-33c1762cd249"
      },
      "source": [
        "Kc = 20\n",
        "Kc = blocksim.LTI('Kc', 'Error', 'Q', Kc)\n",
        "Kc"
      ],
      "execution_count": 19,
      "outputs": [
        {
          "output_type": "execute_result",
          "data": {
            "text/plain": [
              "LTI: Error →[ Kc ]→ Q"
            ]
          },
          "metadata": {},
          "execution_count": 19
        }
      ]
    },
    {
      "cell_type": "code",
      "metadata": {
        "colab": {
          "base_uri": "https://localhost:8080/"
        },
        "id": "P4_wMiHvjxKu",
        "outputId": "5f51fa19-8d74-4f3e-d855-73634ee117ae"
      },
      "source": [
        "A = 0.0714\n",
        "A = blocksim.LTI('A', 'Q', 'out1', A)\n",
        "A"
      ],
      "execution_count": 20,
      "outputs": [
        {
          "output_type": "execute_result",
          "data": {
            "text/plain": [
              "LTI: Q →[ A ]→ out1"
            ]
          },
          "metadata": {},
          "execution_count": 20
        }
      ]
    },
    {
      "cell_type": "code",
      "metadata": {
        "colab": {
          "base_uri": "https://localhost:8080/"
        },
        "id": "WbW5W9oXjxKu",
        "outputId": "052496cb-b492-4386-a4b3-6a5b939da219"
      },
      "source": [
        "tau = 5\n",
        "Tank = blocksim.LTI('Tank', 'out2', 'T', 1, [tau, 1])\n",
        "Tank"
      ],
      "execution_count": 21,
      "outputs": [
        {
          "output_type": "execute_result",
          "data": {
            "text/plain": [
              "LTI: out2 →[ Tank ]→ T"
            ]
          },
          "metadata": {},
          "execution_count": 21
        }
      ]
    },
    {
      "cell_type": "code",
      "metadata": {
        "colab": {
          "base_uri": "https://localhost:8080/"
        },
        "id": "lLtJ6-ctmpca",
        "outputId": "143e29e4-c705-41c5-f999-eff6f473e8e8"
      },
      "source": [
        "taum = 0.33\n",
        "Thermocouple = blocksim.LTI('Thermocouple', 'T', 'Tm', 1, [taum, 1])\n",
        "Thermocouple"
      ],
      "execution_count": 22,
      "outputs": [
        {
          "output_type": "execute_result",
          "data": {
            "text/plain": [
              "LTI: T →[ Thermocouple ]→ Tm"
            ]
          },
          "metadata": {},
          "execution_count": 22
        }
      ]
    },
    {
      "cell_type": "code",
      "metadata": {
        "colab": {
          "base_uri": "https://localhost:8080/"
        },
        "id": "USrl8O8AmuqB",
        "outputId": "179ab114-4f16-4304-a911-43e086c1d318"
      },
      "source": [
        "diagram = blocksim.Diagram([Kc, A, Tank, Thermocouple], \n",
        "                           sums={'Error': ('+Tr', '-Tm'),\n",
        "                                 'out2': ('+out1', '+Ti')}, \n",
        "                           inputs={'Tr': blocksim.step(size=5),\n",
        "                                   'Ti' : blocksim.step(starttime=15,size=5)})\n",
        "diagram"
      ],
      "execution_count": 23,
      "outputs": [
        {
          "output_type": "execute_result",
          "data": {
            "text/plain": [
              "LTI: Error →[ Kc ]→ Q\n",
              "LTI: Q →[ A ]→ out1\n",
              "LTI: out2 →[ Tank ]→ T\n",
              "LTI: T →[ Thermocouple ]→ Tm"
            ]
          },
          "metadata": {},
          "execution_count": 23
        }
      ]
    },
    {
      "cell_type": "code",
      "metadata": {
        "id": "WX_iqUqXn3R6"
      },
      "source": [
        "ts = numpy.linspace(start=0, stop=15, num=15*100)"
      ],
      "execution_count": 24,
      "outputs": []
    },
    {
      "cell_type": "code",
      "metadata": {
        "colab": {
          "base_uri": "https://localhost:8080/",
          "height": 49,
          "referenced_widgets": [
            "9cdc0fa4f2544f26a65f450ab0f43e35",
            "2f179a5745ff40129c513e549d109841",
            "0d456827747b4eca9112b317641e2946",
            "2e437cf7b0e04f208abb42cba3e50070",
            "8c69a018e19349bbb60476afc430cb9e",
            "65a5f701634640d08b5f00c2238a1520",
            "552d95f3459549069eaaad7052e2fdb0",
            "60a18ff0130b46e4b05b471ea2ac8596",
            "82b4c24459ae4b10931cd231b37f47ac",
            "370723e5a3ce45d7932e91411e4de2fb",
            "13f4889b21ea4736b35c8bc871bd812b"
          ]
        },
        "id": "0zou1TFrn3R6",
        "outputId": "b8597e3c-5893-40c0-d6bd-be7be3d485c8"
      },
      "source": [
        "simulation_results = diagram.simulate(ts, progress=True)"
      ],
      "execution_count": 25,
      "outputs": [
        {
          "output_type": "display_data",
          "data": {
            "application/vnd.jupyter.widget-view+json": {
              "model_id": "9cdc0fa4f2544f26a65f450ab0f43e35",
              "version_minor": 0,
              "version_major": 2
            },
            "text/plain": [
              "  0%|          | 0/1500 [00:00<?, ?it/s]"
            ]
          },
          "metadata": {}
        }
      ]
    },
    {
      "cell_type": "markdown",
      "metadata": {
        "id": "QCBi2eHJr25b"
      },
      "source": [
        "With these `simulation_results` we can plot part of the graph shown [here (Fig. 8-18)](https://udghoshna.files.wordpress.com/2013/06/136649035-process-systems-analysis-and-control-d-coughanowr-3rd-ed.pdf#page=202)."
      ]
    },
    {
      "cell_type": "code",
      "metadata": {
        "colab": {
          "base_uri": "https://localhost:8080/",
          "height": 279
        },
        "id": "u4OSCuoEn3R7",
        "outputId": "59fa2a71-a8ed-4c6b-bdf1-249760f094d1"
      },
      "source": [
        "plt.plot(ts, simulation_results['T'], ts, simulation_results['Tr'])\n",
        "plt.xlabel('Time [min]')\n",
        "plt.ylabel('Deviation in $T$ or $T_r$ [℃]')\n",
        "plt.legend(['$K_c = 20$'])\n",
        "plt.grid()"
      ],
      "execution_count": 30,
      "outputs": [
        {
          "output_type": "display_data",
          "data": {
            "image/png": "[encoded data removed]",
            "text/plain": [
              "<Figure size 432x288 with 1 Axes>"
            ]
          },
          "metadata": {
            "needs_background": "light"
          }
        }
      ]
    },
    {
      "cell_type": "markdown",
      "metadata": {
        "id": "0ZakpRbzxObx"
      },
      "source": [
        "Now we can add all chunks of code together and plot exactly the same graph shown [here (Fig. 12-5)](https://udghoshna.files.wordpress.com/2013/06/136649035-process-systems-analysis-and-control-d-coughanowr-3rd-ed.pdf#page=254).   \n",
        "\n",
        "Remember that the change amplitude in the setpoint $T_r$ was 5℃, so this graph shows how the offset decreases with the increasing of $K_c$."
      ]
    },
    {
      "cell_type": "code",
      "metadata": {
        "colab": {
          "base_uri": "https://localhost:8080/",
          "height": 407,
          "referenced_widgets": [
            "0a73f0c2c3f540e7a42f8d588a0d49df",
            "eed66c63546441f1bf11584386aa2930",
            "593fc397efd04e5c8be5509aa00bb99d",
            "e094766192f34b03a7f01c8eedc7470e",
            "0364c805ce00427fb190e61e7e5c1ed0",
            "a82f2b841c1e4f88a6c8abc66319ccde",
            "d88b3788af0e46f4a0ad3ce99196349b",
            "17c3f82309e74295a47a80f47bc6b730",
            "cfacaee21b804aa2b5f095e89dce7798",
            "8d14bdc2104b4117a43b838b7247858c",
            "0acb4d85f03142bb9aeca0f043ee3326"
          ]
        },
        "id": "hJ9t93p6uRq1",
        "outputId": "6809384f-f9cf-423e-f11b-1641427e53b7"
      },
      "source": [
        "ts = numpy.linspace(start=0, stop=15, num=15*100)\n",
        "def ex81(ts=ts, Kc=100, tau=5, taum=0, A = 0.0714, sizes=[5,5], starttimes=[0,15]):\n",
        "  Kc = blocksim.LTI('Kc', 'Error', 'Q', Kc)\n",
        "  A = blocksim.LTI('A', 'Q', 'out1', A)\n",
        "  Tank = blocksim.LTI('Tank', 'out2', 'T', 1, [tau, 1])\n",
        "  Thermocouple = blocksim.LTI('Thermocouple', 'T', 'Tm', 1, [taum, 1])\n",
        "  diagram = blocksim.Diagram([Kc, A, Tank, Thermocouple], \n",
        "                           sums={'Error': ('+Tr', '-Tm'),\n",
        "                                 'out2': ('+out1', '+Ti')}, \n",
        "                           inputs={'Tr': blocksim.step(size=sizes[0]),\n",
        "                                   'Ti' : blocksim.step(starttime=starttimes[1],size=sizes[1])})\n",
        "  return diagram.simulate(ts, progress=True)\n",
        "\n",
        "Kcs = [5, 10, 20, 100]\n",
        "for Kc in Kcs:\n",
        "  simulation_results = ex81(Kc=Kc)\n",
        "  plt.plot(ts, simulation_results['T'])\n",
        "  plt.xlabel('Time [min]')\n",
        "  plt.ylabel('Deviation in $T$ [℃]')\n",
        "\n",
        "plt.legend(['$K_c = {0}$'.format(Kc) for Kc in Kcs])\n",
        "plt.grid()"
      ],
      "execution_count": 80,
      "outputs": [
        {
          "output_type": "display_data",
          "data": {
            "application/vnd.jupyter.widget-view+json": {
              "model_id": "0a73f0c2c3f540e7a42f8d588a0d49df",
              "version_minor": 0,
              "version_major": 2
            },
            "text/plain": [
              "  0%|          | 0/1500 [00:00<?, ?it/s]"
            ]
          },
          "metadata": {}
        },
        {
          "output_type": "display_data",
          "data": {
            "application/vnd.jupyter.widget-view+json": {
              "model_id": "ffc38cd330c94deaa71e03846f527e39",
              "version_minor": 0,
              "version_major": 2
            },
            "text/plain": [
              "  0%|          | 0/1500 [00:00<?, ?it/s]"
            ]
          },
          "metadata": {}
        },
        {
          "output_type": "display_data",
          "data": {
            "application/vnd.jupyter.widget-view+json": {
              "model_id": "b283dfe40c274fffacaab701954b36f3",
              "version_minor": 0,
              "version_major": 2
            },
            "text/plain": [
              "  0%|          | 0/1500 [00:00<?, ?it/s]"
            ]
          },
          "metadata": {}
        },
        {
          "output_type": "display_data",
          "data": {
            "application/vnd.jupyter.widget-view+json": {
              "model_id": "8e0ef525cc4e482685871514fe34c855",
              "version_minor": 0,
              "version_major": 2
            },
            "text/plain": [
              "  0%|          | 0/1500 [00:00<?, ?it/s]"
            ]
          },
          "metadata": {}
        },
        {
          "output_type": "display_data",
          "data": {
            "image/png": "[encoded data removed]",
            "text/plain": [
              "<Figure size 432x288 with 1 Axes>"
            ]
          },
          "metadata": {
            "needs_background": "light"
          }
        }
      ]
    }
  ]
}
