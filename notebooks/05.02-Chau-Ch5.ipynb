{
  "nbformat": 4,
  "nbformat_minor": 0,
  "metadata": {
    "colab": {
      "name": "05.02-Chau-Ch5.ipynb",
      "provenance": [],
      "authorship_tag": "ABX9TyOBuMmNVPtuFKij0BniH8sD",
      "include_colab_link": true
    },
    "kernelspec": {
      "name": "python3",
      "display_name": "Python 3"
    },
    "language_info": {
      "name": "python"
    }
  },
  "cells": [
    {
      "cell_type": "markdown",
      "metadata": {
        "id": "view-in-github",
        "colab_type": "text"
      },
      "source": [
        "<a href=\"https://colab.research.google.com/github/gmxavier/FAT0413150/blob/main/notebooks/05.02-Chau-Ch5.ipynb\" target=\"_parent\"><img src=\"https://colab.research.google.com/assets/colab-badge.svg\" alt=\"Open In Colab\"/></a>"
      ]
    },
    {
      "cell_type": "markdown",
      "metadata": {
        "id": "LptyVIzAjNn9"
      },
      "source": [
        "This notebook shows how to use functions from `scipy`, `numpy`, `control` and `matplotlib` to substitute MATLAB functions used in [Chapter 5](https://ia802909.us.archive.org/32/items/process-control-a-first-course-with-matlab/Process%20Control%20A%20First%20Course%20with%20MATLAB.pdf#page=99) of Pao C. Chau, Process Control: A First Course with MATLAB."
      ]
    },
    {
      "cell_type": "code",
      "metadata": {
        "id": "jrU0MMj1jKNe"
      },
      "source": [
        "from sympy import symbols\n",
        "from sympy.abc import s, t\n",
        "from sympy.physics.control.lti import TransferFunction\n",
        "#import scipy as sp\n",
        "#import numpy as np\n",
        "#!pip install control\n",
        "#from control.matlab import *\n",
        "#import matplotlib.pyplot as plt"
      ],
      "execution_count": 1,
      "outputs": []
    },
    {
      "cell_type": "code",
      "metadata": {
        "id": "a5jehPtH63hF"
      },
      "source": [
        "# Example 5.1, p. 96\n",
        "Kc, Kp, taup = symbols('K_c, K_p, tau_p')"
      ],
      "execution_count": 2,
      "outputs": []
    }
  ]
}