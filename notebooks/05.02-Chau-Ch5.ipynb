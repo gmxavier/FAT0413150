{
  "nbformat": 4,
  "nbformat_minor": 0,
  "metadata": {
    "colab": {
      "name": "05.02-Chau-Ch5.ipynb",
      "provenance": [],
      "authorship_tag": "ABX9TyOT7nasJ0t1ccXYl+zCC9KI",
      "include_colab_link": true
    },
    "kernelspec": {
      "name": "python3",
      "display_name": "Python 3"
    },
    "language_info": {
      "name": "python"
    }
  },
  "cells": [
    {
      "cell_type": "markdown",
      "metadata": {
        "id": "view-in-github",
        "colab_type": "text"
      },
      "source": [
        "<a href=\"https://colab.research.google.com/github/gmxavier/FAT0413150/blob/main/notebooks/05.02-Chau-Ch5.ipynb\" target=\"_parent\"><img src=\"https://colab.research.google.com/assets/colab-badge.svg\" alt=\"Open In Colab\"/></a>"
      ]
    },
    {
      "cell_type": "markdown",
      "metadata": {
        "id": "LptyVIzAjNn9"
      },
      "source": [
        "This notebook shows how to use functions from `scipy`, `numpy`, `control` and `matplotlib` to substitute MATLAB functions used in [Chapter 5](https://ia802909.us.archive.org/32/items/process-control-a-first-course-with-matlab/Process%20Control%20A%20First%20Course%20with%20MATLAB.pdf#page=99) of Pao C. Chau, Process Control: A First Course with MATLAB."
      ]
    },
    {
      "cell_type": "code",
      "metadata": {
        "id": "jrU0MMj1jKNe"
      },
      "source": [
        "from sympy import symbols, Poly\n",
        "from sympy.abc import s, t\n",
        "from sympy.physics.control.lti import TransferFunction as TF, Series, Feedback"
      ],
      "execution_count": 1,
      "outputs": []
    },
    {
      "cell_type": "code",
      "source": [
        "# Declaring symbols\n",
        "Kc, Ka, Kp, Km, taup, tau1, tau2, tauI, tauD, A, alpha = symbols('K_c, K_a, K_p, K_m, tau_p, tau_1, tau_2, tau_I, tau_D, A, alpha')\n",
        "\n",
        "# Defining a function to format TF as in textbooks\n",
        "def tbformat(G):\n",
        "  aux = Poly(Gsc.den, s).coeffs()\n",
        "  aux1 = aux[-1]\n",
        "  for k, kk in enumerate(aux):\n",
        "    aux[k] = kk/aux1\n",
        "  aux2 = Poly(Gsc.num, s).coeffs()\n",
        "  for k, kk in enumerate(aux2):\n",
        "    aux2[k] = kk/aux1\n",
        "  return Poly(aux2,s)/Poly(aux,s)"
      ],
      "metadata": {
        "id": "6YK32otsZNjD"
      },
      "execution_count": 15,
      "outputs": []
    },
    {
      "cell_type": "code",
      "metadata": {
        "id": "a5jehPtH63hF",
        "colab": {
          "base_uri": "https://localhost:8080/",
          "height": 69
        },
        "outputId": "b7994ec0-1128-4ef6-c60a-f2ad78c66901"
      },
      "source": [
        "# Example 5.1, p. 96\n",
        "Gc = TF(Kc,1,s)\n",
        "Ga = TF(1,1,s)\n",
        "Gp = TF(Kp,taup*s+1,s)\n",
        "Gm = TF(1,1,s)\n",
        "Gol = Series(Ga,Gc,Gp)\n",
        "Gsc = Feedback(Gol,Gm)\n",
        "Gsc = Series(Gsc,Gm)\n",
        "Gsc = Gsc.doit().simplify()\n",
        "tbformat(Gsc) #same as eq. E5.2"
      ],
      "execution_count": 4,
      "outputs": [
        {
          "output_type": "execute_result",
          "data": {
            "text/plain": [
              "K_c*K_p/((K_c*K_p + 1)*(s*tau_p/(K_c*K_p + 1) + 1))"
            ],
            "text/latex": "$\\displaystyle \\frac{K_{c} K_{p}}{\\left(K_{c} K_{p} + 1\\right) \\left(\\frac{s \\tau_{p}}{K_{c} K_{p} + 1} + 1\\right)}$"
          },
          "metadata": {},
          "execution_count": 4
        }
      ]
    },
    {
      "cell_type": "code",
      "source": [
        "# Example 5.2, p. 98\n",
        "Gc = TF(Kc,1,s)\n",
        "Ga = TF(1,1,s)\n",
        "Gp = TF(Kp,(tau1*s+1)*(tau2*s+1),s)\n",
        "Gm = TF(1,1,s)\n",
        "Gol = Series(Ga,Gc,Gp)\n",
        "Gsc = Feedback(Gol,Gm)\n",
        "Gsc = Series(Gsc,Gm)\n",
        "Gsc = Gsc.doit().simplify().expand()\n",
        "tbformat(Gsc) #same as eq. E5.4"
      ],
      "metadata": {
        "colab": {
          "base_uri": "https://localhost:8080/",
          "height": 69
        },
        "id": "rfJRPc41cvZ-",
        "outputId": "f10a0e8c-ce17-4a3c-8257-84a9ba5b089c"
      },
      "execution_count": 6,
      "outputs": [
        {
          "output_type": "execute_result",
          "data": {
            "text/plain": [
              "K_c*K_p/((K_c*K_p + 1)*(s**2*tau_1*tau_2/(K_c*K_p + 1) + s*(tau_1 + tau_2)/(K_c*K_p + 1) + 1))"
            ],
            "text/latex": "$\\displaystyle \\frac{K_{c} K_{p}}{\\left(K_{c} K_{p} + 1\\right) \\left(\\frac{s^{2} \\tau_{1} \\tau_{2}}{K_{c} K_{p} + 1} + \\frac{s \\left(\\tau_{1} + \\tau_{2}\\right)}{K_{c} K_{p} + 1} + 1\\right)}$"
          },
          "metadata": {},
          "execution_count": 6
        }
      ]
    },
    {
      "cell_type": "code",
      "source": [
        "# Example 5.3, p. 99\n",
        "Gc = TF(Kc*(tauI*s+1),tauI*s,s)\n",
        "Ga = TF(1,1,s)\n",
        "Gp = TF(Kp,taup*s+1,s)\n",
        "Gm = TF(1,1,s)\n",
        "Gol = Series(Ga,Gc,Gp)\n",
        "Gsc = Feedback(Gol,Gm)\n",
        "Gsc = Series(Gsc,Gm)\n",
        "Gsc = Gsc.doit().simplify().expand()\n",
        "tbformat(Gsc) #same as eq. E5.6a"
      ],
      "metadata": {
        "colab": {
          "base_uri": "https://localhost:8080/",
          "height": 64
        },
        "id": "DCwJzfKVYuSx",
        "outputId": "694b2b14-15f8-432e-a695-cf1556032f7f"
      },
      "execution_count": 7,
      "outputs": [
        {
          "output_type": "execute_result",
          "data": {
            "text/plain": [
              "(s*tau_I + 1)/(1 + s**2*tau_I*tau_p/(K_c*K_p) + s*(K_c*K_p*tau_I + tau_I)/(K_c*K_p))"
            ],
            "text/latex": "$\\displaystyle \\frac{s \\tau_{I} + 1}{1 + \\frac{s^{2} \\tau_{I} \\tau_{p}}{K_{c} K_{p}} + \\frac{s \\left(K_{c} K_{p} \\tau_{I} + \\tau_{I}\\right)}{K_{c} K_{p}}}$"
          },
          "metadata": {},
          "execution_count": 7
        }
      ]
    },
    {
      "cell_type": "code",
      "source": [
        "# Example 5.4, p. 99\n",
        "Gc = TF(Kc*(tauD*s+1),1,s)\n",
        "Ga = TF(1,1,s)\n",
        "Gp = TF(Kp,taup*s+1,s)\n",
        "Gm = TF(1,1,s)\n",
        "Gol = Series(Ga,Gc,Gp)\n",
        "Gsc = Feedback(Gol,Gm)\n",
        "Gsc = Series(Gsc,Gm)\n",
        "Gsc = Gsc.doit().simplify().expand()\n",
        "tbformat(Gsc) #same as eq. E5.8a"
      ],
      "metadata": {
        "colab": {
          "base_uri": "https://localhost:8080/",
          "height": 74
        },
        "id": "g9G6Bjw4Zrm5",
        "outputId": "e9c2a650-c3e7-4d82-efed-7b250ea2b56c"
      },
      "execution_count": 9,
      "outputs": [
        {
          "output_type": "execute_result",
          "data": {
            "text/plain": [
              "(K_c*K_p*s*tau_D/(K_c*K_p + 1) + K_c*K_p/(K_c*K_p + 1))/(s*(K_c*K_p*tau_D + tau_p)/(K_c*K_p + 1) + 1)"
            ],
            "text/latex": "$\\displaystyle \\frac{\\frac{K_{c} K_{p} s \\tau_{D}}{K_{c} K_{p} + 1} + \\frac{K_{c} K_{p}}{K_{c} K_{p} + 1}}{\\frac{s \\left(K_{c} K_{p} \\tau_{D} + \\tau_{p}\\right)}{K_{c} K_{p} + 1} + 1}$"
          },
          "metadata": {},
          "execution_count": 9
        }
      ]
    },
    {
      "cell_type": "code",
      "source": [
        "# Example 5.5, p. 100\n",
        "Gc = TF(Kc,1,s)\n",
        "Ga = TF(1,1,s)\n",
        "Gp = TF(1,A*s,s)\n",
        "Gm = TF(1,1,s)\n",
        "Gol = Series(Ga,Gc,Gp)\n",
        "Gsc = Feedback(Gol,Gm)\n",
        "Gsc = Series(Gsc,Gm)\n",
        "Gsc = Gsc.doit().simplify().expand() \n",
        "tbformat(Gsc) #same as eq. E5.9"
      ],
      "metadata": {
        "colab": {
          "base_uri": "https://localhost:8080/",
          "height": 60
        },
        "id": "TAtK74F1aVYi",
        "outputId": "20d2bede-bcd0-441e-821f-5f55406d75b5"
      },
      "execution_count": 11,
      "outputs": [
        {
          "output_type": "execute_result",
          "data": {
            "text/plain": [
              "1/(A*s/K_c + 1)"
            ],
            "text/latex": "$\\displaystyle \\frac{1}{\\frac{A s}{K_{c}} + 1}$"
          },
          "metadata": {},
          "execution_count": 11
        }
      ]
    },
    {
      "cell_type": "code",
      "source": [
        "# Another example\n",
        "Gc = TF(Kc*(1+(tauD*s+1)/(alpha*tauD*s+1)),1,s)\n",
        "Ga = TF(Ka,1,s)\n",
        "Gp = TF(Kp,taup*s+1,s)\n",
        "Gm = TF(Km,1,s)\n",
        "Gol = Series(Ga,Gc,Gp)\n",
        "Gsc = Feedback(Gol,Gm)\n",
        "Gsc = Series(Gsc,Gm)\n",
        "Gsc = Gsc.doit().simplify().expand()\n",
        "tbformat(Gsc)"
      ],
      "metadata": {
        "colab": {
          "base_uri": "https://localhost:8080/",
          "height": 75
        },
        "id": "LBqRf99ZE93A",
        "outputId": "fadb04af-0049-4a6d-dfb6-fa2d01196cb2"
      },
      "execution_count": 16,
      "outputs": [
        {
          "output_type": "execute_result",
          "data": {
            "text/plain": [
              "(2*K_a*K_c*K_m*K_p/(2*K_a*K_c*K_m*K_p + 1) + s*(K_a*K_c*K_m*K_p*alpha*tau_D + K_a*K_c*K_m*K_p*tau_D)/(2*K_a*K_c*K_m*K_p + 1))/(alpha*s**2*tau_D*tau_p/(2*K_a*K_c*K_m*K_p + 1) + s*(K_a*K_c*K_m*K_p*alpha*tau_D + K_a*K_c*K_m*K_p*tau_D + alpha*tau_D + tau_p)/(2*K_a*K_c*K_m*K_p + 1) + 1)"
            ],
            "text/latex": "$\\displaystyle \\frac{\\frac{2 K_{a} K_{c} K_{m} K_{p}}{2 K_{a} K_{c} K_{m} K_{p} + 1} + \\frac{s \\left(K_{a} K_{c} K_{m} K_{p} \\alpha \\tau_{D} + K_{a} K_{c} K_{m} K_{p} \\tau_{D}\\right)}{2 K_{a} K_{c} K_{m} K_{p} + 1}}{\\frac{\\alpha s^{2} \\tau_{D} \\tau_{p}}{2 K_{a} K_{c} K_{m} K_{p} + 1} + \\frac{s \\left(K_{a} K_{c} K_{m} K_{p} \\alpha \\tau_{D} + K_{a} K_{c} K_{m} K_{p} \\tau_{D} + \\alpha \\tau_{D} + \\tau_{p}\\right)}{2 K_{a} K_{c} K_{m} K_{p} + 1} + 1}$"
          },
          "metadata": {},
          "execution_count": 16
        }
      ]
    }
  ]
}