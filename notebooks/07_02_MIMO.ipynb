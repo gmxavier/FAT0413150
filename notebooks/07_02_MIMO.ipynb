{
  "nbformat": 4,
  "nbformat_minor": 0,
  "metadata": {
    "colab": {
      "name": "07.02-MIMO.ipynb",
      "provenance": [],
      "authorship_tag": "ABX9TyPtzMFs0nGjSirGP6cHbNlC",
      "include_colab_link": true
    },
    "kernelspec": {
      "name": "python3",
      "display_name": "Python 3"
    },
    "language_info": {
      "name": "python"
    },
    "widgets": {
      "application/vnd.jupyter.widget-state+json": {
        "4a9f83899a204c5aa0cf17da3f13e74c": {
          "model_module": "@jupyter-widgets/controls",
          "model_name": "HBoxModel",
          "model_module_version": "2.0.0",
          "state": {
            "_dom_classes": [],
            "_model_module": "@jupyter-widgets/controls",
            "_model_module_version": "2.0.0",
            "_model_name": "HBoxModel",
            "_view_count": null,
            "_view_module": "@jupyter-widgets/controls",
            "_view_module_version": "2.0.0",
            "_view_name": "HBoxView",
            "box_style": "",
            "children": [
              "IPY_MODEL_4c14bcaa3c8347a19669098c82464f8c",
              "IPY_MODEL_66ffa3f3c5ce49cc937df21a58844411",
              "IPY_MODEL_708c7eaa9d154296a9ec5b4c186915f5"
            ],
            "layout": "IPY_MODEL_f6c98c7c5c0949e18bb27ad1d68afa6e",
            "tabbable": null,
            "tooltip": null
          }
        },
        "4c14bcaa3c8347a19669098c82464f8c": {
          "model_module": "@jupyter-widgets/controls",
          "model_name": "HTMLModel",
          "model_module_version": "2.0.0",
          "state": {
            "_dom_classes": [],
            "_model_module": "@jupyter-widgets/controls",
            "_model_module_version": "2.0.0",
            "_model_name": "HTMLModel",
            "_view_count": null,
            "_view_module": "@jupyter-widgets/controls",
            "_view_module_version": "2.0.0",
            "_view_name": "HTMLView",
            "description": "",
            "description_allow_html": false,
            "layout": "IPY_MODEL_22ad6a435b4c49979f6f5c0ad5590610",
            "placeholder": "​",
            "style": "IPY_MODEL_53956e6db3584e6ab65164972c8bf0f4",
            "tabbable": null,
            "tooltip": null,
            "value": "100%"
          }
        },
        "66ffa3f3c5ce49cc937df21a58844411": {
          "model_module": "@jupyter-widgets/controls",
          "model_name": "FloatProgressModel",
          "model_module_version": "2.0.0",
          "state": {
            "_dom_classes": [],
            "_model_module": "@jupyter-widgets/controls",
            "_model_module_version": "2.0.0",
            "_model_name": "FloatProgressModel",
            "_view_count": null,
            "_view_module": "@jupyter-widgets/controls",
            "_view_module_version": "2.0.0",
            "_view_name": "ProgressView",
            "bar_style": "success",
            "description": "",
            "description_allow_html": false,
            "layout": "IPY_MODEL_1caf68ad758747668988fff611424faa",
            "max": 10000,
            "min": 0,
            "orientation": "horizontal",
            "style": "IPY_MODEL_ed60ddf7304746dfb15532c93e8e4c5b",
            "tabbable": null,
            "tooltip": null,
            "value": 10000
          }
        },
        "708c7eaa9d154296a9ec5b4c186915f5": {
          "model_module": "@jupyter-widgets/controls",
          "model_name": "HTMLModel",
          "model_module_version": "2.0.0",
          "state": {
            "_dom_classes": [],
            "_model_module": "@jupyter-widgets/controls",
            "_model_module_version": "2.0.0",
            "_model_name": "HTMLModel",
            "_view_count": null,
            "_view_module": "@jupyter-widgets/controls",
            "_view_module_version": "2.0.0",
            "_view_name": "HTMLView",
            "description": "",
            "description_allow_html": false,
            "layout": "IPY_MODEL_5d66e71cf29546cfb1536c81d6d6bce1",
            "placeholder": "​",
            "style": "IPY_MODEL_765e8629880a4480aecae3a341b168d9",
            "tabbable": null,
            "tooltip": null,
            "value": " 10000/10000 [00:33&lt;00:00, 178.76it/s]"
          }
        },
        "f6c98c7c5c0949e18bb27ad1d68afa6e": {
          "model_module": "@jupyter-widgets/base",
          "model_name": "LayoutModel",
          "model_module_version": "2.0.0",
          "state": {
            "_model_module": "@jupyter-widgets/base",
            "_model_module_version": "2.0.0",
            "_model_name": "LayoutModel",
            "_view_count": null,
            "_view_module": "@jupyter-widgets/base",
            "_view_module_version": "2.0.0",
            "_view_name": "LayoutView",
            "align_content": null,
            "align_items": null,
            "align_self": null,
            "border_bottom": null,
            "border_left": null,
            "border_right": null,
            "border_top": null,
            "bottom": null,
            "display": null,
            "flex": null,
            "flex_flow": null,
            "grid_area": null,
            "grid_auto_columns": null,
            "grid_auto_flow": null,
            "grid_auto_rows": null,
            "grid_column": null,
            "grid_gap": null,
            "grid_row": null,
            "grid_template_areas": null,
            "grid_template_columns": null,
            "grid_template_rows": null,
            "height": null,
            "justify_content": null,
            "justify_items": null,
            "left": null,
            "margin": null,
            "max_height": null,
            "max_width": null,
            "min_height": null,
            "min_width": null,
            "object_fit": null,
            "object_position": null,
            "order": null,
            "overflow": null,
            "padding": null,
            "right": null,
            "top": null,
            "visibility": null,
            "width": null
          }
        },
        "22ad6a435b4c49979f6f5c0ad5590610": {
          "model_module": "@jupyter-widgets/base",
          "model_name": "LayoutModel",
          "model_module_version": "2.0.0",
          "state": {
            "_model_module": "@jupyter-widgets/base",
            "_model_module_version": "2.0.0",
            "_model_name": "LayoutModel",
            "_view_count": null,
            "_view_module": "@jupyter-widgets/base",
            "_view_module_version": "2.0.0",
            "_view_name": "LayoutView",
            "align_content": null,
            "align_items": null,
            "align_self": null,
            "border_bottom": null,
            "border_left": null,
            "border_right": null,
            "border_top": null,
            "bottom": null,
            "display": null,
            "flex": null,
            "flex_flow": null,
            "grid_area": null,
            "grid_auto_columns": null,
            "grid_auto_flow": null,
            "grid_auto_rows": null,
            "grid_column": null,
            "grid_gap": null,
            "grid_row": null,
            "grid_template_areas": null,
            "grid_template_columns": null,
            "grid_template_rows": null,
            "height": null,
            "justify_content": null,
            "justify_items": null,
            "left": null,
            "margin": null,
            "max_height": null,
            "max_width": null,
            "min_height": null,
            "min_width": null,
            "object_fit": null,
            "object_position": null,
            "order": null,
            "overflow": null,
            "padding": null,
            "right": null,
            "top": null,
            "visibility": null,
            "width": null
          }
        },
        "53956e6db3584e6ab65164972c8bf0f4": {
          "model_module": "@jupyter-widgets/controls",
          "model_name": "HTMLStyleModel",
          "model_module_version": "2.0.0",
          "state": {
            "_model_module": "@jupyter-widgets/controls",
            "_model_module_version": "2.0.0",
            "_model_name": "HTMLStyleModel",
            "_view_count": null,
            "_view_module": "@jupyter-widgets/base",
            "_view_module_version": "2.0.0",
            "_view_name": "StyleView",
            "background": null,
            "description_width": "",
            "font_size": null,
            "text_color": null
          }
        },
        "1caf68ad758747668988fff611424faa": {
          "model_module": "@jupyter-widgets/base",
          "model_name": "LayoutModel",
          "model_module_version": "2.0.0",
          "state": {
            "_model_module": "@jupyter-widgets/base",
            "_model_module_version": "2.0.0",
            "_model_name": "LayoutModel",
            "_view_count": null,
            "_view_module": "@jupyter-widgets/base",
            "_view_module_version": "2.0.0",
            "_view_name": "LayoutView",
            "align_content": null,
            "align_items": null,
            "align_self": null,
            "border_bottom": null,
            "border_left": null,
            "border_right": null,
            "border_top": null,
            "bottom": null,
            "display": null,
            "flex": null,
            "flex_flow": null,
            "grid_area": null,
            "grid_auto_columns": null,
            "grid_auto_flow": null,
            "grid_auto_rows": null,
            "grid_column": null,
            "grid_gap": null,
            "grid_row": null,
            "grid_template_areas": null,
            "grid_template_columns": null,
            "grid_template_rows": null,
            "height": null,
            "justify_content": null,
            "justify_items": null,
            "left": null,
            "margin": null,
            "max_height": null,
            "max_width": null,
            "min_height": null,
            "min_width": null,
            "object_fit": null,
            "object_position": null,
            "order": null,
            "overflow": null,
            "padding": null,
            "right": null,
            "top": null,
            "visibility": null,
            "width": null
          }
        },
        "ed60ddf7304746dfb15532c93e8e4c5b": {
          "model_module": "@jupyter-widgets/controls",
          "model_name": "ProgressStyleModel",
          "model_module_version": "2.0.0",
          "state": {
            "_model_module": "@jupyter-widgets/controls",
            "_model_module_version": "2.0.0",
            "_model_name": "ProgressStyleModel",
            "_view_count": null,
            "_view_module": "@jupyter-widgets/base",
            "_view_module_version": "2.0.0",
            "_view_name": "StyleView",
            "bar_color": null,
            "description_width": ""
          }
        },
        "5d66e71cf29546cfb1536c81d6d6bce1": {
          "model_module": "@jupyter-widgets/base",
          "model_name": "LayoutModel",
          "model_module_version": "2.0.0",
          "state": {
            "_model_module": "@jupyter-widgets/base",
            "_model_module_version": "2.0.0",
            "_model_name": "LayoutModel",
            "_view_count": null,
            "_view_module": "@jupyter-widgets/base",
            "_view_module_version": "2.0.0",
            "_view_name": "LayoutView",
            "align_content": null,
            "align_items": null,
            "align_self": null,
            "border_bottom": null,
            "border_left": null,
            "border_right": null,
            "border_top": null,
            "bottom": null,
            "display": null,
            "flex": null,
            "flex_flow": null,
            "grid_area": null,
            "grid_auto_columns": null,
            "grid_auto_flow": null,
            "grid_auto_rows": null,
            "grid_column": null,
            "grid_gap": null,
            "grid_row": null,
            "grid_template_areas": null,
            "grid_template_columns": null,
            "grid_template_rows": null,
            "height": null,
            "justify_content": null,
            "justify_items": null,
            "left": null,
            "margin": null,
            "max_height": null,
            "max_width": null,
            "min_height": null,
            "min_width": null,
            "object_fit": null,
            "object_position": null,
            "order": null,
            "overflow": null,
            "padding": null,
            "right": null,
            "top": null,
            "visibility": null,
            "width": null
          }
        },
        "765e8629880a4480aecae3a341b168d9": {
          "model_module": "@jupyter-widgets/controls",
          "model_name": "HTMLStyleModel",
          "model_module_version": "2.0.0",
          "state": {
            "_model_module": "@jupyter-widgets/controls",
            "_model_module_version": "2.0.0",
            "_model_name": "HTMLStyleModel",
            "_view_count": null,
            "_view_module": "@jupyter-widgets/base",
            "_view_module_version": "2.0.0",
            "_view_name": "StyleView",
            "background": null,
            "description_width": "",
            "font_size": null,
            "text_color": null
          }
        },
        "26c09c04d70c4aba99a683abbdc299b9": {
          "model_module": "@jupyter-widgets/controls",
          "model_name": "HBoxModel",
          "model_module_version": "2.0.0",
          "state": {
            "_dom_classes": [],
            "_model_module": "@jupyter-widgets/controls",
            "_model_module_version": "2.0.0",
            "_model_name": "HBoxModel",
            "_view_count": null,
            "_view_module": "@jupyter-widgets/controls",
            "_view_module_version": "2.0.0",
            "_view_name": "HBoxView",
            "box_style": "",
            "children": [
              "IPY_MODEL_1b5a21f006a340658a3051e2bfe42a84",
              "IPY_MODEL_5fbef7a5ad1e43dfb5d82f1cc5b2067d",
              "IPY_MODEL_fc9290fe55fa4beaa60ee5b379fc3375"
            ],
            "layout": "IPY_MODEL_24181b818eeb48f28afdc3e096aabf6d",
            "tabbable": null,
            "tooltip": null
          }
        },
        "1b5a21f006a340658a3051e2bfe42a84": {
          "model_module": "@jupyter-widgets/controls",
          "model_name": "HTMLModel",
          "model_module_version": "2.0.0",
          "state": {
            "_dom_classes": [],
            "_model_module": "@jupyter-widgets/controls",
            "_model_module_version": "2.0.0",
            "_model_name": "HTMLModel",
            "_view_count": null,
            "_view_module": "@jupyter-widgets/controls",
            "_view_module_version": "2.0.0",
            "_view_name": "HTMLView",
            "description": "",
            "description_allow_html": false,
            "layout": "IPY_MODEL_c94b60797aa04a2d910c908669c3cf8a",
            "placeholder": "​",
            "style": "IPY_MODEL_83894eaa0c944f6392e19f9de595faab",
            "tabbable": null,
            "tooltip": null,
            "value": "100%"
          }
        },
        "5fbef7a5ad1e43dfb5d82f1cc5b2067d": {
          "model_module": "@jupyter-widgets/controls",
          "model_name": "FloatProgressModel",
          "model_module_version": "2.0.0",
          "state": {
            "_dom_classes": [],
            "_model_module": "@jupyter-widgets/controls",
            "_model_module_version": "2.0.0",
            "_model_name": "FloatProgressModel",
            "_view_count": null,
            "_view_module": "@jupyter-widgets/controls",
            "_view_module_version": "2.0.0",
            "_view_name": "ProgressView",
            "bar_style": "success",
            "description": "",
            "description_allow_html": false,
            "layout": "IPY_MODEL_3d612108c0eb48a0aaf0a1f905ce4c5e",
            "max": 10000,
            "min": 0,
            "orientation": "horizontal",
            "style": "IPY_MODEL_7f769d25dca1478ca19424a43acd8715",
            "tabbable": null,
            "tooltip": null,
            "value": 10000
          }
        },
        "fc9290fe55fa4beaa60ee5b379fc3375": {
          "model_module": "@jupyter-widgets/controls",
          "model_name": "HTMLModel",
          "model_module_version": "2.0.0",
          "state": {
            "_dom_classes": [],
            "_model_module": "@jupyter-widgets/controls",
            "_model_module_version": "2.0.0",
            "_model_name": "HTMLModel",
            "_view_count": null,
            "_view_module": "@jupyter-widgets/controls",
            "_view_module_version": "2.0.0",
            "_view_name": "HTMLView",
            "description": "",
            "description_allow_html": false,
            "layout": "IPY_MODEL_5408602971ca4f4babadbaa352ed63b2",
            "placeholder": "​",
            "style": "IPY_MODEL_b650aaa55e904178a267098ac2e67606",
            "tabbable": null,
            "tooltip": null,
            "value": " 10000/10000 [00:27&lt;00:00, 211.65it/s]"
          }
        },
        "24181b818eeb48f28afdc3e096aabf6d": {
          "model_module": "@jupyter-widgets/base",
          "model_name": "LayoutModel",
          "model_module_version": "2.0.0",
          "state": {
            "_model_module": "@jupyter-widgets/base",
            "_model_module_version": "2.0.0",
            "_model_name": "LayoutModel",
            "_view_count": null,
            "_view_module": "@jupyter-widgets/base",
            "_view_module_version": "2.0.0",
            "_view_name": "LayoutView",
            "align_content": null,
            "align_items": null,
            "align_self": null,
            "border_bottom": null,
            "border_left": null,
            "border_right": null,
            "border_top": null,
            "bottom": null,
            "display": null,
            "flex": null,
            "flex_flow": null,
            "grid_area": null,
            "grid_auto_columns": null,
            "grid_auto_flow": null,
            "grid_auto_rows": null,
            "grid_column": null,
            "grid_gap": null,
            "grid_row": null,
            "grid_template_areas": null,
            "grid_template_columns": null,
            "grid_template_rows": null,
            "height": null,
            "justify_content": null,
            "justify_items": null,
            "left": null,
            "margin": null,
            "max_height": null,
            "max_width": null,
            "min_height": null,
            "min_width": null,
            "object_fit": null,
            "object_position": null,
            "order": null,
            "overflow": null,
            "padding": null,
            "right": null,
            "top": null,
            "visibility": null,
            "width": null
          }
        },
        "c94b60797aa04a2d910c908669c3cf8a": {
          "model_module": "@jupyter-widgets/base",
          "model_name": "LayoutModel",
          "model_module_version": "2.0.0",
          "state": {
            "_model_module": "@jupyter-widgets/base",
            "_model_module_version": "2.0.0",
            "_model_name": "LayoutModel",
            "_view_count": null,
            "_view_module": "@jupyter-widgets/base",
            "_view_module_version": "2.0.0",
            "_view_name": "LayoutView",
            "align_content": null,
            "align_items": null,
            "align_self": null,
            "border_bottom": null,
            "border_left": null,
            "border_right": null,
            "border_top": null,
            "bottom": null,
            "display": null,
            "flex": null,
            "flex_flow": null,
            "grid_area": null,
            "grid_auto_columns": null,
            "grid_auto_flow": null,
            "grid_auto_rows": null,
            "grid_column": null,
            "grid_gap": null,
            "grid_row": null,
            "grid_template_areas": null,
            "grid_template_columns": null,
            "grid_template_rows": null,
            "height": null,
            "justify_content": null,
            "justify_items": null,
            "left": null,
            "margin": null,
            "max_height": null,
            "max_width": null,
            "min_height": null,
            "min_width": null,
            "object_fit": null,
            "object_position": null,
            "order": null,
            "overflow": null,
            "padding": null,
            "right": null,
            "top": null,
            "visibility": null,
            "width": null
          }
        },
        "83894eaa0c944f6392e19f9de595faab": {
          "model_module": "@jupyter-widgets/controls",
          "model_name": "HTMLStyleModel",
          "model_module_version": "2.0.0",
          "state": {
            "_model_module": "@jupyter-widgets/controls",
            "_model_module_version": "2.0.0",
            "_model_name": "HTMLStyleModel",
            "_view_count": null,
            "_view_module": "@jupyter-widgets/base",
            "_view_module_version": "2.0.0",
            "_view_name": "StyleView",
            "background": null,
            "description_width": "",
            "font_size": null,
            "text_color": null
          }
        },
        "3d612108c0eb48a0aaf0a1f905ce4c5e": {
          "model_module": "@jupyter-widgets/base",
          "model_name": "LayoutModel",
          "model_module_version": "2.0.0",
          "state": {
            "_model_module": "@jupyter-widgets/base",
            "_model_module_version": "2.0.0",
            "_model_name": "LayoutModel",
            "_view_count": null,
            "_view_module": "@jupyter-widgets/base",
            "_view_module_version": "2.0.0",
            "_view_name": "LayoutView",
            "align_content": null,
            "align_items": null,
            "align_self": null,
            "border_bottom": null,
            "border_left": null,
            "border_right": null,
            "border_top": null,
            "bottom": null,
            "display": null,
            "flex": null,
            "flex_flow": null,
            "grid_area": null,
            "grid_auto_columns": null,
            "grid_auto_flow": null,
            "grid_auto_rows": null,
            "grid_column": null,
            "grid_gap": null,
            "grid_row": null,
            "grid_template_areas": null,
            "grid_template_columns": null,
            "grid_template_rows": null,
            "height": null,
            "justify_content": null,
            "justify_items": null,
            "left": null,
            "margin": null,
            "max_height": null,
            "max_width": null,
            "min_height": null,
            "min_width": null,
            "object_fit": null,
            "object_position": null,
            "order": null,
            "overflow": null,
            "padding": null,
            "right": null,
            "top": null,
            "visibility": null,
            "width": null
          }
        },
        "7f769d25dca1478ca19424a43acd8715": {
          "model_module": "@jupyter-widgets/controls",
          "model_name": "ProgressStyleModel",
          "model_module_version": "2.0.0",
          "state": {
            "_model_module": "@jupyter-widgets/controls",
            "_model_module_version": "2.0.0",
            "_model_name": "ProgressStyleModel",
            "_view_count": null,
            "_view_module": "@jupyter-widgets/base",
            "_view_module_version": "2.0.0",
            "_view_name": "StyleView",
            "bar_color": null,
            "description_width": ""
          }
        },
        "5408602971ca4f4babadbaa352ed63b2": {
          "model_module": "@jupyter-widgets/base",
          "model_name": "LayoutModel",
          "model_module_version": "2.0.0",
          "state": {
            "_model_module": "@jupyter-widgets/base",
            "_model_module_version": "2.0.0",
            "_model_name": "LayoutModel",
            "_view_count": null,
            "_view_module": "@jupyter-widgets/base",
            "_view_module_version": "2.0.0",
            "_view_name": "LayoutView",
            "align_content": null,
            "align_items": null,
            "align_self": null,
            "border_bottom": null,
            "border_left": null,
            "border_right": null,
            "border_top": null,
            "bottom": null,
            "display": null,
            "flex": null,
            "flex_flow": null,
            "grid_area": null,
            "grid_auto_columns": null,
            "grid_auto_flow": null,
            "grid_auto_rows": null,
            "grid_column": null,
            "grid_gap": null,
            "grid_row": null,
            "grid_template_areas": null,
            "grid_template_columns": null,
            "grid_template_rows": null,
            "height": null,
            "justify_content": null,
            "justify_items": null,
            "left": null,
            "margin": null,
            "max_height": null,
            "max_width": null,
            "min_height": null,
            "min_width": null,
            "object_fit": null,
            "object_position": null,
            "order": null,
            "overflow": null,
            "padding": null,
            "right": null,
            "top": null,
            "visibility": null,
            "width": null
          }
        },
        "b650aaa55e904178a267098ac2e67606": {
          "model_module": "@jupyter-widgets/controls",
          "model_name": "HTMLStyleModel",
          "model_module_version": "2.0.0",
          "state": {
            "_model_module": "@jupyter-widgets/controls",
            "_model_module_version": "2.0.0",
            "_model_name": "HTMLStyleModel",
            "_view_count": null,
            "_view_module": "@jupyter-widgets/base",
            "_view_module_version": "2.0.0",
            "_view_name": "StyleView",
            "background": null,
            "description_width": "",
            "font_size": null,
            "text_color": null
          }
        }
      }
    }
  },
  "cells": [
    {
      "cell_type": "markdown",
      "metadata": {
        "id": "view-in-github",
        "colab_type": "text"
      },
      "source": [
        "<a href=\"https://colab.research.google.com/github/gmxavier/FAT0413150/blob/main/notebooks/07_02_MIMO.ipynb\" target=\"_parent\"><img src=\"https://colab.research.google.com/assets/colab-badge.svg\" alt=\"Open In Colab\"/></a>"
      ]
    },
    {
      "cell_type": "markdown",
      "source": [
        "This notebook shows how to use functions from `tbcontrol`, `numpy` and `matplotlib` to solve Multiple-Input Multiple-Output control problems."
      ],
      "metadata": {
        "id": "_0QhzCUWGSwE"
      }
    },
    {
      "cell_type": "code",
      "source": [
        "!pip install tbcontrol\n",
        "from tbcontrol import blocksim \n",
        "import numpy # as we usual need some numerical gadgets\n",
        "import matplotlib.pyplot as plt # in order to produce nice plots\n",
        "%matplotlib inline"
      ],
      "metadata": {
        "colab": {
          "base_uri": "https://localhost:8080/"
        },
        "id": "tZE0cF89J7Bs",
        "outputId": "4550330b-59e3-4d70-b3d9-eddfbdcf99ce"
      },
      "execution_count": 3,
      "outputs": [
        {
          "output_type": "stream",
          "name": "stdout",
          "text": [
            "Looking in indexes: https://pypi.org/simple, https://us-python.pkg.dev/colab-wheels/public/simple/\n",
            "Collecting tbcontrol\n",
            "  Downloading tbcontrol-0.2.1-py3-none-any.whl (24 kB)\n",
            "Requirement already satisfied: scipy in /usr/local/lib/python3.7/dist-packages (from tbcontrol) (1.7.3)\n",
            "Requirement already satisfied: tqdm in /usr/local/lib/python3.7/dist-packages (from tbcontrol) (4.64.0)\n",
            "Requirement already satisfied: numpy in /usr/local/lib/python3.7/dist-packages (from tbcontrol) (1.21.6)\n",
            "Requirement already satisfied: packaging in /usr/local/lib/python3.7/dist-packages (from tbcontrol) (21.3)\n",
            "Requirement already satisfied: pyparsing!=3.0.5,>=2.0.2 in /usr/local/lib/python3.7/dist-packages (from packaging->tbcontrol) (3.0.9)\n",
            "Installing collected packages: tbcontrol\n",
            "Successfully installed tbcontrol-0.2.1\n"
          ]
        }
      ]
    },
    {
      "cell_type": "markdown",
      "source": [
        "## [Example 10.6](https://ia802909.us.archive.org/32/items/process-control-a-first-course-with-matlab/Process%20Control%20A%20First%20Course%20with%20MATLAB.pdf#page=236) (Pao C. Chau, Process Control: A First Course with MATLAB)\n",
        "\n",
        "In this model, $x_D$ and $x_B$ are the distillate and the bottom compositions, respectively; $L$ is the reflux flow rate, and $V$ is the boil-up rate.\n",
        "\n",
        "![](https://www.researchgate.net/profile/Horst-Schulte/publication/268386449/figure/fig9/AS:563405431611393@1511337730120/Distillation-column-LV-configuration-87.png)"
      ],
      "metadata": {
        "id": "tVjLeOa0H1l1"
      }
    },
    {
      "cell_type": "code",
      "source": [
        "# Example 10.6\n",
        "def example_106_ol(ts, K=[[0.07,-0.05],[0.1,-0.15]], tau=[[12,15],[11,10]], td=[[3,1],[4,2]], L=1, V=0):\n",
        "  # Creating the blocks for the example 10.6\n",
        "  G11 = blocksim.LTI('G11', 'L', 'Y11', K[0][0], [tau[0][0], 1])\n",
        "  D11 = blocksim.Deadtime('D11', 'Y11', 'Y11d', td[0][0])\n",
        "  G12 = blocksim.LTI('G12', 'V', 'Y12', K[0][1], [tau[0][1], 1])\n",
        "  D12 = blocksim.Deadtime('D12', 'Y12', 'Y12d', td[0][1])\n",
        "  G21 = blocksim.LTI('G21', 'L', 'Y21', K[1][0], [tau[1][0], 1])\n",
        "  D21 = blocksim.Deadtime('D21', 'Y21', 'Y21d', td[1][0])\n",
        "  G22 = blocksim.LTI('G22', 'V', 'Y22', K[1][1], [tau[1][1], 1])\n",
        "  D22 = blocksim.Deadtime('D22', 'Y22', 'Y22d', td[1][1])\n",
        "\n",
        "  # Creating the diagram for the example 10.6\n",
        "  diagram = blocksim.Diagram([G11, D11, G12, D12, G21, D21, G22, D22], \n",
        "                               sums={'XD': ('+Y11d', '+Y12d'), \n",
        "                                     'XB': ('+Y21d', '+Y22d')}, \n",
        "                               inputs={'L': blocksim.step(starttime=20,size=L), \n",
        "                                       'V' : blocksim.step(starttime=20,size=V)})\n",
        "  simulation_results = diagram.simulate(ts, progress=True)\n",
        "  return simulation_results['L'], simulation_results['V'], simulation_results['XD'], simulation_results['XB']"
      ],
      "metadata": {
        "id": "o9WFqLOcHmQ2"
      },
      "execution_count": 41,
      "outputs": []
    },
    {
      "cell_type": "code",
      "source": [
        "ts = numpy.linspace(start=0, stop=100, num=100*100)\n",
        "L, _, XD, XB = example_106_ol(ts)"
      ],
      "metadata": {
        "colab": {
          "base_uri": "https://localhost:8080/",
          "height": 17,
          "referenced_widgets": [
            "4a9f83899a204c5aa0cf17da3f13e74c",
            "4c14bcaa3c8347a19669098c82464f8c",
            "66ffa3f3c5ce49cc937df21a58844411",
            "708c7eaa9d154296a9ec5b4c186915f5",
            "f6c98c7c5c0949e18bb27ad1d68afa6e",
            "22ad6a435b4c49979f6f5c0ad5590610",
            "53956e6db3584e6ab65164972c8bf0f4",
            "1caf68ad758747668988fff611424faa",
            "ed60ddf7304746dfb15532c93e8e4c5b",
            "5d66e71cf29546cfb1536c81d6d6bce1",
            "765e8629880a4480aecae3a341b168d9"
          ]
        },
        "id": "1yNoOFizMJzL",
        "outputId": "80520a7d-8b3c-490d-9337-f3c62530c7f2"
      },
      "execution_count": 42,
      "outputs": [
        {
          "output_type": "display_data",
          "data": {
            "text/plain": [
              "  0%|          | 0/10000 [00:00<?, ?it/s]"
            ],
            "application/vnd.jupyter.widget-view+json": {
              "version_major": 2,
              "version_minor": 0,
              "model_id": "4a9f83899a204c5aa0cf17da3f13e74c"
            },
            "application/json": {
              "n": 0,
              "total": 10000,
              "elapsed": 0.04688549041748047,
              "ncols": null,
              "nrows": null,
              "prefix": "",
              "ascii": false,
              "unit": "it",
              "unit_scale": false,
              "rate": null,
              "bar_format": null,
              "postfix": null,
              "unit_divisor": 1000,
              "initial": 0,
              "colour": null
            }
          },
          "metadata": {}
        }
      ]
    },
    {
      "cell_type": "code",
      "source": [
        "fig, axs = plt.subplots(2, 2, figsize=(15,10))\n",
        "axs[0, 0].plot(ts, XD)\n",
        "axs[0, 0].set(xlabel='Time', ylabel='$x_D$')\n",
        "axs[0, 1].plot(ts, XB, 'tab:orange')\n",
        "axs[0, 1].set(xlabel='Time', ylabel='$x_B$')\n",
        "axs[1, 0].plot(ts, L, 'tab:green')\n",
        "axs[1, 0].set(xlabel='Time', ylabel='$L$')\n",
        "axs[1, 1].plot(ts, 0*ts, 'tab:red')\n",
        "axs[1, 1].set(xlabel='Time', ylabel='$V$')"
      ],
      "metadata": {
        "colab": {
          "base_uri": "https://localhost:8080/",
          "height": 623
        },
        "id": "Wt-jhGlPPwJ0",
        "outputId": "74f441eb-4e59-436e-a69e-9918a894934d"
      },
      "execution_count": 43,
      "outputs": [
        {
          "output_type": "execute_result",
          "data": {
            "text/plain": [
              "[Text(0, 0.5, '$V$'), Text(0.5, 0, 'Time')]"
            ]
          },
          "metadata": {},
          "execution_count": 43
        },
        {
          "output_type": "display_data",
          "data": {
            "text/plain": [
              "<Figure size 1080x720 with 4 Axes>"
            ],
            "image/png": "[encoded data removed]"
          },
          "metadata": {
            "needs_background": "light"
          }
        }
      ]
    },
    {
      "cell_type": "code",
      "source": [
        "_, V, XD, XB = example_106_ol(ts, L=0, V=1)"
      ],
      "metadata": {
        "colab": {
          "base_uri": "https://localhost:8080/",
          "height": 17,
          "referenced_widgets": [
            "26c09c04d70c4aba99a683abbdc299b9",
            "1b5a21f006a340658a3051e2bfe42a84",
            "5fbef7a5ad1e43dfb5d82f1cc5b2067d",
            "fc9290fe55fa4beaa60ee5b379fc3375",
            "24181b818eeb48f28afdc3e096aabf6d",
            "c94b60797aa04a2d910c908669c3cf8a",
            "83894eaa0c944f6392e19f9de595faab",
            "3d612108c0eb48a0aaf0a1f905ce4c5e",
            "7f769d25dca1478ca19424a43acd8715",
            "5408602971ca4f4babadbaa352ed63b2",
            "b650aaa55e904178a267098ac2e67606"
          ]
        },
        "id": "qnWxDgSXWs01",
        "outputId": "fa6c4a2f-4512-4383-d202-6b7c1180678c"
      },
      "execution_count": 33,
      "outputs": [
        {
          "output_type": "display_data",
          "data": {
            "text/plain": [
              "  0%|          | 0/10000 [00:00<?, ?it/s]"
            ],
            "application/vnd.jupyter.widget-view+json": {
              "version_major": 2,
              "version_minor": 0,
              "model_id": "26c09c04d70c4aba99a683abbdc299b9"
            },
            "application/json": {
              "n": 0,
              "total": 10000,
              "elapsed": 0.056916236877441406,
              "ncols": null,
              "nrows": null,
              "prefix": "",
              "ascii": false,
              "unit": "it",
              "unit_scale": false,
              "rate": null,
              "bar_format": null,
              "postfix": null,
              "unit_divisor": 1000,
              "initial": 0,
              "colour": null
            }
          },
          "metadata": {}
        }
      ]
    },
    {
      "cell_type": "code",
      "source": [
        "fig, axs = plt.subplots(2, 2, figsize=(15,10))\n",
        "axs[0, 0].plot(ts, XD)\n",
        "axs[0, 0].set(xlabel='Time', ylabel='$x_D$')\n",
        "axs[0, 1].plot(ts, XB, 'tab:orange')\n",
        "axs[0, 1].set(xlabel='Time', ylabel='$x_B$')\n",
        "axs[1, 0].plot(ts, 0*ts, 'tab:green')\n",
        "axs[1, 0].set(xlabel='Time', ylabel='$L$')\n",
        "axs[1, 1].plot(ts, V, 'tab:red')\n",
        "axs[1, 1].set(xlabel='Time', ylabel='$V$')"
      ],
      "metadata": {
        "colab": {
          "base_uri": "https://localhost:8080/",
          "height": 623
        },
        "id": "yw2xyTujWpH7",
        "outputId": "0684320c-abd4-4ece-c590-87c1aebd9965"
      },
      "execution_count": 34,
      "outputs": [
        {
          "output_type": "execute_result",
          "data": {
            "text/plain": [
              "[Text(0, 0.5, 'V'), Text(0.5, 0, 'Time')]"
            ]
          },
          "metadata": {},
          "execution_count": 34
        },
        {
          "output_type": "display_data",
          "data": {
            "text/plain": [
              "<Figure size 1080x720 with 4 Axes>"
            ],
            "image/png": "[encoded data removed]"
          },
          "metadata": {
            "needs_background": "light"
          }
        }
      ]
    },
    {
      "cell_type": "code",
      "source": [
        ""
      ],
      "metadata": {
        "id": "h2u7NJrFZ9Zu"
      },
      "execution_count": null,
      "outputs": []
    }
  ]
}