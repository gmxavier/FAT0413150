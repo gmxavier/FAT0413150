{
  "nbformat": 4,
  "nbformat_minor": 0,
  "metadata": {
    "kernelspec": {
      "display_name": "Python 3",
      "language": "python",
      "name": "python3"
    },
    "language_info": {
      "codemirror_mode": {
        "name": "ipython",
        "version": 3
      },
      "file_extension": ".py",
      "mimetype": "text/x-python",
      "name": "python",
      "nbconvert_exporter": "python",
      "pygments_lexer": "ipython3",
      "version": "3.7.3"
    },
    "colab": {
      "name": "toc.ipynb",
      "provenance": []
    }
  },
  "cells": [
    {
      "cell_type": "markdown",
      "metadata": {
        "id": "DYcCgnQmVR-t"
      },
      "source": [
        "# [FAT0413150](https://gmxavier.github.io/FAT0413150)\n",
        "\n",
        "\n",
#        "## [Chapter 1.0 Getting started](http://nbviewer.jupyter.org/github/gmxavier/FAT0413150/blob/main/notebooks/01.00-Getting-Started.ipynb)\n",
#       "\n",
#        "## [Chapter 2.0 Introduction](http://nbviewer.jupyter.org/github/gmxavier/FAT0413150/blob/main/notebooks/02.00-Introduction.ipynb)\n",
#        "\n",
#        "## [Chapter 3.0 Mathematical preliminaries](http://nbviewer.jupyter.org/github/gmxavier/FAT0413150/blob/main/notebooks/03.00-Mathematical-Preliminaries.ipynb)\n",
#        "\n",
#        "## [Chapter 4.0 Dynamic response](http://nbviewer.jupyter.org/github/gmxavier/FAT0413150/blob/main/notebooks/04.00-Dynamic-Response.ipynb)\n",
#        "\n",
        "## [Chapter 5.0 Analysis of single-loop control systems](http://nbviewer.jupyter.org/github/gmxavier/FAT0413150/blob/main/notebooks/05.00-Analysis-Control-Systems.ipynb)\n",
        "\n",
        "## [Chapter 6.0 Design and tuning of single-loop control systems](http://nbviewer.jupyter.org/github/gmxavier/FAT0413150/blob/main/notebooks/06.00-Design-Control-Systems.ipynb)\n",
        "\n",
        "## [Chapter 7.0 Multiloop systems](http://nbviewer.jupyter.org/github/gmxavier/FAT0413150/blob/main/notebooks/07.00-Multiloop-Systems.ipynb)\n",
        "\n",
        "## [Chapter 8.0 Stability of closed-loop systems](http://nbviewer.jupyter.org/github/gmxavier/FAT0413150/blob/main/notebooks/08.00-Stability-Closed-Loop-Systems.ipynb)\n",
        "\n",
        "## [Chapter 9.0 Frequency-response analysis](http://nbviewer.jupyter.org/github/gmxavier/FAT0413150/blob/main/notebooks/09.00-Frequency-Response.ipynb)"
      ]
    }
  ]
}
