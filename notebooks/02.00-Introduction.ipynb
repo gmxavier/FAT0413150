{
  "nbformat": 4,
  "nbformat_minor": 0,
  "metadata": {
    "kernelspec": {
      "display_name": "Python 3",
      "language": "python",
      "name": "python3"
    },
    "language_info": {
      "codemirror_mode": {
        "name": "ipython",
        "version": 3
      },
      "file_extension": ".py",
      "mimetype": "text/x-python",
      "name": "python",
      "nbconvert_exporter": "python",
      "pygments_lexer": "ipython3",
      "version": "3.7.3"
    },
    "colab": {
      "name": "02.00-Introduction-checkpoint.ipynb",
      "provenance": []
    }
  },
  "cells": [
    {
      "cell_type": "markdown",
      "metadata": {
        "id": "QyLXdqo3Xdiv"
      },
      "source": [
        "<!--NOTEBOOK_HEADER-->\n",
        "*This notebook contains course material from [FAT0413150](https://gmxavier.github.io/FAT0413150)\n",
        "by Gilberto Xavier (gmxavier at fat.uerj.br); the content is available [on Github](https://github.com/gmxavier/FAT0413150.git).\n",
        "The text is released under the [CC-BY-NC-SA-4.0 license](https://creativecommons.org/licenses/by-nc-sa/4.0/legalcode),\n",
        "and code is released under the [MIT license](https://opensource.org/licenses/MIT).*"
      ]
    },
    {
      "cell_type": "markdown",
      "metadata": {
        "id": "vDK_CXKoXdjE"
      },
      "source": [
        "<!--NAVIGATION-->\n",
        "< [Getting started](http://nbviewer.jupyter.org/github/gmxavier/FAT0413150/blob/main/notebooks/01.00-Getting-Started.ipynb) | [Contents](toc.ipynb) | [Mathematical preliminaries](http://nbviewer.jupyter.org/github/gmxavier/FAT0413150/blob/main/notebooks/03.00-Mathematical-Preliminaries.ipynb) ><p><a href=\"https://colab.research.google.com/github/gmxavier/FAT0413150/blob/main/notebooks/02.00-Introduction.ipynb\" target=\"_parent\"><img align=\"left\" src=\"https://colab.research.google.com/assets/colab-badge.svg\" alt=\"Open in Colab\" title=\"Open in Google Colaboratory\"></a><p><a href=\"https://raw.githubusercontent.com/gmxavier/FAT0413150/main/notebooks/02.00-Introduction.ipynb\" target=\"_parent\"><img align=\"left\" src=\"https://img.shields.io/badge/Github-Download-blue.svg\" alt=\"Download\" title=\"Download Notebook\"></a>"
      ]
    },
    {
      "cell_type": "markdown",
      "metadata": {
        "id": "zpBxZO7XXdjH"
      },
      "source": [
        "# Introduction"
      ]
    },
    {
      "cell_type": "markdown",
      "metadata": {
        "id": "88H9jUbSXdjI"
      },
      "source": [
        "## Reading material\n",
        "- [Process Control, Designing Processes and Control Systems for Dynamic Performance (Chapter 1)](http://pc-textbook.mcmaster.ca/Marlin-Ch01.pdf)\n",
        "- [Process Control, Designing Processes and Control Systems for Dynamic Performance (Chapter 2)](http://pc-textbook.mcmaster.ca/Marlin-Ch02.pdf)\n",
        "- [Process Control: A First Course with MATLAB (Chapter 1)](https://ia802909.us.archive.org/32/items/process-control-a-first-course-with-matlab/Process%20Control%20A%20First%20Course%20with%20MATLAB.pdf#page=17)\n",
        "- [Process Systems Analysis and Control (Chapter 1)](https://udghoshna.files.wordpress.com/2013/06/136649035-process-systems-analysis-and-control-d-coughanowr-3rd-ed.pdf#page=22)\n",
        "\n",
        "## Supplementary material\n",
        "- [Process Control, Designing Processes and Control Systems for Dynamic Performance (Chapter 1 slides)](https://drive.google.com/file/d/1-JQkq8l3f5S0hmDifubx834m2C_3EYJB/view?usp=sharing)\n",
        "- [Process Control, Designing Processes and Control Systems for Dynamic Performance (Chapter 2 slides)](https://drive.google.com/file/d/1tw06e6ouVSfIetDUfOQu1_300ij5Hd_X/view?usp=sharing)\n",
        "- [Understanding Control Systems](https://www.youtube.com/playlist?list=PLn8PRpmsu08q8CE0pbZ-cSrMm_WYJfVGd)\n",
        "- [The Inverted Pendulum](https://www.youtube.com/watch?v=D3bblng-Kcc&t=1790s)\n",
        "- [Falcon 9](https://youtu.be/Hc4Io1c01nU)\n",
        "- [Blue Origin](https://youtu.be/9pillaOxGCo?t=103)\n",
        "- [Control Challenges](https://janismac.github.io/ControlChallenges/)\n",
        "\n",
        "\n",
        "## Review problems\n",
        "  (1) Draw a block diagram for the control system generated when a human being steers an automobile.\n",
        "\n",
        "  (2) Draw a block diagram for the control system generated when a human being shoots a bow and arrow.\n",
        "\n",
        "  (3) Draw a block diagram for an automobile cruise control system.\n",
        "\n",
        "  (4) Draw a block diagram for the control system that maintains the water level in a toilet tank.\n",
        "\n",
        "  (5) Draw a block diagram for a security lighting system that activates at dusk and turns off at dawn.\n",
        "\n",
        "  (6) Draw a block diagram for the control system for a home oven. "
      ]
    },
    {
      "cell_type": "markdown",
      "metadata": {
        "id": "Ky1804UjXdjL"
      },
      "source": [
        "<!--NAVIGATION-->\n",
        "< [Getting started](http://nbviewer.jupyter.org/github/gmxavier/FAT0413150/blob/main/notebooks/01.00-Getting-Started.ipynb) | [Contents](toc.ipynb) | [Mathematical preliminaries](http://nbviewer.jupyter.org/github/gmxavier/FAT0413150/blob/main/notebooks/03.00-Mathematical-Preliminaries.ipynb) ><p><a href=\"https://colab.research.google.com/github/gmxavier/FAT0413150/blob/main/notebooks/02.00-Introduction.ipynb\" target=\"_parent\"><img align=\"left\" src=\"https://colab.research.google.com/assets/colab-badge.svg\" alt=\"Open in Colab\" title=\"Open in Google Colaboratory\"></a><p><a href=\"https://raw.githubusercontent.com/gmxavier/FAT0413150/main/notebooks/02.00-Introduction.ipynb\" target=\"_parent\"><img align=\"left\" src=\"https://img.shields.io/badge/Github-Download-blue.svg\" alt=\"Download\" title=\"Download Notebook\"></a>"
      ]
    }
  ]
}