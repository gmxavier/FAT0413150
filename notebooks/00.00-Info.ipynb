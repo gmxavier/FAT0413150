{
  "nbformat": 4,
  "nbformat_minor": 0,
  "metadata": {
    "kernelspec": {
      "display_name": "Python 3",
      "language": "python",
      "name": "python3"
    },
    "language_info": {
      "codemirror_mode": {
        "name": "ipython",
        "version": 3
      },
      "file_extension": ".py",
      "mimetype": "text/x-python",
      "name": "python",
      "nbconvert_exporter": "python",
      "pygments_lexer": "ipython3",
      "version": "3.7.3"
    },
    "colab": {
      "name": "00.00-Info.ipynb",
      "provenance": [],
      "collapsed_sections": []
    }
  },
  "cells": [
    {
      "cell_type": "markdown",
      "metadata": {
        "id": "MQ_BqD7xbNsB"
      },
      "source": [
        "<!--NOTEBOOK_HEADER-->\n",
        "*This notebook contains course material from [FAT0413150](https://gmxavier.github.io/FAT0413150)\n",
        "by Gilberto Xavier (gmxavier at fat.uerj.br); the content is available [on Github](https://github.com/gmxavier/FAT0413150.git).\n",
        "The text is released under the [CC-BY-NC-SA-4.0 license](https://creativecommons.org/licenses/by-nc-sa/4.0/legalcode),\n",
        "and code is released under the [MIT license](https://opensource.org/licenses/MIT).*"
      ]
    },
    {
      "cell_type": "markdown",
      "metadata": {
        "id": "j6QQY3QMbNsH"
      },
      "source": [
        "<!--NAVIGATION-->\n",
        "| [Contents](toc.ipynb) | [Introduction](http://nbviewer.jupyter.org/github/gmxavier/FAT0413150/blob/main/notebooks/02.00-Introduction.ipynb) ><p><a href=\"https://colab.research.google.com/github/gmxavier/FAT0413150/blob/main/notebooks/00.00-Info.ipynb\" target=\"_parent\"><img align=\"left\" src=\"https://colab.research.google.com/assets/colab-badge.svg\" alt=\"Open in Colab\" title=\"Open in Google Colaboratory\"></a><p><a href=\"https://raw.githubusercontent.com/gmxavier/FAT0413150/main/notebooks/00.00-Info.ipynb\" target=\"_parent\"><img align=\"left\" src=\"https://img.shields.io/badge/Github-Download-blue.svg\" alt=\"Download\" title=\"Download Notebook\"></a>"
      ]
    },
    {
      "cell_type": "markdown",
      "metadata": {
        "id": "7rtuM0uWbNsI"
      },
      "source": [
        "# Controle de Processos Químicos"
      ]
    },
    {
      "cell_type": "markdown",
      "metadata": {
        "id": "_LE1dXB9bNsI"
      },
      "source": [
        "Prof. Gilberto M. Xavier  \n",
        "Código SAG: *FAT04-13150*\n",
        "\n",
        "## Tópicos da ementa\n",
        "\n",
        "* Objetivos dos sistemas de controle;\n",
        "* O controle servo e o controle regulatório;\n",
        "* Necessidades do controle de processos industriais. Componentes básicos dos sistemas de controle;\n",
        "* Elementos finais de controle;\n",
        "* Controladores;\n",
        "* Comportamento dinâmico de sistemas de controle em malha fechada e equação característica;\n",
        "* Influência do tipo de controlador na resposta em regime permanente;\n",
        "* Critérios de estabilidade do sistema de controle;\n",
        "* Sintonia de controladores em sistemas com realimentação, técnicas adicionais de controle;\n",
        "* Controle em razão, em cascata, antecipatório. Sistemas de controle de malhas múltiplas, e;\n",
        "* Utilização de \"softwares\" para estudo de sistemas de controle.\n",
        "\n",
        "## Livro texto e bibliografia recomendada\n",
        "\n",
        "* CHAU, P. C., PROCESS CONTROL: A FIRST COURSE WITH MATLAB, CAMBRIDGE UNIVERSITY PRESS, 2002.\n",
        "* MARLIN, T. E., PROCESS CONTROL: DESIGNING PROCESSES AND CONTROL SYSTEMS FOR DYNAMIC PERFORMANCE, MCGRAW-HILL, 2015.\n",
        "* COUGHANOWR, D. R., LEBLANC, S. E., PROCESS SYSTEMS ANALYSIS CONTROL, MCGRAW-HILL, 2009.\n",
        "* SEBORG, D., EDGARD, T. F., MELLICHAMP, D. A., PROCESS DYNAMICS AND CONTROL, WILEY, 2003.\n",
        "* LUYBEN, W. L., PROCESS MODELING, SIMULATION AND CONTROL FOR CHEMICAL ENGINEERS, MCGRAW-HILL, 1989.\n",
        "\n",
        "## Descrição da disciplina\n",
        "\n",
        "Esta disciplina visa capacitar o aluno na análise e avaliação das características dos sistemas de controle de processos, na seleção dos sistemas de controle mais adequados para um determinado conjunto de variáveis de processo, na inferência do mecanismo de atuação de um sistema de controle e na formulação de estratégias de controle para sistemas industriais. Quanto à utilização de ferramentas computacionais, as análises de dinâmica e controle de processos serão implementadas e realizadas usando a linguagem [Python](https://www.python.org/).\n",
        "\n",
        "## Metodologia do curso\n",
        "\n",
        "O curso desta disciplina será oferecido com as seguintes características e ferramentas:   \n",
        "\n",
        "* No período letivo 2022/1, as aulas presenciais ocorrerão aos sábados de 13h20m às 17h00m.\n",
        "* Todo o material da disciplina será acessado por intermédio do [GitHub](https://github.com/gmxavier/FAT0413150) ou do [Google Classroom](https://classroom.google.com/c/NTM2MDU4NDA0ODQ0);\n",
        "* O material utilizado encontra-se redigido na língua inglesa, entretanto, todo o curso será ministrado na língua portuguesa;   \n",
        "* As avaliações da disciplina ocorrerão nas datas previstas no programa da disciplina, sendo a média do período ($MP$) calculada da seguinte forma:\n",
        "\n",
        "$$ MP=\\frac{P1+P2}{2} $$\n",
        "\n",
        "* O(a) aluno(a) com frequência inferior a 75% será automaticamente reprovado(a) por falta, independente das notas que obtiver nas avaliações;\n",
        "* O(a) aluno(a) que obtiver $MP \\geq 7.0$ será considerado(a) aprovado(a) por nota, enquanto o(a) aluno(a) que obtiver $MP \\lt 4.0$ será considerado(a) reprovado(a) por nota;\n",
        "* O(a) aluno(a) não aprovado(a) após a $P2$ e que obtiver $MP \\geq 4.0$ terá direito a uma terceira avaliação individual à guisa de prova final ($PF$), sendo a média final ($MF$) calculada da seguinte forma:   \n",
        "\n",
        "$$ MF=\\frac{MP+PF}{2} $$\n",
        "\n",
        "* O(a) aluno(a) que obtiver $MF \\geq 5.0$ será considerado(a) aprovado(a) por nota, enquanto o(a) aluno(a) que obtiver $MF \\lt 5.0$ será considerado(a) reprovado(a) por nota;\n",
        "\n",
        "## Programa da disciplina\n",
        "\n",
        "A disciplina será desenvolvida seguindo os itens do programa apresentado abaixo.\n",
        "\n",
        "1. [Chapter 1.0 Getting started](http://nbviewer.jupyter.org/github/gmxavier/FAT0413150/blob/main/notebooks/01.00-Getting-Started.ipynb)\n",
        "\n",
        "2. [Chapter 2.0 Introduction](http://nbviewer.jupyter.org/github/gmxavier/FAT0413150/blob/main/notebooks/02.00-Introduction.ipynb)\n",
        "\n",
        "3. [Chapter 3.0 Mathematical preliminaries](http://nbviewer.jupyter.org/github/gmxavier/FAT0413150/blob/main/notebooks/03.00-Mathematical-Preliminaries.ipynb)\n",
        "\n",
        "4. [Chapter 4.0 Dynamic response](http://nbviewer.jupyter.org/github/gmxavier/FAT0413150/blob/main/notebooks/04.00-Dynamic-Response.ipynb)\n",
        "\n",
        "5. [Chapter 5.0 Analysis of single-loop control systems](http://nbviewer.jupyter.org/github/gmxavier/FAT0413150/blob/main/notebooks/05.00-Analysis-Control-Systems.ipynb)\n",
        "\n",
        "6. [Chapter 6.0 Design and tuning of single-loop control systems](http://nbviewer.jupyter.org/github/gmxavier/FAT0413150/blob/main/notebooks/06.00-Design-Control-Systems.ipynb)\n",
        "\n",
        "7. [Chapter 7.0 Multiloop systems](http://nbviewer.jupyter.org/github/gmxavier/FAT0413150/blob/main/notebooks/07.00-Multiloop-Systems.ipynb)\n",
        "\n",
        "8. [Chapter 8.0 Stability of closed-loop systems](http://nbviewer.jupyter.org/github/gmxavier/FAT0413150/blob/main/notebooks/08.00-Stability-Closed-Loop-Systems.ipynb)\n",
        "\n",
        "9. [Chapter 9.0 Frequency-response analysis](http://nbviewer.jupyter.org/github/gmxavier/FAT0413150/blob/main/notebooks/09.00-Frequency-Response.ipynb)\n",
        "\n",
        "\n",
        "## Plano de atividades semanais (2022/1)\n",
        "   \n",
        "| Semana | Semana do ano | Data da aula | Item do programa | Observação |\n",
        "| :-: | :-: | :-: | :-: | :-: |\n",
        "| 1      | 24            | 18/06        | -                | Feriado    |\n",
        "| 2      | 25            | 25/06        | 2                | Aula       | \n",
        "| 3      | 26            | 02/07        | 3                | Aula       |\n",
        "| 4      | 27            | 09/07        | 4                | Aula       |\n",
        "| 5      | 28            | 16/07        | 5                | Aula       |\n",
        "| 6      | 29            | 23/07        | 5                | Aula       |\n",
        "| 7      | 30            | 30/07        | P1               | Avaliação  |\n",
        "| 8      | 31            | 06/08        | 6                | Aula       |\n",
        "| 9      | 32            | 13/08        | 6                | Aula       |\n",
        "| 10     | 33            | 20/08        | 7                | Aula       |\n",
        "| 11     | 34            | 27/08        | 7                | Aula       |\n",
        "| 12     | 35            | 03/09        | 8                | Aula       |\n",
        "| 13     | 36            | 10/09        | 9                | Aula       |\n",
        "| 14     | 37            | 17/09        | P2               | Avaliação  |\n",
        "| 15     | 38            | 24/09        | PF               | Avaliação  |"
      ]
    },
    {
      "cell_type": "markdown",
      "metadata": {
        "id": "bC1Bee8SbNsK"
      },
      "source": [
        "<!--NAVIGATION-->\n",
        "| [Contents](toc.ipynb) | [Introduction](http://nbviewer.jupyter.org/github/gmxavier/FAT0413150/blob/main/notebooks/02.00-Introduction.ipynb) ><p><a href=\"https://colab.research.google.com/github/gmxavier/FAT0413150/blob/main/notebooks/00.00-Info.ipynb\" target=\"_parent\"><img align=\"left\" src=\"https://colab.research.google.com/assets/colab-badge.svg\" alt=\"Open in Colab\" title=\"Open in Google Colaboratory\"></a><p><a href=\"https://raw.githubusercontent.com/gmxavier/FAT0413150/main/notebooks/00.00-Info.ipynb\" target=\"_parent\"><img align=\"left\" src=\"https://img.shields.io/badge/Github-Download-blue.svg\" alt=\"Download\" title=\"Download Notebook\"></a>"
      ]
    }
  ]
}
