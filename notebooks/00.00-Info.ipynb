{
  "nbformat": 4,
  "nbformat_minor": 0,
  "metadata": {
    "kernelspec": {
      "display_name": "Python 3",
      "language": "python",
      "name": "python3"
    },
    "language_info": {
      "codemirror_mode": {
        "name": "ipython",
        "version": 3
      },
      "file_extension": ".py",
      "mimetype": "text/x-python",
      "name": "python",
      "nbconvert_exporter": "python",
      "pygments_lexer": "ipython3",
      "version": "3.7.3"
    },
    "colab": {
      "name": "00.00-Info.ipynb",
      "provenance": [],
      "collapsed_sections": []
    }
  },
  "cells": [
    {
      "cell_type": "markdown",
      "metadata": {
        "id": "MQ_BqD7xbNsB"
      },
      "source": [
        "<!--NOTEBOOK_HEADER-->\n",
        "*This notebook contains course material from [FAT0413150](https://gmxavier.github.io/FAT0413150)\n",
        "by Gilberto Xavier (gmxavier at fat.uerj.br); the content is available [on Github](https://github.com/gmxavier/FAT0413150.git).\n",
        "The text is released under the [CC-BY-NC-SA-4.0 license](https://creativecommons.org/licenses/by-nc-sa/4.0/legalcode),\n",
        "and code is released under the [MIT license](https://opensource.org/licenses/MIT).*"
      ]
    },
    {
      "cell_type": "markdown",
      "metadata": {
        "id": "j6QQY3QMbNsH"
      },
      "source": [
        "<!--NAVIGATION-->\n",
        "| [Contents](toc.ipynb) | [Getting Started](http://nbviewer.jupyter.org/github/gmxavier/FAT0413150/blob/main/notebooks/01.00-Getting-Started.ipynb) ><p><a href=\"https://colab.research.google.com/github/gmxavier/FAT0413150/blob/main/notebooks/00.00-Info.ipynb\" target=\"_parent\"><img align=\"left\" src=\"https://colab.research.google.com/assets/colab-badge.svg\" alt=\"Open in Colab\" title=\"Open in Google Colaboratory\"></a><p><a href=\"https://raw.githubusercontent.com/gmxavier/FAT0413150/main/notebooks/00.00-Info.ipynb\" target=\"_parent\"><img align=\"left\" src=\"https://img.shields.io/badge/Github-Download-blue.svg\" alt=\"Download\" title=\"Download Notebook\"></a>"
      ]
    },
    {
      "cell_type": "markdown",
      "metadata": {
        "id": "7rtuM0uWbNsI"
      },
      "source": [
        "# Controle de Processos Químicos"
      ]
    },
    {
      "cell_type": "markdown",
      "metadata": {
        "id": "_LE1dXB9bNsI"
      },
      "source": [
        "Prof. Gilberto M. Xavier  \n",
        "Código SAG: *FAT04-13150*\n",
        "\n",
        "## Tópicos da ementa\n",
        "\n",
        "* Objetivos dos sistemas de controle;\n",
        "* O controle servo e o controle regulatório;\n",
        "* Necessidades do controle de processos industriais. Componentes básicos dos sistemas de controle;\n",
        "* Elementos finais de controle;\n",
        "* Controladores;\n",
        "* Comportamento dinâmico de sistemas de controle em malha fechada e equação característica;\n",
        "* Influência do tipo de controlador na resposta em regime permanente;\n",
        "* Critérios de estabilidade do sistema de controle;\n",
        "* Sintonia de controladores em sistemas com realimentação, técnicas adicionais de controle;\n",
        "* Controle em razão, em cascata, antecipatório. Sistemas de controle de malhas múltiplas, e;\n",
        "* Utilização de \"softwares\" para estudo de sistemas de controle.\n",
        "\n",
        "## Livro texto e bibliografia recomendada\n",
        "\n",
        "* CHAU, P. C., PROCESS CONTROL: A FIRST COURSE WITH MATLAB, CAMBRIDGE UNIVERSITY PRESS, 2002.\n",
        "* MARLIN, T. E., PROCESS CONTROL: DESIGNING PROCESSES AND CONTROL SYSTEMS FOR DYNAMIC PERFORMANCE, MCGRAW-HILL, 2015.\n",
        "* COUGHANOWR, D. R., LEBLANC, S. E., PROCESS SYSTEMS ANALYSIS CONTROL, MCGRAW-HILL, 2009.\n",
        "* SEBORG, D., EDGARD, T. F., MELLICHAMP, D. A., PROCESS DYNAMICS AND CONTROL, WILEY, 2003.\n",
        "* LUYBEN, W. L., PROCESS MODELING, SIMULATION AND CONTROL FOR CHEMICAL ENGINEERS, MCGRAW-HILL, 1989.\n",
        "\n",
        "## Descrição da disciplina\n",
        "\n",
        "Esta disciplina visa capacitar o aluno na análise e avaliação das características dos sistemas de controle de processos, na seleção dos sistemas de controle mais adequados para um determinado conjunto de variáveis de processo, na inferência do mecanismo de atuação de um sistema de controle e na formulação de estratégias de controle para sistemas industriais. Quanto à utilização de ferramentas computacionais, as análises de dinâmica e controle de processos serão implementadas e realizadas usando a linguagem [Python](https://www.python.org/).\n",
        "\n",
        "## Metodologia do curso\n",
        "\n",
        "O curso desta disciplina será oferecido com as seguintes características e ferramentas:   \n",
        "\n",
        "* Todo o material da disciplina será acessado por intermédio do [GitHub](https://github.com/gmxavier/FAT0413150) ou do [Google Classroom](https://classroom.google.com/);\n",
        "* O material encontra-se redigido na língua inglesa, entretanto, todo o curso será ministrado na língua portuguesa;\n",
        "* Aulas síncronas de presença obrigatória, serão aulas nas quais toda a turma comparecerá a um encontro virtual com data e hora marcada (estabelecido pelo Plano de Turmas), serão denominadas estas aulas da seguinte forma ASYY, no qual YY é o número sequencial, elas ficarão gravadas em um repositório para consultas, mas a presença somente será computada no momento da aula, estas aulas terão duração de no máximo 1 h e 30 min, ao término destes encontros na mesma sala virtual o professor ficará a disposição para dúvidas por pelo menos 20 min (5 min no início e 15 min no final);\n",
        "* Avaliação por capítulo (AVC), a cada capítulo o aluno terá que entregar uma atividade proposta para fins de avaliação (AVC0X, no qual X é o número do capítulo), ao final as avaliações vão compor o que será chamado de média das avaliações por capítulo (MAC), a data limite da entrega de cada AVC é dada no plano de atividades semanais;\n",
        "* Avaliação em grupo (AG), os alunos, divididos em grupos, terão que entregar uma atividade proposta (projeto) para fins de AG e o resultado será a NG (nota do grupo), igual para todos os alunos do grupo, sendo que a data limite da entrega da AG é dada no plano de atividades semanais;\n",
        "* Sabatina do grupo (SG), em datas e horários marcados, os grupos serão admitidos em uma sala virtual para uma sabatina com relação à AG entregue e o resultado será a NSG (nota da sabatina do grupo), individual para cada aluno do grupo;\n",
        "* Avaliação do período (AP), em datas e horários marcados, os alunos serão admitidos em uma sala virtual para uma avaliação individual, todo o conteúdo da disciplina poderá ser exigido e o resultado será NAP (nota da avaliação do período);\n",
        "* A MAC será a média aritmética simples de todas as AVCs, já a média do período (MP) será dada por:  \n",
        "\n",
        "$$ MP=\\frac{MAC+NG+NSG+NAP}{4} $$\n",
        "\n",
        "* O aluno que obtiver MP ≥ 7,0 será considerado aprovado, enquanto o aluno que obtiver MP ≤ 4.0 será considerado reprovado;\n",
        "* Já o aluno que estiver no intervalo 4,0 ≤ MP ≤ 7,0 e obtiver necessariamente uma participação de pelo menos 75% das atividades síncronas fará uma nova avaliação individual à guisa de prova final (PF), em datas e horários marcados, resultando na NPF (nota da prova final) e terá uma média final (MF) calculada segundo a equação:   \n",
        "\n",
        "$$ MF=\\frac{MP+NPF}{2} $$\n",
        "\n",
        "* Neste caso, o aluno que realizar a prova final será aprovado se a MF ≥ 5,0, caso contrário o aluno será reprovado, e;\n",
        "* Durante todo o período as entregas deverão ser realizadas exclusivamente na turma virtual do [Google Classroom](https://classroom.google.com/) utilizando as sua conta institucional da FAT (@discentes.fat.uerj.br) para autenticação.\n",
        "\n",
        "## Programa da disciplina\n",
        "\n",
        "A disciplina será desenvolvida seguindo os itens do programa apresentado abaixo.\n",
        "\n",
        "1. [Chapter 1.0 Getting started](http://nbviewer.jupyter.org/github/gmxavier/FAT0413150/blob/main/notebooks/01.00-Getting-Started.ipynb)\n",
        "\n",
        "2. [Chapter 2.0 Introduction](http://nbviewer.jupyter.org/github/gmxavier/FAT0413150/blob/main/notebooks/02.00-Introduction.ipynb)\n",
        "\n",
        "3. [Chapter 3.0 Mathematical preliminaries](http://nbviewer.jupyter.org/github/gmxavier/FAT0413150/blob/main/notebooks/03.00-Mathematical-Preliminaries.ipynb)\n",
        "\n",
        "4. [Chapter 4.0 Dynamic response](http://nbviewer.jupyter.org/github/gmxavier/FAT0413150/blob/main/notebooks/04.00-Dynamic-Response.ipynb)\n",
        "\n",
        "5. [Chapter 5.0 Analysis of single-loop control systems](http://nbviewer.jupyter.org/github/gmxavier/FAT0413150/blob/main/notebooks/05.00-Analysis-Control-Systems.ipynb)\n",
        "\n",
        "6. [Chapter 6.0 Design and tuning of single-loop control systems](http://nbviewer.jupyter.org/github/gmxavier/FAT0413150/blob/main/notebooks/06.00-Design-Control-Systems.ipynb)\n",
        "\n",
        "7. [Chapter 7.0 Stability of closed-loop systems](http://nbviewer.jupyter.org/github/gmxavier/FAT0413150/blob/main/notebooks/07.00-Stability-Closed-Loop-Systems.ipynb)\n",
        "\n",
        "8. [Chapter 8.0 Multiloop systems](http://nbviewer.jupyter.org/github/gmxavier/FAT0413150/blob/main/notebooks/08.00-Multiloop.ipynb)\n",
        "\n",
        "9. [Chapter 9.0 Frequency-response analysis](http://nbviewer.jupyter.org/github/gmxavier/FAT0413150/blob/main/notebooks/09.00-Frequency-Response.ipynb)\n",
        "\n",
        "\n",
        "## Plano de atividades semanais (2021/1)\n",
        "\n",
        "| Semana | Semana do ano | Data da aula | Item do programa | Leitura prévia | Aula síncrona | Entrega |\n",
        "| :-: | :-: | :-: | :-: | :-: | :-: | :-: |\n",
        "| 1      | 31            | 03/08        | 1                | Chapter 1.0    | AS01          |          |\n",
        "| 1      | 31            | 05/08        | 2                | Chapter 2.0    | AS02          |          |\n",
        "| 2      | 32            | 10/08        | 2                | Chapter 2.0    | AS03          | AVC02    |\n",
        "| 2      | 32            | 12/08        | 3                | Chapter 3.0    | AS04          |          |\n",
        "| 3      | 33            | 17/08        | 3                | Chapter 3.0    | AS05          |          |\n",
        "| 3      | 33            | 19/08        | 3                | Chapter 3.0    | AS06          |          |\n",
        "| 4      | 34            | 24/08        | 3                | Chapter 4.0    | AS07          | AVC03    |\n",
        "| 4      | 34            | 26/08        | 4                | Chapter 4.0    | AS08          |          |\n",
        "| 5      | 35            | 31/08        | 4                | Chapter 4.0    | AS09          |          |\n",
        "| 5      | 35            | 02/09        | 4                | Chapter 4.0    | AS10          |          |\n",
        "| 6      | 36            | 07/09        | -                | -              | -             | -        |\n",
        "| 6      | 36            | 09/09        | 4                | Chapter 5.0    | AS11          | AVC04    |\n",
        "| 7      | 37            | 14/09        | 5                | Chapter 5.0    | AS12          |         |\n",
        "| 7      | 37            | 16/09        | 5                | Chapter 5.0    | AS13          |         |\n",
        "| 8      | 38            | 21/09        | 5                | Chapter 5.0    | AS14          |          |\n",
        "| 8      | 38            | 23/09        | 5                | Chapter 6.0    | AS15          |          |\n",
        "| 9      | 39            | 28/09        | 6                | Chapter 6.0    | AS16          | AVC05    |\n",
        "| 9      | 39            | 30/09        | 6                | Chapter 6.0    | AS17          |          |\n",
        "| 10     | 40            | 05/10        | 6                | Chapter 6.0    | AS18          |         |\n",
        "| 10     | 40            | 07/10        | 7                | Chapter 7.0    | AS19          |          |\n",
        "| 11     | 41            | 12/10        | -                | -              | -             | -        |\n",
        "| 11     | 41            | 14/10        | 7                | Chapter 7.0    | AS20          | AVC06    |\n",
        "| 12     | 42            | 19/10        | 7                | Chapter 7.0    | AS21          |         |\n",
        "| 12     | 42            | 21/10        | 8                | Chapter 8.0    | AS22          |          |\n",
        "| 13     | 43            | 26/10        | 8                | Chapter 8.0    | AS23          | AVC07    |\n",
        "| 13     | 43            | 28/10        | 8                | Chapter 8.0    | AS24          |         |\n",
        "| 14     | 44            | 02/11        | -                | -              | -             | -       |\n",
        "| 14     | 44            | 04/11        | 9                | Chapter 9.0    | AS25          | AVC08    |\n",
        "| 15     | 45            | 09/11        | 9                | Chapter 9.0    | AS26          |         |\n",
        "| 15     | 45            | 11/11        | 9                | Chapter 9.0    | AS27     | AG      |\n",
        "| 16     | 46            | 16/11        | SG (p1)         | -              | -             | AVC09   |\n",
        "| 16     | 46            | 18/11        | SG (p2)          | -              | -             | -       |\n",
        "| 14     | 47            | 23/11        | AP (p1)          | -              | -             | -       |\n",
        "| 14     | 47            | 25/11        | AP (p2)          | -              | -             | -       |\n",
        "| 15     | 48            | 30/11        | PF (p1)          | -              | -             | -       |\n",
        "| 15     | 48            | 02/12        | PF (p2)          | -              | -             | -       |"
      ]
    },
    {
      "cell_type": "markdown",
      "metadata": {
        "id": "bC1Bee8SbNsK"
      },
      "source": [
        "<!--NAVIGATION-->\n",
        "| [Contents](toc.ipynb) | [Getting Started](http://nbviewer.jupyter.org/github/gmxavier/FAT0413150/blob/main/notebooks/01.00-Getting-Started.ipynb) ><p><a href=\"https://colab.research.google.com/github/gmxavier/FAT0413150/blob/main/notebooks/00.00-Info.ipynb\" target=\"_parent\"><img align=\"left\" src=\"https://colab.research.google.com/assets/colab-badge.svg\" alt=\"Open in Colab\" title=\"Open in Google Colaboratory\"></a><p><a href=\"https://raw.githubusercontent.com/gmxavier/FAT0413150/main/notebooks/00.00-Info.ipynb\" target=\"_parent\"><img align=\"left\" src=\"https://img.shields.io/badge/Github-Download-blue.svg\" alt=\"Download\" title=\"Download Notebook\"></a>"
      ]
    }
  ]
}