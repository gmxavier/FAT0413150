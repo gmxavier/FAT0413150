{
  "nbformat": 4,
  "nbformat_minor": 0,
  "metadata": {
    "colab": {
      "provenance": [],
      "authorship_tag": "ABX9TyNbP0xzDnJgRkIEasAEzxuM",
      "include_colab_link": true
    },
    "kernelspec": {
      "name": "python3",
      "display_name": "Python 3"
    },
    "language_info": {
      "name": "python"
    }
  },
  "cells": [
    {
      "cell_type": "markdown",
      "metadata": {
        "id": "view-in-github",
        "colab_type": "text"
      },
      "source": [
        "<a href=\"https://colab.research.google.com/github/gmxavier/FAT0413150/blob/main/notebooks/03.03-Blending-Process-Revisited.ipynb\" target=\"_parent\"><img src=\"https://colab.research.google.com/assets/colab-badge.svg\" alt=\"Open In Colab\"/></a>"
      ]
    },
    {
      "cell_type": "markdown",
      "source": [
        "The Blending Process Revisited (from Seborg 4<sup>th</sup> ed. p. 18)"
      ],
      "metadata": {
        "id": "Qt9nMvdxkM9H"
      }
    },
    {
      "cell_type": "code",
      "execution_count": 2,
      "metadata": {
        "id": "VtozGqoGOhkH"
      },
      "outputs": [],
      "source": [
        "from sympy import *"
      ]
    },
    {
      "cell_type": "code",
      "source": [
        "t, rho = symbols('t, \\\\rho')\n",
        "V   = Function('V')\n",
        "w_1 = Function('w_1')\n",
        "w_2 = Function('w_2')\n",
        "w   = Function('w')\n",
        "x_1 = Function('x_1')\n",
        "x_2 = Function('x_2')\n",
        "x   = Function('x')"
      ],
      "metadata": {
        "id": "g4Szh_x4PPDi"
      },
      "execution_count": 8,
      "outputs": []
    },
    {
      "cell_type": "markdown",
      "source": [
        "Equation 2-12"
      ],
      "metadata": {
        "id": "FAWerlAmkaYQ"
      }
    },
    {
      "cell_type": "code",
      "source": [
        "rhodV_dt = Eq(rho*Derivative(V(t), t), w_1(t) + w_2(t) - w(t))\n",
        "rhodV_dt"
      ],
      "metadata": {
        "colab": {
          "base_uri": "https://localhost:8080/",
          "height": 52
        },
        "id": "vauf35t_PZ0v",
        "outputId": "6a3b196b-039b-4185-8d1a-f8719f82b1f7"
      },
      "execution_count": 30,
      "outputs": [
        {
          "output_type": "execute_result",
          "data": {
            "text/plain": [
              "Eq(\\rho*Derivative(V(t), t), -w(t) + w_1(t) + w_2(t))"
            ],
            "text/latex": "$\\displaystyle \\rho \\frac{d}{d t} V{\\left(t \\right)} = - w{\\left(t \\right)} + w_{1}{\\left(t \\right)} + w_{2}{\\left(t \\right)}$"
          },
          "metadata": {},
          "execution_count": 30
        }
      ]
    },
    {
      "cell_type": "markdown",
      "source": [
        "Equation 2-17"
      ],
      "metadata": {
        "id": "PgoW6eEZkhv_"
      }
    },
    {
      "cell_type": "code",
      "source": [
        "dV_dt = Eq(Derivative(V(t), t), solve(rhodV_dt, Derivative(V(t), t))[0])\n",
        "dV_dt"
      ],
      "metadata": {
        "colab": {
          "base_uri": "https://localhost:8080/",
          "height": 56
        },
        "id": "Xs4MjIEISvSj",
        "outputId": "349cff89-4552-4e07-dc29-7e99c48b15cd"
      },
      "execution_count": 31,
      "outputs": [
        {
          "output_type": "execute_result",
          "data": {
            "text/plain": [
              "Eq(Derivative(V(t), t), (-w(t) + w_1(t) + w_2(t))/\\rho)"
            ],
            "text/latex": "$\\displaystyle \\frac{d}{d t} V{\\left(t \\right)} = \\frac{- w{\\left(t \\right)} + w_{1}{\\left(t \\right)} + w_{2}{\\left(t \\right)}}{\\rho}$"
          },
          "metadata": {},
          "execution_count": 31
        }
      ]
    },
    {
      "cell_type": "markdown",
      "source": [
        "Equation 2-15"
      ],
      "metadata": {
        "id": "byNYwNfOkpqs"
      }
    },
    {
      "cell_type": "code",
      "source": [
        "rhodVx_dt = Eq(rho*Derivative(V(t)*x(t), t), w_1(t)*x_1(t) + w_2(t)*x_2(t) - w(t)*x(t)).simplify()\n",
        "rhodVx_dt"
      ],
      "metadata": {
        "colab": {
          "base_uri": "https://localhost:8080/",
          "height": 58
        },
        "id": "COCJFtl0QqBu",
        "outputId": "c7f825e9-4ebb-4827-924e-96b4afe5102a"
      },
      "execution_count": 42,
      "outputs": [
        {
          "output_type": "execute_result",
          "data": {
            "text/plain": [
              "Eq(-w(t)*x(t) + w_1(t)*x_1(t) + w_2(t)*x_2(t), \\rho*(V(t)*Derivative(x(t), t) + x(t)*Derivative(V(t), t)))"
            ],
            "text/latex": "$\\displaystyle - w{\\left(t \\right)} x{\\left(t \\right)} + w_{1}{\\left(t \\right)} x_{1}{\\left(t \\right)} + w_{2}{\\left(t \\right)} x_{2}{\\left(t \\right)} = \\rho \\left(V{\\left(t \\right)} \\frac{d}{d t} x{\\left(t \\right)} + x{\\left(t \\right)} \\frac{d}{d t} V{\\left(t \\right)}\\right)$"
          },
          "metadata": {},
          "execution_count": 42
        }
      ]
    },
    {
      "cell_type": "markdown",
      "source": [
        "Equation 2-16"
      ],
      "metadata": {
        "id": "9tvRS--ek6RH"
      }
    },
    {
      "cell_type": "code",
      "source": [
        "# if dV(t)/dt = 0, V(t) = Vbar\n",
        "V_bar = symbols(r'\\bar{V}')\n",
        "Vrhodx_dt = rhodVx_dt.subs({Derivative(V(t), t): 0, V(t): V_bar})\n",
        "Vrhodx_dt"
      ],
      "metadata": {
        "colab": {
          "base_uri": "https://localhost:8080/",
          "height": 52
        },
        "id": "Vfg3yLmxWmjI",
        "outputId": "61839c93-673e-4fa3-810c-421be165a002"
      },
      "execution_count": 48,
      "outputs": [
        {
          "output_type": "execute_result",
          "data": {
            "text/plain": [
              "Eq(-w(t)*x(t) + w_1(t)*x_1(t) + w_2(t)*x_2(t), \\bar{V}*\\rho*Derivative(x(t), t))"
            ],
            "text/latex": "$\\displaystyle - w{\\left(t \\right)} x{\\left(t \\right)} + w_{1}{\\left(t \\right)} x_{1}{\\left(t \\right)} + w_{2}{\\left(t \\right)} x_{2}{\\left(t \\right)} = \\bar{V} \\rho \\frac{d}{d t} x{\\left(t \\right)}$"
          },
          "metadata": {},
          "execution_count": 48
        }
      ]
    },
    {
      "cell_type": "code",
      "source": [
        "dx_dt = Eq(Derivative(x(t), t), solve(Vrhodx_dt, Derivative(x(t), t))[0])\n",
        "dx_dt"
      ],
      "metadata": {
        "colab": {
          "base_uri": "https://localhost:8080/",
          "height": 56
        },
        "id": "Bz8i79C7RVoe",
        "outputId": "9414a77a-30d3-4e43-c805-ee099380c2d4"
      },
      "execution_count": 49,
      "outputs": [
        {
          "output_type": "execute_result",
          "data": {
            "text/plain": [
              "Eq(Derivative(x(t), t), (-w(t)*x(t) + w_1(t)*x_1(t) + w_2(t)*x_2(t))/(\\bar{V}*\\rho))"
            ],
            "text/latex": "$\\displaystyle \\frac{d}{d t} x{\\left(t \\right)} = \\frac{- w{\\left(t \\right)} x{\\left(t \\right)} + w_{1}{\\left(t \\right)} x_{1}{\\left(t \\right)} + w_{2}{\\left(t \\right)} x_{2}{\\left(t \\right)}}{\\bar{V} \\rho}$"
          },
          "metadata": {},
          "execution_count": 49
        }
      ]
    },
    {
      "cell_type": "markdown",
      "source": [
        "Equation 2-18"
      ],
      "metadata": {
        "id": "jQGebVruk_JY"
      }
    },
    {
      "cell_type": "code",
      "source": [
        "dx_dt = dx_dt.subs({w(t): w_1(t)+w_2(t)}).simplify()\n",
        "dx_dt"
      ],
      "metadata": {
        "colab": {
          "base_uri": "https://localhost:8080/",
          "height": 56
        },
        "id": "iJNmYSbtYf7G",
        "outputId": "1593abe4-76aa-431c-9646-4cb92c476234"
      },
      "execution_count": 52,
      "outputs": [
        {
          "output_type": "execute_result",
          "data": {
            "text/plain": [
              "Eq(Derivative(x(t), t), (-(w_1(t) + w_2(t))*x(t) + w_1(t)*x_1(t) + w_2(t)*x_2(t))/(\\bar{V}*\\rho))"
            ],
            "text/latex": "$\\displaystyle \\frac{d}{d t} x{\\left(t \\right)} = \\frac{- \\left(w_{1}{\\left(t \\right)} + w_{2}{\\left(t \\right)}\\right) x{\\left(t \\right)} + w_{1}{\\left(t \\right)} x_{1}{\\left(t \\right)} + w_{2}{\\left(t \\right)} x_{2}{\\left(t \\right)}}{\\bar{V} \\rho}$"
          },
          "metadata": {},
          "execution_count": 52
        }
      ]
    },
    {
      "cell_type": "markdown",
      "source": [
        "EXAMPLE 2.1 (from Seborg 4<sup>th</sup> ed. p. 18)\n",
        "\n",
        "Let's solve letter (a)."
      ],
      "metadata": {
        "id": "rlJ9etN4hahS"
      }
    },
    {
      "cell_type": "code",
      "source": [
        "dx_dt_a = dx_dt.subs({w_1(t): 500, w_2(t): 200, x_1(t): 0.4, x_2(t): 0.75, V_bar: 2, rho: 900})\n",
        "dx_dt_a"
      ],
      "metadata": {
        "colab": {
          "base_uri": "https://localhost:8080/",
          "height": 53
        },
        "id": "lvpg8NF9fpOt",
        "outputId": "25b70d14-6246-490b-a884-e43f529f2179"
      },
      "execution_count": 69,
      "outputs": [
        {
          "output_type": "execute_result",
          "data": {
            "text/plain": [
              "Eq(Derivative(x(t), t), 0.194444444444444 - 7*x(t)/18)"
            ],
            "text/latex": "$\\displaystyle \\frac{d}{d t} x{\\left(t \\right)} = 0.194444444444444 - \\frac{7 x{\\left(t \\right)}}{18}$"
          },
          "metadata": {},
          "execution_count": 69
        }
      ]
    },
    {
      "cell_type": "code",
      "source": [
        "x_0 = dx_dt_a.subs({Derivative(x(t), t): 0})\n",
        "x_0"
      ],
      "metadata": {
        "colab": {
          "base_uri": "https://localhost:8080/",
          "height": 53
        },
        "id": "x4fLt4wfgGyo",
        "outputId": "57e95b78-0344-4914-800c-4811b629b285"
      },
      "execution_count": 75,
      "outputs": [
        {
          "output_type": "execute_result",
          "data": {
            "text/plain": [
              "Eq(0, 0.194444444444444 - 7*x(t)/18)"
            ],
            "text/latex": "$\\displaystyle 0 = 0.194444444444444 - \\frac{7 x{\\left(t \\right)}}{18}$"
          },
          "metadata": {},
          "execution_count": 75
        }
      ]
    },
    {
      "cell_type": "code",
      "source": [
        "solve(x_0, x(t))[0]"
      ],
      "metadata": {
        "colab": {
          "base_uri": "https://localhost:8080/",
          "height": 37
        },
        "id": "7_CGRJXGgpLi",
        "outputId": "480bcdef-faed-49e3-88e0-2a7ef9052769"
      },
      "execution_count": 76,
      "outputs": [
        {
          "output_type": "execute_result",
          "data": {
            "text/plain": [
              "0.500000000000000"
            ],
            "text/latex": "$\\displaystyle 0.5$"
          },
          "metadata": {},
          "execution_count": 76
        }
      ]
    },
    {
      "cell_type": "markdown",
      "source": [
        "Let's solve letter (b)."
      ],
      "metadata": {
        "id": "MLeefvyLhwek"
      }
    },
    {
      "cell_type": "code",
      "source": [
        "dx_dt_b = dx_dt.subs({w_1(t): 400, w_2(t): 200, x_1(t): 0.4, x_2(t): 0.75, V_bar: 2, rho: 900})\n",
        "ics = {x(0): 0.5}\n",
        "dx_dt_b"
      ],
      "metadata": {
        "colab": {
          "base_uri": "https://localhost:8080/",
          "height": 53
        },
        "id": "Eezmtfkqbaet",
        "outputId": "4a67ce7e-5f0e-4303-a33d-ce00b2469cd0"
      },
      "execution_count": 109,
      "outputs": [
        {
          "output_type": "execute_result",
          "data": {
            "text/plain": [
              "Eq(Derivative(x(t), t), 0.172222222222222 - x(t)/3)"
            ],
            "text/latex": "$\\displaystyle \\frac{d}{d t} x{\\left(t \\right)} = 0.172222222222222 - \\frac{x{\\left(t \\right)}}{3}$"
          },
          "metadata": {},
          "execution_count": 109
        }
      ]
    },
    {
      "cell_type": "code",
      "source": [
        "xsoln = dsolve(dx_dt_b, ics=ics)\n",
        "print('Solution is', xsoln)"
      ],
      "metadata": {
        "colab": {
          "base_uri": "https://localhost:8080/"
        },
        "id": "s-DOM_lQccLd",
        "outputId": "b40552f7-96b3-4c19-a77f-2f7da30be004"
      },
      "execution_count": 110,
      "outputs": [
        {
          "output_type": "stream",
          "name": "stdout",
          "text": [
            "Solution is Eq(x(t), 0.516666666666667 - 0.0166666666666667*exp(-0.333333333333333*t))\n"
          ]
        }
      ]
    },
    {
      "cell_type": "code",
      "source": [
        "pb = plot(solve(xsoln, x(t))[0], (t, 0, 25), show=False, label='x(t) (b)', legend=True, ylabel='')\n",
        "pb.show()"
      ],
      "metadata": {
        "colab": {
          "base_uri": "https://localhost:8080/",
          "height": 487
        },
        "id": "vB8GAJ-XeDEL",
        "outputId": "d895f75f-ab6f-4810-9f2e-b232cbff2d20"
      },
      "execution_count": 111,
      "outputs": [
        {
          "output_type": "display_data",
          "data": {
            "text/plain": [
              "<Figure size 640x480 with 1 Axes>"
            ],
            "image/png": "[encoded data removed]"
          },
          "metadata": {}
        }
      ]
    },
    {
      "cell_type": "markdown",
      "source": [
        "Let's solve letter (c)."
      ],
      "metadata": {
        "id": "VdehZKrUh3cj"
      }
    },
    {
      "cell_type": "code",
      "source": [
        "dx_dt_c = dx_dt.subs({w_1(t): 500, w_2(t): 100, x_1(t): 0.4, x_2(t): 0.75, V_bar: 2, rho: 900})\n",
        "ics = {x(0): 0.5}\n",
        "dx_dt_c"
      ],
      "metadata": {
        "colab": {
          "base_uri": "https://localhost:8080/",
          "height": 53
        },
        "id": "tVIyjlcJh5Lq",
        "outputId": "dcb210d6-2424-42f1-b27c-df2b473a55c2"
      },
      "execution_count": 112,
      "outputs": [
        {
          "output_type": "execute_result",
          "data": {
            "text/plain": [
              "Eq(Derivative(x(t), t), 0.152777777777778 - x(t)/3)"
            ],
            "text/latex": "$\\displaystyle \\frac{d}{d t} x{\\left(t \\right)} = 0.152777777777778 - \\frac{x{\\left(t \\right)}}{3}$"
          },
          "metadata": {},
          "execution_count": 112
        }
      ]
    },
    {
      "cell_type": "code",
      "source": [
        "xsoln = dsolve(dx_dt_c, ics=ics)\n",
        "print('Solution is', xsoln)"
      ],
      "metadata": {
        "colab": {
          "base_uri": "https://localhost:8080/"
        },
        "id": "H22lnyG3iSSo",
        "outputId": "3086ebf7-592b-459d-ac06-5ed6079730c8"
      },
      "execution_count": 113,
      "outputs": [
        {
          "output_type": "stream",
          "name": "stdout",
          "text": [
            "Solution is Eq(x(t), 0.458333333333333 + 0.0416666666666667*exp(-0.333333333333333*t))\n"
          ]
        }
      ]
    },
    {
      "cell_type": "code",
      "source": [
        "pc = plot(solve(xsoln, x(t))[0], (t, 0, 25), show=False, label='x(t) (c)', legend=True, ylabel='')\n",
        "pc.show()"
      ],
      "metadata": {
        "colab": {
          "base_uri": "https://localhost:8080/",
          "height": 487
        },
        "id": "v_5zTf94iWWB",
        "outputId": "2392232d-0483-4890-b0f2-ed23aae7ae28"
      },
      "execution_count": 114,
      "outputs": [
        {
          "output_type": "display_data",
          "data": {
            "text/plain": [
              "<Figure size 640x480 with 1 Axes>"
            ],
            "image/png": "[encoded data removed]"
          },
          "metadata": {}
        }
      ]
    },
    {
      "cell_type": "markdown",
      "source": [
        "Let's solve letter (d)."
      ],
      "metadata": {
        "id": "j1XgvfYsjae_"
      }
    },
    {
      "cell_type": "code",
      "source": [
        "dx_dt_d = dx_dt.subs({w_1(t): 500, w_2(t): 100, x_1(t): 0.6, x_2(t): 0.75, V_bar: 2, rho: 900})\n",
        "ics = {x(0): 0.5}\n",
        "dx_dt_d"
      ],
      "metadata": {
        "colab": {
          "base_uri": "https://localhost:8080/",
          "height": 53
        },
        "id": "LHsgIqygje4T",
        "outputId": "4d7b2341-863b-4a74-bece-5143853631ae"
      },
      "execution_count": 115,
      "outputs": [
        {
          "output_type": "execute_result",
          "data": {
            "text/plain": [
              "Eq(Derivative(x(t), t), 0.208333333333333 - x(t)/3)"
            ],
            "text/latex": "$\\displaystyle \\frac{d}{d t} x{\\left(t \\right)} = 0.208333333333333 - \\frac{x{\\left(t \\right)}}{3}$"
          },
          "metadata": {},
          "execution_count": 115
        }
      ]
    },
    {
      "cell_type": "code",
      "source": [
        "xsoln = dsolve(dx_dt_d, ics=ics)\n",
        "print('Solution is', xsoln)"
      ],
      "metadata": {
        "colab": {
          "base_uri": "https://localhost:8080/"
        },
        "id": "GFyPjijcjpse",
        "outputId": "26ee0a84-57d5-4033-ea62-f62c0a80cc66"
      },
      "execution_count": 116,
      "outputs": [
        {
          "output_type": "stream",
          "name": "stdout",
          "text": [
            "Solution is Eq(x(t), 0.625 - 0.125*exp(-0.333333333333333*t))\n"
          ]
        }
      ]
    },
    {
      "cell_type": "code",
      "source": [
        "pd = plot(solve(xsoln, x(t))[0], (t, 0, 25), show=False, label='x(t) (d)', legend=True, ylabel='')\n",
        "pd.show()"
      ],
      "metadata": {
        "colab": {
          "base_uri": "https://localhost:8080/",
          "height": 487
        },
        "id": "L6ylA4bMju5L",
        "outputId": "84c2168d-9e16-4ce0-a863-79bd55272aa2"
      },
      "execution_count": 117,
      "outputs": [
        {
          "output_type": "display_data",
          "data": {
            "text/plain": [
              "<Figure size 640x480 with 1 Axes>"
            ],
            "image/png": "[encoded data removed]"
          },
          "metadata": {}
        }
      ]
    },
    {
      "cell_type": "markdown",
      "source": [
        "Figure 2.2"
      ],
      "metadata": {
        "id": "WhAGXK16nOa_"
      }
    },
    {
      "cell_type": "code",
      "source": [
        "pb.append(pc[0])\n",
        "pb.append(pd[0])\n",
        "pb.show()"
      ],
      "metadata": {
        "colab": {
          "base_uri": "https://localhost:8080/",
          "height": 487
        },
        "id": "CKWYx5OPlkJF",
        "outputId": "7b57f0ec-c96e-4f95-ebac-9b260ed81365"
      },
      "execution_count": 118,
      "outputs": [
        {
          "output_type": "display_data",
          "data": {
            "text/plain": [
              "<Figure size 640x480 with 1 Axes>"
            ],
            "image/png": "[encoded data removed]"
          },
          "metadata": {}
        }
      ]
    }
  ]
}