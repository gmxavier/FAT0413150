{
  "nbformat": 4,
  "nbformat_minor": 0,
  "metadata": {
    "kernelspec": {
      "display_name": "Python 3",
      "language": "python",
      "name": "python3"
    },
    "language_info": {
      "codemirror_mode": {
        "name": "ipython",
        "version": 3
      },
      "file_extension": ".py",
      "mimetype": "text/x-python",
      "name": "python",
      "nbconvert_exporter": "python",
      "pygments_lexer": "ipython3",
      "version": "3.7.3"
    },
    "colab": {
      "name": "01.00-Getting-Started.ipynb",
      "provenance": []
    }
  },
  "cells": [
    {
      "cell_type": "markdown",
      "metadata": {
        "id": "CuMPT7kWFBck"
      },
      "source": [
        "<!--NOTEBOOK_HEADER-->\n",
        "*This notebook contains course material from [FAT0413150](https://gmxavier.github.io/FAT0413150)\n",
        "by Gilberto Xavier (gmxavier at fat.uerj.br); the content is available [on Github](https://github.com/gmxavier/FAT0413150.git).\n",
        "The text is released under the [CC-BY-NC-SA-4.0 license](https://creativecommons.org/licenses/by-nc-sa/4.0/legalcode),\n",
        "and code is released under the [MIT license](https://opensource.org/licenses/MIT).*"
      ]
    },
    {
      "cell_type": "markdown",
      "metadata": {
        "id": "QbNS4TM8FBdG"
      },
      "source": [
        "<!--NAVIGATION-->\n",
        "| [Contents](toc.ipynb) | [Introduction](http://nbviewer.jupyter.org/github/gmxavier/FAT0413150/blob/main/notebooks/02.00-Introduction.ipynb) ><p><a href=\"https://colab.research.google.com/github/gmxavier/FAT0413150/blob/main/notebooks/01.00-Getting-Started.ipynb\" target=\"_parent\"><img align=\"left\" src=\"https://colab.research.google.com/assets/colab-badge.svg\" alt=\"Open in Colab\" title=\"Open in Google Colaboratory\"></a><p><a href=\"https://raw.githubusercontent.com/gmxavier/FAT0413150/main/notebooks/01.00-Getting-Started.ipynb\" target=\"_parent\"><img align=\"left\" src=\"https://img.shields.io/badge/Github-Download-blue.svg\" alt=\"Download\" title=\"Download Notebook\"></a>"
      ]
    },
    {
      "cell_type": "markdown",
      "metadata": {
        "id": "xBPdNs2cFBdP"
      },
      "source": [
        "# Getting started"
      ]
    },
    {
      "cell_type": "markdown",
      "metadata": {
        "id": "pZqwFUwlFBdQ"
      },
      "source": [
        "## Reading\n",
        "- [CBE30338 Chemical Process Control (Chapter 1.0)](https://github.com/jckantor/CBE30338/blob/master/notebooks/01.01-Getting-Started-with-Python-and-Jupyter-Notebooks.ipynb)\n",
        "\n",
        "## Supplementary notebooks\n",
        "- [R2Py made easy](https://github.com/gmxavier/FAT0413150/blob/main/notebooks/01.01-Rosetta-Stone.ipynb)\n",
        "\n",
        "## Review problems\n",
        "  Click [here]() to access the review problems."
      ]
    },
    {
      "cell_type": "markdown",
      "metadata": {
        "id": "QSJfsjOqFBdR"
      },
      "source": [
        "<!--NAVIGATION-->\n",
        "| [Contents](toc.ipynb) | [Introduction](http://nbviewer.jupyter.org/github/gmxavier/FAT0413150/blob/main/notebooks/02.00-Introduction.ipynb) ><p><a href=\"https://colab.research.google.com/github/gmxavier/FAT0413150/blob/main/notebooks/01.00-Getting-Started.ipynb\" target=\"_parent\"><img align=\"left\" src=\"https://colab.research.google.com/assets/colab-badge.svg\" alt=\"Open in Colab\" title=\"Open in Google Colaboratory\"></a><p><a href=\"https://raw.githubusercontent.com/gmxavier/FAT0413150/main/notebooks/01.00-Getting-Started.ipynb\" target=\"_parent\"><img align=\"left\" src=\"https://img.shields.io/badge/Github-Download-blue.svg\" alt=\"Download\" title=\"Download Notebook\"></a>"
      ]
    }
  ]
}
