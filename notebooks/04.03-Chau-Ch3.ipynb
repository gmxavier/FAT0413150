{
  "nbformat": 4,
  "nbformat_minor": 0,
  "metadata": {
    "colab": {
      "name": "04.03-Chau-Ch3.ipynb",
      "provenance": [],
      "authorship_tag": "ABX9TyMoH9VkTUtJAc1dbtmHfgpJ",
      "include_colab_link": true
    },
    "kernelspec": {
      "name": "python3",
      "display_name": "Python 3"
    },
    "language_info": {
      "name": "python"
    }
  },
  "cells": [
    {
      "cell_type": "markdown",
      "metadata": {
        "id": "view-in-github",
        "colab_type": "text"
      },
      "source": [
        "<a href=\"https://colab.research.google.com/github/gmxavier/FAT0413150/blob/main/notebooks/04_03_Chau_Ch3.ipynb\" target=\"_parent\"><img src=\"https://colab.research.google.com/assets/colab-badge.svg\" alt=\"Open In Colab\"/></a>"
      ]
    },
    {
      "cell_type": "markdown",
      "metadata": {
        "id": "LptyVIzAjNn9"
      },
      "source": [
        "This notebook shows how to use functions from `scipy`, `numpy`, `control` and `matplotlib` to substitute MATLAB functions used in [Chapter 3](https://ia802909.us.archive.org/32/items/process-control-a-first-course-with-matlab/Process%20Control%20A%20First%20Course%20with%20MATLAB.pdf#page=60) of Pao C. Chau, Process Control: A First Course with MATLAB."
      ]
    },
    {
      "cell_type": "code",
      "metadata": {
        "id": "jrU0MMj1jKNe"
      },
      "source": [
        ""
      ],
      "execution_count": null,
      "outputs": []
    }
  ]
}
