{
  "nbformat": 4,
  "nbformat_minor": 0,
  "metadata": {
    "colab": {
      "provenance": [],
      "authorship_tag": "ABX9TyN27ERtKhQnlwM/IIM7Nt27",
      "include_colab_link": true
    },
    "kernelspec": {
      "name": "python3",
      "display_name": "Python 3"
    },
    "language_info": {
      "name": "python"
    }
  },
  "cells": [
    {
      "cell_type": "markdown",
      "metadata": {
        "id": "view-in-github",
        "colab_type": "text"
      },
      "source": [
        "<a href=\"https://colab.research.google.com/github/gmxavier/FAT0413150/blob/main/notebooks/06.03-Figures-of-Merit.ipynb\" target=\"_parent\"><img src=\"https://colab.research.google.com/assets/colab-badge.svg\" alt=\"Open In Colab\"/></a>"
      ]
    },
    {
      "cell_type": "markdown",
      "source": [
        "# Closed-loop performance indexes (aka figures of merit)"
      ],
      "metadata": {
        "id": "veNrtUPKdi1w"
      }
    },
    {
      "cell_type": "markdown",
      "source": [
        "## Summary\n",
        "\n",
        "Let's see some closed-loop performance indexes or figures of merit."
      ],
      "metadata": {
        "id": "QVNsAx2zdrYF"
      }
    },
    {
      "cell_type": "markdown",
      "source": [
        "## Initializations"
      ],
      "metadata": {
        "id": "zCIG0XQFeF0k"
      }
    },
    {
      "cell_type": "code",
      "execution_count": 1,
      "metadata": {
        "colab": {
          "base_uri": "https://localhost:8080/"
        },
        "id": "aIE1Iqo2dejF",
        "outputId": "3ca2a5e2-6de9-46c2-8822-78bb7af3dff7"
      },
      "outputs": [
        {
          "output_type": "stream",
          "name": "stdout",
          "text": [
            "Collecting control\n",
            "  Downloading control-0.10.0-py3-none-any.whl (513 kB)\n",
            "\u001b[2K     \u001b[90m━━━━━━━━━━━━━━━━━━━━━━━━━━━━━━━━━━━━━━━━\u001b[0m \u001b[32m513.9/513.9 kB\u001b[0m \u001b[31m6.4 MB/s\u001b[0m eta \u001b[36m0:00:00\u001b[0m\n",
            "\u001b[?25hRequirement already satisfied: numpy>=1.23 in /usr/local/lib/python3.10/dist-packages (from control) (1.25.2)\n",
            "Requirement already satisfied: scipy>=1.8 in /usr/local/lib/python3.10/dist-packages (from control) (1.11.4)\n",
            "Requirement already satisfied: matplotlib>=3.6 in /usr/local/lib/python3.10/dist-packages (from control) (3.7.1)\n",
            "Requirement already satisfied: contourpy>=1.0.1 in /usr/local/lib/python3.10/dist-packages (from matplotlib>=3.6->control) (1.2.1)\n",
            "Requirement already satisfied: cycler>=0.10 in /usr/local/lib/python3.10/dist-packages (from matplotlib>=3.6->control) (0.12.1)\n",
            "Requirement already satisfied: fonttools>=4.22.0 in /usr/local/lib/python3.10/dist-packages (from matplotlib>=3.6->control) (4.51.0)\n",
            "Requirement already satisfied: kiwisolver>=1.0.1 in /usr/local/lib/python3.10/dist-packages (from matplotlib>=3.6->control) (1.4.5)\n",
            "Requirement already satisfied: packaging>=20.0 in /usr/local/lib/python3.10/dist-packages (from matplotlib>=3.6->control) (24.0)\n",
            "Requirement already satisfied: pillow>=6.2.0 in /usr/local/lib/python3.10/dist-packages (from matplotlib>=3.6->control) (9.4.0)\n",
            "Requirement already satisfied: pyparsing>=2.3.1 in /usr/local/lib/python3.10/dist-packages (from matplotlib>=3.6->control) (3.1.2)\n",
            "Requirement already satisfied: python-dateutil>=2.7 in /usr/local/lib/python3.10/dist-packages (from matplotlib>=3.6->control) (2.8.2)\n",
            "Requirement already satisfied: six>=1.5 in /usr/local/lib/python3.10/dist-packages (from python-dateutil>=2.7->matplotlib>=3.6->control) (1.16.0)\n",
            "Installing collected packages: control\n",
            "Successfully installed control-0.10.0\n"
          ]
        }
      ],
      "source": [
        "from requests import get\n",
        "!pip install control\n",
        "from inspect import getsource\n",
        "\n",
        "# Tip: https://changhsinlee.com/colab-import-python/\n",
        "url = 'https://raw.githubusercontent.com/gmxavier/FAT0413150/main/src/utils.py'\n",
        "r = get(url)\n",
        "with open('utils.py', 'w') as f:\n",
        "    f.write(r.text)\n",
        "\n",
        "from utils import pidtest, fom"
      ]
    },
    {
      "cell_type": "markdown",
      "source": [
        "## Figures of merit function\n",
        "\n",
        "We wrapped the the calculation of some important figures of merit (FOM) in the `fom` function:"
      ],
      "metadata": {
        "id": "M7MOWoxLeU0l"
      }
    },
    {
      "cell_type": "code",
      "source": [
        "print(getsource(fom))"
      ],
      "metadata": {
        "colab": {
          "base_uri": "https://localhost:8080/"
        },
        "id": "sURVpt5delzL",
        "outputId": "855fdc58-3e27-46f5-9f61-f718ea2a0032"
      },
      "execution_count": 2,
      "outputs": [
        {
          "output_type": "stream",
          "name": "stdout",
          "text": [
            "def fom(inpval):\n",
            "    r''' Calculates several figures of merit of a closed-loop control (e.g. overshoot, decay ratio, \n",
            "    integral of absolute error, integral of squared error, integral of time-weighted absolute error, \n",
            "    integral of time-weighted squared error).\n",
            "\n",
            "    Parameters\n",
            "    ----------\n",
            "    inpval : data frame\n",
            "         Closed-loop (servo control) response (Input is the ISP) \n",
            "         (Time, Input and Output)\n",
            "\n",
            "    Returns\n",
            "    -------\n",
            "    retval : tuple\n",
            "         Figures of merit of a closed-loop (servo control)\n",
            "         (OS, DR, IAE, ISE, ITAE, ITSE)\n",
            "\n",
            "    Notes\n",
            "    -----\n",
            "  \n",
            "\n",
            "    Example\n",
            "    --------\n",
            "\n",
            "    >>> inpval = pidtest(100,5,2000, out=True)\n",
            "    >>> fom(inval)\n",
            "\n",
            "\n",
            "    Reference\n",
            "    ----------\n",
            "\n",
            "    '''            \n",
            "    t = inpval['Time']\n",
            "    u = inpval['Input']\n",
            "    y = inpval['Output']\n",
            "    threshold = u.iloc[-1]\n",
            "    if u.iloc[-1] > 0:\n",
            "        aux = np.where(np.where([(y - np.roll(y,1) > 0) & (y - np.roll(y,-1) > 0)],y, 0)> threshold, y,np.nan)\n",
            "        OS = (aux[aux>threshold][0] - threshold)/threshold\n",
            "        DR = (aux[aux>threshold][1] - threshold)/(aux[aux>threshold][0] - threshold)\n",
            "    if u.iloc[-1] < 0:\n",
            "        aux = np.where(np.where([(y - np.roll(y,1) < 0) & (y - np.roll(y,-1) < 0)],y, 0)< threshold, y,np.nan)\n",
            "        OS = (aux[aux<threshold][0] - threshold)/threshold\n",
            "        DR = (aux[aux<threshold][1] - threshold)/(aux[aux<threshold][0] - threshold)   \n",
            "    #OS = min(y - u.iloc[-1]) if u.iloc[-1]<0 else max(y - u.iloc[-1])\n",
            "    #DR = min(y[y<OS] - u.iloc[-1]) if u.iloc[-1]<0 else max(y[y<OS] - u.iloc[-1])\n",
            "    IAE = sum(abs(u - y))*(max(t)-min(t))/len(t)\n",
            "    ISE = sum((u - y)**2)*(max(t)-min(t))/len(t)\n",
            "    ITAE = sum(abs(u - y)*t)*(max(t)-min(t))/len(t)\n",
            "    ITSE = sum((u - y)**2*t)*(max(t)-min(t))/len(t)\n",
            "    retval = (OS,DR,IAE,ISE,ITAE,ITSE)\n",
            "    return retval\n",
            "\n"
          ]
        }
      ]
    },
    {
      "cell_type": "markdown",
      "source": [
        "## Controller tuning performance\n",
        "\n",
        "Let's obtain the controller tuning performance of the empirically tuned control."
      ],
      "metadata": {
        "id": "I6NPyFM4e8y5"
      }
    },
    {
      "cell_type": "code",
      "source": [
        "inpval = pidtest(100,5,2000,out=True)"
      ],
      "metadata": {
        "colab": {
          "base_uri": "https://localhost:8080/",
          "height": 493
        },
        "id": "rZ7aWqgFfXeP",
        "outputId": "e39f5622-1d9c-4b08-8ebc-e92ca266bf6d"
      },
      "execution_count": 17,
      "outputs": [
        {
          "output_type": "display_data",
          "data": {
            "text/plain": [
              "<Figure size 640x480 with 1 Axes>"
            ],
            "image/png": "[encoded data removed]"
          },
          "metadata": {}
        }
      ]
    },
    {
      "cell_type": "code",
      "source": [
        "retval = fom(inpval)\n",
        "print(f\"\"\"Controller tuning performance\n",
        " Overshoot  : {retval[0]*100:.2f}%\n",
        " Decay ratio: 1/{1/retval[1]:.2f}\n",
        " IAE        : {retval[2]:.2f}\n",
        " ISE        : {retval[3]:.2f}\n",
        " ITAE       : {retval[4]:.2f}\n",
        " ITSE       : {retval[5]:.2f}\"\"\")"
      ],
      "metadata": {
        "colab": {
          "base_uri": "https://localhost:8080/"
        },
        "id": "cr9_76QHfy4i",
        "outputId": "c060bd5b-b11b-4390-f7f3-ddfbceca58d7"
      },
      "execution_count": 28,
      "outputs": [
        {
          "output_type": "stream",
          "name": "stdout",
          "text": [
            "Controller tuning performance\n",
            " Overshoot  : 16.29%\n",
            " Decay ratio: 1/37.62\n",
            " IAE        : 3.42\n",
            " ISE        : 2.00\n",
            " ITAE       : 97.06\n",
            " ITSE       : 52.78\n"
          ]
        }
      ]
    }
  ]
}