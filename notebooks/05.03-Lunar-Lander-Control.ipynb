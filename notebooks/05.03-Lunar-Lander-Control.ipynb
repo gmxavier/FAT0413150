{
  "nbformat": 4,
  "nbformat_minor": 0,
  "metadata": {
    "colab": {
      "name": "04.04-Lunar-Lander-Dynamics.ipynb",
      "provenance": [],
      "authorship_tag": "ABX9TyORcWqUoAdIvIwgVoeJMcFD",
      "include_colab_link": true
    },
    "kernelspec": {
      "name": "python3",
      "display_name": "Python 3"
    },
    "language_info": {
      "name": "python"
    }
  },
  "cells": [
    {
      "cell_type": "markdown",
      "metadata": {
        "id": "view-in-github",
        "colab_type": "text"
      },
      "source": [
        "<a href=\"https://colab.research.google.com/github/gmxavier/FAT0413150/blob/main/notebooks/05.03-Lunar-Lander-Control.ipynb\" target=\"_parent\"><img src=\"https://colab.research.google.com/assets/colab-badge.svg\" alt=\"Open In Colab\"/></a>"
      ]
    },
    {
      "cell_type": "code",
      "execution_count": 198,
      "metadata": {
        "id": "0xN_b0ZAA3_4"
      },
      "outputs": [],
      "source": [
        "import numpy as np\n",
        "import matplotlib.pyplot as plt\n",
        "from math import pi\n",
        "try: \n",
        "  import control as ct\n",
        "except:\n",
        "  !pip install control\n",
        "  import control as ct"
      ]
    },
    {
      "cell_type": "markdown",
      "source": [
        "# Lunar lander control\n",
        "\n",
        "We will use all the codes we've done so far (e.g. models, simulation & plot functions). Everything we will need is [here](https://github.com/gmxavier/FAT0413150/blob/main/src/dynamic_models.py) and to load them we need just run the cell below.\n",
        "\n"
      ],
      "metadata": {
        "id": "uGZZcXAQG3sY"
      }
    },
    {
      "cell_type": "code",
      "source": [
        "# To get the file\n",
        "from requests import get\n",
        "repo_url = 'https://raw.githubusercontent.com/gmxavier/FAT0413150/main/'\n",
        "for file in ['lunar_lander.py']:\n",
        "  url = repo_url+'src/'+file\n",
        "  with open(file, 'w') as f: \n",
        "    f.write(get(url).text)\n",
        "\n",
        "# To load it and import the model update function\n",
        "%load lunar_lander.py\n",
        "from lunar_lander import lunar_engine_output, lunar_update, landing_plot\n",
        "\n",
        "# To create the input/output model for the engine\n",
        "lunar_engine = ct.NonlinearIOSystem(None, \n",
        "                                    lunar_engine_output, \n",
        "                                    inputs  = ('T_t', 'T_l', 'm_t'), \n",
        "                                    outputs = ('F_t', 'F_l'), \n",
        "                                    name    = 'lunar_engine')\n",
        "\n",
        "# To create an input/output model for the dynamics\n",
        "lunar_dynamics = ct.NonlinearIOSystem(lunar_update, \n",
        "                                      None, \n",
        "                                      inputs  = ('F_t', 'F_l'), \n",
        "                                      outputs = ('p_x', 'v_x', 'p_y', 'v_y', 'theta', 'v_theta', 'm_t', 'm_f'), \n",
        "                                      states  = ('p_x', 'v_x', 'p_y', 'v_y', 'theta', 'v_theta', 'm_t', 'm_f'), \n",
        "                                      name    = 'lunar_dynamics')"
      ],
      "metadata": {
        "id": "leXu1uucMfSb"
      },
      "execution_count": 192,
      "outputs": []
    },
    {
      "cell_type": "markdown",
      "source": [
        "## PID control\n",
        "\n",
        "Let's try the following D controller for the vertical speed $v_y$ (see that $K_P=0$ and $K_I=0$)."
      ],
      "metadata": {
        "id": "Y8zFFA3p1NfH"
      }
    },
    {
      "cell_type": "code",
      "source": [
        "K_P = 0\n",
        "K_I = 0\n",
        "K_D = -1/25\n",
        "p_y_P = ct.tf2io(ct.tf([K_P], [0, 1]), inputs='u', outputs='y', name='p_y_P')\n",
        "p_y_I = ct.tf2io(ct.tf([K_I], [1, 0]), inputs='u', outputs='y', name='p_y_I')\n",
        "p_y_D = ct.tf2io(ct.tf([K_D], [0, 1]), inputs='u', outputs='y', name='p_y_D')"
      ],
      "metadata": {
        "id": "wk6VtDhhdU5j"
      },
      "execution_count": 193,
      "outputs": []
    },
    {
      "cell_type": "markdown",
      "source": [
        "Now let's build the closed loop control system, setup the simulation and see what happens."
      ],
      "metadata": {
        "id": "SMDunDSB2E68"
      }
    },
    {
      "cell_type": "code",
      "source": [
        "# Closed loop control system\n",
        "land = ct.InterconnectedSystem(\n",
        "    # List of subsystems\n",
        "    (lunar_engine, lunar_dynamics, p_y_P, p_y_I, p_y_D), name='land',\n",
        "\n",
        "    # Interconnections between  subsystems\n",
        "    connections=(\n",
        "        ['p_y_P.u', 'lunar_dynamics.p_y'],\n",
        "        ['p_y_I.u', 'lunar_dynamics.p_y'],\n",
        "        ['p_y_D.u', 'lunar_dynamics.v_y'],\n",
        "        ['lunar_engine.T_t', 'p_y_P.y', 'p_y_I.y', 'p_y_D.y'],\n",
        "        ['lunar_engine.m_t', 'lunar_dynamics.m_t'],\n",
        "        ['lunar_dynamics.F_t', 'lunar_engine.F_t'],\n",
        "        ['lunar_dynamics.F_l', 'lunar_engine.F_l']\n",
        "    ),\n",
        "\n",
        "    # System inputs\n",
        "    inplist=['lunar_engine.T_l'],\n",
        "    inputs=['T_l'],\n",
        "\n",
        "    #  System outputs\n",
        "    outlist=['lunar_engine.T_t', 'lunar_engine.T_l', 'lunar_dynamics.p_x', 'lunar_dynamics.v_x', \n",
        "             'lunar_dynamics.p_y', 'lunar_dynamics.v_y', 'lunar_dynamics.theta', 'lunar_dynamics.v_theta', \n",
        "             'lunar_dynamics.m_t', 'lunar_dynamics.m_f'],\n",
        "    outputs=['T_t', 'T_l', 'p_x', 'v_x', 'p_y', 'v_y', 'theta', 'v_theta', 'm_t', 'm_f']\n",
        ")"
      ],
      "metadata": {
        "id": "mw3OwHrDbE85"
      },
      "execution_count": 194,
      "outputs": []
    },
    {
      "cell_type": "code",
      "source": [
        "# Initial conditions\n",
        "X0 = [0.5e+03, 0.0, 160.0e+03, -0.7e+03, 0.0, 0.0, 15.0e+03, 8.0e+03]\n",
        "# Total simulation time\n",
        "tst = 1500\n",
        "# Simulation time array\n",
        "T  = np.linspace(0, tst, 10*tst+1)\n",
        "# Input\n",
        "T_l  = np.array([0.0 for t in T])\n",
        "# Simulate and plot\n",
        "res = landing_plot(land, T, T_l, X0)"
      ],
      "metadata": {
        "id": "f3y1MppHbKM0",
        "outputId": "1c499f94-e52d-47e0-f5fb-12569333e1f8",
        "colab": {
          "base_uri": "https://localhost:8080/",
          "height": 317
        }
      },
      "execution_count": 197,
      "outputs": [
        {
          "output_type": "error",
          "ename": "NameError",
          "evalue": "ignored",
          "traceback": [
            "\u001b[0;31m---------------------------------------------------------------------------\u001b[0m",
            "\u001b[0;31mNameError\u001b[0m                                 Traceback (most recent call last)",
            "\u001b[0;32m<ipython-input-197-8497b20456be>\u001b[0m in \u001b[0;36m<module>\u001b[0;34m()\u001b[0m\n\u001b[1;32m      8\u001b[0m \u001b[0mT_l\u001b[0m  \u001b[0;34m=\u001b[0m \u001b[0mnp\u001b[0m\u001b[0;34m.\u001b[0m\u001b[0marray\u001b[0m\u001b[0;34m(\u001b[0m\u001b[0;34m[\u001b[0m\u001b[0;36m0.0\u001b[0m \u001b[0;32mfor\u001b[0m \u001b[0mt\u001b[0m \u001b[0;32min\u001b[0m \u001b[0mT\u001b[0m\u001b[0;34m]\u001b[0m\u001b[0;34m)\u001b[0m\u001b[0;34m\u001b[0m\u001b[0;34m\u001b[0m\u001b[0m\n\u001b[1;32m      9\u001b[0m \u001b[0;31m# Simulate and plot\u001b[0m\u001b[0;34m\u001b[0m\u001b[0;34m\u001b[0m\u001b[0;34m\u001b[0m\u001b[0m\n\u001b[0;32m---> 10\u001b[0;31m \u001b[0mres\u001b[0m \u001b[0;34m=\u001b[0m \u001b[0mlanding_plot\u001b[0m\u001b[0;34m(\u001b[0m\u001b[0mland\u001b[0m\u001b[0;34m,\u001b[0m \u001b[0mT\u001b[0m\u001b[0;34m,\u001b[0m \u001b[0mT_l\u001b[0m\u001b[0;34m,\u001b[0m \u001b[0mX0\u001b[0m\u001b[0;34m)\u001b[0m\u001b[0;34m\u001b[0m\u001b[0;34m\u001b[0m\u001b[0m\n\u001b[0m",
            "\u001b[0;32m/content/lunar_lander.py\u001b[0m in \u001b[0;36mlanding_plot\u001b[0;34m(sys, T, u, x0)\u001b[0m\n\u001b[1;32m    114\u001b[0m \u001b[0;32mdef\u001b[0m \u001b[0mlanding_plot\u001b[0m\u001b[0;34m(\u001b[0m\u001b[0msys\u001b[0m\u001b[0;34m,\u001b[0m \u001b[0mT\u001b[0m\u001b[0;34m,\u001b[0m \u001b[0mu\u001b[0m\u001b[0;34m,\u001b[0m \u001b[0mx0\u001b[0m\u001b[0;34m)\u001b[0m\u001b[0;34m:\u001b[0m\u001b[0;34m\u001b[0m\u001b[0;34m\u001b[0m\u001b[0m\n\u001b[1;32m    115\u001b[0m \u001b[0;34m\u001b[0m\u001b[0m\n\u001b[0;32m--> 116\u001b[0;31m   \u001b[0;32mtry\u001b[0m\u001b[0;34m:\u001b[0m\u001b[0;34m\u001b[0m\u001b[0;34m\u001b[0m\u001b[0m\n\u001b[0m\u001b[1;32m    117\u001b[0m     \u001b[0;32mimport\u001b[0m \u001b[0mcontrol\u001b[0m \u001b[0;32mas\u001b[0m \u001b[0mct\u001b[0m\u001b[0;34m\u001b[0m\u001b[0;34m\u001b[0m\u001b[0m\n\u001b[1;32m    118\u001b[0m   \u001b[0;32mexcept\u001b[0m\u001b[0;34m:\u001b[0m\u001b[0;34m\u001b[0m\u001b[0;34m\u001b[0m\u001b[0m\n",
            "\u001b[0;31mNameError\u001b[0m: name 'ct' is not defined"
          ]
        }
      ]
    }
  ]
}