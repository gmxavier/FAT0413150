{
  "nbformat": 4,
  "nbformat_minor": 0,
  "metadata": {
    "kernelspec": {
      "display_name": "Python 3",
      "language": "python",
      "name": "python3"
    },
    "language_info": {
      "codemirror_mode": {
        "name": "ipython",
        "version": 3
      },
      "file_extension": ".py",
      "mimetype": "text/x-python",
      "name": "python",
      "nbconvert_exporter": "python",
      "pygments_lexer": "ipython3",
      "version": "3.7.4"
    },
    "colab": {
      "name": "06.02-Fitting-First-Order-plus-Time-Delay-to-Step-Response.ipynb",
      "provenance": [],
      "include_colab_link": true
    },
    "widgets": {
      "application/vnd.jupyter.widget-state+json": {
        "680c7adf4d2b498ba4bf49514c7976ae": {
          "model_module": "@jupyter-widgets/controls",
          "model_name": "VBoxModel",
          "model_module_version": "1.5.0",
          "state": {
            "_dom_classes": [
              "widget-interact"
            ],
            "_model_module": "@jupyter-widgets/controls",
            "_model_module_version": "1.5.0",
            "_model_name": "VBoxModel",
            "_view_count": null,
            "_view_module": "@jupyter-widgets/controls",
            "_view_module_version": "1.5.0",
            "_view_name": "VBoxView",
            "box_style": "",
            "children": [
              "IPY_MODEL_7adadc76363e4e5dba782e2059b32637",
              "IPY_MODEL_a14ad65fb3914bb5ac1209baeda84fdc",
              "IPY_MODEL_2230989ecfcd41a39317e1ef87f2410a",
              "IPY_MODEL_cd0893cdc759417ea5047797ab2f47c6"
            ],
            "layout": "IPY_MODEL_1772be9b420945d58e1e5d10ca8d9310"
          }
        },
        "7adadc76363e4e5dba782e2059b32637": {
          "model_module": "@jupyter-widgets/controls",
          "model_name": "FloatSliderModel",
          "model_module_version": "1.5.0",
          "state": {
            "_dom_classes": [],
            "_model_module": "@jupyter-widgets/controls",
            "_model_module_version": "1.5.0",
            "_model_name": "FloatSliderModel",
            "_view_count": null,
            "_view_module": "@jupyter-widgets/controls",
            "_view_module_version": "1.5.0",
            "_view_name": "FloatSliderView",
            "continuous_update": true,
            "description": "K",
            "description_tooltip": null,
            "disabled": false,
            "layout": "IPY_MODEL_1c50abe6a6eb4887af8cd1f8d5e9b962",
            "max": 5,
            "min": -5,
            "orientation": "horizontal",
            "readout": true,
            "readout_format": ".2f",
            "step": 0.1,
            "style": "IPY_MODEL_9d6349f0ba974dc68ceeb5a2b38a58ed",
            "value": 1
          }
        },
        "a14ad65fb3914bb5ac1209baeda84fdc": {
          "model_module": "@jupyter-widgets/controls",
          "model_name": "FloatSliderModel",
          "model_module_version": "1.5.0",
          "state": {
            "_dom_classes": [],
            "_model_module": "@jupyter-widgets/controls",
            "_model_module_version": "1.5.0",
            "_model_name": "FloatSliderModel",
            "_view_count": null,
            "_view_module": "@jupyter-widgets/controls",
            "_view_module_version": "1.5.0",
            "_view_name": "FloatSliderView",
            "continuous_update": true,
            "description": "tau",
            "description_tooltip": null,
            "disabled": false,
            "layout": "IPY_MODEL_ae7860c33a2d45289a00bd1b5d87c50b",
            "max": 10,
            "min": 0,
            "orientation": "horizontal",
            "readout": true,
            "readout_format": ".2f",
            "step": 0.1,
            "style": "IPY_MODEL_c1db5b4f7ac14ab8955bfa4809c1d5d1",
            "value": 5
          }
        },
        "2230989ecfcd41a39317e1ef87f2410a": {
          "model_module": "@jupyter-widgets/controls",
          "model_name": "FloatSliderModel",
          "model_module_version": "1.5.0",
          "state": {
            "_dom_classes": [],
            "_model_module": "@jupyter-widgets/controls",
            "_model_module_version": "1.5.0",
            "_model_name": "FloatSliderModel",
            "_view_count": null,
            "_view_module": "@jupyter-widgets/controls",
            "_view_module_version": "1.5.0",
            "_view_name": "FloatSliderView",
            "continuous_update": true,
            "description": "t_d",
            "description_tooltip": null,
            "disabled": false,
            "layout": "IPY_MODEL_bb88b3af011f4273bfc522626ba86a76",
            "max": 10,
            "min": 0,
            "orientation": "horizontal",
            "readout": true,
            "readout_format": ".2f",
            "step": 0.1,
            "style": "IPY_MODEL_98a08a8b851f42b1a3c6562776b9dcb0",
            "value": 10
          }
        },
        "cd0893cdc759417ea5047797ab2f47c6": {
          "model_module": "@jupyter-widgets/output",
          "model_name": "OutputModel",
          "model_module_version": "1.0.0",
          "state": {
            "_dom_classes": [],
            "_model_module": "@jupyter-widgets/output",
            "_model_module_version": "1.0.0",
            "_model_name": "OutputModel",
            "_view_count": null,
            "_view_module": "@jupyter-widgets/output",
            "_view_module_version": "1.0.0",
            "_view_name": "OutputView",
            "layout": "IPY_MODEL_631b9606e80a48f38f281c69798dcbe1",
            "msg_id": "",
            "outputs": [
              {
                "output_type": "display_data",
                "data": {
                  "text/plain": "<Figure size 432x288 with 1 Axes>",
                  "image/png": "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\n"
                },
                "metadata": {
                  "needs_background": "light"
                }
              }
            ]
          }
        },
        "1772be9b420945d58e1e5d10ca8d9310": {
          "model_module": "@jupyter-widgets/base",
          "model_name": "LayoutModel",
          "model_module_version": "1.2.0",
          "state": {
            "_model_module": "@jupyter-widgets/base",
            "_model_module_version": "1.2.0",
            "_model_name": "LayoutModel",
            "_view_count": null,
            "_view_module": "@jupyter-widgets/base",
            "_view_module_version": "1.2.0",
            "_view_name": "LayoutView",
            "align_content": null,
            "align_items": null,
            "align_self": null,
            "border": null,
            "bottom": null,
            "display": null,
            "flex": null,
            "flex_flow": null,
            "grid_area": null,
            "grid_auto_columns": null,
            "grid_auto_flow": null,
            "grid_auto_rows": null,
            "grid_column": null,
            "grid_gap": null,
            "grid_row": null,
            "grid_template_areas": null,
            "grid_template_columns": null,
            "grid_template_rows": null,
            "height": null,
            "justify_content": null,
            "justify_items": null,
            "left": null,
            "margin": null,
            "max_height": null,
            "max_width": null,
            "min_height": null,
            "min_width": null,
            "object_fit": null,
            "object_position": null,
            "order": null,
            "overflow": null,
            "overflow_x": null,
            "overflow_y": null,
            "padding": null,
            "right": null,
            "top": null,
            "visibility": null,
            "width": null
          }
        },
        "1c50abe6a6eb4887af8cd1f8d5e9b962": {
          "model_module": "@jupyter-widgets/base",
          "model_name": "LayoutModel",
          "model_module_version": "1.2.0",
          "state": {
            "_model_module": "@jupyter-widgets/base",
            "_model_module_version": "1.2.0",
            "_model_name": "LayoutModel",
            "_view_count": null,
            "_view_module": "@jupyter-widgets/base",
            "_view_module_version": "1.2.0",
            "_view_name": "LayoutView",
            "align_content": null,
            "align_items": null,
            "align_self": null,
            "border": null,
            "bottom": null,
            "display": null,
            "flex": null,
            "flex_flow": null,
            "grid_area": null,
            "grid_auto_columns": null,
            "grid_auto_flow": null,
            "grid_auto_rows": null,
            "grid_column": null,
            "grid_gap": null,
            "grid_row": null,
            "grid_template_areas": null,
            "grid_template_columns": null,
            "grid_template_rows": null,
            "height": null,
            "justify_content": null,
            "justify_items": null,
            "left": null,
            "margin": null,
            "max_height": null,
            "max_width": null,
            "min_height": null,
            "min_width": null,
            "object_fit": null,
            "object_position": null,
            "order": null,
            "overflow": null,
            "overflow_x": null,
            "overflow_y": null,
            "padding": null,
            "right": null,
            "top": null,
            "visibility": null,
            "width": null
          }
        },
        "9d6349f0ba974dc68ceeb5a2b38a58ed": {
          "model_module": "@jupyter-widgets/controls",
          "model_name": "SliderStyleModel",
          "model_module_version": "1.5.0",
          "state": {
            "_model_module": "@jupyter-widgets/controls",
            "_model_module_version": "1.5.0",
            "_model_name": "SliderStyleModel",
            "_view_count": null,
            "_view_module": "@jupyter-widgets/base",
            "_view_module_version": "1.2.0",
            "_view_name": "StyleView",
            "description_width": "",
            "handle_color": null
          }
        },
        "ae7860c33a2d45289a00bd1b5d87c50b": {
          "model_module": "@jupyter-widgets/base",
          "model_name": "LayoutModel",
          "model_module_version": "1.2.0",
          "state": {
            "_model_module": "@jupyter-widgets/base",
            "_model_module_version": "1.2.0",
            "_model_name": "LayoutModel",
            "_view_count": null,
            "_view_module": "@jupyter-widgets/base",
            "_view_module_version": "1.2.0",
            "_view_name": "LayoutView",
            "align_content": null,
            "align_items": null,
            "align_self": null,
            "border": null,
            "bottom": null,
            "display": null,
            "flex": null,
            "flex_flow": null,
            "grid_area": null,
            "grid_auto_columns": null,
            "grid_auto_flow": null,
            "grid_auto_rows": null,
            "grid_column": null,
            "grid_gap": null,
            "grid_row": null,
            "grid_template_areas": null,
            "grid_template_columns": null,
            "grid_template_rows": null,
            "height": null,
            "justify_content": null,
            "justify_items": null,
            "left": null,
            "margin": null,
            "max_height": null,
            "max_width": null,
            "min_height": null,
            "min_width": null,
            "object_fit": null,
            "object_position": null,
            "order": null,
            "overflow": null,
            "overflow_x": null,
            "overflow_y": null,
            "padding": null,
            "right": null,
            "top": null,
            "visibility": null,
            "width": null
          }
        },
        "c1db5b4f7ac14ab8955bfa4809c1d5d1": {
          "model_module": "@jupyter-widgets/controls",
          "model_name": "SliderStyleModel",
          "model_module_version": "1.5.0",
          "state": {
            "_model_module": "@jupyter-widgets/controls",
            "_model_module_version": "1.5.0",
            "_model_name": "SliderStyleModel",
            "_view_count": null,
            "_view_module": "@jupyter-widgets/base",
            "_view_module_version": "1.2.0",
            "_view_name": "StyleView",
            "description_width": "",
            "handle_color": null
          }
        },
        "bb88b3af011f4273bfc522626ba86a76": {
          "model_module": "@jupyter-widgets/base",
          "model_name": "LayoutModel",
          "model_module_version": "1.2.0",
          "state": {
            "_model_module": "@jupyter-widgets/base",
            "_model_module_version": "1.2.0",
            "_model_name": "LayoutModel",
            "_view_count": null,
            "_view_module": "@jupyter-widgets/base",
            "_view_module_version": "1.2.0",
            "_view_name": "LayoutView",
            "align_content": null,
            "align_items": null,
            "align_self": null,
            "border": null,
            "bottom": null,
            "display": null,
            "flex": null,
            "flex_flow": null,
            "grid_area": null,
            "grid_auto_columns": null,
            "grid_auto_flow": null,
            "grid_auto_rows": null,
            "grid_column": null,
            "grid_gap": null,
            "grid_row": null,
            "grid_template_areas": null,
            "grid_template_columns": null,
            "grid_template_rows": null,
            "height": null,
            "justify_content": null,
            "justify_items": null,
            "left": null,
            "margin": null,
            "max_height": null,
            "max_width": null,
            "min_height": null,
            "min_width": null,
            "object_fit": null,
            "object_position": null,
            "order": null,
            "overflow": null,
            "overflow_x": null,
            "overflow_y": null,
            "padding": null,
            "right": null,
            "top": null,
            "visibility": null,
            "width": null
          }
        },
        "98a08a8b851f42b1a3c6562776b9dcb0": {
          "model_module": "@jupyter-widgets/controls",
          "model_name": "SliderStyleModel",
          "model_module_version": "1.5.0",
          "state": {
            "_model_module": "@jupyter-widgets/controls",
            "_model_module_version": "1.5.0",
            "_model_name": "SliderStyleModel",
            "_view_count": null,
            "_view_module": "@jupyter-widgets/base",
            "_view_module_version": "1.2.0",
            "_view_name": "StyleView",
            "description_width": "",
            "handle_color": null
          }
        },
        "631b9606e80a48f38f281c69798dcbe1": {
          "model_module": "@jupyter-widgets/base",
          "model_name": "LayoutModel",
          "model_module_version": "1.2.0",
          "state": {
            "_model_module": "@jupyter-widgets/base",
            "_model_module_version": "1.2.0",
            "_model_name": "LayoutModel",
            "_view_count": null,
            "_view_module": "@jupyter-widgets/base",
            "_view_module_version": "1.2.0",
            "_view_name": "LayoutView",
            "align_content": null,
            "align_items": null,
            "align_self": null,
            "border": null,
            "bottom": null,
            "display": null,
            "flex": null,
            "flex_flow": null,
            "grid_area": null,
            "grid_auto_columns": null,
            "grid_auto_flow": null,
            "grid_auto_rows": null,
            "grid_column": null,
            "grid_gap": null,
            "grid_row": null,
            "grid_template_areas": null,
            "grid_template_columns": null,
            "grid_template_rows": null,
            "height": null,
            "justify_content": null,
            "justify_items": null,
            "left": null,
            "margin": null,
            "max_height": null,
            "max_width": null,
            "min_height": null,
            "min_width": null,
            "object_fit": null,
            "object_position": null,
            "order": null,
            "overflow": null,
            "overflow_x": null,
            "overflow_y": null,
            "padding": null,
            "right": null,
            "top": null,
            "visibility": null,
            "width": null
          }
        }
      }
    }
  },
  "cells": [
    {
      "cell_type": "markdown",
      "metadata": {
        "id": "view-in-github",
        "colab_type": "text"
      },
      "source": [
        "<a href=\"https://colab.research.google.com/github/gmxavier/FAT0413150/blob/main/notebooks/06.02-Fitting-First-Order-plus-Time-Delay-to-Step-Response.ipynb\" target=\"_parent\"><img src=\"https://colab.research.google.com/assets/colab-badge.svg\" alt=\"Open In Colab\"/></a>"
      ]
    },
    {
      "cell_type": "markdown",
      "metadata": {
        "nbpages": {
          "level": 1,
          "link": "[3.4 Fitting First Order plus Time Delay to Step Response](https://jckantor.github.io/CBE30338/03.04-Fitting-First-Order-plus-Time-Delay-to-Step-Response.html#3.4-Fitting-First-Order-plus-Time-Delay-to-Step-Response)",
          "section": "3.4 Fitting First Order plus Time Delay to Step Response"
        },
        "id": "B5Agr9CqoU9r"
      },
      "source": [
        "# Fitting First Order plus Time Delay to Step Response\n",
        "\n",
        ">N.B.: Parts of this notebook were taken from [here](https://colab.research.google.com/github/jckantor/CBE30338/blob/master/docs/03.04-Fitting-First-Order-plus-Time-Delay-to-Step-Response.ipynb#scrollTo=-9RAUuaUqrKK)."
      ]
    },
    {
      "cell_type": "markdown",
      "metadata": {
        "nbpages": {
          "level": 2,
          "link": "[3.4.1 Summary](https://jckantor.github.io/CBE30338/03.04-Fitting-First-Order-plus-Time-Delay-to-Step-Response.html#3.4.1-Summary)",
          "section": "3.4.1 Summary"
        },
        "id": "FqYYYUi_oU9r"
      },
      "source": [
        "## Summary\n",
        "\n",
        "Linear first order plus time delay (FOPTD) models are often good approximations to process dynamics for process control applications. This notebook demonstrates the fitting of FOPTD models to step response data."
      ]
    },
    {
      "cell_type": "markdown",
      "metadata": {
        "nbpages": {
          "level": 2,
          "link": "[3.4.2 Initializations](https://jckantor.github.io/CBE30338/03.04-Fitting-First-Order-plus-Time-Delay-to-Step-Response.html#3.4.2-Initializations)",
          "section": "3.4.2 Initializations"
        },
        "id": "n6_rjNPloU9s"
      },
      "source": [
        "## Initializations"
      ]
    },
    {
      "cell_type": "code",
      "metadata": {
        "nbpages": {
          "level": 2,
          "link": "[3.4.2 Initializations](https://jckantor.github.io/CBE30338/03.04-Fitting-First-Order-plus-Time-Delay-to-Step-Response.html#3.4.2-Initializations)",
          "section": "3.4.2 Initializations"
        },
        "id": "95z6sTOeoU9t",
        "colab": {
          "base_uri": "https://localhost:8080/"
        },
        "outputId": "63a798e0-559e-4427-c76b-f65aea659e76"
      },
      "source": [
        "%matplotlib inline\n",
        "import numpy as np\n",
        "import matplotlib.pyplot as plt\n",
        "!pip install control\n",
        "import control as ct\n",
        "from scipy.optimize import minimize\n",
        "from requests import get\n",
        "import pandas as pd\n",
        "import ipywidgets as widgets\n",
        "from IPython.display import display"
      ],
      "execution_count": 1,
      "outputs": [
        {
          "output_type": "stream",
          "name": "stdout",
          "text": [
            "Looking in indexes: https://pypi.org/simple, https://us-python.pkg.dev/colab-wheels/public/simple/\n",
            "Collecting control\n",
            "  Downloading control-0.9.2.tar.gz (398 kB)\n",
            "\u001b[K     |████████████████████████████████| 398 kB 4.3 MB/s \n",
            "\u001b[?25hRequirement already satisfied: numpy in /usr/local/lib/python3.7/dist-packages (from control) (1.21.6)\n",
            "Requirement already satisfied: scipy in /usr/local/lib/python3.7/dist-packages (from control) (1.7.3)\n",
            "Requirement already satisfied: matplotlib in /usr/local/lib/python3.7/dist-packages (from control) (3.2.2)\n",
            "Requirement already satisfied: cycler>=0.10 in /usr/local/lib/python3.7/dist-packages (from matplotlib->control) (0.11.0)\n",
            "Requirement already satisfied: pyparsing!=2.0.4,!=2.1.2,!=2.1.6,>=2.0.1 in /usr/local/lib/python3.7/dist-packages (from matplotlib->control) (3.0.9)\n",
            "Requirement already satisfied: python-dateutil>=2.1 in /usr/local/lib/python3.7/dist-packages (from matplotlib->control) (2.8.2)\n",
            "Requirement already satisfied: kiwisolver>=1.0.1 in /usr/local/lib/python3.7/dist-packages (from matplotlib->control) (1.4.4)\n",
            "Requirement already satisfied: typing-extensions in /usr/local/lib/python3.7/dist-packages (from kiwisolver>=1.0.1->matplotlib->control) (4.1.1)\n",
            "Requirement already satisfied: six>=1.5 in /usr/local/lib/python3.7/dist-packages (from python-dateutil>=2.1->matplotlib->control) (1.15.0)\n",
            "Building wheels for collected packages: control\n",
            "  Building wheel for control (setup.py) ... \u001b[?25l\u001b[?25hdone\n",
            "  Created wheel for control: filename=control-0.9.2-py2.py3-none-any.whl size=403205 sha256=6839bc27164252fcbcef1a0c42247ed9e815b825c058744a1193dd9af0084335\n",
            "  Stored in directory: /root/.cache/pip/wheels/48/ef/c2/929bb5c59a1328df00a0561d0e68cd7c8537f33f5ce0ce741b\n",
            "Successfully built control\n",
            "Installing collected packages: control\n",
            "Successfully installed control-0.9.2\n"
          ]
        }
      ]
    },
    {
      "cell_type": "markdown",
      "metadata": {
        "nbpages": {
          "level": 2,
          "link": "[3.4.3 First Order plus Time Delay Models](https://jckantor.github.io/CBE30338/03.04-Fitting-First-Order-plus-Time-Delay-to-Step-Response.html#3.4.3-First-Order-plus-Time-Delay-Models)",
          "section": "3.4.3 First Order plus Time Delay Models"
        },
        "id": "7xQ16gghoU9u"
      },
      "source": [
        "## First Order plus Time Delay Models"
      ]
    },
    {
      "cell_type": "markdown",
      "metadata": {
        "nbpages": {
          "level": 3,
          "link": "[3.4.3.1 First Order Models](https://jckantor.github.io/CBE30338/03.04-Fitting-First-Order-plus-Time-Delay-to-Step-Response.html#3.4.3.1-First-Order-Models)",
          "section": "3.4.3.1 First Order Models"
        },
        "id": "5DJdzWjIoU9v"
      },
      "source": [
        "### First Order Models\n",
        "\n",
        "A linear first-order plus time-delay model is a good approximation for many process control applications. Assume the manipulated process input, $u$, and measured process output, $y$, are initially at steady-state $u_0, y_0$.  \n",
        "\n",
        "Without loss of generality, the response of a linear first-order system without time-delay can be written as a differential equation\n",
        "\n",
        "$$\\tau\\frac{d(y-y_0)}{dt} + (y-y_0) = K(u-u_0)$$\n",
        "\n",
        "or\n",
        "\n",
        "$$\\tau\\frac{dy}{dt} + (y-y_0) = K(u-u_0)$$"
      ]
    },
    {
      "cell_type": "markdown",
      "metadata": {
        "nbpages": {
          "level": 3,
          "link": "[3.4.3.1 First Order Models](https://jckantor.github.io/CBE30338/03.04-Fitting-First-Order-plus-Time-Delay-to-Step-Response.html#3.4.3.1-First-Order-Models)",
          "section": "3.4.3.1 First Order Models"
        },
        "id": "5SvQQK34oU9x"
      },
      "source": [
        "At time $t_0$, the input $u$ is changed to a new constant value $u_\\infty$. Provided the system is stable (i.e, $\\tau \\geq 0$), the new steady state value of $y$ will be \n",
        "\n",
        "$$y_\\infty = y_0 + K(u_\\infty - u_0)$$\n",
        "\n",
        "\n",
        "The solution to the differential equation can be written in a number of useful forms.\n",
        "\n",
        "\\begin{align*}\n",
        "y(t) & = y_0 + K(u_\\infty - u_0) (1 - e^{-(t-t_0)/\\tau)}) \\\\\n",
        "\\\\\n",
        "& = y_0 + (y_\\infty - y_0) (1 - e^{-(t-t_0)/\\tau)}) \\\\\n",
        "\\\\\n",
        "& = y_\\infty + (y_0 - y_\\infty)e^{-(t-t_0)/\\tau)}\n",
        "\\end{align*}"
      ]
    },
    {
      "cell_type": "markdown",
      "metadata": {
        "nbpages": {
          "level": 3,
          "link": "[3.4.3.2 Time Delay](https://jckantor.github.io/CBE30338/03.04-Fitting-First-Order-plus-Time-Delay-to-Step-Response.html#3.4.3.2-Time-Delay)",
          "section": "3.4.3.2 Time Delay"
        },
        "id": "efh-jgBHoU9y"
      },
      "source": [
        "### Time Delay\n",
        "\n",
        "Chemical processes are frequently encumbered with time delays associated with the transport of materials, chemical measurement, or simply sluggish response to control inputs. A pure time delay is modeled by a single parameter, $t_d$, such that \n",
        "\n",
        "$$y(t) = u(t-t_d)$$"
      ]
    },
    {
      "cell_type": "markdown",
      "metadata": {
        "nbpages": {
          "level": 3,
          "link": "[3.4.3.3 First Order plus Time Delay (FOPTD) ](https://jckantor.github.io/CBE30338/03.04-Fitting-First-Order-plus-Time-Delay-to-Step-Response.html#3.4.3.3-First-Order-plus-Time-Delay-(FOPTD))",
          "section": "3.4.3.3 First Order plus Time Delay (FOPTD) "
        },
        "id": "4s_WMQC-oU9z"
      },
      "source": [
        "### First Order plus Time Delay (FOPTD) \n",
        "\n",
        "If we add the time delay feature to the first order process described above, then for $ t \\geq t_d + t_0 $\n",
        "\n",
        "\\begin{align*}\n",
        "y(t) & = y_0 + K(u_\\infty - u_0) (1 - e^{-(t-t_d - t_0)/\\tau)}) \\\\\n",
        "\\\\\n",
        "& = y_0 + (y_\\infty - y_0) (1 - e^{-(t-t_d-t_0)/\\tau)}) \\\\\n",
        "\\\\\n",
        "& = y_\\infty + (y_0 - y_\\infty)e^{-(t-t_d-t_0)/\\tau)}\n",
        "\\end{align*}\n",
        "\n",
        "and $ y(t) = y_0 $ for $ t \\lt t_d + t_0 $"
      ]
    },
    {
      "cell_type": "markdown",
      "metadata": {
        "nbpages": {
          "level": 3,
          "link": "[3.4.3.4 Visualization](https://jckantor.github.io/CBE30338/03.04-Fitting-First-Order-plus-Time-Delay-to-Step-Response.html#3.4.3.4-Visualization)",
          "section": "3.4.3.4 Visualization"
        },
        "id": "_PP6C8DDoU9z"
      },
      "source": [
        "### Visualization\n",
        "\n",
        "First we write a function to compute the response of a first order system with time delay to a unit step input where $u_0 = 0$ and $u_\\infty = 1$.  "
      ]
    },
    {
      "cell_type": "code",
      "metadata": {
        "nbpages": {
          "level": 3,
          "link": "[3.4.3.4 Visualization](https://jckantor.github.io/CBE30338/03.04-Fitting-First-Order-plus-Time-Delay-to-Step-Response.html#3.4.3.4-Visualization)",
          "section": "3.4.3.4 Visualization"
        },
        "id": "oPdFsoNnoU90"
      },
      "source": [
        "def foptd(t, K=1, tau=1, t_d=0):\n",
        "    # K is the steady-state gain\n",
        "    # tau is the time constant\n",
        "    # tau_d is the time delay (a.k.a. dead time)\n",
        "    tau_d = max(0,t_d)\n",
        "    tau = max(0,tau)\n",
        "    return np.array([K*(1-np.exp(-(t-tau_d)/tau)) if t >= t_d else 0 for t in t])"
      ],
      "execution_count": 2,
      "outputs": []
    },
    {
      "cell_type": "code",
      "source": [
        "@widgets.interact\n",
        "def plot(K=(-5.0,5.0), tau=(0.0,10.0), t_d=(0.0,10.0)):\n",
        "  t = np.linspace(0,6*tau+t_d,200)\n",
        "  y = foptd(t,K,tau,t_d)\n",
        "  plt.plot(t,y)\n",
        "  plt.xlabel('Time')\n",
        "  plt.ylabel('Response')\n",
        "  plt.title('FOPTD Unit Step Response')\n",
        "  plt.grid()"
      ],
      "metadata": {
        "id": "4YAqHKYXgHYf",
        "outputId": "23440f2b-a5b2-4947-dbd3-0a6bfd7d8f0c",
        "colab": {
          "base_uri": "https://localhost:8080/",
          "height": 391,
          "referenced_widgets": [
            "680c7adf4d2b498ba4bf49514c7976ae",
            "7adadc76363e4e5dba782e2059b32637",
            "a14ad65fb3914bb5ac1209baeda84fdc",
            "2230989ecfcd41a39317e1ef87f2410a",
            "cd0893cdc759417ea5047797ab2f47c6",
            "1772be9b420945d58e1e5d10ca8d9310",
            "1c50abe6a6eb4887af8cd1f8d5e9b962",
            "9d6349f0ba974dc68ceeb5a2b38a58ed",
            "ae7860c33a2d45289a00bd1b5d87c50b",
            "c1db5b4f7ac14ab8955bfa4809c1d5d1",
            "bb88b3af011f4273bfc522626ba86a76",
            "98a08a8b851f42b1a3c6562776b9dcb0",
            "631b9606e80a48f38f281c69798dcbe1"
          ]
        }
      },
      "execution_count": 4,
      "outputs": [
        {
          "output_type": "display_data",
          "data": {
            "text/plain": [
              "interactive(children=(FloatSlider(value=0.0, description='K', max=5.0, min=-5.0), FloatSlider(value=5.0, descr…"
            ],
            "application/vnd.jupyter.widget-view+json": {
              "version_major": 2,
              "version_minor": 0,
              "model_id": "680c7adf4d2b498ba4bf49514c7976ae"
            }
          },
          "metadata": {}
        }
      ]
    },
    {
      "cell_type": "markdown",
      "metadata": {
        "nbpages": {
          "level": 2,
          "link": "[3.4.4 Fitting an FOPTD model](https://jckantor.github.io/CBE30338/03.04-Fitting-First-Order-plus-Time-Delay-to-Step-Response.html#3.4.4-Fitting-an-FOPTD-model)",
          "section": "3.4.4 Fitting an FOPTD model"
        },
        "id": "Ymy1synnoU92"
      },
      "source": [
        "## Fitting an FOPTD model\n",
        "\n",
        "Based on the following FOPTD response for $ t \\geq t_d + t_0 $   \n",
        "\n",
        "$$ y(t) = y_0 + (y_\\infty - y_0) (1 - e^{-(t-t_d - t_0)/\\tau)}) $$   \n",
        "\n",
        "the time $ t_x - t_0 $ needed to reach some response $ y_x $ is given by\n",
        "\n",
        "$$ t_x - t_0 = t_d - \\tau \\ln \\left( 1 - \\frac{y_x - y_0}{y_\\infty - y_0}\\right) $$ \n",
        "\n",
        "if we make $ x = \\frac{y_x - y_0}{y_\\infty - y_0} $ and $t_{xs} = t_x - t_0$, then   \n",
        "\n",
        "$$ t_{xs} = t_d + \\tau f_1(x) $$ \n",
        "\n",
        "and\n",
        "\n",
        "$$ f_1(x) = -\\ln(1 - x) $$\n",
        "\n",
        "Hence, as $t_0$ is known, to obtain $t_d$ and $\\tau$ we have to plug the two time values $t_1$ and $t_2$ needed to reach the fractional responses $x_1$ and $x_2$.\n",
        "\n",
        "\\begin{align*}\n",
        "t_{1s} & =  t_d + \\tau f_1(x_1) \\\\\n",
        "\\\\\n",
        "t_{2s} & =  t_d + \\tau f_1(x_2) \\\\\n",
        "\\end{align*}\n",
        "\n",
        "Solving the equations for $\\tau$ and $t_d$, we have\n",
        "\n",
        "\\begin{align*}\n",
        "\\tau & =  \\frac{t_2 - t_1}{f_1(x_2) - f_1(x_1)} \\\\\n",
        "\\\\\n",
        "t_d & =  t_{2s} - \\tau f_1(x_2) \\\\\n",
        "\\end{align*}\n",
        "\n",
        "which can rewritten to   \n",
        "\n",
        "\\begin{align*}\n",
        "\\tau & =  a_1(t_{2s} - t_{1s}) \\\\\n",
        "\\\\\n",
        "t_d & =  b_1 t_{1s} + (1 - b_1)t_{2s} \\\\\n",
        "\\end{align*}\n",
        "\n",
        "where \n",
        "\n",
        "\\begin{align*}\n",
        "a_1 & =  \\frac{1}{f_1(x_2) - f_1(x_1)} \\\\\n",
        "\\\\\n",
        "b_1 & =  a_1 f_1(x_2) \\\\\n",
        "\\end{align*}\n",
        "\n",
        "Several methods were proposed based on these relationships and the respective points $x_1$ and $x_2$ for each method are given below.\n",
        "\n",
        "\\begin{align}\n",
        "\\begin{array}{ccc}\n",
        "\\mbox{Method} & \\mbox{$x_1$%} & \\mbox{$x_2$%}\\\\\n",
        "\\mbox{Smith} & \\mbox{28.3} & \\mbox{63.2} \\\\\n",
        "\\mbox{SK} & \\mbox{35.3} & \\mbox{85.3}\\\\\n",
        "\\mbox{Strejc} & \\mbox{20.0} & \\mbox{80.0}\\\\\n",
        "\\mbox{Vítečková} & \\mbox{33.0} & \\mbox{70.0}\n",
        "\\end{array}\n",
        "\\end{align}"
      ]
    },
    {
      "cell_type": "code",
      "metadata": {
        "colab": {
          "base_uri": "https://localhost:8080/"
        },
        "id": "o7GI1U11CAQb",
        "outputId": "0778a1df-e28c-45f4-d8f9-f6d26f9e8158"
      },
      "source": [
        "# Let's calculate the a1 and b1 values for each method\n",
        "K, tau, t_d = (100, 10, 3)\n",
        "t = np.linspace(0,6*tau+t_d,200)\n",
        "y = foptd(t,K,tau,t_d)\n",
        "pcts = np.array([[28.3, 63.2], [35.3, 85.3], [20.0, 80.0], [33.0, 70.0]])\n",
        "times = np.zeros(shape=pcts.shape)\n",
        "ab = times\n",
        "for k, pct in enumerate(pcts):\n",
        "  times[k] = np.interp(pct, y, t)\n",
        "  f1 = -np.log(1-pct/100)\n",
        "  a1 = 1/(f1[1] - f1[0])\n",
        "  ab[k] = [a1, a1*f1[1]]\n",
        "ab"
      ],
      "execution_count": 7,
      "outputs": [
        {
          "output_type": "execute_result",
          "data": {
            "text/plain": [
              "array([[1.49926633, 1.49877508],\n",
              "       [0.67480312, 1.29381534],\n",
              "       [0.72134752, 1.16096405],\n",
              "       [1.24456245, 1.49841934]])"
            ]
          },
          "metadata": {},
          "execution_count": 7
        }
      ]
    },
    {
      "cell_type": "markdown",
      "metadata": {
        "nbpages": {
          "level": 3,
          "link": "[3.4.4.1 Sample Problem Statement](https://jckantor.github.io/CBE30338/03.04-Fitting-First-Order-plus-Time-Delay-to-Step-Response.html#3.4.4.1-Sample-Problem-Statement)",
          "section": "3.4.4.1 Sample Problem Statement"
        },
        "id": "uv4NFNJKoU92"
      },
      "source": [
        "### Sample Problem #1\n",
        "\n",
        "A distillation column is initially at steady state where the steam flow to the reboiler is $110 kg/h$ and the vapor phase mole fraction of the volatile compound is $0.87$.  At $t = 60 min$, the steam flow is raised to $120 kg/h$. The vapor phase mole fraction increases as shown in the following chart. "
      ]
    },
    {
      "cell_type": "code",
      "metadata": {
        "nbpages": {
          "level": 3,
          "link": "[3.4.4.1 Sample Problem Statement](https://jckantor.github.io/CBE30338/03.04-Fitting-First-Order-plus-Time-Delay-to-Step-Response.html#3.4.4.1-Sample-Problem-Statement)",
          "section": "3.4.4.1 Sample Problem Statement"
        },
        "id": "_p24jw97oU93",
        "colab": {
          "base_uri": "https://localhost:8080/",
          "height": 330
        },
        "outputId": "39dbe133-ef7a-4137-f796-9481e09b9de9"
      },
      "source": [
        "# create the hypothetical problem data\n",
        "t,delta_y = ct.step_response(0.05*ct.tf([-2, 1],[25, 10, 1]))\n",
        "y0 = 0.87\n",
        "y = y0 + delta_y\n",
        "t0 = 60\n",
        "t = t + t0\n",
        "\n",
        "plt.plot(t,y)\n",
        "plt.xlabel('Time [min]')\n",
        "plt.ylabel('Vapor mole fraction [-]')\n",
        "plt.title('Vapor mole fraction response to an increase \\n of $10 kg/h$ in reboiler steam flow')"
      ],
      "execution_count": 8,
      "outputs": [
        {
          "output_type": "execute_result",
          "data": {
            "text/plain": [
              "Text(0.5, 1.0, 'Vapor mole fraction response to an increase \\n of $10 kg/h$ in reboiler steam flow')"
            ]
          },
          "metadata": {},
          "execution_count": 8
        },
        {
          "output_type": "display_data",
          "data": {
            "text/plain": [
              "<Figure size 432x288 with 1 Axes>"
            ],
            "image/png": "[encoded data removed]"
          },
          "metadata": {
            "needs_background": "light"
          }
        }
      ]
    },
    {
      "cell_type": "markdown",
      "metadata": {
        "id": "f8UZIESxWGRb"
      },
      "source": [
        "The problem task is to fit a FOPTD model to this experimental test in order to obtain an approximation of the process reaction curve transfer function ($G_{PRC} = G_a G_p G_m$), assuming the following ranges:\n",
        "\n",
        "- Reboiler steam flow (AO valve): $0 \\text{ to } 220 \\text{ kg/h}$\n",
        "- Vapor composition sensor (direct action): $0.5 \\text{ to } 1.0 \\text{ mole fraction}$\n",
        "- Control loop transmission signal: $4 \\text{ to } 20 \\text{ mA}$"
      ]
    },
    {
      "cell_type": "markdown",
      "metadata": {
        "id": "8qAkZkRPLSdA"
      },
      "source": [
        "### Step 1. Calculate the steady state gain   \n",
        "\n",
        "The steady state gain could be calculated using the equation below:\n",
        "\n",
        "\\begin{align*}\n",
        "K & = K_a K_p K_m \\\\\n",
        "\\\\\n",
        "K & = \\left(\\frac{u_{max} - u_{min}}{p_{max} - p_{min}} \\right) \\left( \\frac{y_\\infty - y_0}{u_\\infty - u_0} \\right) \\left( \\frac{y_{m,max} - y_{m,min}}{y_{max} - y_{min}} \\right)\n",
        "\\end{align*}\n"
      ]
    },
    {
      "cell_type": "code",
      "metadata": {
        "colab": {
          "base_uri": "https://localhost:8080/"
        },
        "id": "2LMzy5VGEYez",
        "outputId": "e975a12d-b6fb-4a3a-f90d-5f5726c3763e"
      },
      "source": [
        "K = (220 - 0)/(20 - 4)*(y[-1] - y[0])/(120 - 110)*(20 - 4)/(1 - 0.5)\n",
        "print('K = {:.2f} mA/mA'.format(K))"
      ],
      "execution_count": 9,
      "outputs": [
        {
          "output_type": "stream",
          "name": "stdout",
          "text": [
            "K = 2.18 mA/mA\n"
          ]
        }
      ]
    },
    {
      "cell_type": "markdown",
      "metadata": {
        "nbpages": {
          "level": 3,
          "link": "[3.4.4.2 Step 1. Shift and scale the experimental data to correspond to a unit step input at time t =  0.](https://jckantor.github.io/CBE30338/03.04-Fitting-First-Order-plus-Time-Delay-to-Step-Response.html#3.4.4.2-Step-1.-Shift-and-scale-the-experimental-data-to-correspond-to-a-unit-step-input-at-time-t-=-0.)",
          "section": "3.4.4.2 Step 1. Shift and scale the experimental data to correspond to a unit step input at time t =  0."
        },
        "id": "cZAByJwkoU93"
      },
      "source": [
        "### Step 2. Shift and scale the experimental data to correspond to a unit step input at time t =  0.\n",
        "\n",
        "The next step is to scale the experimental data to fit the framework of an FOPTD model. This generally involves three steps:\n",
        "\n",
        "* Shift the time scale to t = 0 corresponds to the start of the experiment.\n",
        "\n",
        "$$ t_s = t - t_0$$\n",
        "\n",
        "* Shift the response so y = 0 is the initial steady state\n",
        "* Rescale the response to percentage of maximum change\n",
        "\n",
        "$$ y_s = 100\\frac{y(t) - y_0}{y_\\infty - y_0}$$"
      ]
    },
    {
      "cell_type": "code",
      "metadata": {
        "nbpages": {
          "level": 3,
          "link": "[3.4.4.2 Step 1. Shift and scale the experimental data to correspond to a unit step input at time t =  0.](https://jckantor.github.io/CBE30338/03.04-Fitting-First-Order-plus-Time-Delay-to-Step-Response.html#3.4.4.2-Step-1.-Shift-and-scale-the-experimental-data-to-correspond-to-a-unit-step-input-at-time-t-=-0.)",
          "section": "3.4.4.2 Step 1. Shift and scale the experimental data to correspond to a unit step input at time t =  0."
        },
        "id": "BVC-wnBboU94",
        "colab": {
          "base_uri": "https://localhost:8080/",
          "height": 312
        },
        "outputId": "5c0ba570-54ee-4daf-c7b9-09d4630c3dd5"
      },
      "source": [
        "ts = t - t[0]\n",
        "ys = 100*(y - y[0])/(y[-1] - y[0])\n",
        "\n",
        "plt.plot(ts, ys)\n",
        "plt.xlabel('Time [min]')\n",
        "plt.ylabel('Percentage of maximum change')\n",
        "plt.title('Shifted and Scaled Data')"
      ],
      "execution_count": 10,
      "outputs": [
        {
          "output_type": "execute_result",
          "data": {
            "text/plain": [
              "Text(0.5, 1.0, 'Shifted and Scaled Data')"
            ]
          },
          "metadata": {},
          "execution_count": 10
        },
        {
          "output_type": "display_data",
          "data": {
            "text/plain": [
              "<Figure size 432x288 with 1 Axes>"
            ],
            "image/png": "[encoded data removed]"
          },
          "metadata": {
            "needs_background": "light"
          }
        }
      ]
    },
    {
      "cell_type": "markdown",
      "metadata": {
        "id": "q9CgOtuXtk80"
      },
      "source": [
        "### Step 3. Obtain the times $t_{1s}$ and $t_{2s}$ that response takes to reach $x_1$% and $x_2$%"
      ]
    },
    {
      "cell_type": "code",
      "metadata": {
        "id": "6xPkizTovHC6"
      },
      "source": [
        "times = np.zeros(shape=pcts.shape)\n",
        "for k, pct in enumerate(pcts):\n",
        "  times[k] = np.interp(pct, ys, ts)"
      ],
      "execution_count": 11,
      "outputs": []
    },
    {
      "cell_type": "markdown",
      "metadata": {
        "id": "4yww6R9cFue-"
      },
      "source": [
        "### Step 4. Obtain the time constant and the dead time values\n",
        "The values of the time constant and the dead time depend on the process curve identification method and are given below.   \n",
        "\n",
        "\\begin{align}\n",
        "\\begin{array}{ccc}\n",
        "\\mbox{Method} & \\mbox{$\\tau$} & \\mbox{$t_d$}\\\\\n",
        "\\mbox{Smith} & \\mbox{$1.50(t_{63.2s} - t_{28.3s})$} & \\mbox{$1.50t_{28.3s} - 0.50t_{63.2s}$}\\\\\n",
        "\\mbox{SK} & \\mbox{$0.675(t_{85.3s} - t_{35.3s})$} & \\mbox{$1.29t_{35.3s} - 0.29t_{85.3}$}\\\\\n",
        "\\mbox{Strejc} & \\mbox{$0.721(t_{80.0s} - t_{20.0s})$} & \\mbox{$1.161t_{20.0s} - 0.161t_{80.0s}$}\\\\\n",
        "\\mbox{Vítečková} & \\mbox{$1.245(t_{70.0s} - t_{33.0s})$} & \\mbox{$1.498t_{33.0s} - 0.498t_{70.0s}$}\n",
        "\\end{array}\n",
        "\\end{align}"
      ]
    },
    {
      "cell_type": "code",
      "metadata": {
        "colab": {
          "base_uri": "https://localhost:8080/"
        },
        "id": "FvcHbsKjGnbZ",
        "outputId": "ec81a724-2243-427d-af82-4415d9de427f"
      },
      "source": [
        "pars = np.zeros(shape=times.shape)\n",
        "for k, time in enumerate(times):\n",
        "  pars[k] = [ ab[k][0]*(time[1] - time[0]), ab[k][1]*time[0] + (1 - ab[k][1])*time[1] ]\n",
        "pars"
      ],
      "execution_count": 12,
      "outputs": [
        {
          "output_type": "execute_result",
          "data": {
            "text/plain": [
              "array([[7.89750298, 4.50198661],\n",
              "       [6.96234206, 5.01422723],\n",
              "       [7.49883588, 4.39214219],\n",
              "       [7.55364616, 4.71608477]])"
            ]
          },
          "metadata": {},
          "execution_count": 12
        }
      ]
    },
    {
      "cell_type": "markdown",
      "metadata": {
        "nbpages": {
          "level": 3,
          "link": "[3.4.4.3 Step 2. Create a function to compute the response of an FOPTD model.](https://jckantor.github.io/CBE30338/03.04-Fitting-First-Order-plus-Time-Delay-to-Step-Response.html#3.4.4.3-Step-2.-Create-a-function-to-compute-the-response-of-an-FOPTD-model.)",
          "section": "3.4.4.3 Step 2. Create a function to compute the response of an FOPTD model."
        },
        "id": "FrMGdmHYoU94"
      },
      "source": [
        "### Step 5. Compare the FOPTD approximation methods   \n",
        "\n",
        "For a given list of times $t$ and parameters $K$, $\\tau$, and $\\tau_d$, the `foptd` returns the response of an FOPTD system to a unit change in input at $t = 0$."
      ]
    },
    {
      "cell_type": "code",
      "metadata": {
        "colab": {
          "base_uri": "https://localhost:8080/",
          "height": 295
        },
        "id": "PRPLEMLgIvO8",
        "outputId": "4f2cc80f-0b33-4dcd-b854-b65a5689d1ba"
      },
      "source": [
        "methods = ['Smith', 'SK', 'Strejc', 'Vítečková']\n",
        "plt.plot(t,y)\n",
        "#print('K = {:.2f} mA/mA'.format(K))\n",
        "for k, par in enumerate(pars):\n",
        "  z = foptd(ts, 1, par[0], par[1])\n",
        "  ypred = y[0] + z*(y[-1] - y[0])\n",
        "  plt.plot(t,ypred)\n",
        "  #print('{:} : tau = {:.2f} and t_d = {:.2f}'.format(methods[k], pars[k][0], pars[k][1]))\n",
        "plt.xlabel('Time [min]')\n",
        "plt.ylabel('Vapor mole fraction [-]')\n",
        "plt.title('FOPTD approximation methods')\n",
        "plt.legend(['Experiment']+methods)\n",
        "plt.grid()"
      ],
      "execution_count": 13,
      "outputs": [
        {
          "output_type": "display_data",
          "data": {
            "text/plain": [
              "<Figure size 432x288 with 1 Axes>"
            ],
            "image/png": "[encoded data removed]"
          },
          "metadata": {
            "needs_background": "light"
          }
        }
      ]
    },
    {
      "cell_type": "markdown",
      "metadata": {
        "id": "smcF17nwTD22"
      },
      "source": [
        "Ok, it sounds good! But, how about trying another approach using numerical optimization to find the best FOPTD approximation to the experiment data?\n",
        "\n",
        "We will do it by taking the following steps."
      ]
    },
    {
      "cell_type": "markdown",
      "metadata": {
        "nbpages": {
          "level": 3,
          "link": "[3.4.4.4 Step 3. Create a function to measure the error between an FOPTD model and the experimental data.](https://jckantor.github.io/CBE30338/03.04-Fitting-First-Order-plus-Time-Delay-to-Step-Response.html#3.4.4.4-Step-3.-Create-a-function-to-measure-the-error-between-an-FOPTD-model-and-the-experimental-data.)",
          "section": "3.4.4.4 Step 3. Create a function to measure the error between an FOPTD model and the experimental data."
        },
        "id": "lA3QrFgzoU96"
      },
      "source": [
        "### Step 1. Create a function to measure the error between an FOPTD model and the experimental data.\n",
        "\n",
        "Let's called the step response of the fitted model to be $\\hat{y}_s$. We seek to minimize\n",
        "\n",
        "$$\\min_{K,\\tau,t_d} \\int_0^T \\|\\hat{y}_s - y_s\\|\\,dt$$\n",
        "\n",
        "for some suitable norm $\\|\\cdot\\|$.  A common choice of norm for process control is the absolute value of the difference called Integral Absolute Error (IAE)\n",
        "\n",
        "$$\\text{IAE} = \\min_{K,\\tau,t_d} \\int_0^T |\\hat{y}_s - y_s|\\,dt$$\n",
        "\n",
        "The advantage of IAE over other choices of norms is that it tends to be more robust with respect to larger errors."
      ]
    },
    {
      "cell_type": "code",
      "metadata": {
        "nbpages": {
          "level": 3,
          "link": "[3.4.4.4 Step 3. Create a function to measure the error between an FOPTD model and the experimental data.](https://jckantor.github.io/CBE30338/03.04-Fitting-First-Order-plus-Time-Delay-to-Step-Response.html#3.4.4.4-Step-3.-Create-a-function-to-measure-the-error-between-an-FOPTD-model-and-the-experimental-data.)",
          "section": "3.4.4.4 Step 3. Create a function to measure the error between an FOPTD model and the experimental data."
        },
        "id": "j3EcfLCCoU97",
        "colab": {
          "base_uri": "https://localhost:8080/"
        },
        "outputId": "0fe2ee75-2285-4bd5-d2dc-783ea9928d81"
      },
      "source": [
        "def err(X,t,y):\n",
        "    K,tau,t_d = X\n",
        "    z = foptd(t,K,tau,t_d)\n",
        "    iae = sum(abs(z-y))*(max(t)-min(t))/len(t)\n",
        "    return iae\n",
        "\n",
        "X = [100,10,3]\n",
        "err(X,ts,ys)"
      ],
      "execution_count": 14,
      "outputs": [
        {
          "output_type": "execute_result",
          "data": {
            "text/plain": [
              "173.78496753635145"
            ]
          },
          "metadata": {},
          "execution_count": 14
        }
      ]
    },
    {
      "cell_type": "markdown",
      "metadata": {
        "nbpages": {
          "level": 3,
          "link": "[3.4.4.5 Step 4. Use scipy.optimize.minimize() to find the best fitting FOPTD model.](https://jckantor.github.io/CBE30338/03.04-Fitting-First-Order-plus-Time-Delay-to-Step-Response.html#3.4.4.5-Step-4.-Use-scipy.optimize.minimize()-to-find-the-best-fitting-FOPTD-model.)",
          "section": "3.4.4.5 Step 4. Use scipy.optimize.minimize() to find the best fitting FOPTD model."
        },
        "id": "5tlXr9yWoU98"
      },
      "source": [
        "### Step 2. Use scipy.optimize.minimize() to find the best fitting FOPTD model."
      ]
    },
    {
      "cell_type": "code",
      "metadata": {
        "nbpages": {
          "level": 3,
          "link": "[3.4.4.5 Step 4. Use scipy.optimize.minimize() to find the best fitting FOPTD model.](https://jckantor.github.io/CBE30338/03.04-Fitting-First-Order-plus-Time-Delay-to-Step-Response.html#3.4.4.5-Step-4.-Use-scipy.optimize.minimize()-to-find-the-best-fitting-FOPTD-model.)",
          "section": "3.4.4.5 Step 4. Use scipy.optimize.minimize() to find the best fitting FOPTD model."
        },
        "id": "wlYVq_XloU98",
        "colab": {
          "base_uri": "https://localhost:8080/"
        },
        "outputId": "406e371d-d33c-4fbc-81e2-95d097510bcf"
      },
      "source": [
        "K,tau,t_d = minimize(err,X,args=(ts,ys)).x\n",
        "\n",
        "print('K = {:.5f}'.format(K))\n",
        "print('tau = {:.2f}'.format(tau))\n",
        "print('t_d = {:.2f}'.format(t_d))"
      ],
      "execution_count": 15,
      "outputs": [
        {
          "output_type": "stream",
          "name": "stdout",
          "text": [
            "K = 103.70744\n",
            "tau = 8.19\n",
            "t_d = 4.49\n"
          ]
        }
      ]
    },
    {
      "cell_type": "markdown",
      "metadata": {
        "nbpages": {
          "level": 3,
          "link": "[3.4.4.6 Step 5. Rescale FOPTD output and compare to experimental data.](https://jckantor.github.io/CBE30338/03.04-Fitting-First-Order-plus-Time-Delay-to-Step-Response.html#3.4.4.6-Step-5.-Rescale-FOPTD-output-and-compare-to-experimental-data.)",
          "section": "3.4.4.6 Step 5. Rescale FOPTD output and compare to experimental data."
        },
        "id": "B3_dA4TVoU99"
      },
      "source": [
        "### Step 3. Rescale FOPTD output and compare to experimental data."
      ]
    },
    {
      "cell_type": "code",
      "metadata": {
        "nbpages": {
          "level": 3,
          "link": "[3.4.4.6 Step 5. Rescale FOPTD output and compare to experimental data.](https://jckantor.github.io/CBE30338/03.04-Fitting-First-Order-plus-Time-Delay-to-Step-Response.html#3.4.4.6-Step-5.-Rescale-FOPTD-output-and-compare-to-experimental-data.)",
          "section": "3.4.4.6 Step 5. Rescale FOPTD output and compare to experimental data."
        },
        "id": "DbS7-I7uoU99",
        "colab": {
          "base_uri": "https://localhost:8080/",
          "height": 312
        },
        "outputId": "55505f24-878a-4627-daad-d607bdaaf560"
      },
      "source": [
        "z = foptd(ts,K,tau,t_d)\n",
        "ypred = y[0] + z*(y[-1] - y[0])/100\n",
        "\n",
        "plt.plot(t,y,t,ypred)\n",
        "plt.xlabel('Time [min]')\n",
        "plt.ylabel('Vapor mole fraction [-]')\n",
        "plt.title('FOPTD approximation methods')\n",
        "plt.legend(['Experiment','Optimization'])"
      ],
      "execution_count": 16,
      "outputs": [
        {
          "output_type": "execute_result",
          "data": {
            "text/plain": [
              "<matplotlib.legend.Legend at 0x7f9bc1857390>"
            ]
          },
          "metadata": {},
          "execution_count": 16
        },
        {
          "output_type": "display_data",
          "data": {
            "text/plain": [
              "<Figure size 432x288 with 1 Axes>"
            ],
            "image/png": "[encoded data removed]"
          },
          "metadata": {
            "needs_background": "light"
          }
        }
      ]
    },
    {
      "cell_type": "markdown",
      "metadata": {
        "nbpages": {
          "level": 3,
          "link": "[3.4.4.1 Sample Problem Statement](https://jckantor.github.io/CBE30338/03.04-Fitting-First-Order-plus-Time-Delay-to-Step-Response.html#3.4.4.1-Sample-Problem-Statement)",
          "section": "3.4.4.1 Sample Problem Statement"
        },
        "id": "lN4zbQFqvmGr"
      },
      "source": [
        "### Sample Problem #2\n",
        "\n",
        "> N.B.: The chart was taken from [here](http://pc-textbook.mcmaster.ca/Marlin-Ch06.pdf#page=11) (Figure 6.8).\n",
        "\n",
        "A two stirred-tank heating process is initially at steady state.  At t = 5 min, a 5% step is applied to the steam valve of the heating coil of the first tank.\n",
        "\n",
        "The temperature measured in the second tank increases as shown in the following chart, where the x axis is the time in minutes, the right y axis is the input in % valve opening and the left y axis is the temperature in ºC, both measured as deviations from their respective steady state values. \n",
        "\n",
        "![alt text](https://raw.githubusercontent.com/gmxavier/FAT0413150/main/figures/prc_01.png)\n",
        "\n",
        "This data has noise, which could be due to imperfect mixing, sensor noise, and variation in other input variables.\n",
        "\n",
        "Again, the problem task is to fit a FOPTD model to this more realistic experimental test data in order to obtain an approximation of the process reaction curve transfer function ($G_{PRC} = G_a G_p G_m$), assuming the following ranges:\n",
        "\n",
        "- Heating coil steam valve: AO valve\n",
        "- Temperature sensor (direct action): $20 \\text{ to } 120 \\text{ ºC}$\n",
        "- Control loop transmission signal: $4 \\text{ to } 20 \\text{ mA}$\n",
        "\n"
      ]
    },
    {
      "cell_type": "markdown",
      "source": [
        "### Step 1. Digitize the chart\n",
        "\n",
        "Using this [tool](https://automeris.io/WebPlotDigitizer/) digitize the chart and save the data as a .csv file with three columns named Time, Input and Output.\n",
        "\n",
        "The digitize data obtained should be similar to this one."
      ],
      "metadata": {
        "id": "sa3PO0ks2IrC"
      }
    },
    {
      "cell_type": "code",
      "source": [
        "url = 'https://raw.githubusercontent.com/gmxavier/FAT0413150/main/data/prc_01.csv'\n",
        "r = get(url)\n",
        "with open('prc_01.csv', 'w') as f:\n",
        "    f.write(r.text)\n",
        "df=pd.read_csv('prc_01.csv', sep=',')\n",
        "df"
      ],
      "metadata": {
        "id": "WDxLxQYu_-e2",
        "outputId": "477f07d0-808f-4651-8e44-038e2987c973",
        "colab": {
          "base_uri": "https://localhost:8080/",
          "height": 424
        }
      },
      "execution_count": 17,
      "outputs": [
        {
          "output_type": "execute_result",
          "data": {
            "text/plain": [
              "          Time  Input     Output\n",
              "0     0.128011      0   0.197935\n",
              "1     0.280895      0   0.576592\n",
              "2     0.333752      0   0.335628\n",
              "3     0.418847      0   0.171161\n",
              "4     0.492576      0   0.039614\n",
              "..         ...    ...        ...\n",
              "566  39.436856      5  12.521924\n",
              "567  39.568421      5  12.507308\n",
              "568  39.569025      5  12.390378\n",
              "569  39.626258      5  12.624238\n",
              "570  39.654572      5  12.799634\n",
              "\n",
              "[571 rows x 3 columns]"
            ],
            "text/html": [
              "\n",
              "  <div id=\"df-331991a2-1344-4cbf-8cf8-403bbaa7968c\">\n",
              "    <div class=\"colab-df-container\">\n",
              "      <div>\n",
              "<style scoped>\n",
              "    .dataframe tbody tr th:only-of-type {\n",
              "        vertical-align: middle;\n",
              "    }\n",
              "\n",
              "    .dataframe tbody tr th {\n",
              "        vertical-align: top;\n",
              "    }\n",
              "\n",
              "    .dataframe thead th {\n",
              "        text-align: right;\n",
              "    }\n",
              "</style>\n",
              "<table border=\"1\" class=\"dataframe\">\n",
              "  <thead>\n",
              "    <tr style=\"text-align: right;\">\n",
              "      <th></th>\n",
              "      <th>Time</th>\n",
              "      <th>Input</th>\n",
              "      <th>Output</th>\n",
              "    </tr>\n",
              "  </thead>\n",
              "  <tbody>\n",
              "    <tr>\n",
              "      <th>0</th>\n",
              "      <td>0.128011</td>\n",
              "      <td>0</td>\n",
              "      <td>0.197935</td>\n",
              "    </tr>\n",
              "    <tr>\n",
              "      <th>1</th>\n",
              "      <td>0.280895</td>\n",
              "      <td>0</td>\n",
              "      <td>0.576592</td>\n",
              "    </tr>\n",
              "    <tr>\n",
              "      <th>2</th>\n",
              "      <td>0.333752</td>\n",
              "      <td>0</td>\n",
              "      <td>0.335628</td>\n",
              "    </tr>\n",
              "    <tr>\n",
              "      <th>3</th>\n",
              "      <td>0.418847</td>\n",
              "      <td>0</td>\n",
              "      <td>0.171161</td>\n",
              "    </tr>\n",
              "    <tr>\n",
              "      <th>4</th>\n",
              "      <td>0.492576</td>\n",
              "      <td>0</td>\n",
              "      <td>0.039614</td>\n",
              "    </tr>\n",
              "    <tr>\n",
              "      <th>...</th>\n",
              "      <td>...</td>\n",
              "      <td>...</td>\n",
              "      <td>...</td>\n",
              "    </tr>\n",
              "    <tr>\n",
              "      <th>566</th>\n",
              "      <td>39.436856</td>\n",
              "      <td>5</td>\n",
              "      <td>12.521924</td>\n",
              "    </tr>\n",
              "    <tr>\n",
              "      <th>567</th>\n",
              "      <td>39.568421</td>\n",
              "      <td>5</td>\n",
              "      <td>12.507308</td>\n",
              "    </tr>\n",
              "    <tr>\n",
              "      <th>568</th>\n",
              "      <td>39.569025</td>\n",
              "      <td>5</td>\n",
              "      <td>12.390378</td>\n",
              "    </tr>\n",
              "    <tr>\n",
              "      <th>569</th>\n",
              "      <td>39.626258</td>\n",
              "      <td>5</td>\n",
              "      <td>12.624238</td>\n",
              "    </tr>\n",
              "    <tr>\n",
              "      <th>570</th>\n",
              "      <td>39.654572</td>\n",
              "      <td>5</td>\n",
              "      <td>12.799634</td>\n",
              "    </tr>\n",
              "  </tbody>\n",
              "</table>\n",
              "<p>571 rows × 3 columns</p>\n",
              "</div>\n",
              "      <button class=\"colab-df-convert\" onclick=\"convertToInteractive('df-331991a2-1344-4cbf-8cf8-403bbaa7968c')\"\n",
              "              title=\"Convert this dataframe to an interactive table.\"\n",
              "              style=\"display:none;\">\n",
              "        \n",
              "  <svg xmlns=\"http://www.w3.org/2000/svg\" height=\"24px\"viewBox=\"0 0 24 24\"\n",
              "       width=\"24px\">\n",
              "    <path d=\"M0 0h24v24H0V0z\" fill=\"none\"/>\n",
              "    <path d=\"M18.56 5.44l.94 2.06.94-2.06 2.06-.94-2.06-.94-.94-2.06-.94 2.06-2.06.94zm-11 1L8.5 8.5l.94-2.06 2.06-.94-2.06-.94L8.5 2.5l-.94 2.06-2.06.94zm10 10l.94 2.06.94-2.06 2.06-.94-2.06-.94-.94-2.06-.94 2.06-2.06.94z\"/><path d=\"M17.41 7.96l-1.37-1.37c-.4-.4-.92-.59-1.43-.59-.52 0-1.04.2-1.43.59L10.3 9.45l-7.72 7.72c-.78.78-.78 2.05 0 2.83L4 21.41c.39.39.9.59 1.41.59.51 0 1.02-.2 1.41-.59l7.78-7.78 2.81-2.81c.8-.78.8-2.07 0-2.86zM5.41 20L4 18.59l7.72-7.72 1.47 1.35L5.41 20z\"/>\n",
              "  </svg>\n",
              "      </button>\n",
              "      \n",
              "  <style>\n",
              "    .colab-df-container {\n",
              "      display:flex;\n",
              "      flex-wrap:wrap;\n",
              "      gap: 12px;\n",
              "    }\n",
              "\n",
              "    .colab-df-convert {\n",
              "      background-color: #E8F0FE;\n",
              "      border: none;\n",
              "      border-radius: 50%;\n",
              "      cursor: pointer;\n",
              "      display: none;\n",
              "      fill: #1967D2;\n",
              "      height: 32px;\n",
              "      padding: 0 0 0 0;\n",
              "      width: 32px;\n",
              "    }\n",
              "\n",
              "    .colab-df-convert:hover {\n",
              "      background-color: #E2EBFA;\n",
              "      box-shadow: 0px 1px 2px rgba(60, 64, 67, 0.3), 0px 1px 3px 1px rgba(60, 64, 67, 0.15);\n",
              "      fill: #174EA6;\n",
              "    }\n",
              "\n",
              "    [theme=dark] .colab-df-convert {\n",
              "      background-color: #3B4455;\n",
              "      fill: #D2E3FC;\n",
              "    }\n",
              "\n",
              "    [theme=dark] .colab-df-convert:hover {\n",
              "      background-color: #434B5C;\n",
              "      box-shadow: 0px 1px 3px 1px rgba(0, 0, 0, 0.15);\n",
              "      filter: drop-shadow(0px 1px 2px rgba(0, 0, 0, 0.3));\n",
              "      fill: #FFFFFF;\n",
              "    }\n",
              "  </style>\n",
              "\n",
              "      <script>\n",
              "        const buttonEl =\n",
              "          document.querySelector('#df-331991a2-1344-4cbf-8cf8-403bbaa7968c button.colab-df-convert');\n",
              "        buttonEl.style.display =\n",
              "          google.colab.kernel.accessAllowed ? 'block' : 'none';\n",
              "\n",
              "        async function convertToInteractive(key) {\n",
              "          const element = document.querySelector('#df-331991a2-1344-4cbf-8cf8-403bbaa7968c');\n",
              "          const dataTable =\n",
              "            await google.colab.kernel.invokeFunction('convertToInteractive',\n",
              "                                                     [key], {});\n",
              "          if (!dataTable) return;\n",
              "\n",
              "          const docLinkHtml = 'Like what you see? Visit the ' +\n",
              "            '<a target=\"_blank\" href=https://colab.research.google.com/notebooks/data_table.ipynb>data table notebook</a>'\n",
              "            + ' to learn more about interactive tables.';\n",
              "          element.innerHTML = '';\n",
              "          dataTable['output_type'] = 'display_data';\n",
              "          await google.colab.output.renderOutput(dataTable, element);\n",
              "          const docLink = document.createElement('div');\n",
              "          docLink.innerHTML = docLinkHtml;\n",
              "          element.appendChild(docLink);\n",
              "        }\n",
              "      </script>\n",
              "    </div>\n",
              "  </div>\n",
              "  "
            ]
          },
          "metadata": {},
          "execution_count": 17
        }
      ]
    },
    {
      "cell_type": "markdown",
      "source": [
        "### Step 2. Shift and scale the experimental data to correspond to a unit step input at time t =  0.\n",
        "\n",
        "The next step is to scale the experimental data to fit the framework of an FOPTD model. This generally involves three steps:\n",
        "\n",
        "* Shift the time scale to t = 0 corresponds to the start of the experiment.\n",
        "\n",
        "$$ t_s = t - t_0$$\n",
        "\n",
        "* Shift the response so y = 0 is the initial steady state\n",
        "* Rescale the response to percentage of maximum change\n",
        "\n",
        "$$ y_s = 100\\frac{y(t) - y_0}{y_\\infty - y_0}$$"
      ],
      "metadata": {
        "id": "kI0suu1jCIj4"
      }
    },
    {
      "cell_type": "code",
      "source": [
        "t  = df['Time'].values\n",
        "t0 = df['Time'].values[74] # 74 is the index of the step time\n",
        "y  = df['Output'].values\n",
        "yinf = np.mean(df['Output'].values[496:500]) # due to noise, we got the mean of the last 74 values\n",
        "y0 = 0\n",
        "\n",
        "ts = t - t0\n",
        "ys = 100*(y - y0)/(yinf - y0)\n",
        "\n",
        "plt.plot(ts, ys)\n",
        "plt.xlabel('Time [min]')\n",
        "plt.ylabel('Percentage of maximum change')\n",
        "plt.title('Shifted and Scaled Data')"
      ],
      "metadata": {
        "id": "rL3N4O6zCgd0",
        "outputId": "15a60b8a-4776-4827-f7f7-f18215e14e80",
        "colab": {
          "base_uri": "https://localhost:8080/",
          "height": 312
        }
      },
      "execution_count": 18,
      "outputs": [
        {
          "output_type": "execute_result",
          "data": {
            "text/plain": [
              "Text(0.5, 1.0, 'Shifted and Scaled Data')"
            ]
          },
          "metadata": {},
          "execution_count": 18
        },
        {
          "output_type": "display_data",
          "data": {
            "text/plain": [
              "<Figure size 432x288 with 1 Axes>"
            ],
            "image/png": "[encoded data removed]"
          },
          "metadata": {
            "needs_background": "light"
          }
        }
      ]
    },
    {
      "cell_type": "markdown",
      "metadata": {
        "nbpages": {
          "level": 3,
          "link": "[3.4.4.5 Step 4. Use scipy.optimize.minimize() to find the best fitting FOPTD model.](https://jckantor.github.io/CBE30338/03.04-Fitting-First-Order-plus-Time-Delay-to-Step-Response.html#3.4.4.5-Step-4.-Use-scipy.optimize.minimize()-to-find-the-best-fitting-FOPTD-model.)",
          "section": "3.4.4.5 Step 4. Use scipy.optimize.minimize() to find the best fitting FOPTD model."
        },
        "id": "uAp3sKPSIFTo"
      },
      "source": [
        "### Step 3. Use scipy.optimize.minimize() to find the best fitting FOPTD model."
      ]
    },
    {
      "cell_type": "code",
      "metadata": {
        "nbpages": {
          "level": 3,
          "link": "[3.4.4.5 Step 4. Use scipy.optimize.minimize() to find the best fitting FOPTD model.](https://jckantor.github.io/CBE30338/03.04-Fitting-First-Order-plus-Time-Delay-to-Step-Response.html#3.4.4.5-Step-4.-Use-scipy.optimize.minimize()-to-find-the-best-fitting-FOPTD-model.)",
          "section": "3.4.4.5 Step 4. Use scipy.optimize.minimize() to find the best fitting FOPTD model."
        },
        "colab": {
          "base_uri": "https://localhost:8080/"
        },
        "outputId": "42ee42e6-ca6e-4c9d-d4b7-9a8e2c99f0eb",
        "id": "dNgGVhVtIFTp"
      },
      "source": [
        "K,tau,t_d = minimize(err,X,args=(ts,ys)).x\n",
        "\n",
        "print('K = {:.5f}'.format(K))\n",
        "print('tau = {:.2f}'.format(tau))\n",
        "print('t_d = {:.2f}'.format(t_d))"
      ],
      "execution_count": 19,
      "outputs": [
        {
          "output_type": "stream",
          "name": "stdout",
          "text": [
            "K = 101.13913\n",
            "tau = 6.37\n",
            "t_d = 3.35\n"
          ]
        }
      ]
    },
    {
      "cell_type": "markdown",
      "metadata": {
        "nbpages": {
          "level": 3,
          "link": "[3.4.4.6 Step 5. Rescale FOPTD output and compare to experimental data.](https://jckantor.github.io/CBE30338/03.04-Fitting-First-Order-plus-Time-Delay-to-Step-Response.html#3.4.4.6-Step-5.-Rescale-FOPTD-output-and-compare-to-experimental-data.)",
          "section": "3.4.4.6 Step 5. Rescale FOPTD output and compare to experimental data."
        },
        "id": "gPNGNFkJIpFP"
      },
      "source": [
        "### Step 4. Rescale FOPTD output and compare to experimental data."
      ]
    },
    {
      "cell_type": "code",
      "metadata": {
        "nbpages": {
          "level": 3,
          "link": "[3.4.4.6 Step 5. Rescale FOPTD output and compare to experimental data.](https://jckantor.github.io/CBE30338/03.04-Fitting-First-Order-plus-Time-Delay-to-Step-Response.html#3.4.4.6-Step-5.-Rescale-FOPTD-output-and-compare-to-experimental-data.)",
          "section": "3.4.4.6 Step 5. Rescale FOPTD output and compare to experimental data."
        },
        "colab": {
          "base_uri": "https://localhost:8080/",
          "height": 296
        },
        "outputId": "be09f42c-32a6-4331-9b1a-459f7e82d8a6",
        "id": "MDTPIpJIIpFQ"
      },
      "source": [
        "z = foptd(ts,K,tau,t_d)\n",
        "ypred = y0 + z*(yinf - y0)/100\n",
        "\n",
        "plt.plot(t,y,t,ypred)\n",
        "plt.xlabel('Time [min]')\n",
        "plt.ylabel('Temperature [ºC]')\n",
        "plt.legend(['Experiment','Optimization'])"
      ],
      "execution_count": 20,
      "outputs": [
        {
          "output_type": "execute_result",
          "data": {
            "text/plain": [
              "<matplotlib.legend.Legend at 0x7f9bc1b6fc10>"
            ]
          },
          "metadata": {},
          "execution_count": 20
        },
        {
          "output_type": "display_data",
          "data": {
            "text/plain": [
              "<Figure size 432x288 with 1 Axes>"
            ],
            "image/png": "[encoded data removed]"
          },
          "metadata": {
            "needs_background": "light"
          }
        }
      ]
    },
    {
      "cell_type": "markdown",
      "metadata": {
        "id": "5_llGXo7Kt77"
      },
      "source": [
        "### Step 5. Calculate the steady state gain   \n",
        "\n",
        "The steady state gain could be calculated using the equation below:\n",
        "\n",
        "\\begin{align*}\n",
        "K & = K_a K_p K_m \\\\\n",
        "\\\\\n",
        "K & = \\left(\\frac{u_{max} - u_{min}}{p_{max} - p_{min}} \\right) \\left( \\frac{y_\\infty - y_0}{u_\\infty - u_0} \\right) \\left( \\frac{y_{m,max} - y_{m,min}}{y_{max} - y_{min}} \\right)\n",
        "\\end{align*}\n"
      ]
    },
    {
      "cell_type": "code",
      "metadata": {
        "colab": {
          "base_uri": "https://localhost:8080/"
        },
        "outputId": "07302f2b-7ed8-4f33-92b1-1cc92ace9c1f",
        "id": "7N1VC1tbKt78"
      },
      "source": [
        "K = (100 - 0)/(20 - 4)*(yinf - y0)/(5 - 0)*(20 - 4)/(120 - 20)\n",
        "print('K = {:.2f} mA/mA'.format(K))"
      ],
      "execution_count": 21,
      "outputs": [
        {
          "output_type": "stream",
          "name": "stdout",
          "text": [
            "K = 2.62 mA/mA\n"
          ]
        }
      ]
    }
  ]
}