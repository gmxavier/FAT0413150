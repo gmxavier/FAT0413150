{
  "nbformat": 4,
  "nbformat_minor": 0,
  "metadata": {
    "kernelspec": {
      "display_name": "Python 3",
      "language": "python",
      "name": "python3"
    },
    "language_info": {
      "codemirror_mode": {
        "name": "ipython",
        "version": 3
      },
      "file_extension": ".py",
      "mimetype": "text/x-python",
      "name": "python",
      "nbconvert_exporter": "python",
      "pygments_lexer": "ipython3",
      "version": "3.7.4"
    },
    "colab": {
      "name": "06.02-Fitting-First-Order-plus-Time-Delay-to-Step-Response.ipynb",
      "provenance": [],
      "include_colab_link": true
    }
  },
  "cells": [
    {
      "cell_type": "markdown",
      "metadata": {
        "id": "view-in-github",
        "colab_type": "text"
      },
      "source": [
        "<a href=\"https://colab.research.google.com/github/gmxavier/FAT0413150/blob/main/notebooks/06.02-Fitting-First-Order-plus-Time-Delay-to-Step-Response.ipynb\" target=\"_parent\"><img src=\"https://colab.research.google.com/assets/colab-badge.svg\" alt=\"Open In Colab\"/></a>"
      ]
    },
    {
      "cell_type": "markdown",
      "metadata": {
        "nbpages": {
          "level": 1,
          "link": "[3.4 Fitting First Order plus Time Delay to Step Response](https://jckantor.github.io/CBE30338/03.04-Fitting-First-Order-plus-Time-Delay-to-Step-Response.html#3.4-Fitting-First-Order-plus-Time-Delay-to-Step-Response)",
          "section": "3.4 Fitting First Order plus Time Delay to Step Response"
        },
        "id": "B5Agr9CqoU9r"
      },
      "source": [
        "# Fitting First Order plus Time Delay to Step Response\n",
        "\n",
        ">N.B.: Parts of this notebook were taken from [here](https://colab.research.google.com/github/jckantor/CBE30338/blob/master/docs/03.04-Fitting-First-Order-plus-Time-Delay-to-Step-Response.ipynb#scrollTo=-9RAUuaUqrKK)."
      ]
    },
    {
      "cell_type": "markdown",
      "metadata": {
        "nbpages": {
          "level": 2,
          "link": "[3.4.1 Summary](https://jckantor.github.io/CBE30338/03.04-Fitting-First-Order-plus-Time-Delay-to-Step-Response.html#3.4.1-Summary)",
          "section": "3.4.1 Summary"
        },
        "id": "FqYYYUi_oU9r"
      },
      "source": [
        "## Summary\n",
        "\n",
        "Linear first order plus time delay (FOPTD) models are often good approximations to process dynamics for process control applications. This notebook demonstrates the fitting of FOPTD models to step response data."
      ]
    },
    {
      "cell_type": "markdown",
      "metadata": {
        "nbpages": {
          "level": 2,
          "link": "[3.4.2 Initializations](https://jckantor.github.io/CBE30338/03.04-Fitting-First-Order-plus-Time-Delay-to-Step-Response.html#3.4.2-Initializations)",
          "section": "3.4.2 Initializations"
        },
        "id": "n6_rjNPloU9s"
      },
      "source": [
        "## Initializations"
      ]
    },
    {
      "cell_type": "code",
      "metadata": {
        "nbpages": {
          "level": 2,
          "link": "[3.4.2 Initializations](https://jckantor.github.io/CBE30338/03.04-Fitting-First-Order-plus-Time-Delay-to-Step-Response.html#3.4.2-Initializations)",
          "section": "3.4.2 Initializations"
        },
        "id": "95z6sTOeoU9t",
        "colab": {
          "base_uri": "https://localhost:8080/"
        },
        "outputId": "13329cd2-8674-4ac0-92db-ac3cb0386078"
      },
      "source": [
        "%matplotlib inline\n",
        "import numpy as np\n",
        "import matplotlib.pyplot as plt\n",
        "!pip install control\n",
        "import control\n",
        "from scipy.optimize import minimize"
      ],
      "execution_count": null,
      "outputs": [
        {
          "output_type": "stream",
          "name": "stdout",
          "text": [
            "Collecting control\n",
            "  Downloading control-0.9.1.tar.gz (357 kB)\n",
            "\u001b[?25l\r\u001b[K     |█                               | 10 kB 27.0 MB/s eta 0:00:01\r\u001b[K     |█▉                              | 20 kB 13.1 MB/s eta 0:00:01\r\u001b[K     |██▊                             | 30 kB 9.3 MB/s eta 0:00:01\r\u001b[K     |███▋                            | 40 kB 3.7 MB/s eta 0:00:01\r\u001b[K     |████▋                           | 51 kB 3.7 MB/s eta 0:00:01\r\u001b[K     |█████▌                          | 61 kB 4.4 MB/s eta 0:00:01\r\u001b[K     |██████▍                         | 71 kB 4.7 MB/s eta 0:00:01\r\u001b[K     |███████▎                        | 81 kB 4.9 MB/s eta 0:00:01\r\u001b[K     |████████▎                       | 92 kB 5.5 MB/s eta 0:00:01\r\u001b[K     |█████████▏                      | 102 kB 4.3 MB/s eta 0:00:01\r\u001b[K     |██████████                      | 112 kB 4.3 MB/s eta 0:00:01\r\u001b[K     |███████████                     | 122 kB 4.3 MB/s eta 0:00:01\r\u001b[K     |████████████                    | 133 kB 4.3 MB/s eta 0:00:01\r\u001b[K     |████████████▉                   | 143 kB 4.3 MB/s eta 0:00:01\r\u001b[K     |█████████████▊                  | 153 kB 4.3 MB/s eta 0:00:01\r\u001b[K     |██████████████▋                 | 163 kB 4.3 MB/s eta 0:00:01\r\u001b[K     |███████████████▋                | 174 kB 4.3 MB/s eta 0:00:01\r\u001b[K     |████████████████▌               | 184 kB 4.3 MB/s eta 0:00:01\r\u001b[K     |█████████████████▍              | 194 kB 4.3 MB/s eta 0:00:01\r\u001b[K     |██████████████████▎             | 204 kB 4.3 MB/s eta 0:00:01\r\u001b[K     |███████████████████▎            | 215 kB 4.3 MB/s eta 0:00:01\r\u001b[K     |████████████████████▏           | 225 kB 4.3 MB/s eta 0:00:01\r\u001b[K     |█████████████████████           | 235 kB 4.3 MB/s eta 0:00:01\r\u001b[K     |██████████████████████          | 245 kB 4.3 MB/s eta 0:00:01\r\u001b[K     |███████████████████████         | 256 kB 4.3 MB/s eta 0:00:01\r\u001b[K     |███████████████████████▉        | 266 kB 4.3 MB/s eta 0:00:01\r\u001b[K     |████████████████████████▊       | 276 kB 4.3 MB/s eta 0:00:01\r\u001b[K     |█████████████████████████▋      | 286 kB 4.3 MB/s eta 0:00:01\r\u001b[K     |██████████████████████████▌     | 296 kB 4.3 MB/s eta 0:00:01\r\u001b[K     |███████████████████████████▌    | 307 kB 4.3 MB/s eta 0:00:01\r\u001b[K     |████████████████████████████▍   | 317 kB 4.3 MB/s eta 0:00:01\r\u001b[K     |█████████████████████████████▎  | 327 kB 4.3 MB/s eta 0:00:01\r\u001b[K     |██████████████████████████████▏ | 337 kB 4.3 MB/s eta 0:00:01\r\u001b[K     |███████████████████████████████▏| 348 kB 4.3 MB/s eta 0:00:01\r\u001b[K     |████████████████████████████████| 357 kB 4.3 MB/s \n",
            "\u001b[?25hRequirement already satisfied: numpy in /usr/local/lib/python3.7/dist-packages (from control) (1.21.5)\n",
            "Requirement already satisfied: scipy in /usr/local/lib/python3.7/dist-packages (from control) (1.4.1)\n",
            "Requirement already satisfied: matplotlib in /usr/local/lib/python3.7/dist-packages (from control) (3.2.2)\n",
            "Requirement already satisfied: cycler>=0.10 in /usr/local/lib/python3.7/dist-packages (from matplotlib->control) (0.11.0)\n",
            "Requirement already satisfied: python-dateutil>=2.1 in /usr/local/lib/python3.7/dist-packages (from matplotlib->control) (2.8.2)\n",
            "Requirement already satisfied: kiwisolver>=1.0.1 in /usr/local/lib/python3.7/dist-packages (from matplotlib->control) (1.4.2)\n",
            "Requirement already satisfied: pyparsing!=2.0.4,!=2.1.2,!=2.1.6,>=2.0.1 in /usr/local/lib/python3.7/dist-packages (from matplotlib->control) (3.0.8)\n",
            "Requirement already satisfied: typing-extensions in /usr/local/lib/python3.7/dist-packages (from kiwisolver>=1.0.1->matplotlib->control) (4.1.1)\n",
            "Requirement already satisfied: six>=1.5 in /usr/local/lib/python3.7/dist-packages (from python-dateutil>=2.1->matplotlib->control) (1.15.0)\n",
            "Building wheels for collected packages: control\n",
            "  Building wheel for control (setup.py) ... \u001b[?25l\u001b[?25hdone\n",
            "  Created wheel for control: filename=control-0.9.1-py2.py3-none-any.whl size=364703 sha256=facfdb6ccb9debb804cb946de69c530f6b18e4ab7931ba7eb29c5c5de7dcf94a\n",
            "  Stored in directory: /root/.cache/pip/wheels/b1/50/22/8005107713828997d1af664fbd629c7f935a1b87fc2f4ba6c1\n",
            "Successfully built control\n",
            "Installing collected packages: control\n",
            "Successfully installed control-0.9.1\n"
          ]
        }
      ]
    },
    {
      "cell_type": "markdown",
      "metadata": {
        "nbpages": {
          "level": 2,
          "link": "[3.4.3 First Order plus Time Delay Models](https://jckantor.github.io/CBE30338/03.04-Fitting-First-Order-plus-Time-Delay-to-Step-Response.html#3.4.3-First-Order-plus-Time-Delay-Models)",
          "section": "3.4.3 First Order plus Time Delay Models"
        },
        "id": "7xQ16gghoU9u"
      },
      "source": [
        "## First Order plus Time Delay Models"
      ]
    },
    {
      "cell_type": "markdown",
      "metadata": {
        "nbpages": {
          "level": 3,
          "link": "[3.4.3.1 First Order Models](https://jckantor.github.io/CBE30338/03.04-Fitting-First-Order-plus-Time-Delay-to-Step-Response.html#3.4.3.1-First-Order-Models)",
          "section": "3.4.3.1 First Order Models"
        },
        "id": "5DJdzWjIoU9v"
      },
      "source": [
        "### First Order Models\n",
        "\n",
        "A linear first-order plus time-delay model is a good approximation for many process control applications. Assume the manipulated process input, $u$, and measured process output, $y$, are initially at steady-state $u_0, y_0$.  \n",
        "\n",
        "Without loss of generality, the response of a linear first-order system without time-delay can be written as a differential equation\n",
        "\n",
        "$$\\tau\\frac{d(y-y_0)}{dt} + (y-y_0) = K(u-u_0)$$\n",
        "\n",
        "or\n",
        "\n",
        "$$\\tau\\frac{dy}{dt} + (y-y_0) = K(u-u_0)$$"
      ]
    },
    {
      "cell_type": "markdown",
      "metadata": {
        "nbpages": {
          "level": 3,
          "link": "[3.4.3.1 First Order Models](https://jckantor.github.io/CBE30338/03.04-Fitting-First-Order-plus-Time-Delay-to-Step-Response.html#3.4.3.1-First-Order-Models)",
          "section": "3.4.3.1 First Order Models"
        },
        "id": "5SvQQK34oU9x"
      },
      "source": [
        "At time $t_0$, the input $u$ is changed to a new constant value $u_\\infty$. Provided the system is stable (i.e, $\\tau \\geq 0$), the new steady state value of $y$ will be \n",
        "\n",
        "$$y_\\infty = y_0 + K(u_\\infty - u_0)$$\n",
        "\n",
        "\n",
        "The solution to the differential equation can be written in a number of useful forms.\n",
        "\n",
        "\\begin{align*}\n",
        "y(t) & = y_0 + K(u_\\infty - u_0) (1 - e^{-(t-t_0)/\\tau)}) \\\\\n",
        "\\\\\n",
        "& = y_0 + (y_\\infty - y_0) (1 - e^{-(t-t_0)/\\tau)}) \\\\\n",
        "\\\\\n",
        "& = y_\\infty + (y_0 - y_\\infty)e^{-(t-t_0)/\\tau)}\n",
        "\\end{align*}"
      ]
    },
    {
      "cell_type": "markdown",
      "metadata": {
        "nbpages": {
          "level": 3,
          "link": "[3.4.3.2 Time Delay](https://jckantor.github.io/CBE30338/03.04-Fitting-First-Order-plus-Time-Delay-to-Step-Response.html#3.4.3.2-Time-Delay)",
          "section": "3.4.3.2 Time Delay"
        },
        "id": "efh-jgBHoU9y"
      },
      "source": [
        "### Time Delay\n",
        "\n",
        "Chemical processes are frequently encumbered with time delays associated with the transport of materials, chemical measurement, or simply sluggish response to control inputs. A pure time delay is modeled by a single parameter, $t_d$, such that \n",
        "\n",
        "$$y(t) = u(t-t_d)$$"
      ]
    },
    {
      "cell_type": "markdown",
      "metadata": {
        "nbpages": {
          "level": 3,
          "link": "[3.4.3.3 First Order plus Time Delay (FOPTD) ](https://jckantor.github.io/CBE30338/03.04-Fitting-First-Order-plus-Time-Delay-to-Step-Response.html#3.4.3.3-First-Order-plus-Time-Delay-(FOPTD))",
          "section": "3.4.3.3 First Order plus Time Delay (FOPTD) "
        },
        "id": "4s_WMQC-oU9z"
      },
      "source": [
        "### First Order plus Time Delay (FOPTD) \n",
        "\n",
        "If we add the time delay feature to the first order process described above, then for $ t \\geq t_d + t_0 $\n",
        "\n",
        "\\begin{align*}\n",
        "y(t) & = y_0 + K(u_\\infty - u_0) (1 - e^{-(t-t_d - t_0)/\\tau)}) \\\\\n",
        "\\\\\n",
        "& = y_0 + (y_\\infty - y_0) (1 - e^{-(t-t_d-t_0)/\\tau)}) \\\\\n",
        "\\\\\n",
        "& = y_\\infty + (y_0 - y_\\infty)e^{-(t-t_d-t_0)/\\tau)}\n",
        "\\end{align*}\n",
        "\n",
        "and $ y(t) = y_0 $ for $ t \\lt t_d + t_0 $"
      ]
    },
    {
      "cell_type": "markdown",
      "metadata": {
        "nbpages": {
          "level": 3,
          "link": "[3.4.3.4 Visualization](https://jckantor.github.io/CBE30338/03.04-Fitting-First-Order-plus-Time-Delay-to-Step-Response.html#3.4.3.4-Visualization)",
          "section": "3.4.3.4 Visualization"
        },
        "id": "_PP6C8DDoU9z"
      },
      "source": [
        "### Visualization\n",
        "\n",
        "First we write a function to compute the response of a first order system with time delay to a unit step input where $u_0 = 0$ and $u_\\infty = 1$.  "
      ]
    },
    {
      "cell_type": "code",
      "metadata": {
        "nbpages": {
          "level": 3,
          "link": "[3.4.3.4 Visualization](https://jckantor.github.io/CBE30338/03.04-Fitting-First-Order-plus-Time-Delay-to-Step-Response.html#3.4.3.4-Visualization)",
          "section": "3.4.3.4 Visualization"
        },
        "id": "oPdFsoNnoU90"
      },
      "source": [
        "def foptd(t, K=1, tau=1, tau_d=0):\n",
        "    tau_d = max(0,tau_d)\n",
        "    tau = max(0,tau)\n",
        "    return np.array([K*(1-np.exp(-(t-tau_d)/tau)) if t >= tau_d else 0 for t in t])"
      ],
      "execution_count": null,
      "outputs": []
    },
    {
      "cell_type": "code",
      "metadata": {
        "nbpages": {
          "level": 3,
          "link": "[3.4.3.4 Visualization](https://jckantor.github.io/CBE30338/03.04-Fitting-First-Order-plus-Time-Delay-to-Step-Response.html#3.4.3.4-Visualization)",
          "section": "3.4.3.4 Visualization"
        },
        "id": "P-ByI4lsoU90",
        "colab": {
          "base_uri": "https://localhost:8080/",
          "height": 312
        },
        "outputId": "2f839dd9-6fcc-441e-8e74-3ea145900895"
      },
      "source": [
        "t = np.linspace(0,50,200)\n",
        "tau = 10\n",
        "tau_delay = 3\n",
        "K = 2\n",
        "\n",
        "y = foptd(t,K,tau,tau_delay)\n",
        "plt.plot(t,y)\n",
        "plt.xlabel('Time [min]')\n",
        "plt.ylabel('Response')\n",
        "plt.title('FOPTD Step Response')"
      ],
      "execution_count": null,
      "outputs": [
        {
          "output_type": "execute_result",
          "data": {
            "text/plain": [
              "Text(0.5, 1.0, 'FOPTD Step Response')"
            ]
          },
          "metadata": {},
          "execution_count": 3
        },
        {
          "output_type": "display_data",
          "data": {
            "text/plain": [
              "<Figure size 432x288 with 1 Axes>"
            ],
            "image/png": "[encoded data removed]"
          },
          "metadata": {
            "needs_background": "light"
          }
        }
      ]
    },
    {
      "cell_type": "markdown",
      "metadata": {
        "nbpages": {
          "level": 2,
          "link": "[3.4.4 Fitting an FOPTD model](https://jckantor.github.io/CBE30338/03.04-Fitting-First-Order-plus-Time-Delay-to-Step-Response.html#3.4.4-Fitting-an-FOPTD-model)",
          "section": "3.4.4 Fitting an FOPTD model"
        },
        "id": "Ymy1synnoU92"
      },
      "source": [
        "## Fitting an FOPTD model\n",
        "\n",
        "Based on the following FOPTD response for $ t \\geq t_d + t_0 $   \n",
        "\n",
        "$$ y(t) = y_0 + (y_\\infty - y_0) (1 - e^{-(t-t_d - t_0)/\\tau)}) $$   \n",
        "\n",
        "the time $ t_x - t_0 $ needed to reach some response $ y_x $ is given by\n",
        "\n",
        "$$ t_x - t_0 = t_d - \\tau \\ln \\left( 1 - \\frac{y_x - y_0}{y_\\infty - y_0}\\right) $$ \n",
        "\n",
        "if we make $ x = \\frac{y_x - y_0}{y_\\infty - y_0} $ and $t_{xs} = t_x - t_0$, then   \n",
        "\n",
        "$$ t_{xs} = t_d + \\tau f_1(x) $$ \n",
        "\n",
        "and\n",
        "\n",
        "$$ f_1(x) = -\\ln(1 - x) $$\n",
        "\n",
        "Hence, as $t_0$ is known, to obtain $t_d$ and $\\tau$ we have to plug the two time values $t_1$ and $t_2$ needed to reach the fractional responses $x_1$ and $x_2$.\n",
        "\n",
        "\\begin{align*}\n",
        "t_{1s} & =  t_d + \\tau f_1(x_1) \\\\\n",
        "\\\\\n",
        "t_{2s} & =  t_d + \\tau f_1(x_2) \\\\\n",
        "\\end{align*}\n",
        "\n",
        "Solving the equations for $\\tau$ and $t_d$, we have\n",
        "\n",
        "\\begin{align*}\n",
        "\\tau & =  \\frac{t_2 - t_1}{f_1(x_2) - f_1(x_1)} \\\\\n",
        "\\\\\n",
        "t_d & =  t_{2s} - \\tau f_1(x_2) \\\\\n",
        "\\end{align*}\n",
        "\n",
        "which can rewritten to   \n",
        "\n",
        "\\begin{align*}\n",
        "\\tau & =  a_1(t_{2s} - t_{1s}) \\\\\n",
        "\\\\\n",
        "t_d & =  b_1 t_{1s} + (1 - b_1)t_{2s} \\\\\n",
        "\\end{align*}\n",
        "\n",
        "where \n",
        "\n",
        "\\begin{align*}\n",
        "a_1 & =  \\frac{1}{f_1(x_2) - f_1(x_1)} \\\\\n",
        "\\\\\n",
        "b_1 & =  a_1 f_1(x_2) \\\\\n",
        "\\end{align*}\n",
        "\n",
        "Several methods were proposed based on these relationships and the respective points $x_1$ and $x_2$ for each method are given below.\n",
        "\n",
        "\\begin{align}\n",
        "\\begin{array}{ccc}\n",
        "\\mbox{Method} & \\mbox{$x_1$%} & \\mbox{$x_2$%}\\\\\n",
        "\\mbox{Smith} & \\mbox{28.3} & \\mbox{63.2} \\\\\n",
        "\\mbox{SK} & \\mbox{35.3} & \\mbox{85.3}\\\\\n",
        "\\mbox{Strejc} & \\mbox{20.0} & \\mbox{80.0}\\\\\n",
        "\\mbox{Vítečková} & \\mbox{33.0} & \\mbox{70.0}\n",
        "\\end{array}\n",
        "\\end{align}"
      ]
    },
    {
      "cell_type": "code",
      "metadata": {
        "colab": {
          "base_uri": "https://localhost:8080/"
        },
        "id": "o7GI1U11CAQb",
        "outputId": "36138fe9-0369-489e-ed7d-335beab7756d"
      },
      "source": [
        "# Let's calculate the a1 and b1 values for each method\n",
        "K = 100\n",
        "y = foptd(t,K,tau,tau_delay)\n",
        "pcts = np.array([[28.3, 63.2], [35.3, 85.3], [20.0, 80.0], [33.0, 70.0]])\n",
        "times = np.zeros(shape=pcts.shape)\n",
        "ab = times\n",
        "for k, pct in enumerate(pcts):\n",
        "  times[k] = np.interp(pct, y, t)\n",
        "  f1 = -np.log(1-pct/100)\n",
        "  a1 = 1/(f1[1] - f1[0])\n",
        "  ab[k] = [a1, a1*f1[1]]\n",
        "ab"
      ],
      "execution_count": null,
      "outputs": [
        {
          "output_type": "execute_result",
          "data": {
            "text/plain": [
              "array([[1.49926633, 1.49877508],\n",
              "       [0.67480312, 1.29381534],\n",
              "       [0.72134752, 1.16096405],\n",
              "       [1.24456245, 1.49841934]])"
            ]
          },
          "metadata": {},
          "execution_count": 4
        }
      ]
    },
    {
      "cell_type": "markdown",
      "metadata": {
        "nbpages": {
          "level": 3,
          "link": "[3.4.4.1 Sample Problem Statement](https://jckantor.github.io/CBE30338/03.04-Fitting-First-Order-plus-Time-Delay-to-Step-Response.html#3.4.4.1-Sample-Problem-Statement)",
          "section": "3.4.4.1 Sample Problem Statement"
        },
        "id": "uv4NFNJKoU92"
      },
      "source": [
        "### Sample Problem #1\n",
        "\n",
        "A distillation column is initially at steady state where the steam flow to the reboiler is 110 kg/hr and the vapor phase mole fraction of the volatile compound is 0.87.  At $t = 60$ min, the steam flow is raised to 120 kg/hr. The vapor phase mole fraction increases as shown in the following chart. "
      ]
    },
    {
      "cell_type": "code",
      "metadata": {
        "nbpages": {
          "level": 3,
          "link": "[3.4.4.1 Sample Problem Statement](https://jckantor.github.io/CBE30338/03.04-Fitting-First-Order-plus-Time-Delay-to-Step-Response.html#3.4.4.1-Sample-Problem-Statement)",
          "section": "3.4.4.1 Sample Problem Statement"
        },
        "id": "_p24jw97oU93",
        "colab": {
          "base_uri": "https://localhost:8080/",
          "height": 312
        },
        "outputId": "53e2f509-f535-4075-e47f-51c0ce822919"
      },
      "source": [
        "# create the hypothetical problem data\n",
        "t,delta_y = control.step_response(0.05*control.tf([-2, 1],[25, 10, 1]))\n",
        "y0 = 0.87\n",
        "y = y0 + delta_y\n",
        "t0 = 60\n",
        "t = t + t0\n",
        "\n",
        "plt.plot(t,y)\n",
        "plt.xlabel('Time [min]')\n",
        "plt.ylabel('Vapor mole fraction [-]')\n",
        "plt.title('Vapor mole fraction response to 10 kg/hr increase in reboiler steam flow')"
      ],
      "execution_count": null,
      "outputs": [
        {
          "output_type": "execute_result",
          "data": {
            "text/plain": [
              "Text(0.5, 1.0, 'Vapor mole fraction response to 10 kg/hr increase in reboiler steam flow')"
            ]
          },
          "metadata": {},
          "execution_count": 5
        },
        {
          "output_type": "display_data",
          "data": {
            "text/plain": [
              "<Figure size 432x288 with 1 Axes>"
            ],
            "image/png": "[encoded data removed]"
          },
          "metadata": {
            "needs_background": "light"
          }
        }
      ]
    },
    {
      "cell_type": "markdown",
      "metadata": {
        "id": "f8UZIESxWGRb"
      },
      "source": [
        "The problem task is to fit a FOPTD model to this experimental test in order to obtain an approximation of the process reaction curve transfer function ($G_{PRC} = G_a G_p G_m$), assuming the following ranges:\n",
        "\n",
        "- Reboiler steam flow (AO valve): 0 to 220 kg/h\n",
        "- Vapor composition sensor (direct action): 0.5 to 1.0 mole fraction\n",
        "- Control loop transmission signal: 4 to 20 mA"
      ]
    },
    {
      "cell_type": "markdown",
      "metadata": {
        "id": "8qAkZkRPLSdA"
      },
      "source": [
        "### Step 1. Calculate the steady state gain   \n",
        "\n",
        "The steady state gain could be calculated using the equation below:\n",
        "\n",
        "\\begin{align*}\n",
        "K & = K_a K_p K_m \\\\\n",
        "\\\\\n",
        "K & = \\left(\\frac{u_{max} - u_{min}}{p_{max} - p_{min}} \\right) \\left( \\frac{y_\\infty - y_0}{u_\\infty - u_0} \\right) \\left( \\frac{y_{m,max} - y_{m,min}}{y_{max} - y_{min}} \\right)\n",
        "\\end{align*}\n"
      ]
    },
    {
      "cell_type": "code",
      "metadata": {
        "colab": {
          "base_uri": "https://localhost:8080/"
        },
        "id": "2LMzy5VGEYez",
        "outputId": "65f47b0f-4800-4684-e47f-b66d216addfa"
      },
      "source": [
        "K = (220 - 0)/(20 - 4)*(y[-1] - y[0])/(120 - 110)*(20 - 4)/(1 - 0.5)\n",
        "print('K = {:.2f} mA/mA'.format(K))"
      ],
      "execution_count": null,
      "outputs": [
        {
          "output_type": "stream",
          "name": "stdout",
          "text": [
            "K = 2.18 mA/mA\n"
          ]
        }
      ]
    },
    {
      "cell_type": "markdown",
      "metadata": {
        "nbpages": {
          "level": 3,
          "link": "[3.4.4.2 Step 1. Shift and scale the experimental data to correspond to a unit step input at time t =  0.](https://jckantor.github.io/CBE30338/03.04-Fitting-First-Order-plus-Time-Delay-to-Step-Response.html#3.4.4.2-Step-1.-Shift-and-scale-the-experimental-data-to-correspond-to-a-unit-step-input-at-time-t-=-0.)",
          "section": "3.4.4.2 Step 1. Shift and scale the experimental data to correspond to a unit step input at time t =  0."
        },
        "id": "cZAByJwkoU93"
      },
      "source": [
        "### Step 2. Shift and scale the experimental data to correspond to a unit step input at time t =  0.\n",
        "\n",
        "The first step is to scale the experimental data to fit the framework of an FOPTD model. This generally involves three steps:\n",
        "\n",
        "* Shift the time scale to t = 0 corresponds to the start of the experiment.\n",
        "\n",
        "$$ t_s = t - t_0$$\n",
        "\n",
        "* Shift the response so y = 0 is the initial steady state\n",
        "* Rescale the response to percentage of maximum change\n",
        "\n",
        "$$ y_s = 100\\frac{y(t) - y_0}{y_\\infty - y_0}$$"
      ]
    },
    {
      "cell_type": "code",
      "metadata": {
        "nbpages": {
          "level": 3,
          "link": "[3.4.4.2 Step 1. Shift and scale the experimental data to correspond to a unit step input at time t =  0.](https://jckantor.github.io/CBE30338/03.04-Fitting-First-Order-plus-Time-Delay-to-Step-Response.html#3.4.4.2-Step-1.-Shift-and-scale-the-experimental-data-to-correspond-to-a-unit-step-input-at-time-t-=-0.)",
          "section": "3.4.4.2 Step 1. Shift and scale the experimental data to correspond to a unit step input at time t =  0."
        },
        "id": "BVC-wnBboU94",
        "colab": {
          "base_uri": "https://localhost:8080/",
          "height": 312
        },
        "outputId": "550c36d5-dd32-4d88-cacd-d1866aafd894"
      },
      "source": [
        "ts = t - t[0]\n",
        "ys = 100*(y - y[0])/(y[-1] - y[0])\n",
        "\n",
        "plt.plot(ts, ys)\n",
        "plt.xlabel('Time [min]')\n",
        "plt.ylabel('Percentage of maximum change')\n",
        "plt.title('Shifted and Scaled Data')"
      ],
      "execution_count": null,
      "outputs": [
        {
          "output_type": "execute_result",
          "data": {
            "text/plain": [
              "Text(0.5, 1.0, 'Shifted and Scaled Data')"
            ]
          },
          "metadata": {},
          "execution_count": 7
        },
        {
          "output_type": "display_data",
          "data": {
            "text/plain": [
              "<Figure size 432x288 with 1 Axes>"
            ],
            "image/png": "[encoded data removed]"
          },
          "metadata": {
            "needs_background": "light"
          }
        }
      ]
    },
    {
      "cell_type": "markdown",
      "metadata": {
        "id": "q9CgOtuXtk80"
      },
      "source": [
        "### Step 3. Obtain the times $t_{1s}$ and $t_{2s}$ that response takes to reach $x_1$% and $x_2$%"
      ]
    },
    {
      "cell_type": "code",
      "metadata": {
        "id": "6xPkizTovHC6"
      },
      "source": [
        "times = np.zeros(shape=pcts.shape)\n",
        "for k, pct in enumerate(pcts):\n",
        "  times[k] = np.interp(pct, ys, ts)"
      ],
      "execution_count": null,
      "outputs": []
    },
    {
      "cell_type": "markdown",
      "metadata": {
        "id": "4yww6R9cFue-"
      },
      "source": [
        "### Step 4. Obtain the time constant and the dead time values\n",
        "The values of the time constant and the dead time depend on the process curve identification method and are given below.   \n",
        "\n",
        "\\begin{align}\n",
        "\\begin{array}{ccc}\n",
        "\\mbox{Method} & \\mbox{$\\tau$} & \\mbox{$t_d$}\\\\\n",
        "\\mbox{Smith} & \\mbox{$1.50(t_{63.2s} - t_{28.3s})$} & \\mbox{$1.50t_{28.3s} - 0.50t_{63.2s}$}\\\\\n",
        "\\mbox{SK} & \\mbox{$0.675(t_{85.3s} - t_{35.3s})$} & \\mbox{$1.29t_{35.3s} - 0.29t_{85.3}$}\\\\\n",
        "\\mbox{Strejc} & \\mbox{$0.721(t_{80.0s} - t_{20.0s})$} & \\mbox{$1.161t_{20.0s} - 0.161t_{80.0s}$}\\\\\n",
        "\\mbox{Vítečková} & \\mbox{$1.245(t_{70.0s} - t_{33.0s})$} & \\mbox{$1.498t_{33.0s} - 0.498t_{70.0s}$}\n",
        "\\end{array}\n",
        "\\end{align}"
      ]
    },
    {
      "cell_type": "code",
      "metadata": {
        "colab": {
          "base_uri": "https://localhost:8080/"
        },
        "id": "FvcHbsKjGnbZ",
        "outputId": "3597e0f4-48e5-43cb-81b8-55c4ab7aa646"
      },
      "source": [
        "pars = np.zeros(shape=times.shape)\n",
        "for k, time in enumerate(times):\n",
        "  pars[k] = [ ab[k][0]*(time[1] - time[0]), ab[k][1]*time[0] + (1 - ab[k][1])*time[1] ]\n",
        "pars"
      ],
      "execution_count": null,
      "outputs": [
        {
          "output_type": "execute_result",
          "data": {
            "text/plain": [
              "array([[7.89750298, 4.50198661],\n",
              "       [6.96234206, 5.01422723],\n",
              "       [7.49883588, 4.39214219],\n",
              "       [7.55364616, 4.71608477]])"
            ]
          },
          "metadata": {},
          "execution_count": 9
        }
      ]
    },
    {
      "cell_type": "markdown",
      "metadata": {
        "nbpages": {
          "level": 3,
          "link": "[3.4.4.3 Step 2. Create a function to compute the response of an FOPTD model.](https://jckantor.github.io/CBE30338/03.04-Fitting-First-Order-plus-Time-Delay-to-Step-Response.html#3.4.4.3-Step-2.-Create-a-function-to-compute-the-response-of-an-FOPTD-model.)",
          "section": "3.4.4.3 Step 2. Create a function to compute the response of an FOPTD model."
        },
        "id": "FrMGdmHYoU94"
      },
      "source": [
        "### Step 5. Compare the FOPTD approximation methods   \n",
        "\n",
        "For a given list of times $t$ and parameters $K$, $\\tau$, and $\\tau_d$, the `foptd` returns the response of an FOPTD system to a unit change in input at $t = 0$."
      ]
    },
    {
      "cell_type": "code",
      "metadata": {
        "colab": {
          "base_uri": "https://localhost:8080/",
          "height": 312
        },
        "id": "PRPLEMLgIvO8",
        "outputId": "31ca808c-0cbe-4d4c-87e0-8a88415c954c"
      },
      "source": [
        "methods = ['FOPTD Smith', 'FOPTD SK', 'FOPTD Strejc', 'FOPTD Vítečková']\n",
        "plt.plot(t,y)\n",
        "#print('K = {:.2f} mA/mA'.format(K))\n",
        "for k, par in enumerate(pars):\n",
        "  z = foptd(ts, 1, par[0], par[1])\n",
        "  ypred = y[0] + z*(y[-1] - y[0])\n",
        "  plt.plot(t,ypred)\n",
        "  #print('{:} : tau = {:.2f} and t_d = {:.2f}'.format(methods[k], pars[k][0], pars[k][1]))\n",
        "plt.xlabel('Time [min]')\n",
        "plt.ylabel('Vapor mole fraction [-]')\n",
        "plt.title('FOPTD approximation methods')\n",
        "plt.legend(['Experiment']+methods)"
      ],
      "execution_count": null,
      "outputs": [
        {
          "output_type": "execute_result",
          "data": {
            "text/plain": [
              "<matplotlib.legend.Legend at 0x7f92a1d9b1d0>"
            ]
          },
          "metadata": {},
          "execution_count": 10
        },
        {
          "output_type": "display_data",
          "data": {
            "text/plain": [
              "<Figure size 432x288 with 1 Axes>"
            ],
            "image/png": "[encoded data removed]"
          },
          "metadata": {
            "needs_background": "light"
          }
        }
      ]
    },
    {
      "cell_type": "markdown",
      "metadata": {
        "id": "smcF17nwTD22"
      },
      "source": [
        "Ok, it sounds good! But, how about trying another approach using numerical optimization to find the best FOPTD approximation to the experiment data?\n",
        "\n",
        "We will do it by taking the following steps."
      ]
    },
    {
      "cell_type": "markdown",
      "metadata": {
        "nbpages": {
          "level": 3,
          "link": "[3.4.4.4 Step 3. Create a function to measure the error between an FOPTD model and the experimental data.](https://jckantor.github.io/CBE30338/03.04-Fitting-First-Order-plus-Time-Delay-to-Step-Response.html#3.4.4.4-Step-3.-Create-a-function-to-measure-the-error-between-an-FOPTD-model-and-the-experimental-data.)",
          "section": "3.4.4.4 Step 3. Create a function to measure the error between an FOPTD model and the experimental data."
        },
        "id": "lA3QrFgzoU96"
      },
      "source": [
        "### Step 1. Create a function to measure the error between an FOPTD model and the experimental data.\n",
        "\n",
        "Let's called the step response of the fitted model to be $\\hat{y}_s$. We seek to minimize\n",
        "\n",
        "$$\\min_{K,\\tau,\\tau_d} \\int_0^T \\|\\hat{y}_s - y_s\\|\\,dt$$\n",
        "\n",
        "for some suitable norm $\\|\\cdot\\|$.  A common choice of norm for process control is the absolute value of the difference called Integral Absolute Error (IAE)\n",
        "\n",
        "$$\\text{IAE} = \\min_{K,\\tau,\\tau_d} \\int_0^T |\\hat{y}_s - y_s|\\,dt$$\n",
        "\n",
        "The advantage of IAE over other choices of norms is that it tends to be more robust with respect to larger errors."
      ]
    },
    {
      "cell_type": "code",
      "metadata": {
        "nbpages": {
          "level": 3,
          "link": "[3.4.4.4 Step 3. Create a function to measure the error between an FOPTD model and the experimental data.](https://jckantor.github.io/CBE30338/03.04-Fitting-First-Order-plus-Time-Delay-to-Step-Response.html#3.4.4.4-Step-3.-Create-a-function-to-measure-the-error-between-an-FOPTD-model-and-the-experimental-data.)",
          "section": "3.4.4.4 Step 3. Create a function to measure the error between an FOPTD model and the experimental data."
        },
        "id": "j3EcfLCCoU97",
        "colab": {
          "base_uri": "https://localhost:8080/"
        },
        "outputId": "d76d8468-d545-46ac-8820-2df7e77004e5"
      },
      "source": [
        "def err(X,t,y):\n",
        "    K,tau,t_d = X\n",
        "    z = foptd(t,K,tau,t_d)\n",
        "    iae = sum(abs(z-y))*(max(t)-min(t))/len(t)\n",
        "    return iae\n",
        "\n",
        "X = [100,10,3]\n",
        "err(X,ts,ys)"
      ],
      "execution_count": null,
      "outputs": [
        {
          "output_type": "execute_result",
          "data": {
            "text/plain": [
              "173.78496753635145"
            ]
          },
          "metadata": {},
          "execution_count": 11
        }
      ]
    },
    {
      "cell_type": "markdown",
      "metadata": {
        "nbpages": {
          "level": 3,
          "link": "[3.4.4.5 Step 4. Use scipy.optimize.minimize() to find the best fitting FOPTD model.](https://jckantor.github.io/CBE30338/03.04-Fitting-First-Order-plus-Time-Delay-to-Step-Response.html#3.4.4.5-Step-4.-Use-scipy.optimize.minimize()-to-find-the-best-fitting-FOPTD-model.)",
          "section": "3.4.4.5 Step 4. Use scipy.optimize.minimize() to find the best fitting FOPTD model."
        },
        "id": "5tlXr9yWoU98"
      },
      "source": [
        "### Step 2. Use scipy.optimize.minimize() to find the best fitting FOPTD model."
      ]
    },
    {
      "cell_type": "code",
      "metadata": {
        "nbpages": {
          "level": 3,
          "link": "[3.4.4.5 Step 4. Use scipy.optimize.minimize() to find the best fitting FOPTD model.](https://jckantor.github.io/CBE30338/03.04-Fitting-First-Order-plus-Time-Delay-to-Step-Response.html#3.4.4.5-Step-4.-Use-scipy.optimize.minimize()-to-find-the-best-fitting-FOPTD-model.)",
          "section": "3.4.4.5 Step 4. Use scipy.optimize.minimize() to find the best fitting FOPTD model."
        },
        "id": "wlYVq_XloU98",
        "colab": {
          "base_uri": "https://localhost:8080/"
        },
        "outputId": "3331a541-38a6-4be9-a9f8-ae368b58e00b"
      },
      "source": [
        "K,tau,t_d = minimize(err,X,args=(ts,ys)).x\n",
        "\n",
        "print('K = {:.5f}'.format(K))\n",
        "print('tau = {:.2f}'.format(tau))\n",
        "print('t_d = {:.2f}'.format(t_d))"
      ],
      "execution_count": null,
      "outputs": [
        {
          "output_type": "stream",
          "name": "stdout",
          "text": [
            "K = 103.70744\n",
            "tau = 8.19\n",
            "t_d = 4.49\n"
          ]
        }
      ]
    },
    {
      "cell_type": "markdown",
      "metadata": {
        "nbpages": {
          "level": 3,
          "link": "[3.4.4.6 Step 5. Rescale FOPTD output and compare to experimental data.](https://jckantor.github.io/CBE30338/03.04-Fitting-First-Order-plus-Time-Delay-to-Step-Response.html#3.4.4.6-Step-5.-Rescale-FOPTD-output-and-compare-to-experimental-data.)",
          "section": "3.4.4.6 Step 5. Rescale FOPTD output and compare to experimental data."
        },
        "id": "B3_dA4TVoU99"
      },
      "source": [
        "### Step 3. Rescale FOPTD output and compare to experimental data."
      ]
    },
    {
      "cell_type": "code",
      "metadata": {
        "nbpages": {
          "level": 3,
          "link": "[3.4.4.6 Step 5. Rescale FOPTD output and compare to experimental data.](https://jckantor.github.io/CBE30338/03.04-Fitting-First-Order-plus-Time-Delay-to-Step-Response.html#3.4.4.6-Step-5.-Rescale-FOPTD-output-and-compare-to-experimental-data.)",
          "section": "3.4.4.6 Step 5. Rescale FOPTD output and compare to experimental data."
        },
        "id": "DbS7-I7uoU99",
        "colab": {
          "base_uri": "https://localhost:8080/",
          "height": 296
        },
        "outputId": "83ec6779-c828-41d9-cd32-d2c13c80ab34"
      },
      "source": [
        "z = foptd(ts,K,tau,t_d)\n",
        "ypred = y[0] + z*(y[-1] - y[0])/100\n",
        "\n",
        "plt.plot(t,y,t,ypred)\n",
        "plt.xlabel('Time [min]')\n",
        "plt.ylabel('Vapor mole fraction [-]')\n",
        "plt.legend(['Experiment','FOPTD optimization'])"
      ],
      "execution_count": null,
      "outputs": [
        {
          "output_type": "execute_result",
          "data": {
            "text/plain": [
              "<matplotlib.legend.Legend at 0x7f92a1d8d290>"
            ]
          },
          "metadata": {},
          "execution_count": 13
        },
        {
          "output_type": "display_data",
          "data": {
            "text/plain": [
              "<Figure size 432x288 with 1 Axes>"
            ],
            "image/png": "[encoded data removed]"
          },
          "metadata": {
            "needs_background": "light"
          }
        }
      ]
    },
    {
      "cell_type": "markdown",
      "metadata": {
        "nbpages": {
          "level": 3,
          "link": "[3.4.4.1 Sample Problem Statement](https://jckantor.github.io/CBE30338/03.04-Fitting-First-Order-plus-Time-Delay-to-Step-Response.html#3.4.4.1-Sample-Problem-Statement)",
          "section": "3.4.4.1 Sample Problem Statement"
        },
        "id": "lN4zbQFqvmGr"
      },
      "source": [
        "### Sample Problem #2\n",
        "\n",
        "> N.B.: The chart was taken from [here]() (Figure 6.8).\n",
        "\n",
        "A two stirred-tank heating process is initially at steady state.  At $t = 5$ min, a 5% step is applied to the steam valve of the heating coil of the first tank.\n",
        "\n",
        "The temperature measured in the second tank increases as shown in the following chart, where the x axis is the time in minutes, the right y axis is the input in % valve opening and the left y axis is the temperature in ºC, both measured as deviations from their respective steady state values. \n",
        "\n",
        "![alt text](https://raw.githubusercontent.com/gmxavier/FAT0413150/main/figures/prc_01.png)\n",
        "\n",
        "This data has noise, which could be due to imperfect mixing, sensor noise, and variation in other input variables.\n",
        "\n",
        "Again, the problem task is to fit a FOPTD model to this more realistic experimental test data in order to obtain an approximation of the process reaction curve transfer function ($G_{PRC} = G_a G_p G_m$), assuming the following ranges:\n",
        "\n",
        "- Heating coil steam valve: AO valve\n",
        "- Temperature sensor (direct action): 20 to 120ºC\n",
        "- Control loop transmission signal: 4 to 20 mA\n",
        "\n"
      ]
    },
    {
      "cell_type": "markdown",
      "source": [
        "### Step 1. Digitize the chart\n",
        "\n",
        "Using this [tool](https://automeris.io/WebPlotDigitizer/) digitize the chart and save the data as a .csv file with three columns named Time, Input and Output.\n",
        "\n",
        "The digitize data obtained should be similar to this one."
      ],
      "metadata": {
        "id": "sa3PO0ks2IrC"
      }
    },
    {
      "cell_type": "code",
      "source": [
        ""
      ],
      "metadata": {
        "id": "xOy6WDfv-Qa3"
      },
      "execution_count": null,
      "outputs": []
    }
  ]
}