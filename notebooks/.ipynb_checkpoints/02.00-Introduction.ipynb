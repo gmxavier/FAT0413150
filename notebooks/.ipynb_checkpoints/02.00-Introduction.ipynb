{
  "nbformat": 4,
  "nbformat_minor": 0,
  "metadata": {
    "kernelspec": {
      "display_name": "Python 3",
      "language": "python",
      "name": "python3"
    },
    "language_info": {
      "codemirror_mode": {
        "name": "ipython",
        "version": 3
      },
      "file_extension": ".py",
      "mimetype": "text/x-python",
      "name": "python",
      "nbconvert_exporter": "python",
      "pygments_lexer": "ipython3",
      "version": "3.7.3"
    },
    "colab": {
      "name": "02.00-Introduction-checkpoint.ipynb",
      "provenance": []
    }
  },
  "cells": [
    {
      "cell_type": "markdown",
      "metadata": {
        "id": "QyLXdqo3Xdiv"
      },
      "source": [
        "<!--NOTEBOOK_HEADER-->\n",
        "*This notebook contains course material from [FAT0413150](https://gmxavier.github.io/FAT0413150)\n",
        "by Gilberto Xavier (gmxavier at fat.uerj.br); the content is available [on Github](https://github.com/gmxavier/FAT0413150.git).\n",
        "The text is released under the [CC-BY-NC-SA-4.0 license](https://creativecommons.org/licenses/by-nc-sa/4.0/legalcode),\n",
        "and code is released under the [MIT license](https://opensource.org/licenses/MIT).*"
      ]
    },
    {
      "cell_type": "markdown",
      "metadata": {
        "id": "vDK_CXKoXdjE"
      },
      "source": [
        "<!--NAVIGATION-->\n",
        "< [Getting started](http://nbviewer.jupyter.org/github/gmxavier/FAT0413150/blob/master/notebooks/01.00-Getting-Started.ipynb) | [Contents](toc.ipynb) | [Mathematical preliminaries](http://nbviewer.jupyter.org/github/gmxavier/FAT0413150/blob/master/notebooks/03.00-Mathematical-Preliminaries.ipynb) ><p><a href=\"https://colab.research.google.com/github/gmxavier/FAT0413150/blob/master/notebooks/02.00-Introduction.ipynb\" target=\"_parent\"><img align=\"left\" src=\"https://colab.research.google.com/assets/colab-badge.svg\" alt=\"Open in Colab\" title=\"Open in Google Colaboratory\"></a><p><a href=\"https://raw.githubusercontent.com/gmxavier/FAT0413150/master/notebooks/02.00-Introduction.ipynb\" target=\"_parent\"><img align=\"left\" src=\"https://img.shields.io/badge/Github-Download-blue.svg\" alt=\"Download\" title=\"Download Notebook\"></a>"
      ]
    },
    {
      "cell_type": "markdown",
      "metadata": {
        "id": "zpBxZO7XXdjH"
      },
      "source": [
        "# Introduction"
      ]
    },
    {
      "cell_type": "markdown",
      "metadata": {
        "id": "88H9jUbSXdjI"
      },
      "source": [
        "## Reading material\n",
        "- [Process Control: A First Course with MATLAB (Chapter 1)](https://ia802909.us.archive.org/32/items/process-control-a-first-course-with-matlab/Process%20Control%20A%20First%20Course%20with%20MATLAB.pdf#page=17)\n",
        "- []()\n",
        "\n",
        "## Supplementary material\n",
        "- [Understanding Control Systems](https://www.youtube.com/playlist?list=PLn8PRpmsu08q8CE0pbZ-cSrMm_WYJfVGd)\n",
        "\n",
        "## Review problems\n",
        "\n",
        "Try to solve the problems listed [here](https://doc.lagout.org/electronics/Fundamentals%20of%20Industrial%20Instrumentation%20and%20Process%20Control%20%5Bby%20William%20Dunn%5D.pdf) on page 13.\n",
        "\n",
        "Tip: Take a look [here](https://www.ibiblio.org/kuphaldt/socratic/sinst/book/liii_2v32.pdf#page=87) to get some conversion factors."
      ]
    },
    {
      "cell_type": "markdown",
      "metadata": {
        "id": "Ky1804UjXdjL"
      },
      "source": [
        "<!--NAVIGATION-->\n",
        "< [Getting started](http://nbviewer.jupyter.org/github/gmxavier/FAT0413156/blob/master/notebooks/01.00-Getting-Started.ipynb) | [Contents](toc.ipynb) | [Pressure measurement](http://nbviewer.jupyter.org/github/gmxavier/FAT0413156/blob/master/notebooks/03.00-Pressure.ipynb) ><p><a href=\"https://colab.research.google.com/github/gmxavier/FAT0413156/blob/master/notebooks/02.00-Introduction.ipynb\" target=\"_parent\"><img align=\"left\" src=\"https://colab.research.google.com/assets/colab-badge.svg\" alt=\"Open in Colab\" title=\"Open in Google Colaboratory\"></a><p><a href=\"https://raw.githubusercontent.com/gmxavier/FAT0413156/master/notebooks/02.00-Introduction.ipynb\" target=\"_parent\"><img align=\"left\" src=\"https://img.shields.io/badge/Github-Download-blue.svg\" alt=\"Download\" title=\"Download Notebook\"></a>"
      ]
    }
  ]
}