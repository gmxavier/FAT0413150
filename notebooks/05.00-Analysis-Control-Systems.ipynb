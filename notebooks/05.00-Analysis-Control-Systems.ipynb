{
  "nbformat": 4,
  "nbformat_minor": 0,
  "metadata": {
    "kernelspec": {
      "display_name": "Python 3",
      "language": "python",
      "name": "python3"
    },
    "language_info": {
      "codemirror_mode": {
        "name": "ipython",
        "version": 3
      },
      "file_extension": ".py",
      "mimetype": "text/x-python",
      "name": "python",
      "nbconvert_exporter": "python",
      "pygments_lexer": "ipython3",
      "version": "3.7.3"
    },
    "colab": {
      "name": "05.00-Analysis-Control-Systems.ipynb",
      "provenance": []
    }
  },
  "cells": [
    {
      "cell_type": "markdown",
      "metadata": {
        "id": "QyLXdqo3Xdiv"
      },
      "source": [
        "<!--NOTEBOOK_HEADER-->\n",
        "*This notebook contains course material from [FAT0413150](https://gmxavier.github.io/FAT0413150)\n",
        "by Gilberto Xavier (gmxavier at fat.uerj.br); the content is available [on Github](https://github.com/gmxavier/FAT0413150.git).\n",
        "The text is released under the [CC-BY-NC-SA-4.0 license](https://creativecommons.org/licenses/by-nc-sa/4.0/legalcode),\n",
        "and code is released under the [MIT license](https://opensource.org/licenses/MIT).*"
      ]
    },
    {
      "cell_type": "markdown",
      "metadata": {
        "id": "vDK_CXKoXdjE"
      },
      "source": [
        "<!--NAVIGATION-->\n",
        "< [Dynamic response](http://nbviewer.jupyter.org/github/gmxavier/FAT0413150/blob/main/notebooks/04.00-Dynamic-Response.ipynb) | [Contents](toc.ipynb) | [Design and tuning of single-loop control systems](http://nbviewer.jupyter.org/github/gmxavier/FAT0413150/blob/main/notebooks/06.00-Design-Control-Systems.ipynb) ><p><a href=\"https://colab.research.google.com/github/gmxavier/FAT0413150/blob/main/notebooks/05.00-Analysis-Control-Systems.ipynb\" target=\"_parent\"><img align=\"left\" src=\"https://colab.research.google.com/assets/colab-badge.svg\" alt=\"Open in Colab\" title=\"Open in Google Colaboratory\"></a><p><a href=\"https://raw.githubusercontent.com/gmxavier/FAT0413150/main/notebooks/05.00-Analysis-Control-Systems.ipynb\" target=\"_parent\"><img align=\"left\" src=\"https://img.shields.io/badge/Github-Download-blue.svg\" alt=\"Download\" title=\"Download Notebook\"></a>"
      ]
    },
    {
      "cell_type": "markdown",
      "metadata": {
        "id": "zpBxZO7XXdjH"
      },
      "source": [
        "# Analysis of single-loop control systems"
      ]
    },
    {
      "cell_type": "markdown",
      "metadata": {
        "id": "88H9jUbSXdjI"
      },
      "source": [
        "## Reading material\n",
        "- [Process Control: A First Course with MATLAB (Chapter 5)](https://ia802909.us.archive.org/32/items/process-control-a-first-course-with-matlab/Process%20Control%20A%20First%20Course%20with%20MATLAB.pdf#page=99)\n",
        "- [Process Control, Designing Processes and Control Systems for Dynamic Performance (Chapter 8)](http://pc-textbook.mcmaster.ca/Marlin-Ch08.pdf)\n",
        "- [Process Systems Analysis and Control (Chapter 9)](https://udghoshna.files.wordpress.com/2013/06/136649035-process-systems-analysis-and-control-d-coughanowr-3rd-ed.pdf#page=213)\n",
        "\n",
        "## Supplementary material\n",
        "- [Process Control, Designing Processes and Control Systems for Dynamic Performance (Chapter 8 slides)](https://drive.google.com/file/d/1ESN5Lq-rlg4TQVZJ5L8LeZNuS8JbnPAE/view?usp=sharing)\n",
        "\n",
        "## Review problems\n",
        "  Click [here](https://ia802909.us.archive.org/32/items/process-control-a-first-course-with-matlab/Process%20Control%20A%20First%20Course%20with%20MATLAB.pdf#page=121) to access the review problems."
      ]
    },
    {
      "cell_type": "markdown",
      "metadata": {
        "id": "Ky1804UjXdjL"
      },
      "source": [
        "<!--NAVIGATION-->\n",
        "< [Dynamic response](http://nbviewer.jupyter.org/github/gmxavier/FAT0413150/blob/master/notebooks/04.00-Dynamic-Response.ipynb) | [Contents](toc.ipynb) | [Design and tuning of single-loop control systems](http://nbviewer.jupyter.org/github/gmxavier/FAT0413150/blob/master/notebooks/06.00-Design-Control-Systems.ipynb) ><p><a href=\"https://colab.research.google.com/github/gmxavier/FAT0413150/blob/master/notebooks/05.00-Analysis-Control-Systems.ipynb\" target=\"_parent\"><img align=\"left\" src=\"https://colab.research.google.com/assets/colab-badge.svg\" alt=\"Open in Colab\" title=\"Open in Google Colaboratory\"></a><p><a href=\"https://raw.githubusercontent.com/gmxavier/FAT0413150/master/notebooks/05.00-Analysis-Control-Systems.ipynb\" target=\"_parent\"><img align=\"left\" src=\"https://img.shields.io/badge/Github-Download-blue.svg\" alt=\"Download\" title=\"Download Notebook\"></a>"
      ]
    }
  ]
}
