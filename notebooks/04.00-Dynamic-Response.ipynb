{
  "nbformat": 4,
  "nbformat_minor": 0,
  "metadata": {
    "kernelspec": {
      "display_name": "Python 3",
      "language": "python",
      "name": "python3"
    },
    "language_info": {
      "codemirror_mode": {
        "name": "ipython",
        "version": 3
      },
      "file_extension": ".py",
      "mimetype": "text/x-python",
      "name": "python",
      "nbconvert_exporter": "python",
      "pygments_lexer": "ipython3",
      "version": "3.7.3"
    },
    "colab": {
      "name": "02.00-Introduction-checkpoint.ipynb",
      "provenance": []
    }
  },
  "cells": [
    {
      "cell_type": "markdown",
      "metadata": {
        "id": "QyLXdqo3Xdiv"
      },
      "source": [
        "<!--NOTEBOOK_HEADER-->\n",
        "*This notebook contains course material from [FAT0413150](https://gmxavier.github.io/FAT0413150)\n",
        "by Gilberto Xavier (gmxavier at fat.uerj.br); the content is available [on Github](https://github.com/gmxavier/FAT0413150.git).\n",
        "The text is released under the [CC-BY-NC-SA-4.0 license](https://creativecommons.org/licenses/by-nc-sa/4.0/legalcode),\n",
        "and code is released under the [MIT license](https://opensource.org/licenses/MIT).*"
      ]
    },
    {
      "cell_type": "markdown",
      "metadata": {
        "id": "vDK_CXKoXdjE"
      },
      "source": [
        "<!--NAVIGATION-->\n",
        "< [Mathematical preliminaries](http://nbviewer.jupyter.org/github/gmxavier/FAT0413150/blob/main/notebooks/03.00-Mathematical-Preliminaries.ipynb) | [Contents](toc.ipynb) | [Analysis of single-loop control systems](http://nbviewer.jupyter.org/github/gmxavier/FAT0413150/blob/main/notebooks/05.00-Analysis.ipynb) ><p><a href=\"https://colab.research.google.com/github/gmxavier/FAT0413150/blob/main/notebooks/04.00-Dynamic-Response.ipynb\" target=\"_parent\"><img align=\"left\" src=\"https://colab.research.google.com/assets/colab-badge.svg\" alt=\"Open in Colab\" title=\"Open in Google Colaboratory\"></a><p><a href=\"https://raw.githubusercontent.com/gmxavier/FAT0413150/main/notebooks/04.00-Dynamic-Response.ipynb\" target=\"_parent\"><img align=\"left\" src=\"https://img.shields.io/badge/Github-Download-blue.svg\" alt=\"Download\" title=\"Download Notebook\"></a>"
      ]
    },
    {
      "cell_type": "markdown",
      "metadata": {
        "id": "zpBxZO7XXdjH"
      },
      "source": [
        "# Dynamic response"
      ]
    },
    {
      "cell_type": "markdown",
      "metadata": {
        "id": "88H9jUbSXdjI"
      },
      "source": [
        "## Reading material\n",
        "- [Process Control: A First Course with MATLAB (Chapter 3)](https://ia802909.us.archive.org/32/items/process-control-a-first-course-with-matlab/Process%20Control%20A%20First%20Course%20with%20MATLAB.pdf#page=60)\n",
        "- [Process Control, Designing Processes and Control Systems for Dynamic Performance (Chapter 5)](http://pc-textbook.mcmaster.ca/Marlin-Ch05.pdf)\n",
        "- [Process Systems Analysis and Control (Chapter 4)](https://udghoshna.files.wordpress.com/2013/06/136649035-process-systems-analysis-and-control-d-coughanowr-3rd-ed.pdf#page=92)\n",
        "- [Process Systems Analysis and Control (Chapter 6)](https://udghoshna.files.wordpress.com/2013/06/136649035-process-systems-analysis-and-control-d-coughanowr-3rd-ed.pdf#page=144)\n",
        "- [Process Systems Analysis and Control (Chapter 7)](https://udghoshna.files.wordpress.com/2013/06/136649035-process-systems-analysis-and-control-d-coughanowr-3rd-ed.pdf#page=158)\n",
        "\n",
        "## Supplementary material\n",
        "- [Process Control, Designing Processes and Control Systems for Dynamic Performance (Chapter 5 slides)](https://drive.google.com/file/d/1OeCv9dUM_yUq5Scf7t2h71DMXhwMO0km/view?usp=sharing)\n",
        "\n",
        "## Supplementary notebooks\n",
        "- [Two transient model examples](https://colab.research.google.com/github/gmxavier/FAT0413150/blob/main/notebooks/03.01-Two-Transient-Model-Examples.ipynb)\n",
        "\n",
        "## Review problems\n",
        "  Click [here](https://ia802909.us.archive.org/32/items/process-control-a-first-course-with-matlab/Process%20Control%20A%20First%20Course%20with%20MATLAB.pdf#page=77) to access the review problems."
      ]
    },
    {
      "cell_type": "markdown",
      "metadata": {
        "id": "Ky1804UjXdjL"
      },
      "source": [
        "<!--NAVIGATION-->\n",
        "< [Mathematical preliminaries](http://nbviewer.jupyter.org/github/gmxavier/FAT0413150/blob/main/notebooks/03.00-Mathematical-Preliminaries.ipynb) | [Contents](toc.ipynb) | [Analysis of single-loop control systems](http://nbviewer.jupyter.org/github/gmxavier/FAT0413150/blob/main/notebooks/05.00-Analysis.ipynb) ><p><a href=\"https://colab.research.google.com/github/gmxavier/FAT0413150/blob/main/notebooks/04.00-Dynamic-Response.ipynb\" target=\"_parent\"><img align=\"left\" src=\"https://colab.research.google.com/assets/colab-badge.svg\" alt=\"Open in Colab\" title=\"Open in Google Colaboratory\"></a><p><a href=\"https://raw.githubusercontent.com/gmxavier/FAT0413150/main/notebooks/04.00-Dynamic-Response.ipynb\" target=\"_parent\"><img align=\"left\" src=\"https://img.shields.io/badge/Github-Download-blue.svg\" alt=\"Download\" title=\"Download Notebook\"></a>"
      ]
    }
  ]
}