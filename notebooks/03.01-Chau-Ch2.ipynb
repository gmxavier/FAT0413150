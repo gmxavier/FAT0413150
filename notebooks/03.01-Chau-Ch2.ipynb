{
  "nbformat": 4,
  "nbformat_minor": 0,
  "metadata": {
    "colab": {
      "name": "03.01-Chau-Ch2.ipynb",
      "provenance": [],
      "authorship_tag": "ABX9TyPwuLDhw8JbCy8exE2QWaNw",
      "include_colab_link": true
    },
    "kernelspec": {
      "name": "python3",
      "display_name": "Python 3"
    },
    "language_info": {
      "name": "python"
    }
  },
  "cells": [
    {
      "cell_type": "markdown",
      "metadata": {
        "id": "view-in-github",
        "colab_type": "text"
      },
      "source": [
        "<a href=\"https://colab.research.google.com/github/gmxavier/FAT0413150/blob/main/notebooks/03.01-Chau-Ch2.ipynb\" target=\"_parent\"><img src=\"https://colab.research.google.com/assets/colab-badge.svg\" alt=\"Open In Colab\"/></a>"
      ]
    },
    {
      "cell_type": "markdown",
      "metadata": {
        "id": "mVd-f3mAMaa1"
      },
      "source": [
        "This notebook shows how to use functions from `sympy`, `control` and `matplotlib` to substitute MATLAB functions used in [Chapter 2](https://ia802909.us.archive.org/32/items/process-control-a-first-course-with-matlab/Process%20Control%20A%20First%20Course%20with%20MATLAB.pdf#page=22) of Pao C. Chau, Process Control: A First Course with MATLAB."
      ]
    },
    {
      "cell_type": "code",
      "source": [
        "from sympy import apart, inverse_laplace_transform, Heaviside, plot, exp\n",
        "from sympy.abc import s, t\n",
        "from sympy.physics.control.lti import TransferFunction\n",
        "import numpy as np\n",
        "!pip install control\n",
        "from control.matlab import *\n",
        "import matplotlib.pyplot as plt"
      ],
      "metadata": {
        "colab": {
          "base_uri": "https://localhost:8080/"
        },
        "id": "61AkgTLzOSCH",
        "outputId": "93da0e84-acd0-4958-ad54-f0ff26fefed5"
      },
      "execution_count": 59,
      "outputs": [
        {
          "output_type": "stream",
          "name": "stdout",
          "text": [
            "Collecting control\n",
            "  Downloading control-0.9.1.tar.gz (357 kB)\n",
            "\u001b[?25l\r\u001b[K     |█                               | 10 kB 15.0 MB/s eta 0:00:01\r\u001b[K     |█▉                              | 20 kB 16.5 MB/s eta 0:00:01\r\u001b[K     |██▊                             | 30 kB 10.1 MB/s eta 0:00:01\r\u001b[K     |███▋                            | 40 kB 8.5 MB/s eta 0:00:01\r\u001b[K     |████▋                           | 51 kB 4.9 MB/s eta 0:00:01\r\u001b[K     |█████▌                          | 61 kB 5.7 MB/s eta 0:00:01\r\u001b[K     |██████▍                         | 71 kB 5.7 MB/s eta 0:00:01\r\u001b[K     |███████▎                        | 81 kB 5.5 MB/s eta 0:00:01\r\u001b[K     |████████▎                       | 92 kB 6.1 MB/s eta 0:00:01\r\u001b[K     |█████████▏                      | 102 kB 5.6 MB/s eta 0:00:01\r\u001b[K     |██████████                      | 112 kB 5.6 MB/s eta 0:00:01\r\u001b[K     |███████████                     | 122 kB 5.6 MB/s eta 0:00:01\r\u001b[K     |████████████                    | 133 kB 5.6 MB/s eta 0:00:01\r\u001b[K     |████████████▉                   | 143 kB 5.6 MB/s eta 0:00:01\r\u001b[K     |█████████████▊                  | 153 kB 5.6 MB/s eta 0:00:01\r\u001b[K     |██████████████▋                 | 163 kB 5.6 MB/s eta 0:00:01\r\u001b[K     |███████████████▋                | 174 kB 5.6 MB/s eta 0:00:01\r\u001b[K     |████████████████▌               | 184 kB 5.6 MB/s eta 0:00:01\r\u001b[K     |█████████████████▍              | 194 kB 5.6 MB/s eta 0:00:01\r\u001b[K     |██████████████████▎             | 204 kB 5.6 MB/s eta 0:00:01\r\u001b[K     |███████████████████▎            | 215 kB 5.6 MB/s eta 0:00:01\r\u001b[K     |████████████████████▏           | 225 kB 5.6 MB/s eta 0:00:01\r\u001b[K     |█████████████████████           | 235 kB 5.6 MB/s eta 0:00:01\r\u001b[K     |██████████████████████          | 245 kB 5.6 MB/s eta 0:00:01\r\u001b[K     |███████████████████████         | 256 kB 5.6 MB/s eta 0:00:01\r\u001b[K     |███████████████████████▉        | 266 kB 5.6 MB/s eta 0:00:01\r\u001b[K     |████████████████████████▊       | 276 kB 5.6 MB/s eta 0:00:01\r\u001b[K     |█████████████████████████▋      | 286 kB 5.6 MB/s eta 0:00:01\r\u001b[K     |██████████████████████████▌     | 296 kB 5.6 MB/s eta 0:00:01\r\u001b[K     |███████████████████████████▌    | 307 kB 5.6 MB/s eta 0:00:01\r\u001b[K     |████████████████████████████▍   | 317 kB 5.6 MB/s eta 0:00:01\r\u001b[K     |█████████████████████████████▎  | 327 kB 5.6 MB/s eta 0:00:01\r\u001b[K     |██████████████████████████████▏ | 337 kB 5.6 MB/s eta 0:00:01\r\u001b[K     |███████████████████████████████▏| 348 kB 5.6 MB/s eta 0:00:01\r\u001b[K     |████████████████████████████████| 357 kB 5.6 MB/s \n",
            "\u001b[?25hRequirement already satisfied: numpy in /usr/local/lib/python3.7/dist-packages (from control) (1.21.5)\n",
            "Requirement already satisfied: scipy in /usr/local/lib/python3.7/dist-packages (from control) (1.4.1)\n",
            "Requirement already satisfied: matplotlib in /usr/local/lib/python3.7/dist-packages (from control) (3.2.2)\n",
            "Requirement already satisfied: kiwisolver>=1.0.1 in /usr/local/lib/python3.7/dist-packages (from matplotlib->control) (1.4.2)\n",
            "Requirement already satisfied: python-dateutil>=2.1 in /usr/local/lib/python3.7/dist-packages (from matplotlib->control) (2.8.2)\n",
            "Requirement already satisfied: cycler>=0.10 in /usr/local/lib/python3.7/dist-packages (from matplotlib->control) (0.11.0)\n",
            "Requirement already satisfied: pyparsing!=2.0.4,!=2.1.2,!=2.1.6,>=2.0.1 in /usr/local/lib/python3.7/dist-packages (from matplotlib->control) (3.0.8)\n",
            "Requirement already satisfied: typing-extensions in /usr/local/lib/python3.7/dist-packages (from kiwisolver>=1.0.1->matplotlib->control) (4.1.1)\n",
            "Requirement already satisfied: six>=1.5 in /usr/local/lib/python3.7/dist-packages (from python-dateutil>=2.1->matplotlib->control) (1.15.0)\n",
            "Building wheels for collected packages: control\n",
            "  Building wheel for control (setup.py) ... \u001b[?25l\u001b[?25hdone\n",
            "  Created wheel for control: filename=control-0.9.1-py2.py3-none-any.whl size=364703 sha256=0bfac7ed84f9462424feb71ac23a08960657c64dfb1871214f912bcd6b4914ce\n",
            "  Stored in directory: /root/.cache/pip/wheels/b1/50/22/8005107713828997d1af664fbd629c7f935a1b87fc2f4ba6c1\n",
            "Successfully built control\n",
            "Installing collected packages: control\n",
            "Successfully installed control-0.9.1\n"
          ]
        }
      ]
    },
    {
      "cell_type": "markdown",
      "source": [
        "Let's take the transfer function of the Example 2.3."
      ],
      "metadata": {
        "id": "65KKNTOMbZxy"
      }
    },
    {
      "cell_type": "code",
      "source": [
        "# Example 2.3, p. 15\n",
        "# F(s) = (6*s**2 − 12)/(s**3 + s**2 - 4*s - 4)\n",
        "tf23 = TransferFunction(6*s**2 - 12, s**3 + s**2 - 4*s - 4, s)\n",
        "tf23"
      ],
      "metadata": {
        "colab": {
          "base_uri": "https://localhost:8080/",
          "height": 55
        },
        "id": "SjLMXu9_OfYr",
        "outputId": "fa3f7ee1-da0d-4105-9080-c37147a0eba3"
      },
      "execution_count": 7,
      "outputs": [
        {
          "output_type": "execute_result",
          "data": {
            "text/plain": [
              "TransferFunction(6*s**2 - 12, s**3 + s**2 - 4*s - 4, s)"
            ],
            "text/latex": "$\\displaystyle \\frac{6 s^{2} - 12}{s^{3} + s^{2} - 4 s - 4}$"
          },
          "metadata": {},
          "execution_count": 7
        }
      ]
    },
    {
      "cell_type": "markdown",
      "source": [
        "Its poles (roots of the denominator polynomial) are easily calculated as follows:"
      ],
      "metadata": {
        "id": "YoMhbXF8bjTV"
      }
    },
    {
      "cell_type": "code",
      "source": [
        "tf23.poles()"
      ],
      "metadata": {
        "colab": {
          "base_uri": "https://localhost:8080/"
        },
        "id": "TrDUS84sSdp7",
        "outputId": "43828f94-734c-43ff-90f9-803be81e521e"
      },
      "execution_count": 8,
      "outputs": [
        {
          "output_type": "execute_result",
          "data": {
            "text/plain": [
              "[-2, -1, 2]"
            ]
          },
          "metadata": {},
          "execution_count": 8
        }
      ]
    },
    {
      "cell_type": "markdown",
      "source": [
        "The partial fraction expansion of this transfer function can also be easily obtained as follows:"
      ],
      "metadata": {
        "id": "d2EEwt7rb8Sc"
      }
    },
    {
      "cell_type": "code",
      "source": [
        "# Example 2.4, p. 16\n",
        "# F(s) = (6*s**2 − 12)/(s**3 + s**2 − 4*s − 4)\n",
        "pftf23 = apart(tf23.args[0]/tf23.args[1])\n",
        "pftf23"
      ],
      "metadata": {
        "colab": {
          "base_uri": "https://localhost:8080/",
          "height": 52
        },
        "id": "6tRxKwBvRlML",
        "outputId": "3236d016-80cb-45e3-a3cc-62c58a0ea614"
      },
      "execution_count": 9,
      "outputs": [
        {
          "output_type": "execute_result",
          "data": {
            "text/plain": [
              "3/(s + 2) + 2/(s + 1) + 1/(s - 2)"
            ],
            "text/latex": "$\\displaystyle \\frac{3}{s + 2} + \\frac{2}{s + 1} + \\frac{1}{s - 2}$"
          },
          "metadata": {},
          "execution_count": 9
        }
      ]
    },
    {
      "cell_type": "markdown",
      "source": [
        "And then, we can apply the inverse Laplace transform to obtain the time domain function."
      ],
      "metadata": {
        "id": "PvHNXquychhM"
      }
    },
    {
      "cell_type": "code",
      "source": [
        "inverse_laplace_transform(pftf23, s, t).expand()"
      ],
      "metadata": {
        "colab": {
          "base_uri": "https://localhost:8080/",
          "height": 38
        },
        "id": "Q3LnDlxWVcLa",
        "outputId": "3c45d702-4214-4405-a04f-d76b99131f83"
      },
      "execution_count": 10,
      "outputs": [
        {
          "output_type": "execute_result",
          "data": {
            "text/plain": [
              "exp(2*t)*Heaviside(t) + 2*exp(-t)*Heaviside(t) + 3*exp(-2*t)*Heaviside(t)"
            ],
            "text/latex": "$\\displaystyle e^{2 t} \\theta\\left(t\\right) + 2 e^{- t} \\theta\\left(t\\right) + 3 e^{- 2 t} \\theta\\left(t\\right)$"
          },
          "metadata": {},
          "execution_count": 10
        }
      ]
    },
    {
      "cell_type": "markdown",
      "source": [
        "The same procedure can be applied to the Example 2.5."
      ],
      "metadata": {
        "id": "O8-UTZ3fc1Iz"
      }
    },
    {
      "cell_type": "code",
      "source": [
        "# Example 2.5, p. 17\n",
        "# F(s) = (6*s)/(s**3 + s**2 − 4*s − 4)\n",
        "tf25 = TransferFunction(6*s, s**3 + s**2 - 4*s - 4, s)\n",
        "tf25"
      ],
      "metadata": {
        "colab": {
          "base_uri": "https://localhost:8080/",
          "height": 52
        },
        "id": "ql5-MCQvT-yd",
        "outputId": "7bd0a96f-9830-4b46-9fa4-bfa94bcc866a"
      },
      "execution_count": 25,
      "outputs": [
        {
          "output_type": "execute_result",
          "data": {
            "text/plain": [
              "TransferFunction(6*s, s**3 + s**2 - 4*s - 4, s)"
            ],
            "text/latex": "$\\displaystyle \\frac{6 s}{s^{3} + s^{2} - 4 s - 4}$"
          },
          "metadata": {},
          "execution_count": 25
        }
      ]
    },
    {
      "cell_type": "code",
      "source": [
        "pftf25 = apart(tf25.args[0]/tf25.args[1])\n",
        "pftf25"
      ],
      "metadata": {
        "colab": {
          "base_uri": "https://localhost:8080/",
          "height": 52
        },
        "id": "aLBNxTmHULwQ",
        "outputId": "462f292b-fa70-445e-b0e1-ee7a47000c7e"
      },
      "execution_count": 35,
      "outputs": [
        {
          "output_type": "execute_result",
          "data": {
            "text/plain": [
              "-3/(s + 2) + 2/(s + 1) + 1/(s - 2)"
            ],
            "text/latex": "$\\displaystyle - \\frac{3}{s + 2} + \\frac{2}{s + 1} + \\frac{1}{s - 2}$"
          },
          "metadata": {},
          "execution_count": 35
        }
      ]
    },
    {
      "cell_type": "code",
      "source": [
        "inverse_laplace_transform(pftf25, s, t).expand()"
      ],
      "metadata": {
        "colab": {
          "base_uri": "https://localhost:8080/",
          "height": 38
        },
        "id": "tijFgtQHWiwt",
        "outputId": "9ce983d6-80a8-4683-98e7-9a5fc2310882"
      },
      "execution_count": 45,
      "outputs": [
        {
          "output_type": "execute_result",
          "data": {
            "text/plain": [
              "exp(2*t)*Heaviside(t) + 2*exp(-t)*Heaviside(t) - 3*exp(-2*t)*Heaviside(t)"
            ],
            "text/latex": "$\\displaystyle e^{2 t} \\theta\\left(t\\right) + 2 e^{- t} \\theta\\left(t\\right) - 3 e^{- 2 t} \\theta\\left(t\\right)$"
          },
          "metadata": {},
          "execution_count": 45
        }
      ]
    },
    {
      "cell_type": "markdown",
      "source": [
        "And to the Example 2.6."
      ],
      "metadata": {
        "id": "l4KigI24c9Ou"
      }
    },
    {
      "cell_type": "code",
      "source": [
        "# Example 2.6, p. 18\n",
        "# F(s) = 6/(s + 1)(s + 2)(s + 3)\n",
        "tf26 = TransferFunction(6, (s + 1)*(s + 2)*(s + 3), s)\n",
        "tf26"
      ],
      "metadata": {
        "colab": {
          "base_uri": "https://localhost:8080/",
          "height": 55
        },
        "id": "kuRWK_4AUccA",
        "outputId": "994af9eb-1f1c-4bf9-e87e-553807038b2b"
      },
      "execution_count": 12,
      "outputs": [
        {
          "output_type": "execute_result",
          "data": {
            "text/plain": [
              "TransferFunction(6, (s + 1)*(s + 2)*(s + 3), s)"
            ],
            "text/latex": "$\\displaystyle \\frac{6}{\\left(s + 1\\right) \\left(s + 2\\right) \\left(s + 3\\right)}$"
          },
          "metadata": {},
          "execution_count": 12
        }
      ]
    },
    {
      "cell_type": "code",
      "source": [
        "pftf26 = apart(tf26.args[0]/tf26.args[1])\n",
        "pftf26"
      ],
      "metadata": {
        "colab": {
          "base_uri": "https://localhost:8080/",
          "height": 52
        },
        "id": "UmUADHv3Uu_l",
        "outputId": "89c32a11-2121-4f1a-b79b-969eb8ca2592"
      },
      "execution_count": 13,
      "outputs": [
        {
          "output_type": "execute_result",
          "data": {
            "text/plain": [
              "3/(s + 3) - 6/(s + 2) + 3/(s + 1)"
            ],
            "text/latex": "$\\displaystyle \\frac{3}{s + 3} - \\frac{6}{s + 2} + \\frac{3}{s + 1}$"
          },
          "metadata": {},
          "execution_count": 13
        }
      ]
    },
    {
      "cell_type": "code",
      "source": [
        "itf26 = inverse_laplace_transform(pftf26, s, t).expand()\n",
        "itf26"
      ],
      "metadata": {
        "colab": {
          "base_uri": "https://localhost:8080/",
          "height": 38
        },
        "id": "pcoW-0PuXqXK",
        "outputId": "a14fc6c9-e39f-44a3-e60e-972aa6ec818c"
      },
      "execution_count": 14,
      "outputs": [
        {
          "output_type": "execute_result",
          "data": {
            "text/plain": [
              "3*exp(-t)*Heaviside(t) - 6*exp(-2*t)*Heaviside(t) + 3*exp(-3*t)*Heaviside(t)"
            ],
            "text/latex": "$\\displaystyle 3 e^{- t} \\theta\\left(t\\right) - 6 e^{- 2 t} \\theta\\left(t\\right) + 3 e^{- 3 t} \\theta\\left(t\\right)$"
          },
          "metadata": {},
          "execution_count": 14
        }
      ]
    },
    {
      "cell_type": "markdown",
      "source": [
        "But, what $\\theta(t)$ means? Actually, `sympy` uses $\\theta(t)$ to refer to the Heaviside step function.\n",
        "\n",
        "> N.B.: This explanation is taken from [here](https://dynamics-and-control.readthedocs.io/en/latest/1_Dynamics/3_Linear_systems/Laplace%20transforms.html)."
      ],
      "metadata": {
        "id": "_Ohd2LuEOQR5"
      }
    },
    {
      "cell_type": "code",
      "source": [
        "Heaviside(t)"
      ],
      "metadata": {
        "id": "JVjbllL8O5hb",
        "outputId": "ad67f243-d8d9-462d-a843-902c1cfd002c",
        "colab": {
          "base_uri": "https://localhost:8080/",
          "height": 38
        }
      },
      "execution_count": 2,
      "outputs": [
        {
          "output_type": "execute_result",
          "data": {
            "text/plain": [
              "Heaviside(t)"
            ],
            "text/latex": "$\\displaystyle \\theta\\left(t\\right)$"
          },
          "metadata": {},
          "execution_count": 2
        }
      ]
    },
    {
      "cell_type": "code",
      "source": [
        "plot(Heaviside(t))"
      ],
      "metadata": {
        "id": "YTehfXjqPKhO",
        "outputId": "0ce12134-4fef-40e7-8c6d-b2e8cf8ac5d5",
        "colab": {
          "base_uri": "https://localhost:8080/",
          "height": 313
        }
      },
      "execution_count": 3,
      "outputs": [
        {
          "output_type": "display_data",
          "data": {
            "text/plain": [
              "<Figure size 432x288 with 1 Axes>"
            ],
            "image/png": "[encoded data removed]"
          },
          "metadata": {
            "needs_background": "light"
          }
        },
        {
          "output_type": "execute_result",
          "data": {
            "text/plain": [
              "<sympy.plotting.plot.Plot at 0x7f8612def890>"
            ]
          },
          "metadata": {},
          "execution_count": 3
        }
      ]
    },
    {
      "cell_type": "markdown",
      "source": [
        "Look at the difference between the function (blue line) and the inverse laplace transform we obtained (red line), which contains the unit step to force it to zero for $t<0$.\n",
        "\n"
      ],
      "metadata": {
        "id": "jxpVA3XvPZF6"
      }
    },
    {
      "cell_type": "code",
      "source": [
        "p = plot(3*exp(-t)-6*exp(-2*t)+3*exp(-3*t), itf26,\n",
        "         xlim=(-1, 4), ylim=(0, 3), show=False)\n",
        "p[1].line_color = 'red'\n",
        "p.show()"
      ],
      "metadata": {
        "id": "mi2be8EkPYmK",
        "outputId": "986cc68f-94a4-4e1e-9ceb-118445f974fe",
        "colab": {
          "base_uri": "https://localhost:8080/",
          "height": 297
        }
      },
      "execution_count": 18,
      "outputs": [
        {
          "output_type": "display_data",
          "data": {
            "text/plain": [
              "<Figure size 432x288 with 1 Axes>"
            ],
            "image/png": "[encoded data removed]"
          },
          "metadata": {
            "needs_background": "light"
          }
        }
      ]
    },
    {
      "cell_type": "markdown",
      "source": [
        "And to the Example 2.7."
      ],
      "metadata": {
        "id": "cCTGogyqdHTh"
      }
    },
    {
      "cell_type": "code",
      "source": [
        "# Example 2.7, p. 18\n",
        "# F(s) = (s + 5)/(s**2 + 4*s + 13)\n",
        "tf27 = TransferFunction(s + 5, s**2 + 4*s + 13, s)\n",
        "tf27"
      ],
      "metadata": {
        "colab": {
          "base_uri": "https://localhost:8080/",
          "height": 52
        },
        "id": "IBQ4TH1AYFpO",
        "outputId": "92d7dc7b-67fc-48e4-a508-1f8b7446bb64"
      },
      "execution_count": 51,
      "outputs": [
        {
          "output_type": "execute_result",
          "data": {
            "text/plain": [
              "TransferFunction(s + 5, s**2 + 4*s + 13, s)"
            ],
            "text/latex": "$\\displaystyle \\frac{s + 5}{s^{2} + 4 s + 13}$"
          },
          "metadata": {},
          "execution_count": 51
        }
      ]
    },
    {
      "cell_type": "code",
      "source": [
        "pftf27 = apart(tf27.args[0]/tf27.args[1], full=True).doit()\n",
        "pftf27"
      ],
      "metadata": {
        "colab": {
          "base_uri": "https://localhost:8080/",
          "height": 57
        },
        "id": "jINw0jRHYc4g",
        "outputId": "44b9a880-51aa-41ac-880d-4048c9dbf74a"
      },
      "execution_count": 53,
      "outputs": [
        {
          "output_type": "execute_result",
          "data": {
            "text/plain": [
              "(1/2 + I/2)/(s + 2 + 3*I) + (1/2 - I/2)/(s + 2 - 3*I)"
            ],
            "text/latex": "$\\displaystyle \\frac{\\frac{1}{2} + \\frac{i}{2}}{s + 2 + 3 i} + \\frac{\\frac{1}{2} - \\frac{i}{2}}{s + 2 - 3 i}$"
          },
          "metadata": {},
          "execution_count": 53
        }
      ]
    },
    {
      "cell_type": "code",
      "source": [
        "inverse_laplace_transform(pftf27, s, t)"
      ],
      "metadata": {
        "colab": {
          "base_uri": "https://localhost:8080/",
          "height": 38
        },
        "id": "09SMIDSQZQ90",
        "outputId": "4f14f661-bfe1-4a96-cbfa-b69389ac1e94"
      },
      "execution_count": 55,
      "outputs": [
        {
          "output_type": "execute_result",
          "data": {
            "text/plain": [
              "(sin(3*t) + cos(3*t))*exp(-2*t)*Heaviside(t)"
            ],
            "text/latex": "$\\displaystyle \\left(\\sin{\\left(3 t \\right)} + \\cos{\\left(3 t \\right)}\\right) e^{- 2 t} \\theta\\left(t\\right)$"
          },
          "metadata": {},
          "execution_count": 55
        }
      ]
    },
    {
      "cell_type": "markdown",
      "source": [
        "And to the Example 2.9."
      ],
      "metadata": {
        "id": "KhQz0EB8dLCA"
      }
    },
    {
      "cell_type": "code",
      "source": [
        "# Example 2.9, p. 18\n",
        "# F(s) = 2/[(s + 1)**3*(s + 2)]\n",
        "tf29 = TransferFunction(2, (s + 1)**3*(s + 2), s)\n",
        "tf29"
      ],
      "metadata": {
        "colab": {
          "base_uri": "https://localhost:8080/",
          "height": 58
        },
        "id": "i3axTg18Z1Ly",
        "outputId": "01e16c69-9bdd-458e-d257-29f76b583363"
      },
      "execution_count": 56,
      "outputs": [
        {
          "output_type": "execute_result",
          "data": {
            "text/plain": [
              "TransferFunction(2, (s + 1)**3*(s + 2), s)"
            ],
            "text/latex": "$\\displaystyle \\frac{2}{\\left(s + 1\\right)^{3} \\left(s + 2\\right)}$"
          },
          "metadata": {},
          "execution_count": 56
        }
      ]
    },
    {
      "cell_type": "code",
      "source": [
        "pftf29 = apart(tf29.args[0]/tf29.args[1])\n",
        "pftf29"
      ],
      "metadata": {
        "colab": {
          "base_uri": "https://localhost:8080/",
          "height": 58
        },
        "id": "kADqgAOoaKAb",
        "outputId": "faf57c84-18a0-4299-bba7-038d82f34af8"
      },
      "execution_count": 62,
      "outputs": [
        {
          "output_type": "execute_result",
          "data": {
            "text/plain": [
              "-2/(s + 2) + 2/(s + 1) - 2/(s + 1)**2 + 2/(s + 1)**3"
            ],
            "text/latex": "$\\displaystyle - \\frac{2}{s + 2} + \\frac{2}{s + 1} - \\frac{2}{\\left(s + 1\\right)^{2}} + \\frac{2}{\\left(s + 1\\right)^{3}}$"
          },
          "metadata": {},
          "execution_count": 62
        }
      ]
    },
    {
      "cell_type": "code",
      "metadata": {
        "colab": {
          "base_uri": "https://localhost:8080/",
          "height": 389
        },
        "id": "UwGHYOcVLlz8",
        "outputId": "c85f8135-b176-4d5a-e1df-1ebefab7fd3a"
      },
      "source": [
        "# Hint (14), p. 42\n",
        "# Python and MATLAB codes\n",
        "tau1=200                     # tau1=200;\n",
        "G1=tf(1, [tau1, 1])          # G1=tf(1,[tau1 1]);  % Transfer function of the first vessel\n",
        "pulselength=10               # pulselength=10;     % Generate a vector to represent the\n",
        "                             #                     % rectangular pulse\n",
        "delt=5                       # delt=5;             % (We are jumping ahead. These steps\n",
        "                             #                     % are explained\n",
        "t=linspace(0,                # t=0:delt:1000;      % in MATLAB Session 3.)\n",
        "           1000, \n",
        "           int(1000/delt))   \n",
        "u=0*t                        # u=zeros(size(t));\n",
        "u[0:int(pulselength/delt)]=5 # u(1:pulselength/delt+1)=5;\n",
        "y11=lsim(G1, u, t)[0]        # lsim(G1,u,t);       % The response of the rectangular pulse\n",
        "                             # hold\n",
        "y12=50*impulse(G1, t)[0]     # y=50*impulse(G1,t); % Add on the impulse response\n",
        "plt.plot(t, y11, t, y12)     # plot(t,y)\n",
        "tau2=150                     # tau2=150;           % Generate the transfer function for\n",
        "                             #                     % both vessels\n",
        "G2=tf(1, [tau2, 1])          # G2=tf(1,[tau2 1]);\n",
        "G=G1*G2                      # G=G1*G2;\n",
        "y21=lsim(G, u, t)[0]         # lsim(G,u,t)         % Add the responses\n",
        "y22=50*impulse(G, t)[0]      # y=50*impulse(G,t);\n",
        "plt.plot(t, y21, t, y22)     # plot(t,y)"
      ],
      "execution_count": 72,
      "outputs": [
        {
          "output_type": "stream",
          "name": "stderr",
          "text": [
            "/usr/local/lib/python3.7/dist-packages/control/timeresp.py:918: UserWarning: return_x specified for a transfer function system. Internal conversion to state space used; results may meaningless.\n",
            "  \"return_x specified for a transfer function system. Internal \"\n",
            "/usr/local/lib/python3.7/dist-packages/control/timeresp.py:918: UserWarning: return_x specified for a transfer function system. Internal conversion to state space used; results may meaningless.\n",
            "  \"return_x specified for a transfer function system. Internal \"\n"
          ]
        },
        {
          "output_type": "execute_result",
          "data": {
            "text/plain": [
              "[<matplotlib.lines.Line2D at 0x7f333aeb7650>,\n",
              " <matplotlib.lines.Line2D at 0x7f333aeb7890>]"
            ]
          },
          "metadata": {},
          "execution_count": 72
        },
        {
          "output_type": "display_data",
          "data": {
            "text/plain": [
              "<Figure size 432x288 with 1 Axes>"
            ],
            "image/png": "[encoded data removed]"
          },
          "metadata": {
            "needs_background": "light"
          }
        }
      ]
    }
  ]
}