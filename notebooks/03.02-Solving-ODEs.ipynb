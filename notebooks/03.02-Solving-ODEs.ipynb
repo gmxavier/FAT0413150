{
 "cells": [
  {
   "cell_type": "markdown",
   "id": "c4bb243c",
   "metadata": {},
   "source": [
    "<a href=\"https://colab.research.google.com/github/gmxavier/FAT0413150/blob/main/notebooks/03.02-Solving-ODEs.ipynb\" target=\"_parent\"><img src=\"https://colab.research.google.com/assets/colab-badge.svg\" alt=\"Open In Colab\"/></a>"
   ]
  },
  {
   "cell_type": "markdown",
   "id": "e51320ef",
   "metadata": {},
   "source": [
    "This notebook shows how to use functions from `sympy` to solve ODEs using Laplace transforms."
   ]
  },
  {
   "cell_type": "code",
   "execution_count": null,
   "id": "b27c449b",
   "metadata": {
    "vscode": {
     "languageId": "plaintext"
    }
   },
   "outputs": [],
   "source": [
    "from sympy import Function, dsolve, Eq, Derivative, symbols\n",
    "from sympy.abc import t"
   ]
  }
 ],
 "metadata": {
  "language_info": {
   "name": "python"
  }
 },
 "nbformat": 4,
 "nbformat_minor": 5
}
