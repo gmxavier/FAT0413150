{
  "nbformat": 4,
  "nbformat_minor": 0,
  "metadata": {
    "colab": {
      "name": "team_work_assignments",
      "provenance": [],
      "collapsed_sections": [],
      "include_colab_link": true
    },
    "kernelspec": {
      "name": "python3",
      "display_name": "Python 3"
    },
    "language_info": {
      "name": "python"
    }
  },
  "cells": [
    {
      "cell_type": "markdown",
      "metadata": {
        "id": "view-in-github",
        "colab_type": "text"
      },
      "source": [
        "<a href=\"https://colab.research.google.com/github/gmxavier/FAT0413150/blob/main/projects/2021_1/team_work_assignments.ipynb\" target=\"_parent\"><img src=\"https://colab.research.google.com/assets/colab-badge.svg\" alt=\"Open In Colab\"/></a>"
      ]
    },
    {
      "cell_type": "markdown",
      "metadata": {
        "id": "o5SVTbnQKpfE"
      },
      "source": [
        "# TEAM WORK\n",
        "\n",
        "## Instructions\n",
        "\n",
        "- Your team must completed this notebook until the informed due date."
      ]
    },
    {
      "cell_type": "markdown",
      "metadata": {
        "id": "u89BFAaGSB4n"
      },
      "source": [
        "## Identification\n",
        "\n",
        "### TEAM X \n",
        "<!---\n",
        "Change X for the letter of your team.\n",
        "-->\n",
        "### MEMBERS\n",
        "<!---\n",
        "List the team members and their e-mails\n",
        "-->\n",
        "Name 1 - E-mail 1    \n",
        "Name 2 - E-mail 2    \n",
        "Name 3 - E-mail 3    \n"
      ]
    },
    {
      "cell_type": "markdown",
      "metadata": {
        "id": "60jLzoYjLcJ8"
      },
      "source": [
        "## Assignment 1\n",
        "\n",
        "Based on the model assigned to your team, insert text cells (including text, pictures, tables, equations, ...) to describe it. Please take care with this description and make it as complete as you can.   \n",
        "\n",
        "NOTE: The text cells must be inserted below this one."
      ]
    },
    {
      "cell_type": "markdown",
      "metadata": {
        "id": "awGaeIIUO_DU"
      },
      "source": [
        "## Assignment 2\n",
        "\n",
        "Linearize the model equations described at Question 1 (by hand) around an operation point. Insert text cells to describe the linearization process step by step.\n",
        "\n",
        "NOTE: The text cells must be inserted below this one."
      ]
    },
    {
      "cell_type": "markdown",
      "metadata": {
        "id": "GuzLzxC_PDqq"
      },
      "source": [
        "## Assignment 3\n",
        "\n",
        "Apply the Laplace transform on the linearized model equations obtained at Question 2. Develop the model's block diagram, identify all the inputs and outputs and obtain all the system transfer functions. Insert text cells to describe the development process step by step.\n",
        "\n",
        "NOTE: The text cells must be inserted below this one."
      ]
    },
    {
      "cell_type": "markdown",
      "metadata": {
        "id": "ZRqBNqPeVv32"
      },
      "source": [
        "## Assignment 4\n",
        "\n",
        "Select just one control variable, its manipulated variable and list the disturbances variables. Based on this selection and a sound engineering analysis, define the form of the transfer functions of the actuator $G_{a}(s)$ and the sensor $G_{m}(s)$, including numeric values of their parameters. Develop the closed-loop block diagram for this control loop assuming a PID controller and its respective transfer function. Obtain the closed-loop transfer functions for this control application. Insert text cells to describe the development process step by step.\n",
        "\n",
        "NOTE: The text cells must be inserted below this one."
      ]
    },
    {
      "cell_type": "markdown",
      "metadata": {
        "id": "2YVyPTFpT3Uc"
      },
      "source": [
        "## Assignment 5\n",
        "\n",
        "Based on the code templates given, adapt it to your model and insert the adapted code cells. Please take care with the code description (e.g. help, comments, measurement units). The code cells must include the setup, the model's update function, the code needed to obtain the transfer functions as well the code to obtain the process reaction curve.\n",
        "\n",
        "NOTE: The code cells must be inserted below this one."
      ]
    },
    {
      "cell_type": "code",
      "metadata": {
        "id": "S4vEEybs-qzM",
        "colab": {
          "base_uri": "https://localhost:8080/"
        },
        "outputId": "91a91700-0f89-4042-f3f3-f123dd6874df"
      },
      "source": [
        "# uncomment the 2 lines below if you had error\n",
        "!pip install control\n",
        "!pip install slycot\n",
        "import numpy as np\n",
        "import matplotlib.pyplot as plt\n",
        "import control as ct\n",
        "import slycot # to MIMO systems"
      ],
      "execution_count": 1,
      "outputs": [
        {
          "output_type": "stream",
          "name": "stdout",
          "text": [
            "Collecting control\n",
            "  Downloading control-0.9.0.tar.gz (339 kB)\n",
            "\u001b[K     |████████████████████████████████| 339 kB 4.0 MB/s \n",
            "\u001b[?25hRequirement already satisfied: numpy in /usr/local/lib/python3.7/dist-packages (from control) (1.19.5)\n",
            "Requirement already satisfied: scipy in /usr/local/lib/python3.7/dist-packages (from control) (1.4.1)\n",
            "Requirement already satisfied: matplotlib in /usr/local/lib/python3.7/dist-packages (from control) (3.2.2)\n",
            "Requirement already satisfied: python-dateutil>=2.1 in /usr/local/lib/python3.7/dist-packages (from matplotlib->control) (2.8.2)\n",
            "Requirement already satisfied: kiwisolver>=1.0.1 in /usr/local/lib/python3.7/dist-packages (from matplotlib->control) (1.3.2)\n",
            "Requirement already satisfied: pyparsing!=2.0.4,!=2.1.2,!=2.1.6,>=2.0.1 in /usr/local/lib/python3.7/dist-packages (from matplotlib->control) (2.4.7)\n",
            "Requirement already satisfied: cycler>=0.10 in /usr/local/lib/python3.7/dist-packages (from matplotlib->control) (0.11.0)\n",
            "Requirement already satisfied: six>=1.5 in /usr/local/lib/python3.7/dist-packages (from python-dateutil>=2.1->matplotlib->control) (1.15.0)\n",
            "Building wheels for collected packages: control\n",
            "  Building wheel for control (setup.py) ... \u001b[?25l\u001b[?25hdone\n",
            "  Created wheel for control: filename=control-0.9.0-py2.py3-none-any.whl size=344928 sha256=d6c4ead9ab4b0884dda03b2a111b1b99fd3e09b6acffc23a19e119f4fc9b061b\n",
            "  Stored in directory: /root/.cache/pip/wheels/5b/64/54/70faad181d7baff1184541ca00c9a2efa633acd0a811831d30\n",
            "Successfully built control\n",
            "Installing collected packages: control\n",
            "Successfully installed control-0.9.0\n",
            "Collecting slycot\n",
            "  Downloading slycot-0.4.0.0.tar.gz (1.5 MB)\n",
            "\u001b[K     |████████████████████████████████| 1.5 MB 4.2 MB/s \n",
            "\u001b[?25h  Installing build dependencies ... \u001b[?25l\u001b[?25hdone\n",
            "  Getting requirements to build wheel ... \u001b[?25l\u001b[?25hdone\n",
            "    Preparing wheel metadata ... \u001b[?25l\u001b[?25hdone\n",
            "Requirement already satisfied: numpy in /usr/local/lib/python3.7/dist-packages (from slycot) (1.19.5)\n",
            "Building wheels for collected packages: slycot\n",
            "  Building wheel for slycot (PEP 517) ... \u001b[?25l\u001b[?25hdone\n",
            "  Created wheel for slycot: filename=slycot-0.4.0-cp37-cp37m-linux_x86_64.whl size=1417934 sha256=e20714d5415af73dfad4532caa58367868c02f43893fbc80490391179a8d5d56\n",
            "  Stored in directory: /root/.cache/pip/wheels/fa/b2/19/1e6568896fbabaf2a03d2fb6575211d281afcb9e00ce026cf6\n",
            "Successfully built slycot\n",
            "Installing collected packages: slycot\n",
            "Successfully installed slycot-0.4.0\n"
          ]
        }
      ]
    },
    {
      "cell_type": "code",
      "metadata": {
        "id": "-Zm-slHo-51-"
      },
      "source": [
        "def polyeth_update(t, x, u, params={}):\n",
        "  \"\"\"Gas phase polyethylene reactor dynamics.\n",
        "\n",
        "    Dadebo, S. A., Bell, M. L., McLellan, P. J., & McAuley, K. B. (1997). \n",
        "    Temperature control of industrial gas phase polyethylene reactors. \n",
        "    Journal of Process Control, 7(2), 83–95.\n",
        "    https://www.sciencedirect.com/science/article/pii/S0959152496000169\n",
        "\n",
        "    McAuley, K. B. (1991). Modelling, Estimation and Control of Product \n",
        "    Properties in a Gas Phase Polyethylene Reactor. Ph.D. Thesis.\n",
        "    https://macsphere.mcmaster.ca/handle/11375/8939\n",
        "\n",
        "    Parameters\n",
        "    ----------\n",
        "    x : array\n",
        "         System state: In_con, molar concentration of inert components in the \n",
        "                       gas phase in mol/m3\n",
        "                       M1_con, molar concentration of ethylene in the \n",
        "                       gas phase in mol/m3\n",
        "                       Y1, moles of active site type 1, mol\n",
        "                       Y2, moles of active site type 2, mol\n",
        "                       T, reactor temperature in K\n",
        "                       Tw1, temperature of cooling water stream leaving stage 1\n",
        "                       of heat exchanger in K\n",
        "                       Tg1, temperature of recycle gas stream leaving stage 1 \n",
        "                       of heat exchanger in K\n",
        "    u : array\n",
        "         System input: Fc, flow rate of catalyst in kg/s\n",
        "                       Tfeed, feed temperature in K\n",
        "\n",
        "    Returns\n",
        "    -------\n",
        "    y : array\n",
        "        The time derivatives of In_con, M1_con, Y1, Y2, T, Tw1 and Tg1\n",
        "\n",
        "    \"\"\"\n",
        "  \n",
        "  # Set up the system parameters\n",
        "  Vg    = params.get('Vg', 500.)                   # m3\n",
        "  Vp    = params.get('Vp',   0.5)                  # \n",
        "  Pv    = params.get('Pv',  17.)                   # atm\n",
        "  Bw    = params.get('Bw', 7.0e4)                  # kg\n",
        "  kp0   = params.get('kp0', 85.0e-3)               # m3/(mol s) \n",
        "  Ea    = params.get('Ea', 9e3*4.1868)             # J/mol  \n",
        "  Cpm1  = params.get('Cpm1', 11*4.1868)            # J/(mol K)  \n",
        "  Cv    = params.get('Cv', 7.5)                    # atm^-0.5/(mol s)\n",
        "  Cpw   = params.get('Cpw', 1e3*4.1868)              # J/(kg K)\n",
        "  CpIn  = params.get('CpIn', 6.9*4.1868)           # J/(kg K)\n",
        "  Cppol = params.get('Cppol', 0.85e3*4.1868)       # J/(kg K)\n",
        "  kd1   = params.get('kd1', 1e-4)                  # s^-1\n",
        "  kd2   = params.get('kd2', 1e-4)                  # s^-1\n",
        "  Mw1   = params.get('Mw1', 28.05e-3)              # kg/mol\n",
        "  Mw    = params.get('Mw', 3.314e4)                # kg\n",
        "  Mg    = params.get('Mg', 6060.5)                 # mol\n",
        "  MrCpr = params.get('MrCpr', 1.4e7*4.1868)        # J/K\n",
        "  Hreac = params.get('Hreac', -894e3*4.1868)       # J/kg\n",
        "  UA    = params.get('UA', 1.14e6*4.1868)          # J/(K s)\n",
        "  FIn   = params.get('FIn', 5.)                    # mol/s\n",
        "  FM1   = params.get('FM1', 190.)                  # mol/s\n",
        "  Fg    = params.get('Fg', 8500.)                  # mol/s\n",
        "  Fw    = params.get('Fw', 3.11e5*18e-3)           # kg/s\n",
        "  Tf    = params.get('Tf', 360.)                   # K\n",
        "  Twi   = params.get('Twi', 289.56)                # K\n",
        "  RR    = params.get('RR', 8.20575e-5)             # (m3 atm)/(mol K)\n",
        "  R     = params.get('R', 8.314)                   # J/(mol K)\n",
        "  ac    = params.get('ac', 0.548)                  # mol/kg\n",
        "\n",
        "  # Define variables for reactor state and inputs\n",
        "  In_con = x[0]     # molar concentration of inert components in the gas phase, mol/m3\n",
        "  M1_con = x[1]     # molar concentration of ethylene in the gas phase, mol/m3\n",
        "  Y1     = x[2]     # moles of active site type 1, mol\n",
        "  Y2     = x[3]     # moles of active site type 2, mol\n",
        "  T      = x[4]     # reactor temperature, K\n",
        "  Tw1    = x[5]     # temperature of cooling water stream leaving stage 1 of heat exchanger, K\n",
        "  Tg1    = x[6]     # temperature of recycle gas stream leaving stage 1 of heat exchanger, K\n",
        "\n",
        "  Fc     = u[0]     # flow rate of catalyst, kg/s\n",
        "  Tfeed  = u[1]     # feed temperature, K\n",
        "\n",
        "  # Define the algebric equations\n",
        "  bt   = Vp * Cv * np.sqrt((M1_con+In_con) * RR * T - Pv)\n",
        "  RM1  = M1_con * kp0 * np. exp(-Ea/R*(1/T-1/Tf)) * (Y1+Y2)\n",
        "  Cpg  = M1_con/(M1_con + In_con) * Cpm1 + In_con/(M1_con + In_con) * CpIn\n",
        "  Hf   = FM1 * Cpm1 * ( Tfeed - Tf) + FIn * CpIn * (Tfeed - Tf)\n",
        "  Hg1  = Fg * (Tg1 - Tf) * Cpg\n",
        "  Hg0  = (Fg + bt) * (T - Tf) * Cpg\n",
        "  Hr   = Hreac * Mw1 * RM1\n",
        "  Hpol = Cppol * (T - Tf) * RM1 * Mw1\n",
        "\n",
        "  # Define the ODEs\n",
        "  dIn_condt = (FIn - In_con/(M1_con + In_con) * bt)/Vg\n",
        "  dM1_condt = (FM1 - M1_con/(M1_con + In_con) * bt - RM1)/Vg\n",
        "  dY1dt     = Fc * ac - kd1 * Y1 - RM1 * Mw1 * Y1/ Bw\n",
        "  dY2dt     = Fc * ac - kd2 * Y2 - RM1 * Mw1 * Y2/ Bw\n",
        "  dTdt      = (Hf + Hg1 - Hg0 - Hr - Hpol)/(MrCpr + Bw * Cppol)\n",
        "  dTw1dt    = Fw/Mw * (Twi - Tw1) - UA/(Mw * Cpw) * (Tw1 - Tg1)\n",
        "  dTg1dt    = Fg/Mg * (T - Tg1)   + UA/(Mg * Cpg) * (Tw1 - Tg1)\n",
        "\n",
        "  return [dIn_condt, dM1_condt, dY1dt, dY2dt, dTdt, dTw1dt, dTg1dt]"
      ],
      "execution_count": 2,
      "outputs": []
    },
    {
      "cell_type": "code",
      "metadata": {
        "id": "K_G361gv_DYH",
        "colab": {
          "base_uri": "https://localhost:8080/",
          "height": 205
        },
        "outputId": "cedc2a97-315a-489c-efa2-842d7e554932"
      },
      "source": [
        "# Obtain the transfer functions of the input/output system for the polyethylene \n",
        "# reactor model\n",
        "polyeth = ct.NonlinearIOSystem(\n",
        "    polyeth_update, None, name='polyeth',\n",
        "    inputs  = ('Fc', 'Tfeed'), \n",
        "    outputs = ('In_con', 'M1_con', 'Y1', 'Y2', 'T', 'Tw1', 'Tg1'), \n",
        "    states  = ('In_con', 'M1_con', 'Y1', 'Y2', 'T', 'Tw1', 'Tg1'))\n",
        "\n",
        "polyeth_linearized = polyeth.linearize(x0 = [439.68, 326.72, 3.835, 3.835, \n",
        "                                             356.21, 290.37, 294.36], \n",
        "                                       u0 = [5.8/3600, 293.00])\n",
        "\n",
        "polyeth_tf = ct.ss2tf(polyeth_linearized)\n",
        "\n",
        "polyeth_tf"
      ],
      "execution_count": 3,
      "outputs": [
        {
          "output_type": "execute_result",
          "data": {
            "text/latex": "$$\\begin{bmatrix}\\frac{8.051 \\times 10^{-19} s^4 + 2.152 \\times 10^{-7} s^3 + 5.027 \\times 10^{-6} s^2 + 8.678 \\times 10^{-7} s + 2.624 \\times 10^{-9}}{s^6 + 23.36 s^5 + 3.964 s^4 + 0.0006963 s^3 + 3.505 \\times 10^{-6} s^2 + 7 \\times 10^{-10} s + 2.003 \\times 10^{-14}}&\\frac{-1.683 \\times 10^{-9} s^4 - 3.93 \\times 10^{-8} s^3 - 6.592 \\times 10^{-9} s^2 + 1.194 \\times 10^{-11} s + 2.362 \\times 10^{-15}}{s^6 + 23.36 s^5 + 3.964 s^4 + 0.0006963 s^3 + 3.505 \\times 10^{-6} s^2 + 7 \\times 10^{-10} s + 2.003 \\times 10^{-14}}&\\\\\\frac{-0.05324 s^4 - 1.244 s^3 - 0.2121 s^2 - 0.000218 s - 7.888 \\times 10^{-9}}{s^6 + 23.36 s^5 + 3.964 s^4 + 0.0006963 s^3 + 3.505 \\times 10^{-6} s^2 + 7 \\times 10^{-10} s + 2.003 \\times 10^{-14}}&\\frac{-3.859 \\times 10^{-7} s^4 - 9.015 \\times 10^{-6} s^3 - 1.53 \\times 10^{-6} s^2 - 3.234 \\times 10^{-10} s - 9.805 \\times 10^{-15}}{s^6 + 23.36 s^5 + 3.964 s^4 + 0.0006963 s^3 + 3.505 \\times 10^{-6} s^2 + 7 \\times 10^{-10} s + 2.003 \\times 10^{-14}}&\\\\\\frac{0.548 s^5 + 12.8 s^4 + 2.169 s^3 - 0.0001602 s^2 + 1.777 \\times 10^{-6} s + 6.185 \\times 10^{-11}}{s^6 + 23.36 s^5 + 3.964 s^4 + 0.0006963 s^3 + 3.505 \\times 10^{-6} s^2 + 7 \\times 10^{-10} s + 2.003 \\times 10^{-14}}&\\frac{-2.956 \\times 10^{-10} s^4 - 6.904 \\times 10^{-9} s^3 - 1.171 \\times 10^{-9} s^2 - 7.748 \\times 10^{-14} s - 1.157 \\times 10^{-18}}{s^6 + 23.36 s^5 + 3.964 s^4 + 0.0006963 s^3 + 3.505 \\times 10^{-6} s^2 + 7 \\times 10^{-10} s + 2.003 \\times 10^{-14}}&\\\\\\frac{0.548 s^5 + 12.8 s^4 + 2.169 s^3 - 0.0001602 s^2 + 1.777 \\times 10^{-6} s + 6.185 \\times 10^{-11}}{s^6 + 23.36 s^5 + 3.964 s^4 + 0.0006963 s^3 + 3.505 \\times 10^{-6} s^2 + 7 \\times 10^{-10} s + 2.003 \\times 10^{-14}}&\\frac{-2.956 \\times 10^{-10} s^4 - 6.904 \\times 10^{-9} s^3 - 1.171 \\times 10^{-9} s^2 - 7.748 \\times 10^{-14} s - 1.157 \\times 10^{-18}}{s^6 + 23.36 s^5 + 3.964 s^4 + 0.0006963 s^3 + 3.505 \\times 10^{-6} s^2 + 7 \\times 10^{-10} s + 2.003 \\times 10^{-14}}&\\\\\\frac{0.009115 s^4 + 0.2129 s^3 + 0.03613 s^2 + 6.816 \\times 10^{-6} s + 2.412 \\times 10^{-10}}{s^6 + 23.36 s^5 + 3.964 s^4 + 0.0006963 s^3 + 3.505 \\times 10^{-6} s^2 + 7 \\times 10^{-10} s + 2.003 \\times 10^{-14}}&\\frac{2.89 \\times 10^{-5} s^5 + 0.0006752 s^4 + 0.0001154 s^3 + 1.672 \\times 10^{-7} s^2 + 2.971 \\times 10^{-11} s + 8.684 \\times 10^{-16}}{s^6 + 23.36 s^5 + 3.964 s^4 + 0.0006963 s^3 + 3.505 \\times 10^{-6} s^2 + 7 \\times 10^{-10} s + 2.003 \\times 10^{-14}}&\\\\\\frac{2.72 \\times 10^{-17} s^4 + 5.576 \\times 10^{-16} s^3 + 0.0003834 s^2 + 2.456 \\times 10^{-8} s + 3.062 \\times 10^{-13}}{s^6 + 23.36 s^5 + 3.964 s^4 + 0.0006963 s^3 + 3.505 \\times 10^{-6} s^2 + 7 \\times 10^{-10} s + 2.003 \\times 10^{-14}}&\\frac{1.395 \\times 10^{-6} s^3 + 1.628 \\times 10^{-9} s^2 + 2.731 \\times 10^{-13} s + 7.488 \\times 10^{-18}}{s^6 + 23.36 s^5 + 3.964 s^4 + 0.0006963 s^3 + 3.505 \\times 10^{-6} s^2 + 7 \\times 10^{-10} s + 2.003 \\times 10^{-14}}&\\\\\\frac{8.457 \\times 10^{-16} s^4 + 0.01114 s^3 + 0.002267 s^2 + 1.452 \\times 10^{-7} s + 1.81 \\times 10^{-12}}{s^6 + 23.36 s^5 + 3.964 s^4 + 0.0006963 s^3 + 3.505 \\times 10^{-6} s^2 + 7 \\times 10^{-10} s + 2.003 \\times 10^{-14}}&\\frac{4.054 \\times 10^{-5} s^4 + 8.29 \\times 10^{-6} s^3 + 9.63 \\times 10^{-9} s^2 + 1.614 \\times 10^{-12} s + 4.426 \\times 10^{-17}}{s^6 + 23.36 s^5 + 3.964 s^4 + 0.0006963 s^3 + 3.505 \\times 10^{-6} s^2 + 7 \\times 10^{-10} s + 2.003 \\times 10^{-14}}&\\\\ \\end{bmatrix}$$",
            "text/plain": [
              "TransferFunction([[array([8.05104471e-19, 2.15210651e-07, 5.02745061e-06, 8.67779127e-07,\n",
              "       2.62449370e-09]), array([-1.68264589e-09, -3.92990462e-08, -6.59192510e-09,  1.19408201e-11,\n",
              "        2.36185363e-15])], [array([-5.32428265e-02, -1.24366734e+00, -2.12110531e-01, -2.17952949e-04,\n",
              "       -7.88785471e-09]), array([-3.85946488e-07, -9.01474813e-06, -1.53002784e-06, -3.23412140e-10,\n",
              "       -9.80524861e-15])], [array([ 5.48000000e-01,  1.27997947e+01,  2.16890254e+00, -1.60215499e-04,\n",
              "        1.77701866e-06,  6.18522145e-11]), array([-2.95588836e-10, -6.90417557e-09, -1.17081439e-09, -7.74839280e-14,\n",
              "       -1.15672925e-18])], [array([ 5.48000000e-01,  1.27997947e+01,  2.16890254e+00, -1.60215499e-04,\n",
              "        1.77701866e-06,  6.18522145e-11]), array([-2.95588836e-10, -6.90417557e-09, -1.17081439e-09, -7.74839280e-14,\n",
              "       -1.15672925e-18])], [array([9.11541205e-03, 2.12913185e-01, 3.61321810e-02, 6.81628032e-06,\n",
              "       2.41178898e-10]), array([2.89047632e-05, 6.75179308e-04, 1.15431273e-04, 1.67225788e-07,\n",
              "       2.97147470e-11, 8.68395473e-16])], [array([2.71995074e-17, 5.57551043e-16, 3.83371088e-04, 2.45593158e-08,\n",
              "       3.06150472e-13]), array([1.39454402e-06, 1.62794389e-09, 2.73116507e-13, 7.48803749e-18])], [array([8.45704671e-16, 1.11446648e-02, 2.26663885e-03, 1.45167383e-07,\n",
              "       1.80951042e-12]), array([4.05396395e-05, 8.28981375e-06, 9.62994473e-09, 1.61447998e-12,\n",
              "       4.42582427e-17])]], [[array([1.00000000e+00, 2.33575389e+01, 3.96367458e+00, 6.96341338e-04,\n",
              "       3.50494021e-06, 6.99989801e-10, 2.00267186e-14]), array([1.00000000e+00, 2.33575389e+01, 3.96367458e+00, 6.96341338e-04,\n",
              "       3.50494021e-06, 6.99989801e-10, 2.00267186e-14])], [array([1.00000000e+00, 2.33575389e+01, 3.96367458e+00, 6.96341338e-04,\n",
              "       3.50494021e-06, 6.99989800e-10, 2.00267186e-14]), array([1.00000000e+00, 2.33575389e+01, 3.96367458e+00, 6.96341338e-04,\n",
              "       3.50494021e-06, 6.99989800e-10, 2.00267186e-14])], [array([1.00000000e+00, 2.33575389e+01, 3.96367458e+00, 6.96341338e-04,\n",
              "       3.50494021e-06, 6.99989800e-10, 2.00267186e-14]), array([1.00000000e+00, 2.33575389e+01, 3.96367458e+00, 6.96341338e-04,\n",
              "       3.50494021e-06, 6.99989800e-10, 2.00267186e-14])], [array([1.00000000e+00, 2.33575389e+01, 3.96367458e+00, 6.96341338e-04,\n",
              "       3.50494021e-06, 6.99989800e-10, 2.00267186e-14]), array([1.00000000e+00, 2.33575389e+01, 3.96367458e+00, 6.96341338e-04,\n",
              "       3.50494021e-06, 6.99989800e-10, 2.00267186e-14])], [array([1.00000000e+00, 2.33575389e+01, 3.96367458e+00, 6.96341338e-04,\n",
              "       3.50494021e-06, 6.99989800e-10, 2.00267186e-14]), array([1.00000000e+00, 2.33575389e+01, 3.96367458e+00, 6.96341338e-04,\n",
              "       3.50494021e-06, 6.99989800e-10, 2.00267186e-14])], [array([1.00000000e+00, 2.33575389e+01, 3.96367458e+00, 6.96341338e-04,\n",
              "       3.50494021e-06, 6.99989800e-10, 2.00267186e-14]), array([1.00000000e+00, 2.33575389e+01, 3.96367458e+00, 6.96341338e-04,\n",
              "       3.50494021e-06, 6.99989800e-10, 2.00267186e-14])], [array([1.00000000e+00, 2.33575389e+01, 3.96367458e+00, 6.96341338e-04,\n",
              "       3.50494021e-06, 6.99989800e-10, 2.00267186e-14]), array([1.00000000e+00, 2.33575389e+01, 3.96367458e+00, 6.96341338e-04,\n",
              "       3.50494021e-06, 6.99989800e-10, 2.00267186e-14])]])"
            ]
          },
          "metadata": {},
          "execution_count": 3
        }
      ]
    },
    {
      "cell_type": "code",
      "metadata": {
        "id": "9-HuUUWE_NO8",
        "colab": {
          "base_uri": "https://localhost:8080/",
          "height": 522
        },
        "outputId": "f1e9838c-c61b-42a4-d8e4-6fe2ea01a711"
      },
      "source": [
        "# Obtain the process reaction curve response\n",
        "# Define the simulation time\n",
        "T0 = 0\n",
        "T1 = 1e5\n",
        "dt = 1\n",
        "nt = int (T1/dt) + 1 # Number of points of sim time\n",
        "T = np.linspace(T0, T1, nt)\n",
        "\n",
        "# Perform the simulation\n",
        "Ga = 1\n",
        "Gm = 1\n",
        "Gp = polyeth_tf[5,0]\n",
        "T, yout = ct.step_response(8e-4*Ga*Gp*Gm, T) # the step amplitude is 50% of the steady-stat value\n",
        "\n",
        "# Plot the process reaction curve response\n",
        "plt.close ('all')\n",
        "fig_width_cm = 24\n",
        "fig_height_cm = 18\n",
        "plt.figure(1, figsize=(fig_width_cm /2.54 , fig_height_cm /2.54))\n",
        "plt.subplot(2, 1, 1)\n",
        "plt.plot(T/3600, yout, 'blue')\n",
        "plt.ylabel('T in deviation [K]')\n",
        "plt.grid()\n",
        "plt.legend(labels =('y',))\n",
        "plt.subplot(2, 1, 2)\n",
        "plt.plot(T/3600, [8e-4]*len(T), 'green')\n",
        "plt.ylabel('Fc in deviation [kg/s]')\n",
        "plt.xlabel('t [h]')\n",
        "plt.grid()\n",
        "plt.legend(labels =('u', ))"
      ],
      "execution_count": 15,
      "outputs": [
        {
          "output_type": "stream",
          "name": "stderr",
          "text": [
            "/usr/local/lib/python3.7/dist-packages/scipy/signal/filter_design.py:1622: BadCoefficients: Badly conditioned filter coefficients (numerator): the results may be meaningless\n",
            "  \"results may be meaningless\", BadCoefficients)\n"
          ]
        },
        {
          "output_type": "execute_result",
          "data": {
            "text/plain": [
              "<matplotlib.legend.Legend at 0x7f2f937a8fd0>"
            ]
          },
          "metadata": {},
          "execution_count": 15
        },
        {
          "output_type": "display_data",
          "data": {
            "image/png": "[encoded data removed]",
            "text/plain": [
              "<Figure size 680.315x510.236 with 2 Axes>"
            ]
          },
          "metadata": {
            "needs_background": "light"
          }
        }
      ]
    },
    {
      "cell_type": "code",
      "metadata": {
        "id": "zgLqN_Zo_zmz"
      },
      "source": [
        "def fourtank_update(t, x, u, params={}):\n",
        "  \"\"\"Four tank system dynamics.\n",
        "\n",
        "    Ashok Kumar, B., Jeyabharathi, R., Surendhar, S., Senthilrani, S., & \n",
        "    Gayathri, S. (2019). Control of Four Tank System Using Model Predictive \n",
        "    Controller. 2019 IEEE International Conference on System, Computation, \n",
        "    Automation and Networking (ICSCAN).\n",
        "    https://ieeexplore.ieee.org/abstract/document/8878700\n",
        "\n",
        "    Parameters\n",
        "    ----------\n",
        "    x : array\n",
        "         System state: h1, height of tank 1 in cm\n",
        "                       h2, height of tank 2 in cm\n",
        "                       h3, height of tank 3 in cm\n",
        "                       h4, height of tank 4 in cm\n",
        "    u : array\n",
        "         System input: v1, controller signal to pump 1 in V\n",
        "                       v2, controller signal to pump 2 in V\n",
        "\n",
        "    Returns\n",
        "    -------\n",
        "    y : array\n",
        "        The time derivatives of h1, h2, h3 and h4\n",
        "\n",
        "    \"\"\"\n",
        "  \n",
        "  # Set up the system parameters\n",
        "  A1     = params.get('A1', 28.)                   # cm2\n",
        "  A2     = params.get('A2', 32.)                   # cm2\n",
        "  A3     = params.get('A3', 28.)                   # cm2\n",
        "  A4     = params.get('A4', 32.)                   # cm2\n",
        "  a1     = params.get('a1', 0.071)                 # cm2\n",
        "  a2     = params.get('a2', 0.057)                 # cm2\n",
        "  a3     = params.get('a3', 0.057)                 # cm2\n",
        "  a4     = params.get('a4', 0.071)                 # cm2\n",
        "  k1     = params.get('k1', 3.33)                  # (cm3/s)/V\n",
        "  k2     = params.get('k2', 3.35)                  # (cm3/s)/V\n",
        "  gamma1 = params.get('gamma1', 0.70)              # -\n",
        "  gamma2 = params.get('gamma2', 0.60)              # -\n",
        "  g      = params.get('g', 981)                    # cm/s2\n",
        "\n",
        "  # Define variables for reactor state and inputs\n",
        "  h1 = x[0]     # height of tank 1 in cm\n",
        "  h2 = x[1]     # height of tank 2 in cm\n",
        "  h3 = x[2]     # height of tank 3 in cm\n",
        "  h4 = x[3]     # height of tank 4 in cm\n",
        "\n",
        "  v1 = u[0]     # controller signal to pump 1 in V\n",
        "  v2 = u[1]     # controller signal to pump 1 in V\n",
        "\n",
        "  # Define the algebric equations\n",
        "\n",
        "  # Define the ODEs\n",
        "  dh1dt = -(a1/A1)*np.sqrt(2*g*h1) + (a3/A1)*np.sqrt(2*g*h3) + (gamma1*k1/A1)*v1\n",
        "  dh2dt = -(a2/A2)*np.sqrt(2*g*h2) + (a4/A2)*np.sqrt(2*g*h4) + (gamma2*k2/A2)*v2\n",
        "  dh3dt = -(a3/A3)*np.sqrt(2*g*h3) + ((1 - gamma2)*k2/A3)*v2\n",
        "  dh4dt = -(a4/A4)*np.sqrt(2*g*h4) + ((1 - gamma1)*k1/A4)*v1\n",
        "\n",
        "  return [dh1dt, dh2dt, dh3dt, dh4dt]"
      ],
      "execution_count": null,
      "outputs": []
    },
    {
      "cell_type": "code",
      "metadata": {
        "id": "cp684FReFnAg"
      },
      "source": [
        "# Obtain the transfer functions of the input/output system for the four tank \n",
        "# system model\n",
        "fourtank = ct.NonlinearIOSystem(\n",
        "    fourtank_update, None, name='fourtank',\n",
        "    inputs  = ('v1', 'v2'), \n",
        "    outputs = ('h1', 'h2', 'h3', 'h4'), \n",
        "    states  = ('h1', 'h2', 'h3', 'h4'))\n",
        "\n",
        "fourtank_linearized = fourtank.linearize(x0 = [12.4, 12.7, 12.4, 12.7], \n",
        "                                         u0 = [3.0, 3.0])\n",
        "\n",
        "fourtank_tf = ct.ss2tf(fourtank_linearized)\n",
        "\n",
        "fourtank_tf"
      ],
      "execution_count": null,
      "outputs": []
    },
    {
      "cell_type": "code",
      "metadata": {
        "id": "R-HtonFJGqbr"
      },
      "source": [
        "# Obtain the process reaction curve response\n",
        "# Define the simulation time\n",
        "T0 = 0\n",
        "T1 = 2400\n",
        "dt = 0.01\n",
        "nt = int (T1/dt) + 1 # Number of points of sim time\n",
        "T = np.linspace(T0, T1, nt)\n",
        "\n",
        "# Perform the simulation\n",
        "Ga = 1\n",
        "Gm = 1\n",
        "Gp = fourtank_tf[1,1]\n",
        "T, yout = ct.step_response(Ga*Gp*Gm, T)\n",
        "\n",
        "# Plot the process reaction curve response\n",
        "plt.close ('all')\n",
        "fig_width_cm = 24\n",
        "fig_height_cm = 18\n",
        "plt.figure(1, figsize=(fig_width_cm /2.54 , fig_height_cm /2.54))\n",
        "plt.subplot(2, 1, 1)\n",
        "plt.plot(T, yout, 'blue')\n",
        "plt.ylabel('h1 [m]')\n",
        "plt.grid()\n",
        "plt.legend(labels =('y',))\n",
        "plt.subplot(2, 1, 2)\n",
        "plt.plot(T, [1]*len(T), 'green')\n",
        "plt.ylabel('v1 [V]')\n",
        "plt.xlabel('t [s]')\n",
        "plt.grid()\n",
        "plt.legend(labels =('u', ))"
      ],
      "execution_count": null,
      "outputs": []
    },
    {
      "cell_type": "markdown",
      "metadata": {
        "id": "vZHrpvRAgVZY"
      },
      "source": [
        "## Assignment 6\n",
        "\n",
        "Use the process reaction curve obtained at Question 5 to develop a FOLPD (or a IPD) approximation of the process reaction curve transfer function $G_{PRC}(s)$. Insert text cells to describe the development process step by step.\n",
        "\n",
        "NOTE: FOLPD means first-order lag plus time delay and IPD means integral plus time delay."
      ]
    },
    {
      "cell_type": "markdown",
      "metadata": {
        "id": "VnM1y_6wkGy2"
      },
      "source": [
        "## Assignment 7\n",
        "\n",
        "Based on the template given, code the tuning rules assigned to your team. Insert one code cell for each tuning rule. Please take care with the code description (e.g. help, comments, measurement units) and adapt all code to the respective tuning rule.\n",
        "\n",
        "NOTE: The code cells must be inserted below this one."
      ]
    },
    {
      "cell_type": "code",
      "metadata": {
        "id": "15cSAX-WNm2Q"
      },
      "source": [
        "def callender356_folpd_pi(Km, taum, Tm, rule):\n",
        "  r'''Calculates the PI controller parameters for a FOLPD process reaction \n",
        "  curve using the rule of Callender et al. (1935/6).\n",
        "\n",
        "  Parameters\n",
        "  ----------\n",
        "  Km : float\n",
        "       Static gain of the process reaction curve, [-] \n",
        "  taum : float\n",
        "       Dead time of the process reaction curve, [min]\n",
        "  Tm : float\n",
        "       Time constant (lag) of the process reaction curve, [min]\n",
        "  rule : integer\n",
        "       If rule = 1, the rule gives decay ratio = 0.015 and period of decaying \n",
        "       oscillation = 5.10*taum.\n",
        "       If rule = 2, the rule gives decay ratio = 0.043 and period of decaying \n",
        "       oscillation = 6.28*taum.\n",
        "\n",
        "  Returns\n",
        "  -------\n",
        "  Kc : float\n",
        "       Proportional gain, [-]\n",
        "\n",
        "  Ti : float\n",
        "       Integral time, [min]\n",
        "\n",
        "  Notes\n",
        "  -----\n",
        "  Applicable to taum/Tm = 0.3.\n",
        "\n",
        "  Example\n",
        "  --------\n",
        "\n",
        "  >>> callender356_folpd_pi(Km=1, taum=3, Tm=10, rule=1)\n",
        "  [0.18933333333333333, 10.92]  \n",
        "\n",
        "  Reference\n",
        "  ----------\n",
        "  .. [1] O’Dwyer, A. Handbook of PI and PID Controller Tuning Rules. London:\n",
        "     Imperial College Press, 2009.\n",
        "  '''\n",
        "  if rule not in [1,2]:\n",
        "    return []\n",
        "  # Rule 1 (Table 9, p. 30)\n",
        "  if rule == 1:\n",
        "    Kc = 0.568/(Km*taum)\n",
        "    Ti = 3.64*taum\n",
        "    return [Kc, Ti]\n",
        "  # Rule 2 (Table 9, p. 30)\n",
        "  if rule == 2:\n",
        "    Kc = 0.690/(Km*taum)\n",
        "    Ti = 2.45*taum\n",
        "    return [Kc, Ti]"
      ],
      "execution_count": null,
      "outputs": []
    },
    {
      "cell_type": "markdown",
      "metadata": {
        "id": "l7k9KLng0qmW"
      },
      "source": [
        "## Assignment 8\n",
        "\n",
        "Based on the process reaction curve transfer function $G_{PRC}(s)$ obtained at Question 6 and the functions coded at Question 7, choose one tuning rule function coded by each team member and obtain the respective values of the controller parameters. Provide a summary table listing the tuning rules and the controlle parameters. "
      ]
    },
    {
      "cell_type": "markdown",
      "metadata": {
        "id": "EPnpN4rE3oe7"
      },
      "source": [
        "## Assignment 9\n",
        "\n",
        "Choose two sets of parameter values from the ones obtained at Question 8, one for PI and other for PID controller. Obtain the closed-loop transfer functions for servo control using the process reaction curve transfer function obtained at Question 6. Check the stability of the closed-loop by calculating their poles.\n",
        "\n",
        "NOTE: The code cells must be inserted below this one."
      ]
    },
    {
      "cell_type": "markdown",
      "metadata": {
        "id": "kSUo9KEo7Ns-"
      },
      "source": [
        "## Assignment 10\n",
        "\n",
        "For each controller parameters sets obtained at Question 8 and the template code given, simulate two closed-loop responses, one for a step in the setpoint and the other for a step in one of the disturbances. Comment the obtained responses regarding the performance of the tuning rules and indicate the best tuning rule for the servo control and for the regulator control.\n",
        "\n",
        "NOTE: Define the step amplitude values based on a sound engineering analysis. The code cells must be inserted below this one."
      ]
    },
    {
      "cell_type": "code",
      "metadata": {
        "id": "3ujugwGXWaYM"
      },
      "source": [
        "# Function to calculate the error-integral criteria\n",
        "def error_integral_criteria(C, R, T, crit):\n",
        "  dt = T[1]-T[0]\n",
        "  if crit == 'IAE':\n",
        "    return sum(np.abs(R-C)*dt)\n",
        "  if crit == 'ITAE':\n",
        "    return sum(np.abs(R-C)*T)\n",
        "  if crit == 'ISE':\n",
        "    return sum((R-C)**2*dt)\n",
        "  if crit == 'ITSE':\n",
        "    return sum((R-C)**2*T)\n",
        "\n",
        "# Define K_m\n",
        "K_m = 1 # change to your Gm gain\n",
        "\n",
        "# Define G_c\n",
        "G_c = 1 # change to your tuned Gc\n",
        "\n",
        "# Define G_a\n",
        "G_a = 1 # change to your Ga\n",
        "\n",
        "# Define G_p\n",
        "G_p = 1 # change to your Gp (the \"real\" one, not its FOPTD approximation)\n",
        "\n",
        "# Define G_L\n",
        "G_L = 1 # change to your GL\n",
        "\n",
        "# Define G_m\n",
        "G_m = 1 # change to your Gm\n",
        "\n",
        "# Define G_PRC (process reaction curve transfer function)\n",
        "G_PRC = G_a*G_p*G_m\n",
        "\n",
        "# Define G_SCR (closed-loop servo control response transfer function)\n",
        "G_SCR = K_m*G_c*G_a*G_p/(1 + G_c*G_PRC)\n",
        "\n",
        "# Define G_RCR (closed-loop regulatory control response transfer function)\n",
        "G_RCR = G_L/(1 + G_c*G_PRC) \n",
        "\n",
        "# Simulate the servo control closed-loop response\n",
        "T0 = 0\n",
        "T1 = 60\n",
        "nt = 1000 # Number of points of sim time\n",
        "T = np.linspace(T0, T1, nt)\n",
        "R = np.ones(nt) # unit step on R\n",
        "\n",
        "T, C = ct.step_response(G_SCR, T)\n",
        "\n",
        "plt.close ('all')\n",
        "fig_width_cm = 24*2\n",
        "fig_height_cm = 18*2\n",
        "plt.figure(1, figsize=(fig_width_cm /2.54 , fig_height_cm /2.54))\n",
        "\n",
        "plt.subplot(3, 1, 1)\n",
        "plt.plot(T, C, 'b-')\n",
        "plt.plot(T, R, 'r-.')\n",
        "plt.ylabel('C or R [-]') # change this according your model\n",
        "plt.xlabel('t [-]') # change this according your model\n",
        "plt.grid()\n",
        "plt.legend(labels =('C','R')) # change this according your model\n",
        "\n",
        "print('Error-integral criteria for servo control:\\n')\n",
        "for crit in ['IAE', 'ITAE', 'ISE', 'ITSE']:\n",
        "  print('   {0} = {1}\\n'.format(crit, error_integral_criteria(C, R, T, crit)))\n",
        "\n",
        "# Simulate the regulatory control closed-loop response\n",
        "T, yout = ct.step_response(G_RCR, T)\n",
        "L = np.ones(nt) # unit step on L\n",
        "R = 0*R # regulatory control means R = 0\n",
        "\n",
        "plt.subplot(3, 1, 2)\n",
        "plt.plot(T, C, 'b-')\n",
        "plt.plot(T, R, 'r-.')\n",
        "plt.ylabel('C or R [-]') # change this according your model\n",
        "plt.xlabel('t [-]') # change this according your model\n",
        "plt.grid()\n",
        "plt.legend(labels =('C','R')) # change this according your model\n",
        "\n",
        "print('Error-integral criteria for regulatory control:\\n')\n",
        "for crit in ['IAE', 'ITAE', 'ISE', 'ITSE']:\n",
        "  print('   {0} = {1}\\n'.format(crit, error_integral_criteria(C, R, T, crit)))"
      ],
      "execution_count": null,
      "outputs": []
    }
  ]
}