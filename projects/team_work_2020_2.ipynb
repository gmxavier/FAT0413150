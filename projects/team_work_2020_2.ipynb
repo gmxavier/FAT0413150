{
  "nbformat": 4,
  "nbformat_minor": 0,
  "metadata": {
    "colab": {
      "name": "team_work_2020_2",
      "provenance": [],
      "collapsed_sections": [],
      "authorship_tag": "ABX9TyOH6hQ8HU4WO/3Yky+2vlu+",
      "include_colab_link": true
    },
    "kernelspec": {
      "name": "python3",
      "display_name": "Python 3"
    },
    "language_info": {
      "name": "python"
    }
  },
  "cells": [
    {
      "cell_type": "markdown",
      "metadata": {
        "id": "view-in-github",
        "colab_type": "text"
      },
      "source": [
        "<a href=\"https://colab.research.google.com/github/gmxavier/FAT0413150/blob/main/projects/team_work_2020_2.ipynb\" target=\"_parent\"><img src=\"https://colab.research.google.com/assets/colab-badge.svg\" alt=\"Open In Colab\"/></a>"
      ]
    },
    {
      "cell_type": "markdown",
      "metadata": {
        "id": "o5SVTbnQKpfE"
      },
      "source": [
        "# TEAM WORK 2020_2\n",
        "\n",
        "## Instructions\n",
        "\n",
        "- Your team must completed this notebook until the informed due date."
      ]
    },
    {
      "cell_type": "markdown",
      "metadata": {
        "id": "u89BFAaGSB4n"
      },
      "source": [
        "## Identification\n",
        "\n",
        "### TEAM X \n",
        "<!---\n",
        "Change X for the letter of your team.\n",
        "-->\n",
        "### MEMBERS\n",
        "<!---\n",
        "List the team members and their e-mails\n",
        "-->\n",
        "Name 1 - E-mail 1    \n",
        "Name 2 - E-mail 2    \n",
        "Name 3 - E-mail 3    \n"
      ]
    },
    {
      "cell_type": "markdown",
      "metadata": {
        "id": "60jLzoYjLcJ8"
      },
      "source": [
        "## Question 1\n",
        "\n",
        "Based on the model assigned to your team, insert text cells (including text, pictures, tables, equations, ...) to describe it. Please take care with this description and make it as complete as you can.   \n",
        "\n",
        "NOTE: The text cells must be inserted below this one."
      ]
    },
    {
      "cell_type": "markdown",
      "metadata": {
        "id": "awGaeIIUO_DU"
      },
      "source": [
        "## Question 2\n",
        "\n",
        "Linearize the model equations described at Question 1 (by hand) around an operation point. Insert text cells to describe the linearization process step by step.\n",
        "\n",
        "NOTE: The text cells must be inserted below this one."
      ]
    },
    {
      "cell_type": "markdown",
      "metadata": {
        "id": "GuzLzxC_PDqq"
      },
      "source": [
        "## Question 3\n",
        "\n",
        "Apply the Laplace transform on the linearized model equations obtained at Question 2. Develop the model's block diagram, identify all the inputs and outputs and obtain all the system transfer functions. Insert text cells to describe the development process step by step.\n",
        "\n",
        "NOTE: The text cells must be inserted below this one."
      ]
    },
    {
      "cell_type": "markdown",
      "metadata": {
        "id": "ZRqBNqPeVv32"
      },
      "source": [
        "## Question 4\n",
        "\n",
        "Select just one control variable, its manipulated variable and list the disturbances variables. Based on this selection and a sound engineering analysis, define the form of the transfer functions of the actuator $G_{a}(s)$ and the sensor $G_{m}(s)$, including numeric values of their parameters. Develop the closed-loop block diagram for this control loop assuming a PID controller and its respective transfer function. Obtain the closed-loop transfer functions for this control application. Insert text cells to describe the development process step by step.\n",
        "\n",
        "NOTE: The text cells must be inserted below this one."
      ]
    },
    {
      "cell_type": "markdown",
      "metadata": {
        "id": "2YVyPTFpT3Uc"
      },
      "source": [
        "## Question 5\n",
        "\n",
        "Based on the code template given, adapt it to your model and insert the adapted code cells. Please take care with the code description (e.g. help, comments, measurement units). The code cells must include the setup, the model's update function, the code needed to obtain the transfer functions as well the code to obtain the process reaction curve.\n",
        "\n",
        "NOTE: The code cells must be inserted below this one."
      ]
    },
    {
      "cell_type": "markdown",
      "metadata": {
        "id": "vZHrpvRAgVZY"
      },
      "source": [
        "## Question 6\n",
        "\n",
        "Use the process reaction curve obtained at Question 5 to develop a FOLPD (or a IPD) approximation of the process reaction curve transfer function $G_{PRC}(s)$. Insert text cells to describe the development process step by step.\n",
        "\n",
        "NOTE: FOLPD means first-order lag plus time delay and IPD means integral plus time delay."
      ]
    },
    {
      "cell_type": "markdown",
      "metadata": {
        "id": "VnM1y_6wkGy2"
      },
      "source": [
        "## Question 7\n",
        "\n",
        "Based on the template given, code the tuning rules assigned to your team. Insert one code cell for each tuning rule. Please take care with the code description (e.g. help, comments, measurement units) and adapt all code to the respective tuning rule.\n",
        "\n",
        "NOTE: The code cells must be inserted below this one."
      ]
    },
    {
      "cell_type": "code",
      "metadata": {
        "id": "15cSAX-WNm2Q"
      },
      "source": [
        "def callender356_folpd_pi(Km, taum, Tm, rule):\n",
        "  r'''Calculates the PI controller parameters for a FOLPD process reaction \n",
        "  curve using the rule of Callender et al. (1935/6).\n",
        "\n",
        "  Parameters\n",
        "  ----------\n",
        "  Km : float\n",
        "       Static gain of the process reaction curve, [-] \n",
        "  taum : float\n",
        "       Dead time of the process reaction curve, [min]\n",
        "  Tm : float\n",
        "       Time constant (lag) of the process reaction curve, [min]\n",
        "  rule : integer\n",
        "       If rule = 1, the rule gives decay ratio = 0.015 and period of decaying \n",
        "       oscillation = 5.10*taum.\n",
        "       If rule = 2, the rule gives decay ratio = 0.043 and period of decaying \n",
        "       oscillation = 6.28*taum.\n",
        "\n",
        "  Returns\n",
        "  -------\n",
        "  Kc : float\n",
        "       Proportional gain, [-]\n",
        "\n",
        "  Ti : float\n",
        "       Integral time, [min]\n",
        "\n",
        "  Notes\n",
        "  -----\n",
        "  Applicable to taum/Tm = 0.3.\n",
        "\n",
        "  Example\n",
        "  --------\n",
        "\n",
        "  >>> callender356_folpd_pi(Km=1, taum=3, Tm=10, rule=1)\n",
        "  [0.18933333333333333, 10.92]  \n",
        "\n",
        "  Reference\n",
        "  ----------\n",
        "  .. [1] O’Dwyer, A. Handbook of PI and PID Controller Tuning Rules. London:\n",
        "     Imperial College Press, 2009.\n",
        "  '''\n",
        "  if rule not in [1,2]:\n",
        "    return []\n",
        "  # Rule 1 (Table 9, p. 30)\n",
        "  if rule == 1:\n",
        "    Kc = 0.568/(Km*taum)\n",
        "    Ti = 3.64*taum\n",
        "    return [Kc, Ti]\n",
        "  # Rule 2 (Table 9, p. 30)\n",
        "  if rule == 2:\n",
        "    Kc = 0.690/(Km*taum)\n",
        "    Ti = 2.45*taum\n",
        "    return [Kc, Ti]"
      ],
      "execution_count": 3,
      "outputs": []
    },
    {
      "cell_type": "markdown",
      "metadata": {
        "id": "l7k9KLng0qmW"
      },
      "source": [
        "## Question 8\n",
        "\n",
        "Based on the process reaction curve transfer function $G_{PRC}(s)$ obtained at Question 6 and the functions coded at Question 7, choose one tuning rule function coded by each team member and obtain the respective values of the controller parameters. Provide a summary table listing the tuning rules and the controlle parameters. "
      ]
    },
    {
      "cell_type": "markdown",
      "metadata": {
        "id": "EPnpN4rE3oe7"
      },
      "source": [
        "## Question 9\n",
        "\n",
        "Choose two sets of parameter values from the ones obtained at Question 8, one for PI and other for PID controller. Obtain the closed-loop transfer functions for servo control using the process reaction curve transfer function obtained at Question 6. Check the stability of the closed-loop by calculating their poles.\n",
        "\n",
        "NOTE: The code cells must be inserted below this one."
      ]
    },
    {
      "cell_type": "markdown",
      "metadata": {
        "id": "kSUo9KEo7Ns-"
      },
      "source": [
        "## Question 10\n",
        "\n",
        "For each controller parameters sets obtained at Question 8 and the template code given, simulate two closed-loop responses, one for a step in the setpoint and the other for a step in one of the disturbances. Comment the obtained responses regarding the performance of the tuning rules and indicate the best tuning rule for the servo control and for the regulator control.\n",
        "\n",
        "NOTE: Define the step amplitude values based on a sound engineering analysis. The code cells must be inserted below this one."
      ]
    }
  ]
}