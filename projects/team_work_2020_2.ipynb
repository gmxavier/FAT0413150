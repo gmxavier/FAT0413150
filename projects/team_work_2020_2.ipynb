{
  "nbformat": 4,
  "nbformat_minor": 0,
  "metadata": {
    "colab": {
      "name": "team_work_2020_2",
      "provenance": [],
      "collapsed_sections": [],
      "authorship_tag": "ABX9TyOhrSP8V+jUy/Lz1z4gY3Eh",
      "include_colab_link": true
    },
    "kernelspec": {
      "name": "python3",
      "display_name": "Python 3"
    },
    "language_info": {
      "name": "python"
    }
  },
  "cells": [
    {
      "cell_type": "markdown",
      "metadata": {
        "id": "view-in-github",
        "colab_type": "text"
      },
      "source": [
        "<a href=\"https://colab.research.google.com/github/gmxavier/FAT0413150/blob/main/projects/team_work_2020_2.ipynb\" target=\"_parent\"><img src=\"https://colab.research.google.com/assets/colab-badge.svg\" alt=\"Open In Colab\"/></a>"
      ]
    },
    {
      "cell_type": "markdown",
      "metadata": {
        "id": "o5SVTbnQKpfE"
      },
      "source": [
        "# TEAM WORK 2020_2\n",
        "\n",
        "## Instructions\n",
        "\n",
        "- Your team must completed this notebook until the informed due date."
      ]
    },
    {
      "cell_type": "markdown",
      "metadata": {
        "id": "u89BFAaGSB4n"
      },
      "source": [
        "## Identification\n",
        "\n",
        "### TEAM X \n",
        "<!---\n",
        "Change X for the letter of your team.\n",
        "-->\n",
        "### MEMBERS\n",
        "<!---\n",
        "List the team members and their e-mails\n",
        "-->\n",
        "Name 1 - E-mail 1    \n",
        "Name 2 - E-mail 2    \n",
        "Name 3 - E-mail 3    \n"
      ]
    },
    {
      "cell_type": "markdown",
      "metadata": {
        "id": "60jLzoYjLcJ8"
      },
      "source": [
        "## Question 1\n",
        "\n",
        "Based on the model assigned to your team, insert text cells (including text, pictures, tables, equations, ...) to describe it. Please take care with this description and make it as complete as you can.   \n",
        "\n",
        "NOTE: The text cells must be inserted below this one."
      ]
    },
    {
      "cell_type": "markdown",
      "metadata": {
        "id": "awGaeIIUO_DU"
      },
      "source": [
        "## Question 2\n",
        "\n",
        "Linearize the model equations described at Question 1 (by hand) around an operation point. Insert text cells to describe the linearization process step by step.\n",
        "\n",
        "NOTE: The text cells must be inserted below this one."
      ]
    },
    {
      "cell_type": "markdown",
      "metadata": {
        "id": "GuzLzxC_PDqq"
      },
      "source": [
        "## Question 3\n",
        "\n",
        "Apply the Laplace transform on the linearized model equations obtained at Question 2. Develop the model's block diagram, identify all the inputs and outputs and obtain all the system transfer functions. Insert text cells to describe the development process step by step.\n",
        "\n",
        "NOTE: The text cells must be inserted below this one."
      ]
    },
    {
      "cell_type": "markdown",
      "metadata": {
        "id": "ZRqBNqPeVv32"
      },
      "source": [
        "## Question 4\n",
        "\n",
        "Select just one control variable, its manipulated variable and list the disturbances variables. Based on this selection and a sound engineering analysis, define the form of the transfer functions of the actuator $G_{a}(s)$ and the sensor $G_{m}(s)$, including numeric values of their parameters. Develop the closed-loop block diagram for this control loop assuming a PID controller and its respective transfer function. Obtain the closed-loop transfer functions for this control application. Insert text cells to describe the development process step by step.\n",
        "\n",
        "NOTE: The text cells must be inserted below this one."
      ]
    },
    {
      "cell_type": "markdown",
      "metadata": {
        "id": "2YVyPTFpT3Uc"
      },
      "source": [
        "## Question 5\n",
        "\n",
        "Based on the code templates given, adapt it to your model and insert the adapted code cells. Please take care with the code description (e.g. help, comments, measurement units). The code cells must include the setup, the model's update function, the code needed to obtain the transfer functions as well the code to obtain the process reaction curve.\n",
        "\n",
        "NOTE: The code cells must be inserted below this one."
      ]
    },
    {
      "cell_type": "code",
      "metadata": {
        "id": "S4vEEybs-qzM"
      },
      "source": [
        "# uncomment the 2 lines below if you had error\n",
        "#!pip install control\n",
        "#!pip install slycot\n",
        "import numpy as np\n",
        "import matplotlib.pyplot as plt\n",
        "import control as ct\n",
        "import slycot # to MIMO systems"
      ],
      "execution_count": null,
      "outputs": []
    },
    {
      "cell_type": "code",
      "metadata": {
        "id": "-Zm-slHo-51-"
      },
      "source": [
        "def berg_update(t, x, u, params={}):\n",
        "  \"\"\"Insulin dynamics based on Bergman minimal model.\n",
        "\n",
        "    Parameters\n",
        "    ----------\n",
        "    x : array\n",
        "         System state: G, the deviation of the blood glucose concentration from\n",
        "                       basal levels measured in mg dL−1\n",
        "                       I, the deviation of the blood insulin concentration from \n",
        "                       basal levels measured in mU L−1\n",
        "                       X, a proportionality variable that describes the insulin \n",
        "                       concentration in a remote compartment measured in mU L−1\n",
        "    u : array\n",
        "         System input: U, the insulin input from an external source and into the\n",
        "                       bloodstream, measured in mU min−1\n",
        "                       D, a disturbance variable representing the intake of \n",
        "                       glucose from external sources, typically food, measured \n",
        "                       in mg dL−1min−1\n",
        "\n",
        "    Returns\n",
        "    -------\n",
        "    y : array\n",
        "        The time derivatives of G, I and X\n",
        "\n",
        "    \"\"\"\n",
        "\n",
        "  # Set up the system parameters\n",
        "  Gb = params.get('Gb', 81.)      # mg/dL\n",
        "  Ib = params.get('Ib', 15.)      # mU/L\n",
        "  P1 = params.get('P1', 0.0287)   # 1/min\n",
        "  P1_s = params.get('P1_s', 0.02) # 1/min\n",
        "  P2 = params.get('P2', 0.0287)   # 1/min \n",
        "  P3 = params.get('P3', 5.035e-5) # L/mU/min^2  \n",
        "  n = params.get('n', 5/54)       # 1/min  \n",
        "  V1 = params.get('V1', 12)       # L  \n",
        "\n",
        "  # Define variables for patient state and inputs\n",
        "  G = x[0]                           # blood glucose concentration\n",
        "  I = x[1]                           # blood insulin concentration\n",
        "  X = x[2]                           # insulin concentration in a remote \n",
        "                                     # compartment\n",
        "  U = u[0]                           # insulin input\n",
        "  D = u[1]                           # intake of glucose\n",
        "\n",
        "  # Define the ODEs\n",
        "  dGdt = -P1*G - X*(G+Gb) + D\n",
        "  dIdt = -n*(I+Ib) + U/V1\n",
        "  dXdt = -P2*X + P3*I\n",
        "\n",
        "  return [dGdt, dIdt, dXdt]"
      ],
      "execution_count": null,
      "outputs": []
    },
    {
      "cell_type": "code",
      "metadata": {
        "id": "K_G361gv_DYH"
      },
      "source": [
        "# Obtain the transfer functions of the input/output system for the bergman minimal model\n",
        "bergman = ct.NonlinearIOSystem(\n",
        "    berg_update, None, name='bergman',\n",
        "    inputs = ('U', 'D'), outputs = ('G', 'I', 'X'), states=('G', 'I', 'X'))\n",
        "\n",
        "bergman_linearized = bergman.linearize(x0=[0, 0, 0], u0=[0, 0])\n",
        "\n",
        "bergman_tf = ct.ss2tf(bergman_linearized)\n",
        "\n",
        "bergman_tf"
      ],
      "execution_count": null,
      "outputs": []
    },
    {
      "cell_type": "code",
      "metadata": {
        "id": "9-HuUUWE_NO8"
      },
      "source": [
        "# Obtain the process reaction curve response\n",
        "# Define the simulation time\n",
        "T0 = 0\n",
        "T1 = 400\n",
        "dt = 0.01\n",
        "nt = int (T1/dt) + 1 # Number of points of sim time\n",
        "T = np.linspace(T0, T1, nt)\n",
        "\n",
        "# Perform the simulation\n",
        "Ga = 1\n",
        "Gm = 1\n",
        "T, yout = ct.step_response(Ga*Gp*Gm, T)\n",
        "\n",
        "# Plot the process reaction curve response\n",
        "plt.close ('all')\n",
        "fig_width_cm = 24\n",
        "fig_height_cm = 18\n",
        "plt.figure(1, figsize=(fig_width_cm /2.54 , fig_height_cm /2.54))\n",
        "plt.subplot(2, 1, 1)\n",
        "plt.plot(T, yout, 'blue')\n",
        "plt.ylabel('G [mg/dL]')\n",
        "plt.grid()\n",
        "plt.legend(labels =('y',))\n",
        "plt.subplot(2, 1, 2)\n",
        "plt.plot(T, [1]*len(T), 'green')\n",
        "plt.ylabel('U [mU min−1]')\n",
        "plt.xlabel('t [s]')\n",
        "plt.grid()\n",
        "plt.legend(labels =('u', ))"
      ],
      "execution_count": null,
      "outputs": []
    },
    {
      "cell_type": "markdown",
      "metadata": {
        "id": "vZHrpvRAgVZY"
      },
      "source": [
        "## Question 6\n",
        "\n",
        "Use the process reaction curve obtained at Question 5 to develop a FOLPD (or a IPD) approximation of the process reaction curve transfer function $G_{PRC}(s)$. Insert text cells to describe the development process step by step.\n",
        "\n",
        "NOTE: FOLPD means first-order lag plus time delay and IPD means integral plus time delay."
      ]
    },
    {
      "cell_type": "markdown",
      "metadata": {
        "id": "VnM1y_6wkGy2"
      },
      "source": [
        "## Question 7\n",
        "\n",
        "Based on the template given, code the tuning rules assigned to your team. Insert one code cell for each tuning rule. Please take care with the code description (e.g. help, comments, measurement units) and adapt all code to the respective tuning rule.\n",
        "\n",
        "NOTE: The code cells must be inserted below this one."
      ]
    },
    {
      "cell_type": "code",
      "metadata": {
        "id": "15cSAX-WNm2Q"
      },
      "source": [
        "def callender356_folpd_pi(Km, taum, Tm, rule):\n",
        "  r'''Calculates the PI controller parameters for a FOLPD process reaction \n",
        "  curve using the rule of Callender et al. (1935/6).\n",
        "\n",
        "  Parameters\n",
        "  ----------\n",
        "  Km : float\n",
        "       Static gain of the process reaction curve, [-] \n",
        "  taum : float\n",
        "       Dead time of the process reaction curve, [min]\n",
        "  Tm : float\n",
        "       Time constant (lag) of the process reaction curve, [min]\n",
        "  rule : integer\n",
        "       If rule = 1, the rule gives decay ratio = 0.015 and period of decaying \n",
        "       oscillation = 5.10*taum.\n",
        "       If rule = 2, the rule gives decay ratio = 0.043 and period of decaying \n",
        "       oscillation = 6.28*taum.\n",
        "\n",
        "  Returns\n",
        "  -------\n",
        "  Kc : float\n",
        "       Proportional gain, [-]\n",
        "\n",
        "  Ti : float\n",
        "       Integral time, [min]\n",
        "\n",
        "  Notes\n",
        "  -----\n",
        "  Applicable to taum/Tm = 0.3.\n",
        "\n",
        "  Example\n",
        "  --------\n",
        "\n",
        "  >>> callender356_folpd_pi(Km=1, taum=3, Tm=10, rule=1)\n",
        "  [0.18933333333333333, 10.92]  \n",
        "\n",
        "  Reference\n",
        "  ----------\n",
        "  .. [1] O’Dwyer, A. Handbook of PI and PID Controller Tuning Rules. London:\n",
        "     Imperial College Press, 2009.\n",
        "  '''\n",
        "  if rule not in [1,2]:\n",
        "    return []\n",
        "  # Rule 1 (Table 9, p. 30)\n",
        "  if rule == 1:\n",
        "    Kc = 0.568/(Km*taum)\n",
        "    Ti = 3.64*taum\n",
        "    return [Kc, Ti]\n",
        "  # Rule 2 (Table 9, p. 30)\n",
        "  if rule == 2:\n",
        "    Kc = 0.690/(Km*taum)\n",
        "    Ti = 2.45*taum\n",
        "    return [Kc, Ti]"
      ],
      "execution_count": 3,
      "outputs": []
    },
    {
      "cell_type": "markdown",
      "metadata": {
        "id": "l7k9KLng0qmW"
      },
      "source": [
        "## Question 8\n",
        "\n",
        "Based on the process reaction curve transfer function $G_{PRC}(s)$ obtained at Question 6 and the functions coded at Question 7, choose one tuning rule function coded by each team member and obtain the respective values of the controller parameters. Provide a summary table listing the tuning rules and the controlle parameters. "
      ]
    },
    {
      "cell_type": "markdown",
      "metadata": {
        "id": "EPnpN4rE3oe7"
      },
      "source": [
        "## Question 9\n",
        "\n",
        "Choose two sets of parameter values from the ones obtained at Question 8, one for PI and other for PID controller. Obtain the closed-loop transfer functions for servo control using the process reaction curve transfer function obtained at Question 6. Check the stability of the closed-loop by calculating their poles.\n",
        "\n",
        "NOTE: The code cells must be inserted below this one."
      ]
    },
    {
      "cell_type": "markdown",
      "metadata": {
        "id": "kSUo9KEo7Ns-"
      },
      "source": [
        "## Question 10\n",
        "\n",
        "For each controller parameters sets obtained at Question 8 and the template code given, simulate two closed-loop responses, one for a step in the setpoint and the other for a step in one of the disturbances. Comment the obtained responses regarding the performance of the tuning rules and indicate the best tuning rule for the servo control and for the regulator control.\n",
        "\n",
        "NOTE: Define the step amplitude values based on a sound engineering analysis. The code cells must be inserted below this one."
      ]
    }
  ]
}