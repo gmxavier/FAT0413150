{
  "nbformat": 4,
  "nbformat_minor": 0,
  "metadata": {
    "colab": {
      "name": "team_C.ipynb",
      "provenance": [],
      "collapsed_sections": [],
      "authorship_tag": "ABX9TyMBC0uqzIKGVGBl5FaoF6mr",
      "include_colab_link": true
    },
    "kernelspec": {
      "name": "python3",
      "display_name": "Python 3"
    },
    "language_info": {
      "name": "python"
    }
  },
  "cells": [
    {
      "cell_type": "markdown",
      "metadata": {
        "id": "view-in-github",
        "colab_type": "text"
      },
      "source": [
        "<a href=\"https://colab.research.google.com/github/gmxavier/FAT0413150/blob/main/projects/team_C.ipynb\" target=\"_parent\"><img src=\"https://colab.research.google.com/assets/colab-badge.svg\" alt=\"Open In Colab\"/></a>"
      ]
    },
    {
      "cell_type": "code",
      "metadata": {
        "colab": {
          "base_uri": "https://localhost:8080/"
        },
        "id": "ietOfpuYK5t9",
        "outputId": "0bc98de2-a475-4f90-c416-0eb56c2cb4a2"
      },
      "source": [
        "# uncomment the 2 lines below if you had error\n",
        "#!pip install control\n",
        "#!pip install slycot\n",
        "import numpy as np\n",
        "import matplotlib.pyplot as plt\n",
        "import control as ct\n",
        "import slycot # to MIMO systems\n",
        "#from scipy.integrate import odeint"
      ],
      "execution_count": null,
      "outputs": [
        {
          "output_type": "stream",
          "text": [
            "Collecting control\n",
            "\u001b[?25l  Downloading https://files.pythonhosted.org/packages/88/87/ee6cb7cdcf4efe5634231bd688b307773629a100ec4c83b0c3eb03edd39d/control-0.9.0.tar.gz (339kB)\n",
            "\r\u001b[K     |█                               | 10kB 12.6MB/s eta 0:00:01\r\u001b[K     |██                              | 20kB 18.0MB/s eta 0:00:01\r\u001b[K     |███                             | 30kB 10.4MB/s eta 0:00:01\r\u001b[K     |███▉                            | 40kB 7.9MB/s eta 0:00:01\r\u001b[K     |████▉                           | 51kB 5.4MB/s eta 0:00:01\r\u001b[K     |█████▉                          | 61kB 6.1MB/s eta 0:00:01\r\u001b[K     |██████▊                         | 71kB 6.4MB/s eta 0:00:01\r\u001b[K     |███████▊                        | 81kB 6.0MB/s eta 0:00:01\r\u001b[K     |████████▊                       | 92kB 6.3MB/s eta 0:00:01\r\u001b[K     |█████████▋                      | 102kB 6.6MB/s eta 0:00:01\r\u001b[K     |██████████▋                     | 112kB 6.6MB/s eta 0:00:01\r\u001b[K     |███████████▋                    | 122kB 6.6MB/s eta 0:00:01\r\u001b[K     |████████████▋                   | 133kB 6.6MB/s eta 0:00:01\r\u001b[K     |█████████████▌                  | 143kB 6.6MB/s eta 0:00:01\r\u001b[K     |██████████████▌                 | 153kB 6.6MB/s eta 0:00:01\r\u001b[K     |███████████████▌                | 163kB 6.6MB/s eta 0:00:01\r\u001b[K     |████████████████▍               | 174kB 6.6MB/s eta 0:00:01\r\u001b[K     |█████████████████▍              | 184kB 6.6MB/s eta 0:00:01\r\u001b[K     |██████████████████▍             | 194kB 6.6MB/s eta 0:00:01\r\u001b[K     |███████████████████▎            | 204kB 6.6MB/s eta 0:00:01\r\u001b[K     |████████████████████▎           | 215kB 6.6MB/s eta 0:00:01\r\u001b[K     |█████████████████████▎          | 225kB 6.6MB/s eta 0:00:01\r\u001b[K     |██████████████████████▎         | 235kB 6.6MB/s eta 0:00:01\r\u001b[K     |███████████████████████▏        | 245kB 6.6MB/s eta 0:00:01\r\u001b[K     |████████████████████████▏       | 256kB 6.6MB/s eta 0:00:01\r\u001b[K     |█████████████████████████▏      | 266kB 6.6MB/s eta 0:00:01\r\u001b[K     |██████████████████████████      | 276kB 6.6MB/s eta 0:00:01\r\u001b[K     |███████████████████████████     | 286kB 6.6MB/s eta 0:00:01\r\u001b[K     |████████████████████████████    | 296kB 6.6MB/s eta 0:00:01\r\u001b[K     |█████████████████████████████   | 307kB 6.6MB/s eta 0:00:01\r\u001b[K     |██████████████████████████████  | 317kB 6.6MB/s eta 0:00:01\r\u001b[K     |███████████████████████████████ | 327kB 6.6MB/s eta 0:00:01\r\u001b[K     |███████████████████████████████▉| 337kB 6.6MB/s eta 0:00:01\r\u001b[K     |████████████████████████████████| 348kB 6.6MB/s \n",
            "\u001b[?25hRequirement already satisfied: numpy in /usr/local/lib/python3.7/dist-packages (from control) (1.19.5)\n",
            "Requirement already satisfied: scipy in /usr/local/lib/python3.7/dist-packages (from control) (1.4.1)\n",
            "Requirement already satisfied: matplotlib in /usr/local/lib/python3.7/dist-packages (from control) (3.2.2)\n",
            "Requirement already satisfied: cycler>=0.10 in /usr/local/lib/python3.7/dist-packages (from matplotlib->control) (0.10.0)\n",
            "Requirement already satisfied: kiwisolver>=1.0.1 in /usr/local/lib/python3.7/dist-packages (from matplotlib->control) (1.3.1)\n",
            "Requirement already satisfied: pyparsing!=2.0.4,!=2.1.2,!=2.1.6,>=2.0.1 in /usr/local/lib/python3.7/dist-packages (from matplotlib->control) (2.4.7)\n",
            "Requirement already satisfied: python-dateutil>=2.1 in /usr/local/lib/python3.7/dist-packages (from matplotlib->control) (2.8.1)\n",
            "Requirement already satisfied: six in /usr/local/lib/python3.7/dist-packages (from cycler>=0.10->matplotlib->control) (1.15.0)\n",
            "Building wheels for collected packages: control\n",
            "  Building wheel for control (setup.py) ... \u001b[?25l\u001b[?25hdone\n",
            "  Created wheel for control: filename=control-0.9.0-py2.py3-none-any.whl size=344920 sha256=21914ba32d1d34079c5a763955b1420c8008dab42152fe94474043c25dbdd354\n",
            "  Stored in directory: /root/.cache/pip/wheels/35/be/ee/081b68ca3e4b2d253fba2f7f7e51960373903fb7b6d13c5532\n",
            "Successfully built control\n",
            "Installing collected packages: control\n",
            "Successfully installed control-0.9.0\n"
          ],
          "name": "stdout"
        }
      ]
    },
    {
      "cell_type": "code",
      "metadata": {
        "id": "jSSiTbBrD0bn"
      },
      "source": [
        "def berg_update(t, x, u, params={}):\n",
        "  \"\"\"Insulin dynamics based on Bergman minimal model.\n",
        "\n",
        "    Parameters\n",
        "    ----------\n",
        "    x : array\n",
        "         System state: G, the deviation of the blood glucose concentration from\n",
        "                       basal levels measured in mg dL−1\n",
        "                       I, the deviation of the blood insulin concentration from \n",
        "                       basal levels measured in mU L−1\n",
        "                       X, a proportionality variable that describes the insulin \n",
        "                       concentration in a remote compartment measured in mU L−1\n",
        "    u : array\n",
        "         System input: U, the insulin input from an external source and into the\n",
        "                       bloodstream, measured in mU min−1\n",
        "                       D, a disturbance variable representing the intake of \n",
        "                       glucose from external sources, typically food, measured \n",
        "                       in mg dL−1min−1\n",
        "\n",
        "    Returns\n",
        "    -------\n",
        "    y : array\n",
        "        The time derivatives of G, I and X\n",
        "\n",
        "    \"\"\"\n",
        "\n",
        "  # Set up the system parameters\n",
        "  Gb = params.get('Gb', 81.)      # mg/dL\n",
        "  Ib = params.get('Ib', 15.)      # mU/L\n",
        "  P1 = params.get('P1', 0.0287)   # 1/min\n",
        "  P1_s = params.get('P1_s', 0.02) # 1/min\n",
        "  P2 = params.get('P2', 0.0287)   # 1/min \n",
        "  P3 = params.get('P3', 5.035e-5) # L/mU/min^2  \n",
        "  n = params.get('n', 5/54)       # 1/min  \n",
        "  V1 = params.get('V1', 12)       # L  \n",
        "\n",
        "  # Define variables for patient state and inputs\n",
        "  G = x[0]                           # blood glucose concentration\n",
        "  I = x[1]                           # blood insulin concentration\n",
        "  X = x[2]                           # insulin concentration in a remote \n",
        "                                     # compartment\n",
        "  U = u[0]                           # insulin input\n",
        "  D = u[1]                           # intake of glucose\n",
        "\n",
        "  # Define the ODEs\n",
        "  dGdt = -P1*G - X*(G+Gb) + D\n",
        "  dIdt = -n*(I+Ib) + U/V1\n",
        "  dXdt = -P2*X + P3*I\n",
        "\n",
        "  return [dGdt, dIdt, dXdt]"
      ],
      "execution_count": 42,
      "outputs": []
    },
    {
      "cell_type": "code",
      "metadata": {
        "colab": {
          "base_uri": "https://localhost:8080/",
          "height": 89
        },
        "id": "OJ4Ccgm5UZb8",
        "outputId": "e3c63544-c934-47a3-ca2b-f61bafe17889"
      },
      "source": [
        "# Obtain the transfer functions of the input/output system for the bergman minimal model\n",
        "bergman = ct.NonlinearIOSystem(\n",
        "    berg_update, None, name='bergman',\n",
        "    inputs = ('U', 'D'), outputs = ('G', 'I', 'X'), states=('G', 'I', 'X'))\n",
        "\n",
        "bergman_linearized = bergman.linearize(x0=[0, 0, 0], u0=[0, 0])\n",
        "\n",
        "bergman_tf = ct.ss2tf(bergman_linearized)\n",
        "\n",
        "bergman_tf"
      ],
      "execution_count": 43,
      "outputs": [
        {
          "output_type": "execute_result",
          "data": {
            "text/latex": "$$\\begin{bmatrix}\\frac{-0.0003399}{s^3 + 0.15 s^2 + 0.006139 s + 7.627 \\times 10^{-5}}&\\frac{s^2 + 0.1213 s + 0.002657}{s^3 + 0.15 s^2 + 0.006139 s + 7.627 \\times 10^{-5}}&\\\\\\frac{0.08333 s^2}{s^3 + 0.09259 s^2}&\\frac{0}{1}&\\\\\\frac{4.196 \\times 10^{-6} s}{s^3 + 0.1213 s^2 + 0.002657 s}&\\frac{0}{1}&\\\\ \\end{bmatrix}$$",
            "text/plain": [
              "TransferFunction([[array([-0.00033986]), array([1.        , 0.12129259, 0.00265741])], [array([0.08333333, 0.        , 0.        ]), array([0.])], [array([4.19583333e-06, 0.00000000e+00]), array([0.])]], [[array([1.00000000e+00, 1.49992592e-01, 6.13850481e-03, 7.62675925e-05]), array([1.00000000e+00, 1.49992592e-01, 6.13850481e-03, 7.62675925e-05])], [array([1.        , 0.09259259, 0.        , 0.        ]), array([1.])], [array([1.        , 0.12129259, 0.00265741, 0.        ]), array([1.])]])"
            ]
          },
          "metadata": {
            "tags": []
          },
          "execution_count": 43
        }
      ]
    },
    {
      "cell_type": "code",
      "metadata": {
        "colab": {
          "base_uri": "https://localhost:8080/",
          "height": 39
        },
        "id": "KMcPUjexhC1j",
        "outputId": "45337867-09e1-4ad5-eb4b-260998905198"
      },
      "source": [
        "G_p = bergman_tf[0,0]\n",
        "G_p"
      ],
      "execution_count": 49,
      "outputs": [
        {
          "output_type": "execute_result",
          "data": {
            "text/latex": "$$\\frac{-0.0003399}{s^3 + 0.15 s^2 + 0.006139 s + 7.627 \\times 10^{-5}}$$",
            "text/plain": [
              "TransferFunction(array([-0.00033986]), array([1.00000000e+00, 1.49992592e-01, 6.13850481e-03, 7.62675925e-05]))"
            ]
          },
          "metadata": {
            "tags": []
          },
          "execution_count": 49
        }
      ]
    },
    {
      "cell_type": "code",
      "metadata": {
        "colab": {
          "base_uri": "https://localhost:8080/",
          "height": 464
        },
        "id": "AhDuQvP8Ye9J",
        "outputId": "39855d5b-196b-4e3c-fe8f-20d9af1d9ea9"
      },
      "source": [
        "# Defining time and input and initial values\n",
        "T0 = 0\n",
        "T1 = 400\n",
        "dt = 0.01\n",
        "nt = int (T1/dt) + 1 # Number of points of sim time\n",
        "T = np.linspace(T0, T1, nt)\n",
        "u = np.ones(nt)\n",
        "\n",
        "# Simulation\n",
        "Ga = 1\n",
        "Gm = 1\n",
        "T, yout = ct.step_response(Ga*Gp*Gm, T)\n",
        "\n",
        "# Plotting\n",
        "plt.close ('all')\n",
        "fig_width_cm = 24\n",
        "fig_height_cm = 18\n",
        "plt.figure(1, figsize=(fig_width_cm /2.54 , fig_height_cm /2.54))\n",
        "plt.subplot(2, 1, 1)\n",
        "plt.plot(T, yout, 'blue')\n",
        "plt.ylabel('G [mg/dL]')\n",
        "plt.grid()\n",
        "plt.legend(labels =('y',))\n",
        "plt.subplot(2, 1, 2)\n",
        "plt.plot(T, u, 'green')\n",
        "plt.ylabel('U [mU min−1]')\n",
        "plt.xlabel('t [s]')\n",
        "plt.grid()\n",
        "plt.legend(labels =('u', ))"
      ],
      "execution_count": 48,
      "outputs": [
        {
          "output_type": "execute_result",
          "data": {
            "text/plain": [
              "<matplotlib.legend.Legend at 0x7f0ef1391790>"
            ]
          },
          "metadata": {
            "tags": []
          },
          "execution_count": 48
        },
        {
          "output_type": "display_data",
          "data": {
            "image/png": "[encoded data removed]",
            "text/plain": [
              "<Figure size 680.315x510.236 with 2 Axes>"
            ]
          },
          "metadata": {
            "tags": [],
            "needs_background": "light"
          }
        }
      ]
    }
  ]
}