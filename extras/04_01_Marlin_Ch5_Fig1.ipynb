{
  "nbformat": 4,
  "nbformat_minor": 0,
  "metadata": {
    "colab": {
      "name": "04.01-Marlin-Ch5-Fig1.ipynb",
      "provenance": [],
      "authorship_tag": "ABX9TyM6V59/kkQyW9ZvS8iTJklO",
      "include_colab_link": true
    },
    "kernelspec": {
      "name": "python3",
      "display_name": "Python 3"
    },
    "language_info": {
      "name": "python"
    }
  },
  "cells": [
    {
      "cell_type": "markdown",
      "metadata": {
        "id": "view-in-github",
        "colab_type": "text"
      },
      "source": [
        "<a href=\"https://colab.research.google.com/github/gmxavier/FAT0413150/blob/main/extras/04_01_Marlin_Ch5_Fig1.ipynb\" target=\"_parent\"><img src=\"https://colab.research.google.com/assets/colab-badge.svg\" alt=\"Open In Colab\"/></a>"
      ]
    },
    {
      "cell_type": "code",
      "metadata": {
        "id": "1AkcqyHAD4eq"
      },
      "source": [
        "# Reproducing Figure 5.1 (Marlin, Chapter 5)\n",
        "\n",
        "# Defining the transfer functions denominators\n",
        "names = ['First order', 'Second order', 'Underdamped', 'Dead time', 'Integrator']\n",
        "fo = [1, 1]    # First order system\n",
        "so = [1, 2, 1] # Second order system\n",
        "ud = [1, 1, 1] # Underdamped (second order)\n",
        "dt = [0, 1]    # Dead time (as Pade approximation)\n",
        "rp = [1, 0]    # Integrator (ramp)\n",
        "\n",
        "# Generating the outputs\n",
        "tinf = 12.5\n",
        "td = 2.5\n",
        "time = linspace(0, tinf, 101)\n",
        "out_step = []\n",
        "for sys in [fo, so, ud, dt, rp]:\n",
        "  out, _ = step(tf(1, sys), time)\n",
        "  out_step.append([time, out])\n",
        "imp_step = []\n",
        "for sys in [fo, so, ud, dt, rp]:\n",
        "  out, _ = impulse(tf(1, sys), time)\n",
        "  imp_step.append([time, out])\n",
        "\n",
        "# Plotting\n",
        "plt.close('all')\n",
        "fig_width_cm = 48\n",
        "fig_height_cm = 18\n",
        "plt.figure(1, figsize =(fig_width_cm /2.54, fig_height_cm /2.54))\n",
        "\n",
        "for k, out in enumerate(out_step):\n",
        "  plt.subplot(2, 5, k+1)\n",
        "  if k+1==4:\n",
        "    plt.plot(out[0]+2*td, out[1], 'blue')\n",
        "  else:\n",
        "    plt.plot(out[0]+td, out[1], 'blue')\n",
        "  plt.grid()\n",
        "  plt.xlim([0, tinf+td])\n",
        "  plt.ylim([0, 1.2])\n",
        "  plt.title(names[k])\n",
        "  if k+1 == 1:\n",
        "    plt.ylabel('Output for $u(t-2.5)$')\n",
        "\n",
        "for k, out in enumerate(imp_step):\n",
        "  plt.subplot(2, 5, k+6)\n",
        "  if k+6==9:\n",
        "    plt.plot(out[0]+2*td, out[1], 'green')\n",
        "  else:\n",
        "    plt.plot(out[0]+td, out[1], 'green')\n",
        "  plt.grid()\n",
        "  plt.xlabel('Time')\n",
        "  plt.xlim([0, tinf+td])\n",
        "  plt.ylim([-0.2, 1.2])\n",
        "  if k+1 == 1:\n",
        "    plt.ylabel('Output for $\\delta(t-2.5)$')"
      ],
      "execution_count": null,
      "outputs": []
    }
  ]
}